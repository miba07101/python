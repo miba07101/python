{
 "cells": [
  {
   "cell_type": "markdown",
   "metadata": {},
   "source": [
    "# 1) Circular queue (fronta/rad) data structure\n",
    "\n",
    "- rozsiruje jednoduchu radu (simple queue), kedze posledny prvok je prepojeny na prvy prvok, resp. poziciu"
   ]
  },
  {
   "cell_type": "markdown",
   "metadata": {},
   "source": [
    "## 1.1) Working with queue data structure\n",
    "\n",
    "- vseobecne:\n",
    "1) **FRONT** a **REAR (zadny)** pointer\n",
    "2) FRONT sleduje prvy prvok v rade\n",
    "3) REAR sleduje posledny prvok v rade\n",
    "4) pociatocne hodnoty FRONT a REAR su -1\n",
    "\n",
    "- pridavanie prvku (enqueue operation)\n",
    "1) kontrolujem ci je \"queue\" plny\n",
    "2) pre prvy prvok nastavim FRONT = 0\n",
    "3) zvysim index REAR o 1 (ak dosiahne koniec radu, tak zacnem od 0)\n",
    "4) pridam novy prvok na poziciu REAR pointru\n",
    "\n",
    "- odoberanie prvku (dequeue operation)\n",
    "1) kontrolujem ci nie je \"queue\" prazdny\n",
    "2) odoberiem prvok na ktorom je FRONT\n",
    "3) zvysim hodnotu FRONT o 1 (ak dosiahne koniec radu, tak zacnem od 0)\n",
    "4) pre posledny prvok nastavim FRONT a REAR na -1\n",
    "\n",
    "- !dodatocne podmienky na overenie pre plny rad:\n",
    "1) FRONT = 0 && REAR == SIZE - 1\n",
    "2) FRONT = REAR - 1 (toto nastane ak REAR zacina od 0 a ak jeho hodnota je o 1 menej ako FRONT) - pozn. v originaly tam maju FRONT = REAR + 1"
   ]
  },
  {
   "cell_type": "code",
   "execution_count": null,
   "metadata": {},
   "outputs": [
    {
     "name": "stdout",
     "output_type": "stream",
     "text": [
      "[None, None, None, None, None]\n",
      "1 add) - front 0 - rear 0\n",
      "2 add) - front 0 - rear 1\n",
      "2 add) - front 0 - rear 2\n",
      "2 add) - front 0 - rear 3\n",
      "2 add) - front 0 - rear 4\n",
      "[1, 2, 3, 4, 5]\n",
      "2 rem) - front 1 - rear -1\n",
      "3 rem) - front 2 - rear -1\n",
      "2 add) - front 2 - rear 0\n",
      "2 add) - front 2 - rear 1\n",
      "3 rem) - front 3 - rear 1\n",
      "3 rem) - front 4 - rear 1\n",
      "[1, 2, None, None, 5]\n"
     ]
    }
   ],
   "source": [
    "# circular queue implementation\n",
    "# using Class\n",
    "\n",
    "\n",
    "class CircularQueue:\n",
    "    # konstruktor triedy\n",
    "    def __init__(self, k):\n",
    "        self.k = k\n",
    "        self.queue = [None] * k\n",
    "        self.front = self.rear = -1\n",
    "\n",
    "    # pridavanie prvkov\n",
    "    def enqueue(self, item):\n",
    "        if (self.rear == self.k - 1 and self.front == 0) or (\n",
    "            self.front > 0 and self.rear == self.front - 1\n",
    "        ):\n",
    "            print(\"Queue is full\")\n",
    "        elif self.front == -1:\n",
    "            self.front = 0\n",
    "            self.rear = 0\n",
    "            self.queue[self.rear] = item\n",
    "            print(\"1 add) - front\", self.front, \"- rear\", self.rear)\n",
    "        else:\n",
    "            self.rear += 1\n",
    "            self.queue[self.rear] = item\n",
    "            print(\"2 add) - front\", self.front, \"- rear\", self.rear)\n",
    "\n",
    "    # odstranenie prvkov\n",
    "    def dequeue(self):\n",
    "        if self.front == -1 and self.rear == -1:\n",
    "            print(\"Queue is empty\")\n",
    "        elif self.front == self.k - 1:\n",
    "            self.queue[self.front] = None\n",
    "            self.front = -1\n",
    "            print(\"1 rem) - front\", self.front, \"- rear\", self.rear)\n",
    "        elif self.front >= 0 and self.rear == self.k - 1:\n",
    "            self.queue[self.front] = None\n",
    "            self.front += 1\n",
    "            self.rear = -1\n",
    "            print(\"2 rem) - front\", self.front, \"- rear\", self.rear)\n",
    "        else:\n",
    "            self.queue[self.front] = None\n",
    "            self.front += 1\n",
    "            print(\"3 rem) - front\", self.front, \"- rear\", self.rear)\n",
    "\n",
    "    def printQueue(self):\n",
    "        print(self.queue)\n",
    "\n",
    "\n",
    "# vytvorenie instancie triedy\n",
    "queue = CircularQueue(5)\n",
    "queue.printQueue()\n",
    "\n",
    "# pridanie prvkov\n",
    "queue.enqueue(1)\n",
    "queue.enqueue(2)\n",
    "queue.enqueue(3)\n",
    "queue.enqueue(4)\n",
    "queue.enqueue(5)\n",
    "queue.printQueue()\n",
    "queue.dequeue()\n",
    "queue.dequeue()\n",
    "queue.enqueue(1)\n",
    "queue.enqueue(2)\n",
    "queue.dequeue()\n",
    "queue.dequeue()\n",
    "queue.printQueue()"
   ]
  }
 ],
 "metadata": {
  "kernelspec": {
   "display_name": ".venv",
   "language": "python",
   "name": "python3"
  },
  "language_info": {
   "codemirror_mode": {
    "name": "ipython",
    "version": 3
   },
   "file_extension": ".py",
   "mimetype": "text/x-python",
   "name": "python",
   "nbconvert_exporter": "python",
   "pygments_lexer": "ipython3",
   "version": "3.12.6"
  }
 },
 "nbformat": 4,
 "nbformat_minor": 2
}

{
 "cells": [
  {
   "cell_type": "markdown",
   "metadata": {},
   "source": [
    "# 1) Circular queue (fronta/rad) data structure\n",
    "\n",
    "- rozsiruje jednoduchu radu (simple queue), kedze posledny prvok je prepojeny na prvy prvok, resp. poziciu"
   ]
  },
  {
   "cell_type": "markdown",
   "metadata": {},
   "source": [
    "## 1.1) Working with queue data structure\n",
    "\n",
    "- vseobecne:\n",
    "1) **FRONT** a **REAR (zadny)** pointer\n",
    "2) FRONT sleduje prvy prvok v rade\n",
    "3) REAR sleduje posledny prvok v rade\n",
    "4) pociatocne hodnoty FRONT a REAR su -1\n",
    "\n",
    "- pridavanie prvku (enqueue operation)\n",
    "1) kontrolujem ci je \"queue\" plny\n",
    "2) pre prvy prvok nastavim FRONT = 0\n",
    "3) zvysim index REAR o 1 (ak dosiahne koniec radu, tak zacnem od 0)\n",
    "4) pridam novy prvok na poziciu REAR pointru\n",
    "\n",
    "- odoberanie prvku (dequeue operation)\n",
    "1) kontrolujem ci nie je \"queue\" prazdny\n",
    "2) odoberiem prvok na ktorom je FRONT\n",
    "3) zvysim hodnotu FRONT o 1 (ak dosiahne koniec radu, tak zacnem od 0)\n",
    "4) pre posledny prvok nastavim FRONT a REAR na -1\n",
    "\n",
    "- !dodatocne podmienky na overenie pre plny rad:\n",
    "1) FRONT = 0 && REAR == SIZE - 1\n",
    "2) FRONT = REAR - 1 (toto nastane ak REAR zacina od 0 a ak jeho hodnota je o 1 menej ako FRONT)"
   ]
  },
  {
   "cell_type": "code",
   "execution_count": null,
   "metadata": {},
   "outputs": [],
   "source": [
    "# circular queue implementation\n",
    "# using Class"
   ]
  }
 ],
 "metadata": {
  "kernelspec": {
   "display_name": ".venv",
   "language": "python",
   "name": "python3"
  },
  "language_info": {
   "codemirror_mode": {
    "name": "ipython",
    "version": 3
   },
   "file_extension": ".py",
   "mimetype": "text/x-python",
   "name": "python",
   "nbconvert_exporter": "python",
   "pygments_lexer": "ipython3",
   "version": "3.12.6"
  }
 },
 "nbformat": 4,
 "nbformat_minor": 2
}

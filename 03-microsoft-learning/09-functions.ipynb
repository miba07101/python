{
 "cells": [
  {
   "cell_type": "markdown",
   "metadata": {},
   "source": [
    "# Basics of Python functions\n",
    "\n",
    "- function contains code that always returns a value (or values)\n",
    "\n",
    "<mask style=\"background-color: #957FB8\">Although we're using the term input to describe what functions take in, these elements are usually called **arguments or parameters**.</mask>\n",
    "\n",
    "## Functions with no arguments\n",
    "\n",
    "- To create a function, you use the **def** keyword followed by a name, parentheses, and then the body with the function code\n",
    "\n",
    "- To use the function, you must call it by its name by using parentheses\n",
    "\n",
    " <mask style=\"background-color: #FF5D62\">If a function doesn't explicitly return a value, it implicitly returns None</mask>\n",
    "\n",
    " - Several built-in functions require arguments. Example of a built-in function that requires an argument is any()\n",
    "\n",
    " ## Functions with arguments\n",
    "\n",
    "- Required inputs are called **arguments** to the function\n",
    "- To require an argument, put it within the **parentheses**\n",
    "\n",
    "### Multiple required arguments\n",
    "\n",
    "- To use multiple arguments, you must separate them by using a **comma**\n",
    "\n",
    "### Functions as arguments\n",
    "\n",
    "- You can use the **value of the function** and assign it to a **variable**, and then pass it to **round()** (a built-in function that rounds to the closest whole number)\n",
    "\n",
    "- A useful pattern is to pass functions to other functions instead of assigning the returned value\n",
    "\n",
    "round(function(argument1, arguments2))\n",
    "\n",
    "<mask style=\"background-color: #957FB8\">Although passing functions directly into other functions as input is useful, there is potential for reduced readability. This pattern is especially problematic when the functions require many arguments</mask>"
   ]
  },
  {
   "cell_type": "markdown",
   "metadata": {},
   "source": [
    "# Exercise - Use functions in Python\n",
    "\n",
    "In this exercise, you'll construct a fuel report that requires information from several fuel locations throughout the rocket ship.\n",
    "Your spaceship has three tanks: Main, External and Hydrogen. You want to create an app to display the amount of fuel in each tank, and the average amount of fuel between the three tanks. Because you wish to reuse this code in other projects, you want to create a function with the logic"
   ]
  },
  {
   "cell_type": "code",
   "execution_count": 2,
   "metadata": {},
   "outputs": [
    {
     "name": "stdout",
     "output_type": "stream",
     "text": [
      "Fuel Report:\n",
      "    Main tank: 80\n",
      "    External Tank: 70\n",
      "    Hydrogen  Tank: 75\n",
      "    \n"
     ]
    }
   ],
   "source": [
    "def generate_report(main_tank, external_tank, hydrogen_tank):\n",
    "    output = f\"\"\"Fuel Report:\n",
    "    Main tank: {main_tank}\n",
    "    External Tank: {external_tank}\n",
    "    Hydrogen  Tank: {hydrogen_tank}\n",
    "    \"\"\"\n",
    "    print(output)\n",
    "\n",
    "generate_report(80,70,75)"
   ]
  },
  {
   "cell_type": "markdown",
   "metadata": {},
   "source": [
    "# Use keyword arguments in Python\n",
    "\n",
    "- Optional arguments require a default value assigned to them. \n",
    "- These named arguments are called **keyword arguments**. \n",
    "- Keyword argument values must be defined in the functions themselves. \n",
    "- When you're calling a function that's defined with keyword arguments, it isn't necessary to use them at all"
   ]
  },
  {
   "cell_type": "code",
   "execution_count": 4,
   "metadata": {},
   "outputs": [
    {
     "data": {
      "text/plain": [
       "'Arrival: Thursday 17:21'"
      ]
     },
     "execution_count": 4,
     "metadata": {},
     "output_type": "execute_result"
    }
   ],
   "source": [
    "from datetime import timedelta, datetime\n",
    "\n",
    "def arrival_time(hours=51):\n",
    "    now = datetime.now()\n",
    "    arrival = now + timedelta(hours=hours)\n",
    "    return arrival.strftime(\"Arrival: %A %H:%M\")\n",
    "\n",
    "arrival_time()"
   ]
  },
  {
   "cell_type": "markdown",
   "metadata": {},
   "source": [
    "# Mixing arguments and keyword arguments\n",
    "\n",
    "- Sometimes, a function needs a combination of arguments and keyword arguments.\n",
    " \n",
    "<mask style=\"background-color: #FF5D62\">Arguments are always declared first, followed by keyword arguments.</mask>"
   ]
  },
  {
   "cell_type": "code",
   "execution_count": 6,
   "metadata": {},
   "outputs": [
    {
     "data": {
      "text/plain": [
       "'Moon Arrival: Thursday 17:25'"
      ]
     },
     "execution_count": 6,
     "metadata": {},
     "output_type": "execute_result"
    }
   ],
   "source": [
    "from datetime import timedelta, datetime\n",
    "\n",
    "def arrival_time(destination, hours=51):\n",
    "    now = datetime.now()\n",
    "    arrival = now + timedelta(hours=hours)\n",
    "    return arrival.strftime(f\"{destination} Arrival: %A %H:%M\")\n",
    "\n",
    "arrival_time(\"Moon\")"
   ]
  },
  {
   "cell_type": "markdown",
   "metadata": {},
   "source": [
    "# Use variable arguments in Python\n",
    "\n",
    "- This ability is useful when a function might get an unknown number of inputs\n",
    "\n",
    "## Variable arguments\n",
    "\n",
    "- Arguments in functions are required. \n",
    "- But when you're using variable arguments, the function allows any number of **arguments (including 0)** to be passed in. \n",
    "- The syntax for using variable arguments is prefixing a **single asterisk (*)** before the argument's name.\n",
    "\n",
    "<mask style=\"background-color: #FF5D62\">\n",
    "When you use variable arguments, each value is no longer assigned a variable name. All values are now part of the catch-all variable name that uses the asterisk (args in these examples).\n",
    "</mask>"
   ]
  },
  {
   "cell_type": "code",
   "execution_count": 8,
   "metadata": {},
   "outputs": [
    {
     "name": "stdout",
     "output_type": "stream",
     "text": [
      "('one', 'two')\n"
     ]
    }
   ],
   "source": [
    "def variable_length(*args):\n",
    "    print(args)\n",
    "\n",
    "variable_length(\"one\", \"two\")"
   ]
  },
  {
   "cell_type": "code",
   "execution_count": 9,
   "metadata": {},
   "outputs": [
    {
     "data": {
      "text/plain": [
       "'Total time to launch is 36 minutes'"
      ]
     },
     "execution_count": 9,
     "metadata": {},
     "output_type": "execute_result"
    }
   ],
   "source": [
    "# A rocket ship goes through several steps before a launch. \n",
    "# Depending on tasks or delays, these steps might take longer than planned. \n",
    "# Let's create a variable-length function that can calculate how many minutes until launch, given how much time each step is going to take\n",
    "\n",
    "def sequence_step(*args):\n",
    "    total_minutes = sum(args)\n",
    "    if total_minutes < 60:\n",
    "        return f\"Total time to launch is {total_minutes} minutes\"\n",
    "    else:\n",
    "        return f\"Total time to launch is {total_minutes/60} hours\"\n",
    "    \n",
    "sequence_step(4,14,18)\n"
   ]
  },
  {
   "cell_type": "markdown",
   "metadata": {},
   "source": [
    "# Variable keyword arguments\n",
    "\n",
    "- For a function to accept any number of **keyword arguments**\n",
    "- A double asterisk (**) is required\n",
    "- Function **keyword arguments** are assigned as a **dictionary**\n",
    "- To interact with the variables and values, use the same operations as a dictionary\n",
    "- Because you can pass any combination of keyword arguments, make sure to avoid repeated keywords.\n",
    "- Repeated keywords result in an error."
   ]
  },
  {
   "cell_type": "code",
   "execution_count": 10,
   "metadata": {},
   "outputs": [
    {
     "name": "stdout",
     "output_type": "stream",
     "text": [
      "{'tanks': 1, 'day': 'Wednesday', 'pilots': 3}\n"
     ]
    }
   ],
   "source": [
    "def variable_length(**kwargs):\n",
    "    print(kwargs)\n",
    "\n",
    "variable_length(tanks=1, day=\"Wednesday\", pilots=3)"
   ]
  },
  {
   "cell_type": "code",
   "execution_count": 13,
   "metadata": {},
   "outputs": [
    {
     "name": "stdout",
     "output_type": "stream",
     "text": [
      "3 astronauts assigned for this mission:\n",
      "captain: Neil Armstrong\n",
      "pilot: Buzz Aldrin\n",
      "command_pilot: Michael Collins\n"
     ]
    }
   ],
   "source": [
    "# In this function, let's use variable keyword arguments to report the astronauts assigned to the mission. \n",
    "# Because this function allows any number of keyword arguments, it can be reused regardless of the number of astronauts assigned\n",
    "\n",
    "def crew_members(**kwargs):\n",
    "    print(f\"{len(kwargs)} astronauts assigned for this mission:\")\n",
    "    for title, name in kwargs.items():\n",
    "        print(f\"{title}: {name}\")\n",
    "\n",
    "crew_members(captain=\"Neil Armstrong\", pilot=\"Buzz Aldrin\", command_pilot=\"Michael Collins\")"
   ]
  },
  {
   "cell_type": "markdown",
   "metadata": {},
   "source": [
    "# Exercise - Work with keyword arguments\n",
    "\n",
    "In the prior exercise you created a report for a ship with three fuel tanks. What happens if the ship has multiple tanks? Keyword arguments can be a perfect solution for this type of a situation. With keyword arguments a caller can provide multiple values which your code can interact with."
   ]
  },
  {
   "cell_type": "code",
   "execution_count": 14,
   "metadata": {},
   "outputs": [
    {
     "name": "stdout",
     "output_type": "stream",
     "text": [
      "main: 50\n",
      "external: 100\n",
      "emergency: 60\n"
     ]
    }
   ],
   "source": [
    "def fuel_report(**kwargs):\n",
    "    for name, value in kwargs.items():\n",
    "        print(f\"{name}: {value}\")\n",
    "\n",
    "fuel_report(main=50, external=100, emergency=60)"
   ]
  }
 ],
 "metadata": {
  "kernelspec": {
   "display_name": ".venv",
   "language": "python",
   "name": "python3"
  },
  "language_info": {
   "codemirror_mode": {
    "name": "ipython",
    "version": 3
   },
   "file_extension": ".py",
   "mimetype": "text/x-python",
   "name": "python",
   "nbconvert_exporter": "python",
   "pygments_lexer": "ipython3",
   "version": "3.12.6"
  }
 },
 "nbformat": 4,
 "nbformat_minor": 2
}

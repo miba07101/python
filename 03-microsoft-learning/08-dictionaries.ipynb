{
 "cells": [
  {
   "cell_type": "markdown",
   "metadata": {},
   "source": [
    "# Dictionary\n",
    "\n",
    "- a dictionary is a collection of **key/value** pairs\n",
    "- uses curly braces ({ }) and the colon (:) to denote a dictionary"
   ]
  },
  {
   "cell_type": "code",
   "execution_count": null,
   "metadata": {},
   "outputs": [],
   "source": [
    "# example dictionary\n",
    "\n",
    "planet = {\n",
    "    'name': 'Earth',\n",
    "    'moons': 1\n",
    "}"
   ]
  },
  {
   "cell_type": "markdown",
   "metadata": {},
   "source": [
    "## Read dictionary values\n",
    "\n",
    "- Dictionary objects have a **.get()** method\n",
    "- You can also pass the key into square bracket notation ([ ])\n",
    "\n",
    " <mask style=\"background-color: #FF5D62\">If a key isn't available, get returns None, and [ ] raises a KeyError</mask>"
   ]
  },
  {
   "cell_type": "code",
   "execution_count": 3,
   "metadata": {},
   "outputs": [
    {
     "name": "stdout",
     "output_type": "stream",
     "text": [
      "Earth\n",
      "Earth\n"
     ]
    }
   ],
   "source": [
    "planet = {\n",
    "    'name': 'Earth',\n",
    "    'moons': 1\n",
    "}\n",
    "\n",
    "print(planet.get('name'))\n",
    "\n",
    "# with []\n",
    "print(planet['name'])"
   ]
  },
  {
   "cell_type": "markdown",
   "metadata": {},
   "source": [
    "## Modify dictionary values\n",
    "\n",
    "- .update() - method - accepts a dictionary as a parameter, and updates any existing values with the new ones you provide\n",
    "- also can use square brackets ([ ])\n",
    "\n",
    "- advantage to using **.update()** is the ability to modify multiple values in one operation"
   ]
  },
  {
   "cell_type": "code",
   "execution_count": 9,
   "metadata": {},
   "outputs": [
    {
     "name": "stdout",
     "output_type": "stream",
     "text": [
      "{'name': 'jupiter', 'moons': 1}\n",
      "{'name': 'Mars', 'moons': 1}\n",
      "{'name': 'Uran', 'moons': 69}\n"
     ]
    }
   ],
   "source": [
    "planet = {\n",
    "    'name': 'Earth',\n",
    "    'moons': 1\n",
    "}\n",
    "\n",
    "# .update() method\n",
    "planet.update({'name': 'jupiter'})\n",
    "print(planet)\n",
    "\n",
    "# square bracket\n",
    "planet['name'] = \"Mars\"\n",
    "print(planet)\n",
    "\n",
    "# updating more values\n",
    "planet.update({\n",
    "    'name': \"Uran\",\n",
    "    'moons': 69\n",
    "})\n",
    "print(planet)"
   ]
  },
  {
   "cell_type": "markdown",
   "metadata": {},
   "source": [
    "## Add and remove keys\n",
    "\n",
    "<mask style=\"background-color: #957FB8\">**Key names**, like everything else in Python, are **case sensitive**. As a result, 'name' and 'Name' are seen as two separate keys in a Python dictionary.</mask>\n",
    "\n",
    "- .pop() - method - remove key - returns the value and removes the key from the dictionary"
   ]
  },
  {
   "cell_type": "code",
   "execution_count": 10,
   "metadata": {},
   "outputs": [
    {
     "name": "stdout",
     "output_type": "stream",
     "text": [
      "{'name': 'Earth', 'moons': 1, 'orbital_period': 4333}\n",
      "{'name': 'Earth', 'moons': 1}\n"
     ]
    }
   ],
   "source": [
    "planet = {\n",
    "    'name': 'Earth',\n",
    "    'moons': 1\n",
    "}\n",
    "\n",
    "# adding\n",
    "planet['orbital_period'] = 4333\n",
    "print(planet)\n",
    "\n",
    "# remove\n",
    "planet.pop('orbital_period')\n",
    "print(planet)"
   ]
  },
  {
   "cell_type": "markdown",
   "metadata": {},
   "source": [
    "## Complex data types\n",
    "\n",
    "- Dictionaries are able to store any type of a value, including other dictionaries\n",
    "- can create **nested** dictionaries"
   ]
  },
  {
   "cell_type": "code",
   "execution_count": 12,
   "metadata": {},
   "outputs": [
    {
     "name": "stdout",
     "output_type": "stream",
     "text": [
      "{'name': 'Earth', 'moons': 1, 'diameter (km)': {'polar': 133709, 'equatorial': 142984}}\n",
      "Earth polar diameter: 133709 \n"
     ]
    }
   ],
   "source": [
    "planet = {\n",
    "    'name': 'Earth',\n",
    "    'moons': 1\n",
    "}\n",
    "\n",
    "# add nested dictionary\n",
    "planet[\"diameter (km)\"] = {\n",
    "    \"polar\": 133709,\n",
    "    \"equatorial\": 142984\n",
    "}\n",
    "\n",
    "print(planet)\n",
    "\n",
    "# retrieve value of polar diameter\n",
    "print(f\"{planet['name']} polar diameter: {planet[\"diameter (km)\"][\"polar\"]} \")"
   ]
  },
  {
   "cell_type": "markdown",
   "metadata": {},
   "source": [
    "# Exercise - Create Python dictionaries\n",
    "\n",
    "You want to create a program which will store and display information about planets.\n",
    " \n",
    "Output: Mars has 2 moon(s)"
   ]
  },
  {
   "cell_type": "code",
   "execution_count": 16,
   "metadata": {},
   "outputs": [
    {
     "name": "stdout",
     "output_type": "stream",
     "text": [
      "Mars has 2 moon(s)\n",
      "Mars has a polar circumference of 6752\n"
     ]
    }
   ],
   "source": [
    "# create planet dictionary\n",
    "planet = {\n",
    "    \"name\": \"Mars\",\n",
    "    \"moons\": 2\n",
    "}\n",
    "\n",
    "print(f\"{planet[\"name\"]} has {planet[\"moons\"]} moon(s)\")\n",
    "\n",
    "# Add circumference information\n",
    "planet.update({\n",
    "    \"circumference\" : {\n",
    "        \"polar\": 6752,\n",
    "        \"equatorial\": 6792\n",
    "                         }\n",
    "})\n",
    "# print Mars has a polar circumference of 6752\n",
    "print(f\"{planet[\"name\"]} has a polar circumference of {planet[\"circumference\"][\"polar\"]}\")"
   ]
  },
  {
   "cell_type": "markdown",
   "metadata": {},
   "source": [
    "# Dynamic programming with dictionaries\n",
    "\n",
    "## Retrieve all keys and values\n",
    "\n",
    "- .keys() - method - returns a list object that contains all the keys. You can use this method to iterate through all items in the dictionary"
   ]
  },
  {
   "cell_type": "code",
   "execution_count": 17,
   "metadata": {},
   "outputs": [
    {
     "name": "stdout",
     "output_type": "stream",
     "text": [
      "october: 3.5cm\n",
      "november: 4.2cm\n",
      "december: 2.1cm\n"
     ]
    }
   ],
   "source": [
    "rainfall = {\n",
    "    'october': 3.5,\n",
    "    'november': 4.2,\n",
    "    'december': 2.1\n",
    "}\n",
    "\n",
    "# display the list of all rainfall\n",
    "\n",
    "for key in rainfall.keys():\n",
    "    print(f\"{key}: {rainfall[key]}cm\")"
   ]
  },
  {
   "cell_type": "markdown",
   "metadata": {},
   "source": [
    "## Determine if a key exists in a dictionary\n",
    "\n",
    "- When you update a value in a dictionary, Python will either overwrite the existing value or create a new one, if the key doesn't exist. \n",
    "- If you wish to add to a value rather than overwriting it, you can check to see if the key exists by using **in**"
   ]
  },
  {
   "cell_type": "code",
   "execution_count": 18,
   "metadata": {},
   "outputs": [
    {
     "name": "stdout",
     "output_type": "stream",
     "text": [
      "{'october': 3.5, 'november': 4.2, 'december': 3.1}\n"
     ]
    }
   ],
   "source": [
    "rainfall = {\n",
    "    'october': 3.5,\n",
    "    'november': 4.2,\n",
    "    'december': 2.1\n",
    "}\n",
    "\n",
    "# want to add a value to December or create a new one if it doesn't exist\n",
    "if \"december\" in rainfall:\n",
    "    rainfall[\"december\"] = rainfall[\"december\"] + 1\n",
    "else:\n",
    "    rainfall[\"december\"] = 1\n",
    "\n",
    "print(rainfall)\n"
   ]
  },
  {
   "cell_type": "markdown",
   "metadata": {},
   "source": [
    "## Retrieve all values\n",
    "\n",
    "- .values() - method - returns the list of all values in a dictionary without their respective keys.\n",
    "- can be helpful when you're using the key for labeling purposes, such as the preceding example, in which the keys are the name of the month\n"
   ]
  },
  {
   "cell_type": "code",
   "execution_count": 20,
   "metadata": {},
   "outputs": [
    {
     "name": "stdout",
     "output_type": "stream",
     "text": [
      "9.8\n"
     ]
    }
   ],
   "source": [
    "# use values() to determine the total rainfall amount\n",
    "\n",
    "rainfall = {\n",
    "    'october': 3.5,\n",
    "    'november': 4.2,\n",
    "    'december': 2.1\n",
    "}\n",
    "\n",
    "total_rainfall = 0\n",
    "for value in rainfall.values():\n",
    "    total_rainfall = total_rainfall + value\n",
    "\n",
    "print(total_rainfall)"
   ]
  },
  {
   "cell_type": "markdown",
   "metadata": {},
   "source": [
    "# Exercise - Dynamic programming with dictionaries\n",
    "\n",
    "In this scenario, you will calculate both the total number of moons in the solar system and the average number of moons a planet has. You will do this by using a dictionary object."
   ]
  },
  {
   "cell_type": "code",
   "execution_count": 29,
   "metadata": {},
   "outputs": [
    {
     "name": "stdout",
     "output_type": "stream",
     "text": [
      "Total moons in the solar system are: 214\n",
      "dict_values([0, 0, 1, 2, 79, 82, 27, 14, 5, 2, 1, 1])\n",
      "12\n",
      "12\n",
      "Each planet has an average of 17.833333333333332 moons\n"
     ]
    }
   ],
   "source": [
    "# create variable planet_moons\n",
    "planet_moons = {\n",
    "    \"mercury\": 0,\n",
    "    \"venus\": 0,\n",
    "    \"earth\": 1,\n",
    "    \"mars\": 2,\n",
    "    \"jupiter\": 79,\n",
    "    \"saturn\": 82,\n",
    "    \"uranus\": 27,\n",
    "    \"neptune\": 14,\n",
    "    \"pluto\": 5,\n",
    "    \"haumea\": 2,\n",
    "    \"makemake\": 1,\n",
    "    \"eris\": 1\n",
    "}\n",
    "\n",
    "# calculate total number of moons\n",
    "total_moons = 0\n",
    "for value in planet_moons.values():\n",
    "    total_moons = total_moons + value\n",
    "\n",
    "print(f\"Total moons in the solar system are: {total_moons}\")\n",
    "\n",
    "# number of planets\n",
    "moons = planet_moons.values()\n",
    "print(moons)\n",
    "total_planets = len(planet_moons.keys())\n",
    "print(total_planets)\n",
    "\n",
    "total_planets = 0\n",
    "for keys in planet_moons.keys():\n",
    "    total_planets = total_planets + 1\n",
    "\n",
    "print(total_planets)\n",
    "\n",
    "# Determine the average number of moons\n",
    "average_moons_no = total_moons/total_planets\n",
    "print(f'Each planet has an average of {average_moons_no} moons')\n"
   ]
  }
 ],
 "metadata": {
  "kernelspec": {
   "display_name": ".venv",
   "language": "python",
   "name": "python3"
  },
  "language_info": {
   "codemirror_mode": {
    "name": "ipython",
    "version": 3
   },
   "file_extension": ".py",
   "mimetype": "text/x-python",
   "name": "python",
   "nbconvert_exporter": "python",
   "pygments_lexer": "ipython3",
   "version": "3.12.6"
  }
 },
 "nbformat": 4,
 "nbformat_minor": 2
}

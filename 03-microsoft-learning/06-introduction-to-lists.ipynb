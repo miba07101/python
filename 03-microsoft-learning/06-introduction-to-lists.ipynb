{
 "cells": [
  {
   "cell_type": "markdown",
   "metadata": {},
   "source": [
    "# List\n",
    "\n",
    "- type for storing a collection of values\n",
    "- create a list by assigning a sequence of values to a variable.\n",
    "- each value is separated by a **comma** and surrounded by brackets **([])**\n",
    "- all indexes start from 0, [1] is the second item, [2] is the third, and so forth\n",
    "- can also modify values in a list by using an index\n"
   ]
  },
  {
   "cell_type": "code",
   "execution_count": 1,
   "metadata": {},
   "outputs": [
    {
     "name": "stdout",
     "output_type": "stream",
     "text": [
      "The first planet is: Mercury\n",
      "The second planet is: Venus\n",
      "The third planet is: Earth\n"
     ]
    }
   ],
   "source": [
    "# Access list items by index\n",
    "\n",
    "planets = [\"Mercury\", \"Venus\", \"Earth\", \"Mars\", \"Jupiter\", \"Saturn\", \"Uranus\", \"Neptune\"]\n",
    "\n",
    "print(\"The first planet is:\", planets[0])\n",
    "print(\"The second planet is:\", planets[1])\n",
    "print(\"The third planet is:\", planets[2])\n"
   ]
  },
  {
   "cell_type": "code",
   "execution_count": 2,
   "metadata": {},
   "outputs": [
    {
     "name": "stdout",
     "output_type": "stream",
     "text": [
      "['Mercury', 'Venus', 'Earth', 'Red planet', 'Jupiter', 'Saturn', 'Uranus', 'Neptune']\n"
     ]
    }
   ],
   "source": [
    "# modify values in a list by using an index\n",
    "\n",
    "planets = [\"Mercury\", \"Venus\", \"Earth\", \"Mars\", \"Jupiter\", \"Saturn\", \"Uranus\", \"Neptune\"]\n",
    "\n",
    "planets[3] = \"Red planet\"\n",
    "\n",
    "print(planets)"
   ]
  },
  {
   "cell_type": "markdown",
   "metadata": {},
   "source": [
    "# Determine the length of a list\n",
    "\n",
    "- len() - function - get the length of a list"
   ]
  },
  {
   "cell_type": "code",
   "execution_count": 5,
   "metadata": {},
   "outputs": [
    {
     "name": "stdout",
     "output_type": "stream",
     "text": [
      "There are 8 planets in the solar system\n"
     ]
    }
   ],
   "source": [
    "planets = [\"Mercury\", \"Venus\", \"Earth\", \"Mars\", \"Jupiter\", \"Saturn\", \"Uranus\", \"Neptune\"]\n",
    "number_of_planets = len(planets)\n",
    "print(f\"There are {number_of_planets} planets in the solar system\")\n"
   ]
  },
  {
   "cell_type": "markdown",
   "metadata": {},
   "source": [
    "# Add values to list\n",
    "\n",
    "- .append(value) - method - add an item to a list"
   ]
  },
  {
   "cell_type": "code",
   "execution_count": 7,
   "metadata": {},
   "outputs": [
    {
     "name": "stdout",
     "output_type": "stream",
     "text": [
      "['Mercury', 'Venus', 'Earth', 'Mars', 'Jupiter', 'Saturn', 'Uranus', 'Neptune', 'Pluto']\n",
      "There are actually 9 planets in the solar system.\n"
     ]
    }
   ],
   "source": [
    "planets = [\"Mercury\", \"Venus\", \"Earth\", \"Mars\", \"Jupiter\", \"Saturn\", \"Uranus\", \"Neptune\"]\n",
    "\n",
    "# add planet to list\n",
    "planets.append(\"Pluto\")\n",
    "print(planets)\n",
    "\n",
    "number_of_planets = len(planets)\n",
    "print(\"There are actually\", number_of_planets, \"planets in the solar system.\")"
   ]
  },
  {
   "cell_type": "markdown",
   "metadata": {},
   "source": [
    "# Remove values from lists\n",
    "\n",
    "- pop() - method - remove last item from list"
   ]
  },
  {
   "cell_type": "code",
   "execution_count": 8,
   "metadata": {},
   "outputs": [
    {
     "name": "stdout",
     "output_type": "stream",
     "text": [
      "No, there are definitely 8 planets in the solar system.\n"
     ]
    }
   ],
   "source": [
    "planets = [\"Mercury\", \"Venus\", \"Earth\", \"Mars\", \"Jupiter\", \"Saturn\", \"Uranus\", \"Neptune\", \"Pluto\"]\n",
    "planets.pop()  # Goodbye, Pluto\n",
    "number_of_planets = len(planets)\n",
    "print(\"No, there are definitely\", number_of_planets, \"planets in the solar system.\")"
   ]
  },
  {
   "cell_type": "markdown",
   "metadata": {},
   "source": [
    "# Use negative indexes\n",
    "\n",
    "- Indexes start at zero and increase. \n",
    "- Negative indexes start at the end of the list and work backward.\n",
    "- index of -1 returns the last item in a list. An index of -2 returns the second to last."
   ]
  },
  {
   "cell_type": "code",
   "execution_count": 9,
   "metadata": {},
   "outputs": [
    {
     "name": "stdout",
     "output_type": "stream",
     "text": [
      "The last planet is: Neptune\n"
     ]
    }
   ],
   "source": [
    "planets = [\"Mercury\", \"Venus\", \"Earth\", \"Mars\", \"Jupiter\", \"Saturn\", \"Uranus\", \"Neptune\"]\n",
    "\n",
    "print(f\"The last planet is: {planets[-1]}\")"
   ]
  },
  {
   "cell_type": "markdown",
   "metadata": {},
   "source": [
    "# Find a value in a list\n",
    "\n",
    "- determine where in a list a value is stored, you use the list's **index** method"
   ]
  },
  {
   "cell_type": "code",
   "execution_count": 10,
   "metadata": {},
   "outputs": [
    {
     "name": "stdout",
     "output_type": "stream",
     "text": [
      "Jupiter is the 5 planet from the sun\n"
     ]
    }
   ],
   "source": [
    "# show use of \"Jupiter\" as the index value\n",
    "planets = [\"Mercury\", \"Venus\", \"Earth\", \"Mars\", \"Jupiter\", \"Saturn\", \"Uranus\", \"Neptune\"]\n",
    "\n",
    "jupiter_ix = planets.index(\"Jupiter\")\n",
    "\n",
    "print(f\"Jupiter is the {jupiter_ix + 1} planet from the sun\")"
   ]
  },
  {
   "cell_type": "markdown",
   "metadata": {},
   "source": [
    "# Exercise - Use lists to store planet names\n",
    "\n",
    "Lists allow you to store multiple values in a single variable. In this notebook you'll create a project to display information about the planets."
   ]
  },
  {
   "cell_type": "code",
   "execution_count": 16,
   "metadata": {},
   "outputs": [
    {
     "name": "stdout",
     "output_type": "stream",
     "text": [
      "['Mercury', 'Venus', 'Earth', 'Mars', 'Jupiter', 'Saturn', 'Uranus', 'Neptune']\n",
      "There are 8 planets\n",
      "['Mercury', 'Venus', 'Earth', 'Mars', 'Jupiter', 'Saturn', 'Uranus', 'Neptune', 'Pluto']\n"
     ]
    }
   ],
   "source": [
    "# 1. step - create a variable named planets. Add the eight planets (without Pluto) to the list.\n",
    "\n",
    "planets = [\"Mercury\", \"Venus\", \"Earth\", \"Mars\", \"Jupiter\", \"Saturn\", \"Uranus\", \"Neptune\"]\n",
    "print(planets)\n",
    "\n",
    "# 2. display the number of planets\n",
    "print(f\"There are {len(planets)} planets\")\n",
    "\n",
    "# 3. add planet to list\n",
    "planets.append(\"Pluto\")\n",
    "print(planets)"
   ]
  },
  {
   "cell_type": "markdown",
   "metadata": {},
   "source": [
    "# Store numbers in list"
   ]
  },
  {
   "cell_type": "code",
   "execution_count": 18,
   "metadata": {},
   "outputs": [
    {
     "name": "stdout",
     "output_type": "stream",
     "text": [
      "On Earth a double-decker bus weighs: 124054 N.\n",
      "On Mercury a double-decker bus weighs: 46892.412000000004 N.\n"
     ]
    }
   ],
   "source": [
    "# creates a list that shows the gravitational forces of all eight planets in the solar system, in G\n",
    "gravity_on_planets = [0.378, 0.907, 1, 0.377, 2.36, 0.916, 0.889, 1.12]\n",
    "\n",
    "# On Earth, a double-decker bus weighs 124,054 Newtons (N). On Mercury, where the gravity is 0.378 G, the same bus weighs 124,054 Newtons multiplied by 0.378.\n",
    "bus_weight = 124054 # in N, on Earth\n",
    "print(f\"On Earth a double-decker bus weighs: {bus_weight * gravity_on_planets[2]} N.\")\n",
    "print(f\"On Mercury a double-decker bus weighs: {bus_weight * gravity_on_planets[0]} N.\")\n"
   ]
  },
  {
   "cell_type": "markdown",
   "metadata": {},
   "source": [
    "# min() and max()\n",
    "\n",
    "- min() - function - returns the smallest number in a list\n",
    "- max() - function - returns the biggest number in a list"
   ]
  },
  {
   "cell_type": "code",
   "execution_count": 19,
   "metadata": {},
   "outputs": [
    {
     "name": "stdout",
     "output_type": "stream",
     "text": [
      "On Earth a double-decker bus weighs: 124054 N.\n",
      "The lightest a bus would be in the solar system is: 46768.358 N.\n",
      "The heaviest a bus would be in the solar system is: 292767.44 N.\n"
     ]
    }
   ],
   "source": [
    "gravity_on_planets = [0.378, 0.907, 1, 0.377, 2.36, 0.916, 0.889, 1.12]\n",
    "\n",
    "# On Earth, a double-decker bus weighs 124,054 Newtons (N). On Mercury, where the gravity is 0.378 G, the same bus weighs 124,054 Newtons multiplied by 0.378.\n",
    "bus_weight = 124054 # in N, on Earth\n",
    "print(f\"On Earth a double-decker bus weighs: {bus_weight * gravity_on_planets[2]} N.\")\n",
    "print(f\"The lightest a bus would be in the solar system is: {bus_weight * min(gravity_on_planets)} N.\")\n",
    "print(f\"The heaviest a bus would be in the solar system is: {bus_weight * max(gravity_on_planets)} N.\")\n"
   ]
  },
  {
   "cell_type": "markdown",
   "metadata": {},
   "source": [
    "# Manipulate list data"
   ]
  },
  {
   "cell_type": "markdown",
   "metadata": {},
   "source": [
    "## Slice lists\n",
    "\n",
    "- a slice uses brackets, but instead of a single item, it has the starting and ending indexes\n",
    "- when you use a slice, you create a new list that starts at the starting index and that ends before (and does not include) the ending index\n",
    "\n",
    "> !A slice creates a new list. It doesn't modify the current list."
   ]
  },
  {
   "cell_type": "code",
   "execution_count": 21,
   "metadata": {},
   "outputs": [
    {
     "name": "stdout",
     "output_type": "stream",
     "text": [
      "['Mercury', 'Venus']\n",
      "['Mars', 'Jupiter', 'Saturn', 'Uranus', 'Neptune']\n"
     ]
    }
   ],
   "source": [
    "#The list of planets has eight items. Earth is the third in the list. To get the planets before Earth, use a slice to get items starting at 0 and ending at 2\n",
    "planets = [\"Mercury\", \"Venus\", \"Earth\", \"Mars\", \"Jupiter\", \"Saturn\", \"Uranus\", \"Neptune\"]\n",
    "planets_before_earth = planets[0:2]\n",
    "print(planets_before_earth)\n",
    "\n",
    "planets_after_earth = planets[3:]\n",
    "print(planets_after_earth)"
   ]
  },
  {
   "cell_type": "markdown",
   "metadata": {},
   "source": [
    "## Join lists\n",
    "\n",
    "- to join two lists, you use the other operator **(+)** with two lists to return a new list\n",
    "\n",
    "> !Joining lists creates a new list. It doesn't modify the current list."
   ]
  },
  {
   "cell_type": "code",
   "execution_count": 22,
   "metadata": {},
   "outputs": [
    {
     "name": "stdout",
     "output_type": "stream",
     "text": [
      "['Metis', 'Adrastea', 'Amalthea', 'Thebe', 'Io', 'Europa', 'Ganymede', 'Callisto']\n"
     ]
    }
   ],
   "source": [
    "# Create two lists. Populate the first list with the four Amalthea moons and the second list with the four Galilean moons. Join them together by using + to make a new list\n",
    "\n",
    "amalthea_group = [\"Metis\", \"Adrastea\", \"Amalthea\", \"Thebe\"]\n",
    "galilean_moons = [\"Io\", \"Europa\", \"Ganymede\", \"Callisto\"]\n",
    "\n",
    "join_list = amalthea_group + galilean_moons\n",
    "\n",
    "print(join_list)\n"
   ]
  },
  {
   "cell_type": "markdown",
   "metadata": {},
   "source": [
    "## Sort lists\n",
    "\n",
    "- .sort() - method\n",
    "- python sorts a list of strings in alphabetical order and a list of numbers in numeric order\n",
    "\n",
    "> !Using sort **modifies** the current list."
   ]
  },
  {
   "cell_type": "code",
   "execution_count": 24,
   "metadata": {},
   "outputs": [
    {
     "name": "stdout",
     "output_type": "stream",
     "text": [
      "The regular satellite moons of Jupiter are ['Adrastea', 'Amalthea', 'Callisto', 'Europa', 'Ganymede', 'Io', 'Metis', 'Thebe']\n",
      "The regular reverse satellite moons of Jupiter are ['Thebe', 'Metis', 'Io', 'Ganymede', 'Europa', 'Callisto', 'Amalthea', 'Adrastea']\n"
     ]
    }
   ],
   "source": [
    "amalthea_group = [\"Metis\", \"Adrastea\", \"Amalthea\", \"Thebe\"]\n",
    "galilean_moons = [\"Io\", \"Europa\", \"Ganymede\", \"Callisto\"]\n",
    "\n",
    "regular_satellite_moons = amalthea_group + galilean_moons\n",
    "regular_satellite_moons.sort()\n",
    "\n",
    "print(f\"The regular satellite moons of Jupiter are {regular_satellite_moons}\")\n",
    "\n",
    "# To sort a list in reverse order, call .sort(reverse=True) on the list\n",
    "regular_satellite_moons.sort(reverse=True)\n",
    "print(f\"The regular reverse satellite moons of Jupiter are {regular_satellite_moons}\")"
   ]
  },
  {
   "cell_type": "markdown",
   "metadata": {},
   "source": [
    "# Exercise - Work with list data\n",
    "\n",
    "You might need to work different sections of a list. In this notebook, you will create a project to display planets closer to and farther away from the sun than a planet that the user enters."
   ]
  },
  {
   "cell_type": "code",
   "execution_count": 32,
   "metadata": {},
   "outputs": [
    {
     "name": "stdout",
     "output_type": "stream",
     "text": [
      "3\n",
      "Here are the planets closer than Mars\n",
      "['Mercury', 'Venus', 'Earth']\n",
      "Here are the planets further from sun than Mars\n",
      "['Jupiter', 'Saturn', 'Uranus', 'Neptune']\n"
     ]
    }
   ],
   "source": [
    "# 1. step - create the list of planets\n",
    "\n",
    "planets = [\"Mercury\", \"Venus\", \"Earth\", \"Mars\", \"Jupiter\", \"Saturn\", \"Uranus\", \"Neptune\"]\n",
    "\n",
    "# 2. step - prompt the user for the refernce planet\n",
    "user_planet = input(\"Please enter the name of the planet (with a capital letter to start): \")\n",
    "\n",
    "# 3. step - find the location of the planet\n",
    "user_planet_ix = planets.index(user_planet)\n",
    "print(user_planet_ix)\n",
    "\n",
    "# 4. step - display planets closer to the sun\n",
    "planets_closer_to_sun = planets[0:user_planet_ix]\n",
    "print(\"Here are the planets closer than \" + user_planet)\n",
    "print(planets_closer_to_sun)\n",
    "\n",
    "# 5. step - display planet further\n",
    "planets_further_from_sun = planets[user_planet_ix+1:]\n",
    "print(f\"Here are the planets further from sun than {user_planet}\")\n",
    "print(planets_further_from_sun)"
   ]
  }
 ],
 "metadata": {
  "kernelspec": {
   "display_name": ".venv",
   "language": "python",
   "name": "python3"
  },
  "language_info": {
   "codemirror_mode": {
    "name": "ipython",
    "version": 3
   },
   "file_extension": ".py",
   "mimetype": "text/x-python",
   "name": "python",
   "nbconvert_exporter": "python",
   "pygments_lexer": "ipython3",
   "version": "3.12.6"
  }
 },
 "nbformat": 4,
 "nbformat_minor": 2
}

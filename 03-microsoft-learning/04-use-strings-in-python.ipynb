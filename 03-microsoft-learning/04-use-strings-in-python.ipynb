{
 "cells": [
  {
   "cell_type": "markdown",
   "metadata": {},
   "source": [
    "# A simple string"
   ]
  },
  {
   "cell_type": "code",
   "execution_count": 1,
   "metadata": {},
   "outputs": [
    {
     "name": "stdout",
     "output_type": "stream",
     "text": [
      "The Moon has no atmosphere.\n"
     ]
    }
   ],
   "source": [
    "fact = \"The Moon has no atmosphere.\"\n",
    "print(fact)"
   ]
  },
  {
   "cell_type": "markdown",
   "metadata": {},
   "source": [
    "# Immutability of strings\n",
    "\n",
    "- ! strings are **immutable**\n",
    "- when adding new string to existing one **must be created new variable**"
   ]
  },
  {
   "cell_type": "code",
   "execution_count": 2,
   "metadata": {},
   "outputs": [
    {
     "name": "stdout",
     "output_type": "stream",
     "text": [
      "The Moon has no atmosphere. No sound can be heard on the Moon\n"
     ]
    }
   ],
   "source": [
    "fact = \"The Moon has no atmosphere.\"\n",
    "new_fact = fact + \" No sound can be heard on the Moon\"\n",
    "print(new_fact)"
   ]
  },
  {
   "cell_type": "markdown",
   "metadata": {},
   "source": [
    "# Quation marks\n",
    "\n",
    "- single, double or triple"
   ]
  },
  {
   "cell_type": "code",
   "execution_count": 4,
   "metadata": {},
   "outputs": [
    {
     "name": "stdout",
     "output_type": "stream",
     "text": [
      "The \"near side\" is the part of the Moon that faces the Earth\n",
      "Hello Monn's face\n",
      "We only see about 60% of the Moon's surface, this is known as the \"near side\".\n"
     ]
    }
   ],
   "source": [
    "# using different quation marks\n",
    "\n",
    "fact = 'The \"near side\" is the part of the Moon that faces the Earth'\n",
    "fact_2 = \"Hello Monn's face\"\n",
    "\n",
    "print(fact)\n",
    "print(fact_2)\n",
    "\n",
    "# When the text has a combination of single and double quotation marks, you can use triple quotation marks to prevent problems with the interpreter\n",
    "fact_3 = \"\"\"We only see about 60% of the Moon's surface, this is known as the \"near side\".\"\"\"\n",
    "print(fact_3)"
   ]
  },
  {
   "cell_type": "markdown",
   "metadata": {},
   "source": [
    "# Multiline text\n",
    "\n",
    "- Use a newline character (\\n).\n",
    "- Use triple quotation marks (\"\"\")."
   ]
  },
  {
   "cell_type": "code",
   "execution_count": 9,
   "metadata": {},
   "outputs": [
    {
     "name": "stdout",
     "output_type": "stream",
     "text": [
      "Facts about the Moon:\n",
      " There is no atmosphere.\n",
      " There is no sound.\n",
      "\n",
      "Facts about the Moon:\n",
      "There is no atmosphere. \n",
      "There is no sound.\n",
      "\n"
     ]
    }
   ],
   "source": [
    "# using newline charcter\n",
    "multiline = (\"Facts about the Moon:\\n There is no atmosphere.\\n There is no sound.\")\n",
    "print(multiline)\n",
    "\n",
    "# using triple quotation marks\n",
    "multiline_2 = \"\"\"\n",
    "Facts about the Moon:\n",
    "There is no atmosphere. \n",
    "There is no sound.\n",
    "\"\"\"\n",
    "print(multiline_2)\n"
   ]
  },
  {
   "cell_type": "markdown",
   "metadata": {},
   "source": [
    "# String methods\n",
    "\n",
    "- are part of the **str** type"
   ]
  },
  {
   "cell_type": "markdown",
   "metadata": {},
   "source": [
    "## title()\n",
    "\n",
    "- returns the string in initial caps"
   ]
  },
  {
   "cell_type": "code",
   "execution_count": 10,
   "metadata": {},
   "outputs": [
    {
     "name": "stdout",
     "output_type": "stream",
     "text": [
      "Temperatures And Facts About The Moon\n"
     ]
    }
   ],
   "source": [
    "print(\"temperatures and facts about the moon\".title())"
   ]
  },
  {
   "cell_type": "markdown",
   "metadata": {},
   "source": [
    "## split()\n",
    "\n",
    "-  will separate the string at every space. \n",
    "- would create a **list** of every word or number that's separated by a space"
   ]
  },
  {
   "cell_type": "code",
   "execution_count": 13,
   "metadata": {},
   "outputs": [
    {
     "name": "stdout",
     "output_type": "stream",
     "text": [
      "['Daylight:', '260', 'F', 'Nighttime:', '-280', 'F']\n",
      "['Daylight: 260 F', ' Nighttime: -280 F']\n"
     ]
    }
   ],
   "source": [
    "# without arguments\n",
    "temperatures = \"Daylight: 260 F Nighttime: -280 F\"\n",
    "temperatures_list = temperatures.split()\n",
    "print(temperatures_list)\n",
    "\n",
    "# with newline character (\\n) as argument\n",
    "temperatures = \"Daylight: 260 F\\n Nighttime: -280 F\"\n",
    "temperatures_list = temperatures.split(\"\\n\")\n",
    "print(temperatures_list)\n"
   ]
  },
  {
   "cell_type": "markdown",
   "metadata": {},
   "source": [
    "## search for string\n",
    "\n",
    "- can look for content before processing, without using a loop\n",
    "- **in** operator - simplest way to discover whether a given word, character, or group of characters exists in a string"
   ]
  },
  {
   "cell_type": "code",
   "execution_count": 14,
   "metadata": {},
   "outputs": [
    {
     "name": "stdout",
     "output_type": "stream",
     "text": [
      "False\n"
     ]
    }
   ],
   "source": [
    "# search for word Moon in string\n",
    "print(\"Moon\" in \"This text will describe facts and challenges with space travel\")"
   ]
  },
  {
   "cell_type": "markdown",
   "metadata": {},
   "source": [
    "## find()\n",
    "\n",
    "- finding the position of a specific word in a string\n",
    "- returns a **-1** when the word isn't found, or it returns the **index** (the number representing the place in the string)"
   ]
  },
  {
   "cell_type": "code",
   "execution_count": 16,
   "metadata": {},
   "outputs": [
    {
     "name": "stdout",
     "output_type": "stream",
     "text": [
      "-1\n",
      "64\n"
     ]
    }
   ],
   "source": [
    "# not existing word\n",
    "temperatures = \"Saturn has a daytime temperature of -170 degrees Celsius, while Mars has -28 Celsius.\"\n",
    "print(temperatures.find(\"Moon\"))\n",
    "\n",
    "# existing word\n",
    "temperatures = \"\"\"Saturn has a daytime temperature of -170 degrees Celsius, while Mars has -28 Celsius.\"\"\"\n",
    "print(temperatures.find(\"Mars\"))"
   ]
  },
  {
   "cell_type": "markdown",
   "metadata": {},
   "source": [
    "## count()\n",
    "\n",
    "- returns the total number of occurrences of a certain word in a string"
   ]
  },
  {
   "cell_type": "code",
   "execution_count": 17,
   "metadata": {},
   "outputs": [
    {
     "name": "stdout",
     "output_type": "stream",
     "text": [
      "1\n",
      "0\n"
     ]
    }
   ],
   "source": [
    "temperatures = \"\"\"Saturn has a daytime temperature of -170 degrees Celsius, while Mars has -28 Celsius.\"\"\"\n",
    "\n",
    "# count word Mars\n",
    "print(temperatures.count(\"Mars\"))\n",
    "\n",
    "# count word Moon\n",
    "print(temperatures.count(\"Moon\"))"
   ]
  },
  {
   "cell_type": "markdown",
   "metadata": {},
   "source": [
    "## lower() and upper()\n",
    "\n",
    "- !Strings in Python are **case-sensitive**\n",
    "- lower() - convert a string to all lowercase letters\n",
    "- upper() - convert a string to all uppercase letters"
   ]
  },
  {
   "cell_type": "code",
   "execution_count": 18,
   "metadata": {},
   "outputs": [
    {
     "name": "stdout",
     "output_type": "stream",
     "text": [
      "the moon and the earth\n",
      "THE MOON AND THE EARTH\n"
     ]
    }
   ],
   "source": [
    "# lower()\n",
    "print(\"The Moon AND the EartH\".lower())\n",
    "\n",
    "# upper()\n",
    "print(\"the moon and the earth\".upper())"
   ]
  },
  {
   "cell_type": "markdown",
   "metadata": {},
   "source": [
    "## check content\n",
    "\n",
    "- process text to extract information that's irregular in its presentation"
   ]
  },
  {
   "cell_type": "code",
   "execution_count": 20,
   "metadata": {},
   "outputs": [
    {
     "name": "stdout",
     "output_type": "stream",
     "text": [
      "['Mars Average Temperature', ' -60 C']\n",
      " -60 C\n"
     ]
    }
   ],
   "source": [
    "# exctract the temperature value from text\n",
    "\n",
    "temperatures = \"Mars Average Temperature: -60 C\"\n",
    "split_text = temperatures.split(\":\")\n",
    "print(split_text)\n",
    "\n",
    "extract_temperature = split_text[-1]\n",
    "print(extract_temperature)"
   ]
  },
  {
   "cell_type": "code",
   "execution_count": 27,
   "metadata": {},
   "outputs": [
    {
     "name": "stdout",
     "output_type": "stream",
     "text": [
      "30\n",
      "<class 'str'>\n"
     ]
    }
   ],
   "source": [
    "# If the text is irregular, you can't use the same splitting methods to get the value\n",
    "\n",
    "mars_temperature = \"The highest temperature on Mars is about 30 C\"\n",
    "\n",
    "for word in mars_temperature.split():\n",
    "    if word == \"30\":\n",
    "        print(word)\n",
    "        print(type(word))\n"
   ]
  },
  {
   "cell_type": "markdown",
   "metadata": {},
   "source": [
    "## isnumeric() and isdecimal()\n",
    "\n",
    "- check the type of string"
   ]
  },
  {
   "cell_type": "code",
   "execution_count": 28,
   "metadata": {},
   "outputs": [
    {
     "name": "stdout",
     "output_type": "stream",
     "text": [
      "30\n",
      "<class 'str'>\n"
     ]
    }
   ],
   "source": [
    "# exctract the temperature value from text\n",
    "\n",
    "mars_temperature = \"The highest temperature on Mars is about 30 C\"\n",
    "\n",
    "for item in mars_temperature.split():\n",
    "    if item.isnumeric():\n",
    "        print(item)\n",
    "        print(type(item))"
   ]
  },
  {
   "cell_type": "markdown",
   "metadata": {},
   "source": [
    "- It might be surprising to learn that <mark>\"-70\".isnumeric()</mark> would return **False**. \n",
    "- This is because all characters in the string would need to be numeric, and the **dash (-) isn't numeric**. \n",
    "- If you need to check negative numbers in a string, the .isnumeric() method wouldn't work."
   ]
  },
  {
   "cell_type": "markdown",
   "metadata": {},
   "source": [
    "## startswith() and endswith()\n",
    "\n",
    "- verifying the first (startswith()) and last (endswith()) character of a string\n"
   ]
  },
  {
   "cell_type": "code",
   "execution_count": 29,
   "metadata": {},
   "outputs": [
    {
     "name": "stdout",
     "output_type": "stream",
     "text": [
      "True\n",
      "True\n"
     ]
    }
   ],
   "source": [
    "# startswith()\n",
    "print(\"-60\".startswith('-'))\n",
    "\n",
    "# endswith()\n",
    "print(\"30 C\".endswith('C'))\n"
   ]
  },
  {
   "cell_type": "markdown",
   "metadata": {},
   "source": [
    "## join()\n",
    "\n",
    "- !requires an iterable (such as a Python list) as an argument"
   ]
  },
  {
   "cell_type": "code",
   "execution_count": 31,
   "metadata": {},
   "outputs": [
    {
     "name": "stdout",
     "output_type": "stream",
     "text": [
      "The Moon is drifting away from the Earth. On average, the Moon is moving about 4cm every year.\n"
     ]
    }
   ],
   "source": [
    "# join()\n",
    "moon_facts = [\"The Moon is drifting away from the Earth.\", \"On average, the Moon is moving about 4cm every year.\"]\n",
    "# ' ' is used to join every item in the list\n",
    "print(' '.join(moon_facts))"
   ]
  },
  {
   "cell_type": "markdown",
   "metadata": {},
   "source": [
    "# Exercise - Transform strings\n",
    "\n",
    " In this exercise, you'll use string methods to modify text with facts about the Moon and then extract information to create a short summary.\n",
    "\n",
    " This exercise is broken into a series of steps. For each step you will be presented with the goal for the step."
   ]
  },
  {
   "cell_type": "code",
   "execution_count": 37,
   "metadata": {},
   "outputs": [
    {
     "name": "stdout",
     "output_type": "stream",
     "text": [
      "['Interesting facts about the Moon', \"The Moon is Earth's only satellite\", 'There are several interesting facts about the Moon and how it affects life here on Earth', '\\nOn average, the Moon moves 4cm away from the Earth every year', 'This yearly drift is not significant enough to cause immediate effects on Earth', 'The highest daylight temperature of the Moon is 127 C.']\n",
      "The highest daylight temperature of the Moon is 127 C.\n"
     ]
    }
   ],
   "source": [
    "# 1. step - create variable \"text\"\n",
    "\n",
    "text = \"\"\"Interesting facts about the Moon. The Moon is Earth's only satellite. There are several interesting facts about the Moon and how it affects life here on Earth. \n",
    "On average, the Moon moves 4cm away from the Earth every year. This yearly drift is not significant enough to cause immediate effects on Earth. The highest daylight temperature of the Moon is 127 C.\"\"\"\n",
    "\n",
    "# 2. step - separate the paragraph into sentence\n",
    "sentences = text.split(\". \")\n",
    "print(sentences)\n",
    "\n",
    "# 3. step - find keywords\n",
    "# find any sentences which mention temperature. Add code to loop through the sentences variable. For each sentence, search for the word temperature. If the word is found, print the sentence.\n",
    "\n",
    "word = \"temperature\"\n",
    "for sentence in sentences:\n",
    "    sentence.lower()\n",
    "    if word in sentence:\n",
    "        print(sentence)\n"
   ]
  },
  {
   "cell_type": "markdown",
   "metadata": {},
   "source": [
    "# String format\n",
    "\n",
    "- Besides transforming text and performing basic operations, such as matching and searching, it's essential to format the text when you're presenting information. \n",
    "- The simplest way to present text information with Python is to use the **print()** function."
   ]
  },
  {
   "cell_type": "markdown",
   "metadata": {},
   "source": [
    "## Percent sign (%) formatting\n",
    "\n",
    "- placeholder for the variable in the string is **%s**. \n",
    "- after the string, use another **%** character followed by the variable name"
   ]
  },
  {
   "cell_type": "code",
   "execution_count": 38,
   "metadata": {},
   "outputs": [
    {
     "name": "stdout",
     "output_type": "stream",
     "text": [
      "On the Moon, you would weigh about 1/6 of your weight on Earth.\n"
     ]
    }
   ],
   "source": [
    "# format by using the % character\n",
    "mass_percentage = \"1/6\"\n",
    "print(\"On the Moon, you would weigh about %s of your weight on Earth.\" % mass_percentage)"
   ]
  },
  {
   "cell_type": "code",
   "execution_count": 39,
   "metadata": {},
   "outputs": [
    {
     "name": "stdout",
     "output_type": "stream",
     "text": [
      "Both sides of the Moon get the same amount of sunlight, but only one side is seen from Earth because the Moon rotates around its own axis when it orbits Earth.\n"
     ]
    }
   ],
   "source": [
    "# Using multiple values changes the syntax, because it requires parentheses to surround the variables that are passed in\n",
    "print(\"\"\"Both sides of the %s get the same amount of sunlight, but only one side is seen from %s because the %s rotates around its own axis when it orbits %s.\"\"\" % (\"Moon\", \"Earth\", \"Moon\", \"Earth\"))\n"
   ]
  },
  {
   "cell_type": "markdown",
   "metadata": {},
   "source": [
    "## format()\n",
    "\n",
    "- uses braces **({})** as placeholders within a string, and it uses variable assignment for replacing text"
   ]
  },
  {
   "cell_type": "code",
   "execution_count": 40,
   "metadata": {},
   "outputs": [
    {
     "name": "stdout",
     "output_type": "stream",
     "text": [
      "On the Moon, you would weigh about 1/6 of your weight on Earth.\n"
     ]
    }
   ],
   "source": [
    "# format()\n",
    "\n",
    "mass_percentage = \"1/6\"\n",
    "print(\"On the Moon, you would weigh about {} of your weight on Earth.\".format(mass_percentage))"
   ]
  },
  {
   "cell_type": "code",
   "execution_count": 42,
   "metadata": {},
   "outputs": [
    {
     "name": "stdout",
     "output_type": "stream",
     "text": [
      "You are lighter on the Moon, because on the Moon you would weigh about 1/6 of your weight on Earth.\n",
      "You are lighter on the Moon, because on the Moon you would weigh about 1/6 of your weight on Earth.\n"
     ]
    }
   ],
   "source": [
    "# format() - multiple values\n",
    "mass_percentage = \"1/6\"\n",
    "\n",
    "# 1. example\n",
    "print(\"\"\"You are lighter on the {0}, because on the {0} you would weigh about {1} of your weight on Earth.\"\"\".format(\"Moon\", mass_percentage))\n",
    "\n",
    "# 2. example\n",
    "print(\"\"\"You are lighter on the {moon}, because on the {moon} you would weigh about {mass} of your weight on Earth.\"\"\".format(moon=\"Moon\", mass=mass_percentage))"
   ]
  },
  {
   "cell_type": "markdown",
   "metadata": {},
   "source": [
    "## f-string\n",
    "\n",
    "- look like templates and use the variable names from your code"
   ]
  },
  {
   "cell_type": "code",
   "execution_count": 45,
   "metadata": {},
   "outputs": [
    {
     "name": "stdout",
     "output_type": "stream",
     "text": [
      "On the Moon, you would weigh about 1/6 of your weight on Earth.\n",
      "On the Moon, you would weigh about 16.7% of your weight on Earth.\n",
      "Interesting Facts About The Moon\n"
     ]
    }
   ],
   "source": [
    "# f-string\n",
    "\n",
    "mass_percentage = \"1/6\"\n",
    "print(f\"On the Moon, you would weigh about {mass_percentage} of your weight on Earth.\")\n",
    "print(f\"On the Moon, you would weigh about {round(100/6, 1)}% of your weight on Earth.\")\n",
    "\n",
    "subject = \"interesting facts about the moon\"\n",
    "heading = f\"{subject.title()}\"\n",
    "print(heading)"
   ]
  },
  {
   "cell_type": "markdown",
   "metadata": {},
   "source": [
    "# Exercise - Format strings\n",
    "\n",
    "Knowing how to format strings is essential when you're presenting information from a program. There are a few different ways to accomplish this in Python. In this exercise, you use variables that hold key facts about gravity on various moons and then use them to format and print the information.\n",
    "\n",
    "This exercise is broken into a series of steps."
   ]
  },
  {
   "cell_type": "code",
   "execution_count": 49,
   "metadata": {},
   "outputs": [
    {
     "name": "stdout",
     "output_type": "stream",
     "text": [
      "<class 'float'>\n",
      "Gravity Facts about Ganymede\n",
      " ------------------------\n",
      " Planet Name: Mars\n",
      " Gravity on Ganymede: 1.43 m/s2\n",
      "\n",
      "Gravity Facts about Ganymede\n",
      "----------------------------\n",
      "Planet Name: Mars\n",
      "Gravity on Ganymede: 1.43 m/s2\n",
      "\n"
     ]
    }
   ],
   "source": [
    "# 1. step - create the variables, name, gravity, and planet\n",
    "\n",
    "name = \"Ganymede\"\n",
    "planet = \"Mars\"\n",
    "gravity = 1.43\n",
    "\n",
    "print(type(gravity))\n",
    "\n",
    "# 2. step - create the template\n",
    "template = f\"Gravity Facts about {name}\\n ------------------------\\n Planet Name: {planet}\\n Gravity on {name}: {gravity} m/s2\"\n",
    "print(template)\n",
    "\n",
    "# iny sposob - format()\n",
    "template = \"\"\"\n",
    "Gravity Facts about {name}\n",
    "----------------------------\n",
    "Planet Name: {planet}\n",
    "Gravity on {name}: {gravity} m/s2\n",
    "\"\"\"\n",
    "\n",
    "print(template.format(name=name, planet=planet, gravity=gravity))"
   ]
  }
 ],
 "metadata": {
  "kernelspec": {
   "display_name": ".venv",
   "language": "python",
   "name": "python3"
  },
  "language_info": {
   "codemirror_mode": {
    "name": "ipython",
    "version": 3
   },
   "file_extension": ".py",
   "mimetype": "text/x-python",
   "name": "python",
   "nbconvert_exporter": "python",
   "pygments_lexer": "ipython3",
   "version": "3.12.6"
  }
 },
 "nbformat": 4,
 "nbformat_minor": 2
}

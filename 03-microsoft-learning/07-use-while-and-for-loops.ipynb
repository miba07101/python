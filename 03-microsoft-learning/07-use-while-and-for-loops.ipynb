{
 "cells": [
  {
   "cell_type": "markdown",
   "metadata": {},
   "source": [
    "# WHILE loop\n",
    "\n",
    "- **while** loop performs an operation while a certain condition is true. You could use a while loop to:\n",
    "    - Check for another line in a file.\n",
    "    - Check if a flag has been set.\n",
    "    - Check if a user has finished entering values.\n",
    "    - Check if something else has changed to indicate that the code can stop performing the operation.\n",
    "\n",
    "<mark style=\"background-color: #E46876\">The most important thing to remember when you create **while** loops is to ensure that the condition changes. \n",
    "If the condition is always true, Python will continue to run your code until the program crashes.</mark>\n",
    "\n",
    "- **while** loop has three important parts:\n",
    "\n",
    "    - The keyword while, followed by a space.\n",
    "\n",
    "    - The condition you test. If the condition is true, the code inside the while loop runs.\n",
    "\n",
    "    - The code you want to run for each iteration, indented with nested whitespace"
   ]
  },
  {
   "cell_type": "code",
   "execution_count": 1,
   "metadata": {},
   "outputs": [],
   "source": [
    "# create code to prompt users to enter values, and then allow them to enter done when they've finished entering the values\n",
    "\n",
    "# empty variable\n",
    "user_input = ''\n",
    "\n",
    "# allow user input until he enter \"done\"\n",
    "\n",
    "while user_input.lower() != \"done\":\n",
    "    user_input = input(\"Enter a new value, or done when done: \")"
   ]
  },
  {
   "cell_type": "markdown",
   "metadata": {},
   "source": [
    "<mark style=\"background-color: #957FB8\">\n",
    "In our example, we've used lower to convert the input to lowercase, which allows for a case-insensitive comparison.\n",
    "</mark>"
   ]
  },
  {
   "cell_type": "code",
   "execution_count": 3,
   "metadata": {},
   "outputs": [
    {
     "name": "stdout",
     "output_type": "stream",
     "text": [
      "['ahoj', 'lebo', 'milan']\n"
     ]
    }
   ],
   "source": [
    "# # You can use the newly entered string as you would any other string that's captured with input. If you want to add it to a list, you could use code that's similar to the following example:\n",
    "\n",
    "# # create variable for user input\n",
    "user_input = ''\n",
    "\n",
    "# create empty list to store user inputs\n",
    "user_inputs_list = []\n",
    "\n",
    "# while loop\n",
    "while user_input.lower() != \"done\":\n",
    "    # check if user input something\n",
    "    if user_input:\n",
    "        # store input in list\n",
    "        user_inputs_list.append(user_input)\n",
    "    # promp for new input\n",
    "    user_input = input(\"Enter a new value, or done when done\")\n",
    "\n",
    "print(user_inputs_list)"
   ]
  },
  {
   "cell_type": "markdown",
   "metadata": {},
   "source": [
    "# Exercise - Create a 'while' loop\n",
    "\n",
    "In this exercise, you're creating an application that prompts a user to enter a list of planets. In a later exercise, you'll add code that displays the list."
   ]
  },
  {
   "cell_type": "code",
   "execution_count": 5,
   "metadata": {},
   "outputs": [
    {
     "name": "stdout",
     "output_type": "stream",
     "text": [
      "Planets list:\n",
      " ['Mars', 'Earth', 'Jupiter']\n"
     ]
    }
   ],
   "source": [
    "# create empty user input\n",
    "user_input = ''\n",
    "\n",
    "# create empty list for planets\n",
    "planets = []\n",
    "\n",
    "# while loop\n",
    "while user_input != \"done\":\n",
    "    if user_input:\n",
    "        planets.append(user_input)\n",
    "    user_input = input(\"Enter a new planet, or done when done\")\n",
    "\n",
    "print(f\"Planets list:\\n {planets}\")\n"
   ]
  },
  {
   "cell_type": "markdown",
   "metadata": {},
   "source": [
    "# FOR loop\n",
    "\n",
    "<mark style=\"background-color: #957FB8\">Python has many types that can be looped over. These types are known as iterables.</mark>\n",
    "\n",
    "- The **for** loop is a statement with five important parts:\n",
    "\n",
    "    - The word **for**, followed by a space.\n",
    "    - The variable name you want to create for each value in the sequence (number). Note multiple variables need to be separated by commas.\n",
    "    - The word **in**, surrounded by spaces.\n",
    "    - The name of the list (**countdown**, in the preceding example), or iterable that you want to loop over, followed by a colon (:).\n",
    "    - The code you want to run for each item in the iterable, separated by nested whitespace."
   ]
  },
  {
   "cell_type": "code",
   "execution_count": 6,
   "metadata": {},
   "outputs": [
    {
     "name": "stdout",
     "output_type": "stream",
     "text": [
      "4\n",
      "3\n",
      "2\n",
      "1\n",
      "0\n",
      "Ended coundown\n"
     ]
    }
   ],
   "source": [
    "# code to wait for one second between each number by using the sleep() function\n",
    "\n",
    "from time import sleep\n",
    "\n",
    "coundown = [4, 3, 2, 1, 0]\n",
    "\n",
    "for time in coundown:\n",
    "    print(time)\n",
    "    sleep(1) # wait 1s\n",
    "print(\"Ended coundown\")"
   ]
  },
  {
   "cell_type": "markdown",
   "metadata": {},
   "source": [
    "# Exercise - Loop over a list\n",
    "\n",
    "In the previous exercise, you created code to prompt users to enter a list of planet names. In this exercise, you'll complete the application by writing code that displays the planet names one by one."
   ]
  },
  {
   "cell_type": "code",
   "execution_count": 8,
   "metadata": {},
   "outputs": [
    {
     "name": "stdout",
     "output_type": "stream",
     "text": [
      "Merjur\n",
      "Venuse\n",
      "Earth\n",
      "Mars\n",
      "Jupiter\n",
      "Uran\n",
      "Neptune\n",
      "all done :)\n"
     ]
    }
   ],
   "source": [
    "# creaate empty user input\n",
    "user_input = ''\n",
    "\n",
    "# create empty planets list\n",
    "planets = []\n",
    "\n",
    "# while loop until user input 'done'\n",
    "while user_input != \"done\":\n",
    "    # check if input is not empty\n",
    "    if user_input:\n",
    "        # add planet to planets list\n",
    "        planets.append(user_input)\n",
    "    user_input = input(\"Enter new planet, or done if done: \")\n",
    "\n",
    "# print each planet separetaly and wait 1s\n",
    "from time import sleep\n",
    "\n",
    "for planet in planets:\n",
    "    print(planet)\n",
    "    sleep(1)\n",
    "\n",
    "print(\"all done :)\")\n"
   ]
  }
 ],
 "metadata": {
  "kernelspec": {
   "display_name": ".venv",
   "language": "python",
   "name": "python3"
  },
  "language_info": {
   "codemirror_mode": {
    "name": "ipython",
    "version": 3
   },
   "file_extension": ".py",
   "mimetype": "text/x-python",
   "name": "python",
   "nbconvert_exporter": "python",
   "pygments_lexer": "ipython3",
   "version": "3.12.6"
  }
 },
 "nbformat": 4,
 "nbformat_minor": 2
}

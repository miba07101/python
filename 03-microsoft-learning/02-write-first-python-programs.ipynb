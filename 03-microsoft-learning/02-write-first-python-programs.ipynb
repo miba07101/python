{
 "cells": [
  {
   "cell_type": "markdown",
   "metadata": {},
   "source": [
    "# Introduction\n",
    "\n",
    "- write your first program"
   ]
  },
  {
   "cell_type": "markdown",
   "metadata": {},
   "source": [
    "# print() function\n",
    "\n",
    "- build in function\n",
    "- writing information to the console\n",
    "- can use single quote ' or double quote \""
   ]
  },
  {
   "cell_type": "code",
   "execution_count": 1,
   "metadata": {},
   "outputs": [
    {
     "name": "stdout",
     "output_type": "stream",
     "text": [
      "Hello console\n"
     ]
    }
   ],
   "source": [
    "print(\"Hello console\")"
   ]
  },
  {
   "cell_type": "markdown",
   "metadata": {},
   "source": [
    "# Data types\n",
    "\n",
    "| Type | Description | Examples |\n",
    "| --- | --- | --- |\n",
    "| Numeric | number with or without decimals | int, float, complex , no = 3 |\n",
    "| Text | string of characters | str = \"a literal string\" |\n",
    "| Boolean | boolean | continue = True |"
   ]
  },
  {
   "cell_type": "markdown",
   "metadata": {},
   "source": [
    "# Arithmetic operators\n",
    "\n",
    "| Type | Description | Example |\n",
    "| --- | --- | --- |\n",
    "| + | addition | 1 + 1 |\n",
    "| - | substraction | 1 - 2 |\n",
    "| / | division | 10 / 2 |\n",
    "| * | multiplication | 2 * 2 |"
   ]
  },
  {
   "cell_type": "markdown",
   "metadata": {},
   "source": [
    "# Assignment operators\n",
    "\n",
    "| Operator | Description | Example |\n",
    "| --- | --- | --- |\n",
    "| = | x contains 2| x = 2 |\n",
    "| += | x incremented by 2 | x += 2 |\n",
    "| -= | x decremented by 2 | x -= 2 |\n",
    "| /= | x divided by 2 | x /= 2 |\n",
    "| *= | x multiplied by 2 | x *= 2 |"
   ]
  },
  {
   "cell_type": "markdown",
   "metadata": {},
   "source": [
    "# Dates\n",
    "\n",
    "- need import **date** module"
   ]
  },
  {
   "cell_type": "code",
   "execution_count": 2,
   "metadata": {},
   "outputs": [
    {
     "name": "stdout",
     "output_type": "stream",
     "text": [
      "2024-09-27\n"
     ]
    }
   ],
   "source": [
    "# iport date module\n",
    "from datetime import date\n",
    "\n",
    "# call today() function\n",
    "date.today()\n",
    "\n",
    "# print today date\n",
    "print(date.today())"
   ]
  },
  {
   "cell_type": "markdown",
   "metadata": {},
   "source": [
    "# Data type conversion"
   ]
  },
  {
   "cell_type": "code",
   "execution_count": 4,
   "metadata": {},
   "outputs": [
    {
     "name": "stdout",
     "output_type": "stream",
     "text": [
      "Today's date is: 2024-09-27\n",
      "Today's date is: 2024-09-27\n"
     ]
    }
   ],
   "source": [
    "# concatenate string with date\n",
    "# convert date to string\n",
    "\n",
    "print(\"Today's date is: \" + str(date.today()))\n",
    "\n",
    "# other form\n",
    "print(f\"Today's date is: {str(date.today())}\")"
   ]
  },
  {
   "cell_type": "markdown",
   "metadata": {},
   "source": [
    "# Build unit converter\n",
    "\n",
    "Pr. Converting parsecs to lightyears. One parsec is 3.26 lightyears, so you will multiply parsecs by that value to determine lightyears. Final result: **11 parsec is ___ lightyears**."
   ]
  },
  {
   "cell_type": "code",
   "execution_count": 9,
   "metadata": {},
   "outputs": [
    {
     "name": "stdout",
     "output_type": "stream",
     "text": [
      "11 parsecs is 35.86 lightyears\n",
      "11 parsecs is 35.86 lightyears\n"
     ]
    }
   ],
   "source": [
    "parsec = int(input(\"Enter parsec: \"))\n",
    "lightyear = parsec * 3.26\n",
    "\n",
    "print(f\"{parsec} parsecs is {lightyear} lightyears\")\n",
    "\n",
    "# other form\n",
    "print(str(parsec) + \" parsecs is \" + str(lightyear) + \" lightyears\")"
   ]
  },
  {
   "cell_type": "markdown",
   "metadata": {},
   "source": [
    "# Command-line arguments\n",
    "\n",
    "- using **sys** module can retrieve the command-line arguments\n",
    "- **sys.argv** is an array or a data structure that contains many items"
   ]
  },
  {
   "cell_type": "code",
   "execution_count": 14,
   "metadata": {},
   "outputs": [
    {
     "name": "stdout",
     "output_type": "stream",
     "text": [
      "['c:\\\\Users\\\\mech\\\\github\\\\python\\\\.venv\\\\Lib\\\\site-packages\\\\ipykernel_launcher.py', '--f=c:\\\\Users\\\\mech\\\\AppData\\\\Roaming\\\\jupyter\\\\runtime\\\\kernel-v376c90c96099627048a6c9fb3898a974e27cd5180.json']\n",
      "c:\\Users\\mech\\github\\python\\.venv\\Lib\\site-packages\\ipykernel_launcher.py\n",
      "c:\\Users\\mech\\github\\python\\.venv\\Lib\\site-packages\\ipykernel_launcher.py\n",
      "--f=c:\\Users\\mech\\AppData\\Roaming\\jupyter\\runtime\\kernel-v376c90c96099627048a6c9fb3898a974e27cd5180.json\n"
     ]
    }
   ],
   "source": [
    "import sys\n",
    "\n",
    "print(sys.argv)\n",
    "\n",
    "# print first item in sys.argv data structure\n",
    "print(sys.argv[0])\n",
    "\n",
    "# moje dodatocne\n",
    "for item in sys.argv:\n",
    "    print(item)\n"
   ]
  },
  {
   "cell_type": "markdown",
   "metadata": {},
   "source": [
    "# User input\n",
    "\n",
    "- capture informations from user using **input()** function"
   ]
  },
  {
   "cell_type": "code",
   "execution_count": 16,
   "metadata": {},
   "outputs": [
    {
     "name": "stdout",
     "output_type": "stream",
     "text": [
      "Welcome to the greeter program\n",
      "Greetings Milan\n"
     ]
    }
   ],
   "source": [
    "print(\"Welcome to the greeter program\")\n",
    "name = input(\"Enter your name: \")\n",
    "print(\"Greetings \" + name)"
   ]
  },
  {
   "cell_type": "markdown",
   "metadata": {},
   "source": [
    "# Working with numbers"
   ]
  },
  {
   "cell_type": "code",
   "execution_count": 19,
   "metadata": {},
   "outputs": [
    {
     "name": "stdout",
     "output_type": "stream",
     "text": [
      "calculator program\n",
      "Result of two numbers is: 7\n",
      "Result of two numbers is: 7\n"
     ]
    }
   ],
   "source": [
    "# calculator program\n",
    "\n",
    "print(\"calculator program\")\n",
    "first_number = int(input(\"Enter first number: \"))\n",
    "second_number = int(input(\"Enter second number: \"))\n",
    "sum = first_number + second_number\n",
    "\n",
    "print(\"Result of two numbers is: \" + str(sum))\n",
    "\n",
    "# lepsi zapis\n",
    "print(f'Result of two numbers is: {sum}')"
   ]
  }
 ],
 "metadata": {
  "kernelspec": {
   "display_name": ".venv",
   "language": "python",
   "name": "python3"
  },
  "language_info": {
   "codemirror_mode": {
    "name": "ipython",
    "version": 3
   },
   "file_extension": ".py",
   "mimetype": "text/x-python",
   "name": "python",
   "nbconvert_exporter": "python",
   "pygments_lexer": "ipython3",
   "version": "3.12.6"
  }
 },
 "nbformat": 4,
 "nbformat_minor": 2
}

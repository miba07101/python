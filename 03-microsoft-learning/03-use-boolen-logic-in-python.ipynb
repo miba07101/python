{
 "cells": [
  {
   "cell_type": "markdown",
   "metadata": {},
   "source": [
    "# IF statements\n",
    "\n",
    "- conditional statments\n",
    "- using common **mathematical logic operators**\n",
    "\n",
    "| Type | Expresion |\n",
    "| --- | :---: |\n",
    "| equals | == |\n",
    "| not equals | != |\n",
    "| less than | < |\n",
    "| less than or equal to | <= |\n",
    "| greater than | > |\n",
    "| greater than or equal to | >= |\n",
    "\n",
    "- syntax:\\\n",
    "**if** test expression:\\\n",
    "    statement to be run"
   ]
  },
  {
   "cell_type": "markdown",
   "metadata": {},
   "source": [
    "## Test expressions\n",
    "\n",
    "- first line in **if** statement\n",
    "- checking if the condition is met:\n",
    "    - if True then **statement** can be run,\n",
    "    - if False then **statement** would not be run\n",
    "\n",
    ">  ! **None** and **0** are also interpreted as False"
   ]
  },
  {
   "cell_type": "code",
   "execution_count": 1,
   "metadata": {},
   "outputs": [],
   "source": [
    "a = 97\n",
    "b = 85\n",
    "\n",
    "# test expression (a < b)\n",
    "if a < b:\n",
    "    # statement to be run\n",
    "    print(b)"
   ]
  },
  {
   "cell_type": "markdown",
   "metadata": {},
   "source": [
    "# ELSE and ELIF statements\n",
    "\n",
    "- using when whant create complex program and run code even the **test condition** is False"
   ]
  },
  {
   "cell_type": "code",
   "execution_count": 3,
   "metadata": {},
   "outputs": [
    {
     "name": "stdout",
     "output_type": "stream",
     "text": [
      "99\n"
     ]
    }
   ],
   "source": [
    "# ELSE statement\n",
    "\n",
    "a = 27\n",
    "b = 99\n",
    "\n",
    "if a > b:\n",
    "    print(a)\n",
    "else:\n",
    "    print(b)"
   ]
  },
  {
   "cell_type": "code",
   "execution_count": 2,
   "metadata": {},
   "outputs": [
    {
     "name": "stdout",
     "output_type": "stream",
     "text": [
      "a is less than or equal to b\n"
     ]
    }
   ],
   "source": [
    "# ELIF statement\n",
    "# Using elif statements enables you to add multiple test expressions \n",
    "# to your program\n",
    "\n",
    "a = 27\n",
    "b = 99\n",
    "\n",
    "if a <= b:\n",
    "    print(\"a is less than or equal to b\")\n",
    "elif a == b:\n",
    "    print(\"a is equal to b\")"
   ]
  },
  {
   "cell_type": "markdown",
   "metadata": {},
   "source": [
    "# Combine IF, ELIF and ELSE statements\n",
    "\n",
    "- ELIF run only when IF condition is False\n",
    "- IF block can have only **one** ELSE block\n",
    "- IF block can have **multiple** ELIF blocks"
   ]
  },
  {
   "cell_type": "code",
   "execution_count": 4,
   "metadata": {},
   "outputs": [
    {
     "name": "stdout",
     "output_type": "stream",
     "text": [
      "a is less than b\n"
     ]
    }
   ],
   "source": [
    "a = 27\n",
    "b = 99\n",
    "\n",
    "if a < b:\n",
    "    print(\"a is less than b\")\n",
    "elif a > b:\n",
    "    print(\"a is greater than b\")\n",
    "else:\n",
    "    print(\"a is equal to b\")"
   ]
  },
  {
   "cell_type": "markdown",
   "metadata": {},
   "source": [
    "# Work with nested conditional logic"
   ]
  },
  {
   "cell_type": "code",
   "execution_count": null,
   "metadata": {},
   "outputs": [],
   "source": [
    "# Syntax\n",
    "\n",
    "if test_expression:\n",
    "    # statement(s) to be run\n",
    "    if test_expression:\n",
    "        # statement(s) to be run\n",
    "    else: \n",
    "        # statement(s) to be run\n",
    "elif test_expression:\n",
    "    # statement(s) to be run\n",
    "    if test_expression:\n",
    "        # statement(s) to be run\n",
    "    else: \n",
    "        # statement(s) to be run\n",
    "else:\n",
    "    # statement(s) to be run"
   ]
  },
  {
   "cell_type": "markdown",
   "metadata": {},
   "source": [
    "# Exercise: Use logic to examine an object's size\n",
    "\n",
    "Pr. You will start your project by creating the code to determine if a piece of space debris is of a dangerous size. For this exercise we will use an arbitrary size of 5 meters cubed (5m3); anything larger is a potentially dangerous object.\n",
    "\n",
    "Output: We need to keep an eye on this object"
   ]
  },
  {
   "cell_type": "code",
   "execution_count": 5,
   "metadata": {},
   "outputs": [
    {
     "name": "stdout",
     "output_type": "stream",
     "text": [
      "We need to keep an eye on this object\n"
     ]
    }
   ],
   "source": [
    "object_size = int(input(\"Enter object size: \"))\n",
    "limit_size = 5 #m3\n",
    "\n",
    "if object_size >= limit_size:\n",
    "    print(\"We need to keep an eye on this object\")\n",
    "else:\n",
    "    print(\"Object poses no threat\")"
   ]
  },
  {
   "cell_type": "markdown",
   "metadata": {},
   "source": [
    "# AND and OR operators\n",
    "\n",
    "- evaluate multiple conditions in one IF, ELIF, or ELSE statement\n",
    "\n",
    "## OR operator\n",
    "\n",
    "-syntax:\\\n",
    "sub-expression1 or sub-expression2\n",
    "\n",
    "- to evaluate test expression at **least one** sub-expression must be TRUE\n",
    "\n",
    "## AND operator\n",
    "\n",
    "- syntax:\\\n",
    "sub-expression1 and sub-expression2\n",
    "\n",
    "- to evaluate test expression **both** sub-expression must be TRUE\n",
    "\n",
    "## The difference between AND and OR\n",
    "\n",
    "| sub-expression1 | operator | sub-expression2 | results |\n",
    "| :---: | :---: | :---: | :---: |\n",
    "| True | and | True | True |\n",
    "| True | and | False | False |\n",
    "| False | and | False | False |\n",
    "| False | and | True | False |\n",
    "|||||\n",
    "| True | or | True | True |\n",
    "| True | or | False | True |\n",
    "| False | or | False | False |\n",
    "| False | or | True | True |\n"
   ]
  },
  {
   "cell_type": "markdown",
   "metadata": {},
   "source": [
    "# Exercise - Use 'and' and 'or' operators\n",
    "\n",
    "Pr. In the previous exercise you created code to test the size of the object. Now you will test both the object's size and proximity. You will use the same threshold for size of 5m3. If the object is both larger than the threshold and within 1000km of the ship evasive maneuvers will be required."
   ]
  },
  {
   "cell_type": "code",
   "execution_count": 7,
   "metadata": {},
   "outputs": [
    {
     "name": "stdout",
     "output_type": "stream",
     "text": [
      "Evasive maneuvers NOT REQUIRED\n"
     ]
    }
   ],
   "source": [
    "object_size = int(input(\"Enter object size [m3]: \"))\n",
    "proximity = int(input(\"Enter proximity [km]: \"))\n",
    "\n",
    "object_limit = 5\n",
    "proximity_limit = 1000\n",
    "\n",
    "if object_size >= object_limit and proximity < proximity_limit:\n",
    "    print(\"Evasive maneuvers REQUIRED\")\n",
    "else:\n",
    "    print(\"Evasive maneuvers NOT REQUIRED\")"
   ]
  }
 ],
 "metadata": {
  "kernelspec": {
   "display_name": ".venv",
   "language": "python",
   "name": "python3"
  },
  "language_info": {
   "codemirror_mode": {
    "name": "ipython",
    "version": 3
   },
   "file_extension": ".py",
   "mimetype": "text/x-python",
   "name": "python",
   "nbconvert_exporter": "python",
   "pygments_lexer": "ipython3",
   "version": "3.12.6"
  }
 },
 "nbformat": 4,
 "nbformat_minor": 2
}

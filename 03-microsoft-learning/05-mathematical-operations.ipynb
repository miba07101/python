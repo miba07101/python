{
 "cells": [
  {
   "cell_type": "markdown",
   "metadata": {},
   "source": [
    "# Basic math/arithmetic operators\n",
    "\n",
    "| Type | Description | Example |\n",
    "| --- | --- | --- |\n",
    "| + | addition | 1 + 1 |\n",
    "| - | substraction | 1 - 2 |\n",
    "| * | multiplication | 2 * 2 |\n",
    "| / | division | 10 / 2 |\n",
    "| // | floor (rounded down) division | 10 // 2 |\n",
    "| % | modulo (zvysok po deleni) | 10 % 2 |"
   ]
  },
  {
   "cell_type": "markdown",
   "metadata": {},
   "source": [
    "# Exercise - Use arithmetic operators\n",
    "\n",
    " Create a program that can calculate the distance between two planets. We'll start by using two planet distances: Earth (149,597,870 km) and Jupiter (778,547,200 km).\n",
    "\n",
    "This exercise is broken into a series of steps"
   ]
  },
  {
   "cell_type": "code",
   "execution_count": 3,
   "metadata": {},
   "outputs": [
    {
     "name": "stdout",
     "output_type": "stream",
     "text": [
      "628949330\n",
      "390810995.0389724\n"
     ]
    }
   ],
   "source": [
    "# 1. step - create variable\n",
    "first_planet = 149597870 # distance from the sun to Earth\n",
    "second_planet = 778547200 # distance from the sun to Jupiter\n",
    "\n",
    "# 2. step - display distance between planets\n",
    "distance = second_planet - first_planet\n",
    "print(distance)\n",
    "\n",
    "# 3. step - convert distance from km to miles (1 mile = 1.609344 km)\n",
    "distance_miles = distance / 1.609344\n",
    "print(distance_miles)"
   ]
  },
  {
   "cell_type": "markdown",
   "metadata": {},
   "source": [
    "# Convert strings to numbers"
   ]
  },
  {
   "cell_type": "code",
   "execution_count": 4,
   "metadata": {},
   "outputs": [
    {
     "name": "stdout",
     "output_type": "stream",
     "text": [
      "215\n",
      "215.3\n"
     ]
    }
   ],
   "source": [
    "# convert to integer\n",
    "demo_int = int('215')\n",
    "print(demo_int)\n",
    "\n",
    "# convert to float\n",
    "demo_float = float('215.3')\n",
    "print(demo_float)"
   ]
  },
  {
   "cell_type": "markdown",
   "metadata": {},
   "source": [
    "# Absolute values - abs()"
   ]
  },
  {
   "cell_type": "code",
   "execution_count": 5,
   "metadata": {},
   "outputs": [
    {
     "name": "stdout",
     "output_type": "stream",
     "text": [
      "23\n",
      "-23\n",
      "23\n",
      "23\n"
     ]
    }
   ],
   "source": [
    "print(39-16)\n",
    "print(16-39)\n",
    "\n",
    "# abs()\n",
    "print(abs(39-16))\n",
    "print(abs(16-39))"
   ]
  },
  {
   "cell_type": "markdown",
   "metadata": {},
   "source": [
    "# Rounding - round()\n",
    "\n",
    "- round up to the nearest integer if the decimal value is greater than .5, or down if it's less than .5"
   ]
  },
  {
   "cell_type": "code",
   "execution_count": 6,
   "metadata": {},
   "outputs": [
    {
     "name": "stdout",
     "output_type": "stream",
     "text": [
      "1\n",
      "2\n",
      "2\n",
      "3\n"
     ]
    }
   ],
   "source": [
    "print(round(1.4))\n",
    "print(round(1.5))\n",
    "print(round(2.5))\n",
    "print(round(2.6))"
   ]
  },
  {
   "cell_type": "markdown",
   "metadata": {},
   "source": [
    "# Math library\n",
    "\n",
    "- math allows you to perform rounding with floor and ceil, provide the value of pi, and numerous other operations\n",
    "- ceil() - round up to the nearest whole number\n",
    "- floor() - round down to the nearest whole number\n"
   ]
  },
  {
   "cell_type": "code",
   "execution_count": 7,
   "metadata": {},
   "outputs": [
    {
     "name": "stdout",
     "output_type": "stream",
     "text": [
      "13\n",
      "12\n"
     ]
    }
   ],
   "source": [
    "from math import ceil, floor\n",
    "\n",
    "round_up = ceil(12.5)\n",
    "print(round_up)\n",
    "\n",
    "round_down = floor(12.5)\n",
    "print(round_down)"
   ]
  },
  {
   "cell_type": "markdown",
   "metadata": {},
   "source": [
    "# Exercise - Convert strings to numbers and use absolute values\n",
    "\n",
    "You'll frequently need to convert string values into numbers to properly perform different operations, or determine the absolute value of a number. In this exercise, you will create a project to calculate the distance between two planets based on user input.\n",
    "\n",
    "This exercise is broken into a series of steps.\n",
    "\n",
    "To create our application, we want to read the distance from the sun for two planets, and then display the distance between the planets."
   ]
  },
  {
   "cell_type": "code",
   "execution_count": 8,
   "metadata": {},
   "outputs": [
    {
     "name": "stdout",
     "output_type": "stream",
     "text": [
      "1438100000\n"
     ]
    }
   ],
   "source": [
    "first_planet = input(\"Enter distance between sun and earth: \")\n",
    "second_planet = input(\"Enter distance between sun and jupiter: \")\n",
    "\n",
    "# convert strings inputs into integer\n",
    "first_planet_int = int(first_planet)\n",
    "second_planet_int = int(second_planet)\n",
    "\n",
    "# calculate distance between 2 planets\n",
    "distance = second_planet_int - first_planet_int\n",
    "\n",
    "# convert to absolute value\n",
    "distance_abs = abs(distance)\n",
    "\n",
    "# print results\n",
    "print(distance_abs)"
   ]
  }
 ],
 "metadata": {
  "kernelspec": {
   "display_name": ".venv",
   "language": "python",
   "name": "python3"
  },
  "language_info": {
   "codemirror_mode": {
    "name": "ipython",
    "version": 3
   },
   "file_extension": ".py",
   "mimetype": "text/x-python",
   "name": "python",
   "nbconvert_exporter": "python",
   "pygments_lexer": "ipython3",
   "version": "3.12.6"
  }
 },
 "nbformat": 4,
 "nbformat_minor": 2
}

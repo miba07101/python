{
 "cells": [
  {
   "cell_type": "markdown",
   "metadata": {},
   "source": [
    "# 1) Pandas Series\n",
    "\n",
    "- **Series** - jednorozmerny 'labeled' objekt podobny polu, moze obsahovat udaje roznych typov\n",
    "- mozme si series predstavit ako stlpec v excel harku, ktory obsahuje:\n",
    "    - labels - oznacenie, je to index pre kazdy udaj\n",
    "    - data - udaje"
   ]
  },
  {
   "cell_type": "markdown",
   "metadata": {},
   "source": [
    "## 1.1) Create a pandas series\n",
    "\n",
    "- najcastejsie pomocou python listu"
   ]
  },
  {
   "cell_type": "code",
   "execution_count": null,
   "metadata": {},
   "outputs": [
    {
     "name": "stdout",
     "output_type": "stream",
     "text": [
      "0    10\n",
      "1    20\n",
      "2    30\n",
      "3    40\n",
      "4    50\n",
      "dtype: int64\n"
     ]
    }
   ],
   "source": [
    "import pandas as pd\n",
    "\n",
    "# create list\n",
    "data = [10, 20, 30, 40, 50]\n",
    "\n",
    "# create a series from list\n",
    "my_series = pd.Series(data)\n",
    "\n",
    "print(my_series)"
   ]
  },
  {
   "cell_type": "markdown",
   "metadata": {},
   "source": [
    "## 1.2) Labels\n",
    "\n",
    "- su to indexy pre udaje, zacinaju **0**\n",
    "- mozme tiez specifikovat oznacenie indexov, ked vytvarame series, pomocou \"index\" argumentu v \"Series()\" metode"
   ]
  },
  {
   "cell_type": "code",
   "execution_count": 2,
   "metadata": {},
   "outputs": [
    {
     "name": "stdout",
     "output_type": "stream",
     "text": [
      "Third value in series: 30\n"
     ]
    }
   ],
   "source": [
    "import pandas as pd\n",
    "\n",
    "# create a list\n",
    "data = [10, 20, 30, 40, 50]\n",
    "\n",
    "# create a series from the list\n",
    "my_series = pd.Series(data)\n",
    "\n",
    "# display third value in the series\n",
    "print(\"Third value in series:\", my_series[2])"
   ]
  },
  {
   "cell_type": "code",
   "execution_count": null,
   "metadata": {},
   "outputs": [
    {
     "name": "stdout",
     "output_type": "stream",
     "text": [
      "x    1\n",
      "y    3\n",
      "z    5\n",
      "dtype: int64\n",
      "3\n"
     ]
    }
   ],
   "source": [
    "import pandas as pd\n",
    "\n",
    "# create a list\n",
    "a = [1, 3, 5]\n",
    "\n",
    "# create a series and specify labels\n",
    "my_series = pd.Series(a, index=[\"x\", \"y\", \"z\"])\n",
    "\n",
    "print(my_series)\n",
    "\n",
    "# display the value with label y\n",
    "print(my_series[\"y\"])"
   ]
  },
  {
   "cell_type": "markdown",
   "metadata": {},
   "source": [
    "## 1.3) Create Series from a python dictionary"
   ]
  },
  {
   "cell_type": "code",
   "execution_count": null,
   "metadata": {},
   "outputs": [
    {
     "name": "stdout",
     "output_type": "stream",
     "text": [
      "Semester1    3.25\n",
      "Semester2    3.28\n",
      "Semester3    3.75\n",
      "dtype: float64\n",
      "\n",
      "Selected items:\n",
      " Semester1    3.25\n",
      "Semester2    3.28\n",
      "dtype: float64\n"
     ]
    }
   ],
   "source": [
    "import pandas as pd\n",
    "\n",
    "# create a dictionary\n",
    "grades = {\"Semester1\": 3.25, \"Semester2\": 3.28, \"Semester3\": 3.75}\n",
    "\n",
    "# create a series from the dictionary\n",
    "my_series = pd.Series(grades)\n",
    "\n",
    "# display the series\n",
    "print(my_series)\n",
    "\n",
    "# select specific dictionary items using index argument\n",
    "my_series = pd.Series(grades, index=[\"Semester1\", \"Semester2\"])\n",
    "print(\"\\nSelected items:\\n\", my_series)"
   ]
  }
 ],
 "metadata": {
  "kernelspec": {
   "display_name": ".venv",
   "language": "python",
   "name": "python3"
  },
  "language_info": {
   "codemirror_mode": {
    "name": "ipython",
    "version": 3
   },
   "file_extension": ".py",
   "mimetype": "text/x-python",
   "name": "python",
   "nbconvert_exporter": "python",
   "pygments_lexer": "ipython3",
   "version": "3.13.1"
  }
 },
 "nbformat": 4,
 "nbformat_minor": 2
}

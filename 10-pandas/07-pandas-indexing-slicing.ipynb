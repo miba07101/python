{
 "cells": [
  {
   "cell_type": "markdown",
   "metadata": {},
   "source": [
    "# 1) Pandas indexing and slicing\n",
    "\n",
    "- indexing - pristup k riadku alebo stlpci\n",
    "- slicing - pristup k rozsahu riadkov alebo stlpcov"
   ]
  },
  {
   "cell_type": "markdown",
   "metadata": {},
   "source": [
    "## 1.1) Access columns of a dataframe\n",
    "\n",
    "- pomocou **[]**"
   ]
  },
  {
   "cell_type": "code",
   "execution_count": null,
   "metadata": {},
   "outputs": [
    {
     "name": "stdout",
     "output_type": "stream",
     "text": [
      "0      Alice\n",
      "1        Bob\n",
      "2    Charlie\n",
      "3      David\n",
      "4        Eve\n",
      "Name: Name, dtype: object\n"
     ]
    }
   ],
   "source": [
    "import pandas as pd\n",
    "\n",
    "# create a DataFrame\n",
    "data = {\n",
    "    \"Name\": [\"Alice\", \"Bob\", \"Charlie\", \"David\", \"Eve\"],\n",
    "    \"Age\": [25, 32, 18, 47, 33],\n",
    "    \"City\": [\"New York\", \"Paris\", \"London\", \"Tokyo\", \"Sydney\"],\n",
    "}\n",
    "df = pd.DataFrame(data)\n",
    "\n",
    "# access the Name column\n",
    "names = df[\"Name\"]\n",
    "\n",
    "print(names)"
   ]
  },
  {
   "cell_type": "markdown",
   "metadata": {},
   "source": [
    "### Access multiple columns using []"
   ]
  },
  {
   "cell_type": "code",
   "execution_count": null,
   "metadata": {},
   "outputs": [
    {
     "name": "stdout",
     "output_type": "stream",
     "text": [
      "      Name      City\n",
      "0    Alice  New York\n",
      "1      Bob     Paris\n",
      "2  Charlie    London\n",
      "3    David     Tokyo\n",
      "4      Eve    Sydney\n"
     ]
    }
   ],
   "source": [
    "import pandas as pd\n",
    "\n",
    "# create a DataFrame\n",
    "data = {\n",
    "    \"Name\": [\"Alice\", \"Bob\", \"Charlie\", \"David\", \"Eve\"],\n",
    "    \"Age\": [25, 32, 18, 47, 33],\n",
    "    \"City\": [\"New York\", \"Paris\", \"London\", \"Tokyo\", \"Sydney\"],\n",
    "}\n",
    "df = pd.DataFrame(data)\n",
    "\n",
    "# access multiple columns\n",
    "name_city = df[[\"Name\", \"City\"]]\n",
    "\n",
    "print(name_city)"
   ]
  },
  {
   "cell_type": "markdown",
   "metadata": {},
   "source": [
    "## 1.2) Pandas .loc\n",
    "\n",
    "- **.loc** - vlastnost (property), ktoru pouzivame na pristup k udajom na zaklade ich oznacenia (labels)\n",
    "- pouzivame v **label-based** dataframoch\n",
    "- syntax: `df.loc[row_indexer, column_indexer]`\n",
    "    - row_indexer - vyberie riadky na zaklade oznacenia, moze byt single, list alebo boolean\n",
    "    - column_indexer - vyberie stlpce na zaklade oznacenia, moze byt single, list alebo boolean"
   ]
  },
  {
   "cell_type": "code",
   "execution_count": null,
   "metadata": {},
   "outputs": [
    {
     "name": "stdout",
     "output_type": "stream",
     "text": [
      "Single row:\n",
      "Name    Charlie\n",
      "Age          18\n",
      "City     London\n",
      "Name: 2, dtype: object\n",
      "\n",
      "List of Rows:\n",
      "    Name  Age      City\n",
      "0  Alice   25  New York\n",
      "3  David   47     Tokyo\n",
      "4    Eve   33    Sydney\n",
      "\n",
      "List of Columns:\n",
      "      Name  Age\n",
      "0    Alice   25\n",
      "1      Bob   32\n",
      "2  Charlie   18\n",
      "3    David   47\n",
      "4      Eve   33\n",
      "\n",
      "Specific Value:\n",
      "Bob\n"
     ]
    }
   ],
   "source": [
    "import pandas as pd\n",
    "\n",
    "# create a DataFrame\n",
    "data = {\n",
    "    \"Name\": [\"Alice\", \"Bob\", \"Charlie\", \"David\", \"Eve\"],\n",
    "    \"Age\": [25, 32, 18, 47, 33],\n",
    "    \"City\": [\"New York\", \"Paris\", \"London\", \"Tokyo\", \"Sydney\"],\n",
    "}\n",
    "df = pd.DataFrame(data)\n",
    "\n",
    "# access a single row\n",
    "single_row = df.loc[2]\n",
    "\n",
    "print(\"Single row:\")\n",
    "print(single_row)\n",
    "print()\n",
    "\n",
    "# access rows 0, 3 and 4\n",
    "row_list = df.loc[[0, 3, 4]]\n",
    "\n",
    "print(\"List of Rows:\")\n",
    "print(row_list)\n",
    "print()\n",
    "\n",
    "# access a list of columns\n",
    "column_list = df.loc[:, [\"Name\", \"Age\"]]\n",
    "\n",
    "print(\"List of Columns:\")\n",
    "print(column_list)\n",
    "print()\n",
    "\n",
    "# access second row of 'Name' column\n",
    "specific_value = df.loc[1, \"Name\"]\n",
    "\n",
    "print(\"Specific Value:\")\n",
    "print(specific_value)"
   ]
  },
  {
   "cell_type": "markdown",
   "metadata": {},
   "source": [
    "### Slicing using .loc"
   ]
  },
  {
   "cell_type": "code",
   "execution_count": null,
   "metadata": {},
   "outputs": [
    {
     "name": "stdout",
     "output_type": "stream",
     "text": [
      "Sliced Rows:\n",
      "      Name  Age    City\n",
      "1      Bob   32   Paris\n",
      "2  Charlie   18  London\n",
      "3    David   47   Tokyo\n",
      "\n",
      "Sliced Columns:\n",
      "      Name  Age\n",
      "0    Alice   25\n",
      "1      Bob   32\n",
      "2  Charlie   18\n",
      "3    David   47\n",
      "4      Eve   33\n"
     ]
    }
   ],
   "source": [
    "import pandas as pd\n",
    "\n",
    "# create a DataFrame\n",
    "data = {\n",
    "    \"Name\": [\"Alice\", \"Bob\", \"Charlie\", \"David\", \"Eve\"],\n",
    "    \"Age\": [25, 32, 18, 47, 33],\n",
    "    \"City\": [\"New York\", \"Paris\", \"London\", \"Tokyo\", \"Sydney\"],\n",
    "}\n",
    "\n",
    "df = pd.DataFrame(data)\n",
    "\n",
    "# slice rows from index 1 to 3\n",
    "slice_rows = df.loc[1:3]\n",
    "\n",
    "print(\"Sliced Rows:\")\n",
    "print(slice_rows)\n",
    "print()\n",
    "\n",
    "# slicing columns from 'Name' to 'Age'\n",
    "slice_columns = df.loc[:, \"Name\":\"Age\"]\n",
    "\n",
    "print(\"Sliced Columns:\")\n",
    "print(slice_columns)"
   ]
  },
  {
   "cell_type": "markdown",
   "metadata": {},
   "source": [
    "### Boolean indexing with .loc"
   ]
  },
  {
   "cell_type": "code",
   "execution_count": null,
   "metadata": {},
   "outputs": [
    {
     "name": "stdout",
     "output_type": "stream",
     "text": [
      "Filtered DataFrame: \n",
      "    Name  Age    City\n",
      "1    Bob   32   Paris\n",
      "3  David   47   Tokyo\n",
      "4    Eve   33  Sydney\n"
     ]
    }
   ],
   "source": [
    "# select all the rows where the value of Age is greater than 30\n",
    "import pandas as pd\n",
    "\n",
    "# create a DataFrame\n",
    "data = {\n",
    "    \"Name\": [\"Alice\", \"Bob\", \"Charlie\", \"David\", \"Eve\"],\n",
    "    \"Age\": [25, 32, 18, 47, 33],\n",
    "    \"City\": [\"New York\", \"Paris\", \"London\", \"Tokyo\", \"Sydney\"],\n",
    "}\n",
    "df = pd.DataFrame(data)\n",
    "\n",
    "# boolean indexing with .loc\n",
    "# age > 30\n",
    "boolean_index = df.loc[df[\"Age\"] > 30]\n",
    "\n",
    "print(\"Filtered DataFrame: \")\n",
    "print(boolean_index)"
   ]
  },
  {
   "cell_type": "markdown",
   "metadata": {},
   "source": [
    "## 1.3) Pandas .iloc\n",
    "\n",
    "- **.loc** - vlastnost (property), ktoru pouzivame na pristup k udajom na zaklade ich cisla (integer)\n",
    "- pouzivame v **integer-based** dataframoch\n",
    "- syntax: `df.iloc[row_indexer, column_indexer]`\n",
    "    - row_indexer - vyberie riadky na zaklade ich ciselneho umiestnenia, moze byt single alebo list (boolean nie je)\n",
    "    - column_indexer - vyberie stlpce na zaklade ciselneho umiestnenia, moze byt single alebo list (boolean nie je)"
   ]
  },
  {
   "cell_type": "code",
   "execution_count": null,
   "metadata": {},
   "outputs": [
    {
     "name": "stdout",
     "output_type": "stream",
     "text": [
      "Single Row:\n",
      "Name    Charlie\n",
      "Age          18\n",
      "City     London\n",
      "Name: 2, dtype: object\n",
      "\n",
      "List of Rows:\n",
      "    Name  Age      City\n",
      "0  Alice   25  New York\n",
      "3  David   47     Tokyo\n",
      "4    Eve   33    Sydney\n",
      "\n",
      "List of Columns:\n",
      "      Name      City\n",
      "0    Alice  New York\n",
      "1      Bob     Paris\n",
      "2  Charlie    London\n",
      "3    David     Tokyo\n",
      "4      Eve    Sydney\n",
      "\n",
      "Specific Value:\n",
      "Bob\n"
     ]
    }
   ],
   "source": [
    "import pandas as pd\n",
    "\n",
    "# create a DataFrame\n",
    "data = {\n",
    "    \"Name\": [\"Alice\", \"Bob\", \"Charlie\", \"David\", \"Eve\"],\n",
    "    \"Age\": [25, 32, 18, 47, 33],\n",
    "    \"City\": [\"New York\", \"Paris\", \"London\", \"Tokyo\", \"Sydney\"],\n",
    "}\n",
    "df = pd.DataFrame(data)\n",
    "\n",
    "# access single row\n",
    "single_row = df.iloc[2]\n",
    "\n",
    "# access rows 0, 3 and 4\n",
    "row_list = df.iloc[[0, 3, 4]]\n",
    "\n",
    "# access columns 0 and 2\n",
    "column_list = df.iloc[:, [0, 2]]\n",
    "\n",
    "# access a specific value\n",
    "specific_value = df.iloc[1, 0]\n",
    "\n",
    "# display result\n",
    "print(\"Single Row:\")\n",
    "print(single_row)\n",
    "print()\n",
    "print(\"List of Rows:\")\n",
    "print(row_list)\n",
    "print()\n",
    "print(\"List of Columns:\")\n",
    "print(column_list)\n",
    "print()\n",
    "print(\"Specific Value:\")\n",
    "print(specific_value)"
   ]
  },
  {
   "cell_type": "markdown",
   "metadata": {},
   "source": [
    "### Slicing using .iloc"
   ]
  },
  {
   "cell_type": "code",
   "execution_count": null,
   "metadata": {},
   "outputs": [
    {
     "name": "stdout",
     "output_type": "stream",
     "text": [
      "Sliced Rows:\n",
      "      Name  Age    City\n",
      "1      Bob   32   Paris\n",
      "2  Charlie   18  London\n",
      "3    David   47   Tokyo\n",
      "\n",
      "Sliced Columns:\n",
      "      Name  Age\n",
      "0    Alice   25\n",
      "1      Bob   32\n",
      "2  Charlie   18\n",
      "3    David   47\n",
      "4      Eve   33\n"
     ]
    }
   ],
   "source": [
    "import pandas as pd\n",
    "\n",
    "# create a sample DataFrame\n",
    "data = {\n",
    "    \"Name\": [\"Alice\", \"Bob\", \"Charlie\", \"David\", \"Eve\"],\n",
    "    \"Age\": [25, 32, 18, 47, 33],\n",
    "    \"City\": [\"New York\", \"Paris\", \"London\", \"Tokyo\", \"Sydney\"],\n",
    "}\n",
    "df = pd.DataFrame(data)\n",
    "\n",
    "# slice rows from position 1 to 3\n",
    "slice_rows = df.iloc[1:4]\n",
    "\n",
    "# slice columns from position 0 to 1\n",
    "slice_columns = df.iloc[:, 0:2]\n",
    "\n",
    "# display results\n",
    "print(\"Sliced Rows:\")\n",
    "print(slice_rows)\n",
    "print()\n",
    "print(\"Sliced Columns:\")\n",
    "print(slice_columns)"
   ]
  },
  {
   "cell_type": "markdown",
   "metadata": {},
   "source": [
    "# 2) .loc vs .iloc\n",
    "\n",
    "|Basis              |.loc                   |.iloc  |\n",
    "|---                |---                    |---    |\n",
    "|Indexing           |Label-based indexing   |Integer-based indexing |\n",
    "|Endpoint           |Endpoint is included   |Endpoint is not included   |\n",
    "|Boolean indexing   |Boolean indexing is supported  |Boolean indexing is not supported  |"
   ]
  }
 ],
 "metadata": {
  "kernelspec": {
   "display_name": ".venv",
   "language": "python",
   "name": "python3"
  },
  "language_info": {
   "codemirror_mode": {
    "name": "ipython",
    "version": 3
   },
   "file_extension": ".py",
   "mimetype": "text/x-python",
   "name": "python",
   "nbconvert_exporter": "python",
   "pygments_lexer": "ipython3",
   "version": "3.13.1"
  }
 },
 "nbformat": 4,
 "nbformat_minor": 2
}

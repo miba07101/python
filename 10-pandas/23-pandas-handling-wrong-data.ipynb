{
 "cells": [
  {
   "cell_type": "markdown",
   "metadata": {},
   "source": [
    "# 1) Pandas handling wrong data\n",
    "\n",
    "- ak su zle zadane udaje, napr. vek studenta 100 rokov\n"
   ]
  },
  {
   "cell_type": "markdown",
   "metadata": {},
   "source": [
    "## 1.1) Replace individual values\n"
   ]
  },
  {
   "cell_type": "code",
   "execution_count": null,
   "metadata": {},
   "outputs": [
    {
     "name": "stdout",
     "output_type": "stream",
     "text": [
      "      Name  Age Gender  Standard\n",
      "0     John    8      M         3\n",
      "1  Michael    9      M         4\n",
      "2      Tom    7      M        12\n",
      "3     Alex   80      M         3\n",
      "4     Ryan  100      M         5\n"
     ]
    }
   ],
   "source": [
    "# nahradenie pohlavia \"F\" za \"M\"\n",
    "import pandas as pd\n",
    "\n",
    "# create dataframe\n",
    "data = {\n",
    "    \"Name\": [\"John\", \"Michael\", \"Tom\", \"Alex\", \"Ryan\"],\n",
    "    \"Age\": [8, 9, 7, 80, 100],\n",
    "    \"Gender\": [\"M\", \"M\", \"M\", \"F\", \"M\"],\n",
    "    \"Standard\": [3, 4, 12, 3, 5],\n",
    "}\n",
    "df = pd.DataFrame(data)\n",
    "\n",
    "# replace F with M\n",
    "df.loc[3, \"Gender\"] = \"M\"\n",
    "\n",
    "print(df)"
   ]
  },
  {
   "cell_type": "markdown",
   "metadata": {},
   "source": [
    "## 1.2) Replace values based on a condition\n"
   ]
  },
  {
   "cell_type": "code",
   "execution_count": 2,
   "metadata": {},
   "outputs": [
    {
     "name": "stdout",
     "output_type": "stream",
     "text": [
      "      Name  Age Gender  Standard\n",
      "0     John    8      M         3\n",
      "1  Michael    9      M         4\n",
      "2      Tom    7      M        12\n",
      "3     Alex    8      M         3\n",
      "4     Ryan   10      M         5\n"
     ]
    }
   ],
   "source": [
    "# nahradenie udajov ak vek je viac ako 14 rokov\n",
    "import pandas as pd\n",
    "\n",
    "# create dataframe\n",
    "data = {\n",
    "    \"Name\": [\"John\", \"Michael\", \"Tom\", \"Alex\", \"Ryan\"],\n",
    "    \"Age\": [8, 9, 7, 80, 100],\n",
    "    \"Gender\": [\"M\", \"M\", \"M\", \"M\", \"M\"],\n",
    "    \"Standard\": [3, 4, 12, 3, 5],\n",
    "}\n",
    "df = pd.DataFrame(data)\n",
    "\n",
    "# replace values based on conditions\n",
    "for i in df.index:\n",
    "    age_val = df.loc[i, \"Age\"]\n",
    "    if (age_val > 14) and (age_val % 10 == 0):\n",
    "        df.loc[i, \"Age\"] = age_val / 10\n",
    "\n",
    "print(df)"
   ]
  },
  {
   "cell_type": "markdown",
   "metadata": {},
   "source": [
    "## 1.3) Remove wrong values\n"
   ]
  },
  {
   "cell_type": "code",
   "execution_count": 3,
   "metadata": {},
   "outputs": [
    {
     "name": "stdout",
     "output_type": "stream",
     "text": [
      "      Name  Age Gender  Standard\n",
      "0     John    8      M         3\n",
      "1  Michael    9      M         4\n",
      "3     Alex    8      M         3\n",
      "4     Ryan   10      M         5\n"
     ]
    }
   ],
   "source": [
    "import pandas as pd\n",
    "\n",
    "# create dataframe\n",
    "data = {\n",
    "    \"Name\": [\"John\", \"Michael\", \"Tom\", \"Alex\", \"Ryan\"],\n",
    "    \"Age\": [8, 9, 7, 8, 10],\n",
    "    \"Gender\": [\"M\", \"M\", \"M\", \"M\", \"M\"],\n",
    "    \"Standard\": [3, 4, 12, 3, 5],\n",
    "}\n",
    "df = pd.DataFrame(data)\n",
    "\n",
    "# remove mistaken values\n",
    "for i in df.index:\n",
    "    if df.loc[i, \"Standard\"] > 8:\n",
    "        df.drop(i, inplace=True)\n",
    "\n",
    "print(df)"
   ]
  }
 ],
 "metadata": {
  "kernelspec": {
   "display_name": ".venv",
   "language": "python",
   "name": "python3"
  },
  "language_info": {
   "codemirror_mode": {
    "name": "ipython",
    "version": 3
   },
   "file_extension": ".py",
   "mimetype": "text/x-python",
   "name": "python",
   "nbconvert_exporter": "python",
   "pygments_lexer": "ipython3",
   "version": "3.13.1"
  }
 },
 "nbformat": 4,
 "nbformat_minor": 2
}

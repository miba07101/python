{
 "cells": [
  {
   "cell_type": "markdown",
   "metadata": {},
   "source": [
    "# 1) Pandas read text file\n",
    "\n",
    "- read .txt file (plain text)\n",
    "- **read_fwf()**\n",
    "- **read_table()**\n",
    "- **read_csv()**\n"
   ]
  },
  {
   "cell_type": "markdown",
   "metadata": {},
   "source": [
    "## 1.1) read_fwf()\n",
    "\n",
    "- read **fwf (fixed-width lines file)**\n",
    "\n",
    "- syntax:\n",
    "\n",
    "  ```\n",
    "  pandas.read_fwf(\n",
    "  filepath_or_buffer,\n",
    "  colspecs = [],\n",
    "  widths=None,\n",
    "  infer_nrows=100,\n",
    "  **kwds\n",
    "  )\n",
    "  ```\n",
    "\n",
    "  - **filepath_or_buffer:** specifies the file path or a file-like object from which the data will be read\n",
    "  - **colspecs:** defines the column positions or ranges in the file\n",
    "  - **widths (optional):** an alternative to colspecs and can be used to define the width of each column in the file\n",
    "  - **infer_nrows (optional):** specifies the number of rows to be used for inferring the column widths if widths is not explicitly provided\n",
    "  - \\***\\*kwds (optional):** allows additional keyword arguments to be passed for further customization\n"
   ]
  },
  {
   "cell_type": "code",
   "execution_count": null,
   "metadata": {},
   "outputs": [],
   "source": [
    "import pandas as pd\n",
    "\n",
    "# read the fixed-width file\n",
    "df = pd.read_fwf(\n",
    "    \"data.txt\", colspecs=[(0, 5), (6, 10), (11, 15)], names=[\"Name\", \"Age\", \"Height\"]\n",
    ")\n",
    "\n",
    "print(df)"
   ]
  },
  {
   "cell_type": "markdown",
   "metadata": {},
   "source": [
    "## 1.2) read_table\n",
    "\n",
    "- read tabular data zo suboru alebo URL\n",
    "- syntax:\n",
    "\n",
    "  ```\n",
    "  df = pd.read_table(\n",
    "      filepath_or_buffer,\n",
    "      sep='\\t',\n",
    "      header='infer',\n",
    "      names=None\n",
    "      )\n",
    "  ```\n",
    "\n",
    "  - **filepath_or_buffer:** specifies the path to the file to be read or a URL pointing to the file\n",
    "  - **sep:** specifies the separator or delimiter used in the file to separate columns\n",
    "  - **header:** specifies the row number (0-indexed) to be used as the column names\n",
    "  - **names:** a list of column names for the DataFrame\n"
   ]
  },
  {
   "cell_type": "code",
   "execution_count": null,
   "metadata": {},
   "outputs": [],
   "source": [
    "import pandas as pd\n",
    "\n",
    "# read the file using read_table()\n",
    "df = pd.read_table(\"data.txt\", sep=\"\\s+\", names=[\"Name\", \"Age\", \"Height\"])\n",
    "\n",
    "print(df)"
   ]
  },
  {
   "cell_type": "markdown",
   "metadata": {},
   "source": [
    "## 1.3) read_csv()\n",
    "\n",
    "- read **csv** subory\n",
    "- syntax:\n",
    "\n",
    "  ```\n",
    "  df = pd.read_csv(\n",
    "      filepath_or_buffer,\n",
    "      sep=',',\n",
    "      header=0,\n",
    "      names=['col1', 'col2', 'col3'],\n",
    "      index_col='col1'\n",
    "  )\n",
    "  ```\n",
    "\n",
    "  - **filepath_or_buffer:** represents the path or buffer object containing the CSV data to be read\n",
    "  - **sep(optional):** specifies the delimiter used in the CSV file\n",
    "  - **header(optional):** indicates the row number to be used as the header or column names\n",
    "  - **names(optional):** a list of column names to assign to the DataFrame\n",
    "  - **index_col(optional):** specifies the column to be used as the index of the DataFrame\n"
   ]
  },
  {
   "cell_type": "code",
   "execution_count": null,
   "metadata": {},
   "outputs": [],
   "source": [
    "import pandas as pd\n",
    "\n",
    "# read the file using read_table()\n",
    "df = pd.read_csv(\"data.txt\", sep=\"\\s+\", header=None, names=[\"Name\", \"Age\", \"Height\"])\n",
    "\n",
    "print(df)"
   ]
  }
 ],
 "metadata": {
  "kernelspec": {
   "display_name": ".venv",
   "language": "python",
   "name": "python3"
  },
  "language_info": {
   "name": "python",
   "version": "3.13.1"
  }
 },
 "nbformat": 4,
 "nbformat_minor": 2
}

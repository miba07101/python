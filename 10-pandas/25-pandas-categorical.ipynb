{
 "cells": [
  {
   "cell_type": "markdown",
   "metadata": {},
   "source": [
    "# 1) Pandas categorical\n",
    "\n",
    "- kategoricke data - reprezentuju kategoriu alebo oznacenie namiesto cisel\n"
   ]
  },
  {
   "cell_type": "markdown",
   "metadata": {},
   "source": [
    "## 1.1) Create categorical data type in pandas\n",
    "\n",
    "- **Categorical()** metoda\n"
   ]
  },
  {
   "cell_type": "code",
   "execution_count": 1,
   "metadata": {},
   "outputs": [
    {
     "name": "stdout",
     "output_type": "stream",
     "text": [
      "['red', 'blue', 'green', 'red', 'blue']\n",
      "Categories (3, object): ['blue', 'green', 'red']\n"
     ]
    }
   ],
   "source": [
    "import pandas as pd\n",
    "\n",
    "data = [\"red\", \"blue\", \"green\", \"red\", \"blue\"]\n",
    "\n",
    "# create a categorical column\n",
    "categorical_data = pd.Categorical(data)\n",
    "\n",
    "print(categorical_data)"
   ]
  },
  {
   "cell_type": "markdown",
   "metadata": {},
   "source": [
    "## 1.2) Convert series to categorical series\n"
   ]
  },
  {
   "cell_type": "markdown",
   "metadata": {},
   "source": [
    "### Using the astype() function\n"
   ]
  },
  {
   "cell_type": "code",
   "execution_count": 2,
   "metadata": {},
   "outputs": [
    {
     "name": "stdout",
     "output_type": "stream",
     "text": [
      "0      red\n",
      "1     blue\n",
      "2    green\n",
      "3      red\n",
      "4     blue\n",
      "dtype: category\n",
      "Categories (3, object): ['blue', 'green', 'red']\n"
     ]
    }
   ],
   "source": [
    "import pandas as pd\n",
    "\n",
    "# create a regular Series\n",
    "data = [\"red\", \"blue\", \"green\", \"red\", \"blue\"]\n",
    "series1 = pd.Series(data)\n",
    "\n",
    "# convert the Series to a categorical Series using .astype()\n",
    "categorical_s = series1.astype(\"category\")\n",
    "\n",
    "print(categorical_s)"
   ]
  },
  {
   "cell_type": "markdown",
   "metadata": {},
   "source": [
    "### Using the dtype parameter Inside Series()\n"
   ]
  },
  {
   "cell_type": "code",
   "execution_count": 3,
   "metadata": {},
   "outputs": [
    {
     "name": "stdout",
     "output_type": "stream",
     "text": [
      "0    A\n",
      "1    B\n",
      "2    A\n",
      "3    C\n",
      "4    B\n",
      "dtype: category\n",
      "Categories (3, object): ['A', 'B', 'C']\n"
     ]
    }
   ],
   "source": [
    "import pandas as pd\n",
    "\n",
    "# create a categorical Series\n",
    "data = [\"A\", \"B\", \"A\", \"C\", \"B\"]\n",
    "cat_series = pd.Series(data, dtype=\"category\")\n",
    "\n",
    "print(cat_series)"
   ]
  },
  {
   "cell_type": "markdown",
   "metadata": {},
   "source": [
    "## 1.3) Access categories and codes in pandas\n",
    "\n",
    "- **cat** - accessor na pristup ku kategoriam a kodom\n"
   ]
  },
  {
   "cell_type": "code",
   "execution_count": null,
   "metadata": {},
   "outputs": [
    {
     "name": "stdout",
     "output_type": "stream",
     "text": [
      "Categories:\n",
      "Index(['A', 'B', 'C'], dtype='object')\n",
      "Codes:\n",
      "0    0\n",
      "1    1\n",
      "2    0\n",
      "3    2\n",
      "4    1\n",
      "dtype: int8\n"
     ]
    }
   ],
   "source": [
    "import pandas as pd\n",
    "\n",
    "# create a categorical Series\n",
    "data = [\"A\", \"B\", \"A\", \"C\", \"B\"]\n",
    "cat_series = pd.Series(data, dtype=\"category\")\n",
    "\n",
    "# using .cat accessor\n",
    "print(\"Categories:\")\n",
    "print(cat_series.cat.categories)\n",
    "print(\"Codes:\")\n",
    "print(cat_series.cat.codes)\n",
    "\n",
    "# vysvetlenie\n",
    "# The element at index 0 of cat_series is A, which corresponds to category 0.\n",
    "# The element at index 1 of cat_series is B, which corresponds to category 1.\n",
    "# The element at index 2 of cat_series is A, which again corresponds to category 0.\n",
    "# The element at index 3 of cat_series is C, which corresponds to category 2.\n",
    "# The element at index 4 of cat_series is B, which again corresponds to category 1."
   ]
  },
  {
   "cell_type": "markdown",
   "metadata": {},
   "source": [
    "## 1.4) Rename categories\n",
    "\n",
    "- **cat.rename_categories()** metoda\n"
   ]
  },
  {
   "cell_type": "code",
   "execution_count": 11,
   "metadata": {},
   "outputs": [
    {
     "name": "stdout",
     "output_type": "stream",
     "text": [
      "Original:\n",
      " 0    A\n",
      "1    B\n",
      "2    A\n",
      "3    C\n",
      "4    B\n",
      "dtype: category\n",
      "Categories (3, object): ['A', 'B', 'C']\n",
      "\n",
      "Renamed:\n",
      " 0    Category A\n",
      "1    Category B\n",
      "2    Category A\n",
      "3    Category C\n",
      "4    Category B\n",
      "dtype: category\n",
      "Categories (3, object): ['Category A', 'Category B', 'Category C']\n"
     ]
    }
   ],
   "source": [
    "import pandas as pd\n",
    "\n",
    "# create a categorical Series\n",
    "data = [\"A\", \"B\", \"A\", \"C\", \"B\"]\n",
    "cat_series = pd.Series(data, dtype=\"category\")\n",
    "print(\"Original:\\n\", cat_series)\n",
    "print()\n",
    "\n",
    "# create a dictionary for renaming categories\n",
    "category_mapping = {\"A\": \"Category A\", \"B\": \"Category B\", \"C\": \"Category C\"}\n",
    "\n",
    "# rename categories using .rename_categories() and recreate the Series\n",
    "cat_series_renamed = cat_series.cat.rename_categories(category_mapping)\n",
    "\n",
    "print(\"Renamed:\\n\", cat_series_renamed)"
   ]
  },
  {
   "cell_type": "markdown",
   "metadata": {},
   "source": [
    "## 1.5) Add new categories\n",
    "\n",
    "- **cat.add_categories()** metoda\n"
   ]
  },
  {
   "cell_type": "code",
   "execution_count": 12,
   "metadata": {},
   "outputs": [
    {
     "name": "stdout",
     "output_type": "stream",
     "text": [
      "0    A\n",
      "1    B\n",
      "2    A\n",
      "3    C\n",
      "4    B\n",
      "dtype: category\n",
      "Categories (5, object): ['A', 'B', 'C', 'D', 'E']\n"
     ]
    }
   ],
   "source": [
    "import pandas as pd\n",
    "\n",
    "# create a categorical Series\n",
    "data = [\"A\", \"B\", \"A\", \"C\", \"B\"]\n",
    "cat_series = pd.Series(data, dtype=\"category\")\n",
    "\n",
    "# add new categories and reassign the variable\n",
    "new_categories = [\"D\", \"E\"]\n",
    "cat_series = cat_series.cat.add_categories(new_categories)\n",
    "\n",
    "print(cat_series)"
   ]
  },
  {
   "cell_type": "markdown",
   "metadata": {},
   "source": [
    "## 1.6) Remove categories\n",
    "\n",
    "- **cat.remove_categories()** metoda\n"
   ]
  },
  {
   "cell_type": "code",
   "execution_count": 13,
   "metadata": {},
   "outputs": [
    {
     "name": "stdout",
     "output_type": "stream",
     "text": [
      "Original Series:\n",
      "0    A\n",
      "1    B\n",
      "2    A\n",
      "3    C\n",
      "4    B\n",
      "dtype: category\n",
      "Categories (3, object): ['A', 'B', 'C']\n",
      "\n",
      "Modified Series:\n",
      "0      A\n",
      "1    NaN\n",
      "2      A\n",
      "3    NaN\n",
      "4    NaN\n",
      "dtype: category\n",
      "Categories (1, object): ['A']\n"
     ]
    }
   ],
   "source": [
    "import pandas as pd\n",
    "\n",
    "# create a categorical Series\n",
    "data = [\"A\", \"B\", \"A\", \"C\", \"B\"]\n",
    "cat_series = pd.Series(data, dtype=\"category\")\n",
    "\n",
    "# display the original categorical variable\n",
    "print(\"Original Series:\")\n",
    "print(cat_series)\n",
    "\n",
    "# remove specific categories\n",
    "categories_to_remove = [\"B\", \"C\"]\n",
    "cat_series_removed = cat_series.cat.remove_categories(categories_to_remove)\n",
    "\n",
    "# display the modified categorical variable\n",
    "print(\"\\nModified Series:\")\n",
    "print(cat_series_removed)"
   ]
  },
  {
   "cell_type": "markdown",
   "metadata": {},
   "source": [
    "## 1.7) Check if categorical variable is ordered or not\n",
    "\n",
    "- **ordered** atribut/parameter **cat** accessora\n",
    "- **!Important:**\n",
    "  - Ordering categorical variables in Pandas helps in maintaining a logical sequence for analysis and visualization. Recognizing this order ensures accurate statistical tests, meaningful visual representations, and consistent data interpretation.\n"
   ]
  },
  {
   "cell_type": "code",
   "execution_count": 15,
   "metadata": {},
   "outputs": [
    {
     "name": "stdout",
     "output_type": "stream",
     "text": [
      "Ordered series:\n",
      " ['low', 'medium', 'high', 'low', 'medium']\n",
      "Categories (3, object): ['low' < 'medium' < 'high']\n",
      "\n",
      "Is ordered: True\n"
     ]
    }
   ],
   "source": [
    "import pandas as pd\n",
    "\n",
    "# create an ordered categorical Series\n",
    "data = [\"low\", \"medium\", \"high\", \"low\", \"medium\"]\n",
    "ordered_cat_series = pd.Categorical(\n",
    "    data, categories=[\"low\", \"medium\", \"high\"], ordered=True\n",
    ")\n",
    "\n",
    "print(\"Ordered series:\\n\", ordered_cat_series)\n",
    "print()\n",
    "\n",
    "# check if the categorical variable is ordered\n",
    "is_ordered = ordered_cat_series.ordered\n",
    "\n",
    "print(\"Is ordered:\", is_ordered)"
   ]
  }
 ],
 "metadata": {
  "kernelspec": {
   "display_name": ".venv",
   "language": "python",
   "name": "python3"
  },
  "language_info": {
   "codemirror_mode": {
    "name": "ipython",
    "version": 3
   },
   "file_extension": ".py",
   "mimetype": "text/x-python",
   "name": "python",
   "nbconvert_exporter": "python",
   "pygments_lexer": "ipython3",
   "version": "3.13.1"
  }
 },
 "nbformat": 4,
 "nbformat_minor": 2
}

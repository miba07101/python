{
 "cells": [
  {
   "cell_type": "markdown",
   "metadata": {},
   "source": [
    "# 1) Pandas handling missing values\n",
    "\n",
    "- chybajuce udaje su reprezentovane **NaN (not a number)**\n"
   ]
  },
  {
   "cell_type": "markdown",
   "metadata": {},
   "source": [
    "## 1.1) Remove rows containing missing values\n",
    "\n",
    "- **dropna()**\n"
   ]
  },
  {
   "cell_type": "code",
   "execution_count": 1,
   "metadata": {},
   "outputs": [
    {
     "name": "stdout",
     "output_type": "stream",
     "text": [
      "     A    B    C  D\n",
      "1  2.0  2.0  2.0  2\n",
      "4  5.0  5.0  5.0  5\n"
     ]
    }
   ],
   "source": [
    "import pandas as pd\n",
    "import numpy as np\n",
    "\n",
    "# create a dataframe with missing values\n",
    "data = {\n",
    "    \"A\": [1, 2, np.nan, 4, 5],\n",
    "    \"B\": [np.nan, 2, 3, 4, 5],\n",
    "    \"C\": [1, 2, 3, np.nan, 5],\n",
    "    \"D\": [1, 2, 3, 4, 5],\n",
    "}\n",
    "df = pd.DataFrame(data)\n",
    "\n",
    "# remove rows with missing values\n",
    "df.dropna(inplace=True)\n",
    "\n",
    "print(df)"
   ]
  },
  {
   "cell_type": "markdown",
   "metadata": {},
   "source": [
    "## 1.2) Replace missing values\n",
    "\n",
    "- **fillna()**\n"
   ]
  },
  {
   "cell_type": "code",
   "execution_count": 2,
   "metadata": {},
   "outputs": [
    {
     "name": "stdout",
     "output_type": "stream",
     "text": [
      "     A    B    C  D\n",
      "0  1.0  0.0  1.0  1\n",
      "1  2.0  2.0  2.0  2\n",
      "2  0.0  3.0  3.0  3\n",
      "3  4.0  4.0  0.0  4\n",
      "4  5.0  5.0  5.0  5\n"
     ]
    }
   ],
   "source": [
    "import pandas as pd\n",
    "import numpy as np\n",
    "\n",
    "# create a dataframe with missing values\n",
    "data = {\n",
    "    \"A\": [1, 2, np.nan, 4, 5],\n",
    "    \"B\": [np.nan, 2, 3, 4, 5],\n",
    "    \"C\": [1, 2, 3, np.nan, 5],\n",
    "    \"D\": [1, 2, 3, 4, 5],\n",
    "}\n",
    "df = pd.DataFrame(data)\n",
    "\n",
    "# replace missing values with 0\n",
    "df.fillna(value=0, inplace=True)\n",
    "\n",
    "print(df)"
   ]
  },
  {
   "cell_type": "markdown",
   "metadata": {},
   "source": [
    "## 1.3) Replace missing values with aggregation functions (mean, median, mode)\n"
   ]
  },
  {
   "cell_type": "code",
   "execution_count": 3,
   "metadata": {},
   "outputs": [
    {
     "name": "stdout",
     "output_type": "stream",
     "text": [
      "     A    B    C  D\n",
      "0  1.0  3.5  1.0  1\n",
      "1  2.0  2.0  2.0  2\n",
      "2  3.0  3.0  3.0  3\n",
      "3  4.0  4.0  1.0  4\n",
      "4  5.0  5.0  5.0  5\n"
     ]
    },
    {
     "name": "stderr",
     "output_type": "stream",
     "text": [
      "C:\\Users\\mech\\AppData\\Local\\Temp\\ipykernel_17168\\2461944337.py:14: FutureWarning: A value is trying to be set on a copy of a DataFrame or Series through chained assignment using an inplace method.\n",
      "The behavior will change in pandas 3.0. This inplace method will never work because the intermediate object on which we are setting values always behaves as a copy.\n",
      "\n",
      "For example, when doing 'df[col].method(value, inplace=True)', try using 'df.method({col: value}, inplace=True)' or df[col] = df[col].method(value) instead, to perform the operation inplace on the original object.\n",
      "\n",
      "\n",
      "  df[\"A\"].fillna(value=df[\"A\"].mean(), inplace=True)\n",
      "C:\\Users\\mech\\AppData\\Local\\Temp\\ipykernel_17168\\2461944337.py:17: FutureWarning: A value is trying to be set on a copy of a DataFrame or Series through chained assignment using an inplace method.\n",
      "The behavior will change in pandas 3.0. This inplace method will never work because the intermediate object on which we are setting values always behaves as a copy.\n",
      "\n",
      "For example, when doing 'df[col].method(value, inplace=True)', try using 'df.method({col: value}, inplace=True)' or df[col] = df[col].method(value) instead, to perform the operation inplace on the original object.\n",
      "\n",
      "\n",
      "  df[\"B\"].fillna(value=df[\"B\"].median(), inplace=True)\n",
      "C:\\Users\\mech\\AppData\\Local\\Temp\\ipykernel_17168\\2461944337.py:20: FutureWarning: A value is trying to be set on a copy of a DataFrame or Series through chained assignment using an inplace method.\n",
      "The behavior will change in pandas 3.0. This inplace method will never work because the intermediate object on which we are setting values always behaves as a copy.\n",
      "\n",
      "For example, when doing 'df[col].method(value, inplace=True)', try using 'df.method({col: value}, inplace=True)' or df[col] = df[col].method(value) instead, to perform the operation inplace on the original object.\n",
      "\n",
      "\n",
      "  df[\"C\"].fillna(value=df[\"C\"].mode()[0], inplace=True)\n"
     ]
    }
   ],
   "source": [
    "import pandas as pd\n",
    "import numpy as np\n",
    "\n",
    "# create a dataframe with missing values\n",
    "data = {\n",
    "    \"A\": [1, 2, np.nan, 4, 5],\n",
    "    \"B\": [np.nan, 2, 3, 4, 5],\n",
    "    \"C\": [1, 2, 3, np.nan, 5],\n",
    "    \"D\": [1, 2, 3, 4, 5],\n",
    "}\n",
    "df = pd.DataFrame(data)\n",
    "\n",
    "# replace missing values with mean\n",
    "df[\"A\"].fillna(value=df[\"A\"].mean(), inplace=True)\n",
    "\n",
    "# replace missing values with median\n",
    "df[\"B\"].fillna(value=df[\"B\"].median(), inplace=True)\n",
    "\n",
    "# replace missing values with mode\n",
    "df[\"C\"].fillna(value=df[\"C\"].mode()[0], inplace=True)\n",
    "\n",
    "print(df)"
   ]
  },
  {
   "cell_type": "markdown",
   "metadata": {},
   "source": [
    "## 1.4) Replace values using another dataframe\n",
    "\n",
    "- **fillna()**\n"
   ]
  },
  {
   "cell_type": "code",
   "execution_count": 4,
   "metadata": {},
   "outputs": [
    {
     "name": "stdout",
     "output_type": "stream",
     "text": [
      "      A     B     C  D\n",
      "0   1.0  10.0   1.0  1\n",
      "1   2.0   2.0   2.0  2\n",
      "2  30.0   3.0   3.0  3\n",
      "3   4.0   4.0  40.0  4\n",
      "4   5.0   5.0   5.0  5\n"
     ]
    }
   ],
   "source": [
    "import pandas as pd\n",
    "import numpy as np\n",
    "\n",
    "# create a dataframe with missing values\n",
    "data1 = {\n",
    "    \"A\": [1, 2, np.nan, 4, 5],\n",
    "    \"B\": [np.nan, 2, 3, 4, 5],\n",
    "    \"C\": [1, 2, 3, np.nan, 5],\n",
    "    \"D\": [1, 2, 3, 4, 5],\n",
    "}\n",
    "df1 = pd.DataFrame(data1)\n",
    "\n",
    "# create datframe to fill the missing values with\n",
    "data2 = {\n",
    "    \"A\": [10, 20, 30, 40, 50],\n",
    "    \"B\": [10, 20, 30, 40, 50],\n",
    "    \"C\": [10, 20, 30, 40, 50],\n",
    "    \"D\": [10, 20, 30, 40, 50],\n",
    "}\n",
    "df2 = pd.DataFrame(data2)\n",
    "\n",
    "# replace missing values\n",
    "df1.fillna(df2, inplace=True)\n",
    "\n",
    "print(df1)"
   ]
  },
  {
   "cell_type": "markdown",
   "metadata": {},
   "source": [
    "## 1.5) Remove columns containig only NaN values\n",
    "\n",
    "- **isnull()**\n",
    "- **all()**\n"
   ]
  },
  {
   "cell_type": "code",
   "execution_count": 5,
   "metadata": {},
   "outputs": [
    {
     "name": "stdout",
     "output_type": "stream",
     "text": [
      "   A    B   D\n",
      "0  1  5.0   9\n",
      "1  2  6.0  10\n",
      "2  3  NaN  11\n",
      "3  4  NaN  12\n"
     ]
    }
   ],
   "source": [
    "import pandas as pd\n",
    "import numpy as np\n",
    "\n",
    "# create a DataFrame\n",
    "data = {\n",
    "    \"A\": [1, 2, 3, 4],\n",
    "    \"B\": [5, 6, np.nan, np.nan],\n",
    "    \"C\": [np.nan, np.nan, np.nan, np.nan],\n",
    "    \"D\": [9, 10, 11, 12],\n",
    "}\n",
    "df = pd.DataFrame(data)\n",
    "\n",
    "# check which columns contain only NaN values\n",
    "columns_with_nan = df.columns[df.isnull().all()]\n",
    "\n",
    "# drop the columns containing only NaN values\n",
    "df = df.drop(columns=columns_with_nan)\n",
    "\n",
    "print(df)"
   ]
  },
  {
   "cell_type": "markdown",
   "metadata": {},
   "source": [
    "## 1.6) Remove columns containing NaN values that exceed a certain number\n"
   ]
  },
  {
   "cell_type": "code",
   "execution_count": 6,
   "metadata": {},
   "outputs": [
    {
     "name": "stdout",
     "output_type": "stream",
     "text": [
      "     A    B   D\n",
      "0  1.0  5.0   9\n",
      "1  2.0  6.0  10\n",
      "2  3.0  NaN  11\n",
      "3  NaN  NaN  12\n"
     ]
    }
   ],
   "source": [
    "import pandas as pd\n",
    "import numpy as np\n",
    "\n",
    "# create a DataFrame\n",
    "data = {\n",
    "    \"A\": [1, 2, 3, np.nan],\n",
    "    \"B\": [5, 6, np.nan, np.nan],\n",
    "    \"C\": [np.nan, np.nan, np.nan, 7],\n",
    "    \"D\": [9, 10, 11, 12],\n",
    "}\n",
    "df = pd.DataFrame(data)\n",
    "\n",
    "# set the threshold for the maximum number of NaN values allowed\n",
    "threshold = 2\n",
    "\n",
    "# calculate the number of NaN values in each column\n",
    "nan_counts = df.isnull().sum()\n",
    "\n",
    "# remove columns that have more NaN values than the threshold\n",
    "columns_to_drop = nan_counts[nan_counts > threshold].index\n",
    "df = df.drop(columns=columns_to_drop)\n",
    "\n",
    "print(df)"
   ]
  }
 ],
 "metadata": {
  "kernelspec": {
   "display_name": ".venv",
   "language": "python",
   "name": "python3"
  },
  "language_info": {
   "codemirror_mode": {
    "name": "ipython",
    "version": 3
   },
   "file_extension": ".py",
   "mimetype": "text/x-python",
   "name": "python",
   "nbconvert_exporter": "python",
   "pygments_lexer": "ipython3",
   "version": "3.13.1"
  }
 },
 "nbformat": 4,
 "nbformat_minor": 2
}

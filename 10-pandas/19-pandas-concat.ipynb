{
 "cells": [
  {
   "cell_type": "markdown",
   "metadata": {},
   "source": [
    "# 1) Pandas concatenation\n",
    "\n",
    "- prida jeden dataframe k druhemu pozdlz osi (vertikalnej alebo horizontalnej)\n",
    "- podobne **SQL UNION ALL** operacii\n",
    "- syntax\n",
    "  ```\n",
    "  pd.concat(objs, axis=0, join='outer', ignore_index=False, keys=None, levels=None, names=None, verify_integrity=False, sort=False, copy=True)\n",
    "  ```\n",
    "  - **objs:** sequence of Series or DataFrame objects\n",
    "  - **axis (optional):** the axis to concatenate along\n",
    "  - **join (optional):** the type of join to perform\n",
    "  - **ignore_index (optional):** if True, it will not use the index values on the concatenation axis and will result in a default integer index\n",
    "  - **keys (optional):** used to construct hierarchical index using the passed keys as the outermost level\n",
    "  - **verify_integrity (optional):** If True, it checks whether the new concatenated axis contains duplicates and raises ValueError if duplicates are found\n",
    "  - **sort (optional):** sorts the non-concatenation axis if it is not already aligned\n"
   ]
  },
  {
   "cell_type": "code",
   "execution_count": 1,
   "metadata": {},
   "outputs": [
    {
     "name": "stdout",
     "output_type": "stream",
     "text": [
      "    A   B\n",
      "0  A0  B0\n",
      "1  A1  B1\n",
      "2  A2  B2\n",
      "3  A3  B3\n"
     ]
    }
   ],
   "source": [
    "import pandas as pd\n",
    "\n",
    "# create dataframes\n",
    "df1 = pd.DataFrame({\"A\": [\"A0\", \"A1\"], \"B\": [\"B0\", \"B1\"]}, index=[0, 1])\n",
    "\n",
    "df2 = pd.DataFrame({\"A\": [\"A2\", \"A3\"], \"B\": [\"B2\", \"B3\"]}, index=[2, 3])\n",
    "\n",
    "# concatenate two dataframes\n",
    "result = pd.concat([df1, df2])\n",
    "\n",
    "print(result)"
   ]
  },
  {
   "cell_type": "markdown",
   "metadata": {},
   "source": [
    "## 1.1) concat() with arguments\n",
    "\n",
    "- pr. s **ignore_index** a **sort**\n"
   ]
  },
  {
   "cell_type": "code",
   "execution_count": 2,
   "metadata": {},
   "outputs": [
    {
     "name": "stdout",
     "output_type": "stream",
     "text": [
      "ignore_index = True\n",
      "       Name  Age      City\n",
      "0     John   25  New York\n",
      "1    Alice   30     Paris\n",
      "2      Bob   35    London\n",
      "3    Emily   28    Berlin\n",
      "4  Michael   32     Tokyo\n",
      "5   Sophia   27    Sydney\n",
      "6     Rita   22     Delhi\n",
      "\n",
      "sort = True\n",
      "    Age      City     Name\n",
      "0   25  New York     John\n",
      "1   30     Paris    Alice\n",
      "2   35    London      Bob\n",
      "0   28    Berlin    Emily\n",
      "1   32     Tokyo  Michael\n",
      "2   27    Sydney   Sophia\n",
      "3   22     Delhi     Rita\n"
     ]
    }
   ],
   "source": [
    "import pandas as pd\n",
    "\n",
    "# create dataframes\n",
    "df1 = pd.DataFrame(\n",
    "    {\n",
    "        \"Name\": [\"John\", \"Alice\", \"Bob\"],\n",
    "        \"Age\": [25, 30, 35],\n",
    "        \"City\": [\"New York\", \"Paris\", \"London\"],\n",
    "    }\n",
    ")\n",
    "\n",
    "df2 = pd.DataFrame(\n",
    "    {\n",
    "        \"Name\": [\"Emily\", \"Michael\", \"Sophia\", \"Rita\"],\n",
    "        \"Age\": [28, 32, 27, 22],\n",
    "        \"City\": [\"Berlin\", \"Tokyo\", \"Sydney\", \"Delhi\"],\n",
    "    }\n",
    ")\n",
    "\n",
    "# concatenate dataframes while ignoring index\n",
    "result_ignore_index = pd.concat([df1, df2], ignore_index=True)\n",
    "\n",
    "# concatenate dataframes and sort the result\n",
    "result_sort = pd.concat([df1, df2], sort=True)\n",
    "\n",
    "# display the concatenated results\n",
    "print(\"ignore_index = True\\n\", result_ignore_index)\n",
    "print(\"\\nsort = True\\n\", result_sort)"
   ]
  },
  {
   "cell_type": "markdown",
   "metadata": {},
   "source": [
    "## 1.2) concat() along axis 1 (horizontalna os)\n",
    "\n",
    "- spojenie pozdlz stlpcov\n"
   ]
  },
  {
   "cell_type": "code",
   "execution_count": 3,
   "metadata": {},
   "outputs": [
    {
     "name": "stdout",
     "output_type": "stream",
     "text": [
      "    Name   Age      City     Name  Age    City\n",
      "0   John  25.0  New York    Emily   28  Berlin\n",
      "1  Alice  30.0     Paris  Michael   32   Tokyo\n",
      "2    Bob  35.0    London   Sophia   27  Sydney\n",
      "3    NaN   NaN       NaN     Rita   22   Delhi\n"
     ]
    }
   ],
   "source": [
    "import pandas as pd\n",
    "\n",
    "# create dataframes\n",
    "df1 = pd.DataFrame(\n",
    "    {\n",
    "        \"Name\": [\"John\", \"Alice\", \"Bob\"],\n",
    "        \"Age\": [25, 30, 35],\n",
    "        \"City\": [\"New York\", \"Paris\", \"London\"],\n",
    "    }\n",
    ")\n",
    "\n",
    "df2 = pd.DataFrame(\n",
    "    {\n",
    "        \"Name\": [\"Emily\", \"Michael\", \"Sophia\", \"Rita\"],\n",
    "        \"Age\": [28, 32, 27, 22],\n",
    "        \"City\": [\"Berlin\", \"Tokyo\", \"Sydney\", \"Delhi\"],\n",
    "    }\n",
    ")\n",
    "\n",
    "# concatenate dataframes along axis 1\n",
    "result = pd.concat([df1, df2], axis=1)\n",
    "\n",
    "print(result)"
   ]
  },
  {
   "cell_type": "markdown",
   "metadata": {},
   "source": [
    "## 1.3) Inner vs Outer join\n",
    "\n",
    "- **inner join:** vrati dataframe, ktory obsahuje iba riadky so spolocnymi hodnotami. **Nie je default.**\n",
    "- **outre join:** vrati dataframe, ktory obsahuje vsetky riadky, prazdne hodnoty vyplni Nan. **Je default**\n"
   ]
  },
  {
   "cell_type": "code",
   "execution_count": 4,
   "metadata": {},
   "outputs": [
    {
     "name": "stdout",
     "output_type": "stream",
     "text": [
      "Outer Join\n",
      "     Name   Age      City     Name  Age    City\n",
      "0   John  25.0  New York    Emily   28  Berlin\n",
      "1  Alice  30.0     Paris  Michael   32   Tokyo\n",
      "2    Bob  35.0    London   Sophia   27  Sydney\n",
      "3    NaN   NaN       NaN     Rita   22   Delhi\n",
      "\n",
      "Inner Join\n",
      "     Name  Age      City     Name  Age    City\n",
      "0   John   25  New York    Emily   28  Berlin\n",
      "1  Alice   30     Paris  Michael   32   Tokyo\n",
      "2    Bob   35    London   Sophia   27  Sydney\n"
     ]
    }
   ],
   "source": [
    "import pandas as pd\n",
    "\n",
    "# create dataframes\n",
    "df1 = pd.DataFrame(\n",
    "    {\n",
    "        \"Name\": [\"John\", \"Alice\", \"Bob\"],\n",
    "        \"Age\": [25, 30, 35],\n",
    "        \"City\": [\"New York\", \"Paris\", \"London\"],\n",
    "    }\n",
    ")\n",
    "\n",
    "df2 = pd.DataFrame(\n",
    "    {\n",
    "        \"Name\": [\"Emily\", \"Michael\", \"Sophia\", \"Rita\"],\n",
    "        \"Age\": [28, 32, 27, 22],\n",
    "        \"City\": [\"Berlin\", \"Tokyo\", \"Sydney\", \"Delhi\"],\n",
    "    }\n",
    ")\n",
    "\n",
    "\n",
    "# concatenate dataframes with outer join\n",
    "result_outer = pd.concat([df1, df2], axis=1)\n",
    "\n",
    "# concatenate dataframes with inner join\n",
    "result_inner = pd.concat([df1, df2], axis=1, join=\"inner\")\n",
    "\n",
    "# display the concatenated results\n",
    "print(\"Outer Join\\n\", result_outer)\n",
    "print(\"\\nInner Join\\n\", result_inner)"
   ]
  },
  {
   "cell_type": "markdown",
   "metadata": {},
   "source": [
    "## 1.4) concat() with keys\n",
    "\n",
    "- **key** parameter pouzivame ak chceme pridat extra info do vysledneho dataframu\n",
    "- vytvori sa hierarchicky dataframe\n"
   ]
  },
  {
   "cell_type": "code",
   "execution_count": 5,
   "metadata": {},
   "outputs": [
    {
     "name": "stdout",
     "output_type": "stream",
     "text": [
      "               Name  Age      City\n",
      "from_df1 0     John   25  New York\n",
      "         1    Alice   30     Paris\n",
      "         2      Bob   35    London\n",
      "from_df2 0    Emily   28    Berlin\n",
      "         1  Michael   32     Tokyo\n",
      "         2   Sophia   27    Sydney\n",
      "         3     Rita   22     Delhi\n"
     ]
    }
   ],
   "source": [
    "import pandas as pd\n",
    "\n",
    "# create dataframes\n",
    "df1 = pd.DataFrame(\n",
    "    {\n",
    "        \"Name\": [\"John\", \"Alice\", \"Bob\"],\n",
    "        \"Age\": [25, 30, 35],\n",
    "        \"City\": [\"New York\", \"Paris\", \"London\"],\n",
    "    }\n",
    ")\n",
    "\n",
    "df2 = pd.DataFrame(\n",
    "    {\n",
    "        \"Name\": [\"Emily\", \"Michael\", \"Sophia\", \"Rita\"],\n",
    "        \"Age\": [28, 32, 27, 22],\n",
    "        \"City\": [\"Berlin\", \"Tokyo\", \"Sydney\", \"Delhi\"],\n",
    "    }\n",
    ")\n",
    "\n",
    "\n",
    "# concatenate dataframes while ignoring index\n",
    "result = pd.concat([df1, df2], keys=[\"from_df1\", \"from_df2\"])\n",
    "\n",
    "print(result)"
   ]
  }
 ],
 "metadata": {
  "kernelspec": {
   "display_name": ".venv",
   "language": "python",
   "name": "python3"
  },
  "language_info": {
   "codemirror_mode": {
    "name": "ipython",
    "version": 3
   },
   "file_extension": ".py",
   "mimetype": "text/x-python",
   "name": "python",
   "nbconvert_exporter": "python",
   "pygments_lexer": "ipython3",
   "version": "3.13.1"
  }
 },
 "nbformat": 4,
 "nbformat_minor": 2
}

{
 "cells": [
  {
   "cell_type": "markdown",
   "metadata": {},
   "source": [
    "# 1) Pandas handling duplicate values\n"
   ]
  },
  {
   "cell_type": "markdown",
   "metadata": {},
   "source": [
    "## 1.1) Find duplicate entries\n",
    "\n",
    "- **duplicated()** metoda, vracia True alebo False\n"
   ]
  },
  {
   "cell_type": "code",
   "execution_count": null,
   "metadata": {},
   "outputs": [
    {
     "name": "stdout",
     "output_type": "stream",
     "text": [
      "Original df:\n",
      "    Name  Age         City\n",
      "0  John   28     New York\n",
      "1  Anna   24  Los Angeles\n",
      "2  John   28     New York\n",
      "3  Anna   24  Los Angeles\n",
      "4  John   19      Chicago\n",
      "\n",
      "Duplicatetd rows:\n",
      " 0    False\n",
      "1    False\n",
      "2     True\n",
      "3     True\n",
      "4    False\n",
      "dtype: bool\n"
     ]
    }
   ],
   "source": [
    "import pandas as pd\n",
    "\n",
    "# create dataframe\n",
    "data = {\n",
    "    \"Name\": [\"John\", \"Anna\", \"John\", \"Anna\", \"John\"],\n",
    "    \"Age\": [28, 24, 28, 24, 19],\n",
    "    \"City\": [\"New York\", \"Los Angeles\", \"New York\", \"Los Angeles\", \"Chicago\"],\n",
    "}\n",
    "df = pd.DataFrame(data)\n",
    "print(\"Original df:\\n\", df)\n",
    "\n",
    "# check for duplicate entries\n",
    "print(\"\\nDuplicatetd rows:\\n\", df.duplicated())\n"
   ]
  },
  {
   "cell_type": "markdown",
   "metadata": {},
   "source": [
    "## 1.2) Find duplicates based on columns\n",
    "\n",
    "- do metody **duplicate()** vlozime zoznam stlpcov\n"
   ]
  },
  {
   "cell_type": "code",
   "execution_count": null,
   "metadata": {},
   "outputs": [
    {
     "name": "stdout",
     "output_type": "stream",
     "text": [
      "Original df:\n",
      "      Name  Age         City\n",
      "0    John   28     New York\n",
      "1    Anna   24    Las Vegas\n",
      "2  Johnny   28     New York\n",
      "3    Anna   24  Los Angeles\n",
      "4    John   19      Chicago\n",
      "\n",
      "Duplicated:\n",
      " 0    False\n",
      "1    False\n",
      "2    False\n",
      "3     True\n",
      "4    False\n",
      "dtype: bool\n"
     ]
    }
   ],
   "source": [
    "import pandas as pd\n",
    "\n",
    "# create dataframe\n",
    "data = {\n",
    "    \"Name\": [\"John\", \"Anna\", \"Johnny\", \"Anna\", \"John\"],\n",
    "    \"Age\": [28, 24, 28, 24, 19],\n",
    "    \"City\": [\"New York\", \"Las Vegas\", \"New York\", \"Los Angeles\", \"Chicago\"],\n",
    "}\n",
    "df = pd.DataFrame(data)\n",
    "print(\"Original df:\\n\", df)\n",
    "\n",
    "# check for duplicate entries in columns Name and Age\n",
    "print(\"\\nDuplicated:\\n\", df.duplicated(subset=[\"Name\", \"Age\"]))"
   ]
  },
  {
   "cell_type": "markdown",
   "metadata": {},
   "source": [
    "## 1.3) remove duplicate entries\n",
    "\n",
    "- **drop_duplicates()** metoda\n",
    "  - ponecha prve zaznamy, ak chcem nechat posledne zaznamy, tak do metody vlozime argument `keep='last'`\n"
   ]
  },
  {
   "cell_type": "code",
   "execution_count": null,
   "metadata": {},
   "outputs": [
    {
     "name": "stdout",
     "output_type": "stream",
     "text": [
      "Original df:\n",
      "    Name  Age         City\n",
      "0  John   28     New York\n",
      "1  Anna   24  Los Angeles\n",
      "2  John   28     New York\n",
      "3  Anna   24  Los Angeles\n",
      "4  John   19      Chicago\n",
      "\n",
      "Removed duplicates:\n",
      "    Name  Age         City\n",
      "0  John   28     New York\n",
      "1  Anna   24  Los Angeles\n",
      "4  John   19      Chicago\n"
     ]
    }
   ],
   "source": [
    "import pandas as pd\n",
    "\n",
    "# create dataframe\n",
    "data = {\n",
    "    \"Name\": [\"John\", \"Anna\", \"John\", \"Anna\", \"John\"],\n",
    "    \"Age\": [28, 24, 28, 24, 19],\n",
    "    \"City\": [\"New York\", \"Los Angeles\", \"New York\", \"Los Angeles\", \"Chicago\"],\n",
    "}\n",
    "df = pd.DataFrame(data)\n",
    "print(\"Original df:\\n\", df)\n",
    "\n",
    "# remove duplicates\n",
    "# keep='last' ponecha posledne zaznamy\n",
    "# df.drop_duplicates(keep='last',inplace=True)\n",
    "df.drop_duplicates(inplace=True)\n",
    "\n",
    "print(\"\\nRemoved duplicates:\\n\", df)"
   ]
  }
 ],
 "metadata": {
  "kernelspec": {
   "display_name": ".venv",
   "language": "python",
   "name": "python3"
  },
  "language_info": {
   "codemirror_mode": {
    "name": "ipython",
    "version": 3
   },
   "file_extension": ".py",
   "mimetype": "text/x-python",
   "name": "python",
   "nbconvert_exporter": "python",
   "pygments_lexer": "ipython3",
   "version": "3.13.1"
  }
 },
 "nbformat": 4,
 "nbformat_minor": 2
}

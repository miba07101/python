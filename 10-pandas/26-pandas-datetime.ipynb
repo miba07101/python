{
 "cells": [
  {
   "cell_type": "markdown",
   "metadata": {},
   "source": [
    "# 1) Pandas datetime\n",
    "\n",
    "- **DateTime** - je datovy typ, ktory predstavuje jeden casovy bod\n",
    "- je uzitocny ak pracujeme s casovymi datami, ako napr. cenny akcii (stock prices), pocasie, ekonomicke ukazovatele, atd.\n",
    "- **to_datetime()** f-cia na konverziu stringu na DateTime objekt\n"
   ]
  },
  {
   "cell_type": "code",
   "execution_count": 1,
   "metadata": {},
   "outputs": [
    {
     "name": "stdout",
     "output_type": "stream",
     "text": [
      "String: 2001-12-24 12:38\n",
      "DateTime: 2001-12-24 12:38:00\n",
      "<class 'pandas._libs.tslibs.timestamps.Timestamp'>\n"
     ]
    }
   ],
   "source": [
    "import pandas as pd\n",
    "\n",
    "# create a datetime string\n",
    "date_string = \"2001-12-24 12:38\"\n",
    "\n",
    "print(\"String:\", date_string)\n",
    "\n",
    "# convert string to datetime\n",
    "date = pd.to_datetime(date_string)\n",
    "\n",
    "print(\"DateTime:\", date)\n",
    "print(type(date))"
   ]
  },
  {
   "cell_type": "markdown",
   "metadata": {},
   "source": [
    "## 1.1) Convert string to datetime\n",
    "\n",
    "- **to_datetime()**\n"
   ]
  },
  {
   "cell_type": "code",
   "execution_count": 2,
   "metadata": {},
   "outputs": [
    {
     "name": "stdout",
     "output_type": "stream",
     "text": [
      "        date\n",
      "0 2021-01-13\n",
      "1 2022-10-22\n",
      "2 2023-12-03\n"
     ]
    }
   ],
   "source": [
    "import pandas as pd\n",
    "\n",
    "# create a dataframe with date strings\n",
    "df = pd.DataFrame({\"date\": [\"2021-01-13\", \"2022-10-22\", \"2023-12-03\"]})\n",
    "\n",
    "# convert the 'date' column to datetime\n",
    "df[\"date\"] = pd.to_datetime(df[\"date\"])\n",
    "\n",
    "print(df)"
   ]
  },
  {
   "cell_type": "markdown",
   "metadata": {},
   "source": [
    "## 1.2) to_datetime() with day first format\n"
   ]
  },
  {
   "cell_type": "code",
   "execution_count": 3,
   "metadata": {},
   "outputs": [
    {
     "name": "stdout",
     "output_type": "stream",
     "text": [
      "        date\n",
      "0 2021-02-13\n",
      "1 2022-03-22\n",
      "2 2023-04-30\n"
     ]
    }
   ],
   "source": [
    "import pandas as pd\n",
    "\n",
    "# create a dataframe with date strings in day-first format\n",
    "df = pd.DataFrame({\"date\": [\"13-02-2021\", \"22-03-2022\", \"30-04-2023\"]})\n",
    "\n",
    "# convert the 'date' column to datetime with day-first format\n",
    "df[\"date\"] = pd.to_datetime(df[\"date\"], dayfirst=True)\n",
    "\n",
    "print(df)"
   ]
  },
  {
   "cell_type": "markdown",
   "metadata": {},
   "source": [
    "## 1.3) to_datetime() with custom format\n"
   ]
  },
  {
   "cell_type": "code",
   "execution_count": 4,
   "metadata": {},
   "outputs": [
    {
     "name": "stdout",
     "output_type": "stream",
     "text": [
      "        date\n",
      "0 2021-01-22\n",
      "1 2022-01-13\n",
      "2 2023-03-30\n"
     ]
    }
   ],
   "source": [
    "import pandas as pd\n",
    "\n",
    "# create a dataframe with date strings in custom format\n",
    "df = pd.DataFrame({\"date\": [\"2021/22/01\", \"2022/13/01\", \"2023/30/03\"]})\n",
    "\n",
    "# convert the 'date' column to datetime with custom format\n",
    "df[\"date\"] = pd.to_datetime(df[\"date\"], format=\"%Y/%d/%m\")\n",
    "\n",
    "print(df)"
   ]
  },
  {
   "cell_type": "markdown",
   "metadata": {},
   "source": [
    "## 1.4) Get DateTime from multiple columns\n"
   ]
  },
  {
   "cell_type": "code",
   "execution_count": 5,
   "metadata": {},
   "outputs": [
    {
     "name": "stdout",
     "output_type": "stream",
     "text": [
      "   year  month  day  hour  minute  second            datetime\n",
      "0  2021      1    1    10      30       0 2021-01-01 10:30:00\n",
      "1  2022      2    2    11      45       0 2022-02-02 11:45:00\n",
      "2  2023      3    3    12       0       0 2023-03-03 12:00:00\n"
     ]
    }
   ],
   "source": [
    "import pandas as pd\n",
    "\n",
    "# create a dataframe with separate date and time columns\n",
    "df = pd.DataFrame(\n",
    "    {\n",
    "        \"year\": [2021, 2022, 2023],\n",
    "        \"month\": [1, 2, 3],\n",
    "        \"day\": [1, 2, 3],\n",
    "        \"hour\": [10, 11, 12],\n",
    "        \"minute\": [30, 45, 0],\n",
    "        \"second\": [0, 0, 0],\n",
    "    }\n",
    ")\n",
    "\n",
    "# combine date and time columns to create a datetime column\n",
    "df[\"datetime\"] = pd.to_datetime(\n",
    "    df[[\"year\", \"month\", \"day\", \"hour\", \"minute\", \"second\"]]\n",
    ")\n",
    "\n",
    "print(df)"
   ]
  },
  {
   "cell_type": "markdown",
   "metadata": {},
   "source": [
    "## 1.5) Get year, month and day from DateTime\n",
    "\n",
    "- atributy:\n",
    "  - dt.year\n",
    "  - dt.month\n",
    "  - dt.day\n"
   ]
  },
  {
   "cell_type": "code",
   "execution_count": 6,
   "metadata": {},
   "outputs": [
    {
     "name": "stdout",
     "output_type": "stream",
     "text": [
      "    datetime  year  month  day\n",
      "0 2021-01-01  2021      1    1\n",
      "1 2022-02-02  2022      2    2\n",
      "2 2023-03-03  2023      3    3\n"
     ]
    }
   ],
   "source": [
    "import pandas as pd\n",
    "\n",
    "# create a dataframe with a datetime column\n",
    "df = pd.DataFrame({\"datetime\": [\"2021-01-01\", \"2022-02-02\", \"2023-03-03\"]})\n",
    "\n",
    "# convert the 'datetime' column to datetime type\n",
    "df[\"datetime\"] = pd.to_datetime(df[\"datetime\"])\n",
    "\n",
    "# extract year, month, and day into separate columns\n",
    "df[\"year\"] = df[\"datetime\"].dt.year\n",
    "df[\"month\"] = df[\"datetime\"].dt.month\n",
    "df[\"day\"] = df[\"datetime\"].dt.day\n",
    "\n",
    "print(df)"
   ]
  },
  {
   "cell_type": "markdown",
   "metadata": {},
   "source": [
    "## 1.6) get day of week, week of year and leap year\n",
    "\n",
    "- **dt.day_name():** returns the day of the week\n",
    "- **dt.isocalender().week:** returns the week of the year\n",
    "- **dt.is_leap_year:** checks if the DateTime is a leap year\n"
   ]
  },
  {
   "cell_type": "code",
   "execution_count": 7,
   "metadata": {},
   "outputs": [
    {
     "name": "stdout",
     "output_type": "stream",
     "text": [
      "    datetime day_of_week  week_of_year  leap_year\n",
      "0 2021-01-01      Friday            53      False\n",
      "1 2024-02-02      Friday             5       True\n",
      "2 2023-03-03      Friday             9      False\n"
     ]
    }
   ],
   "source": [
    "import pandas as pd\n",
    "\n",
    "# create a dataframe with a datetime column\n",
    "df = pd.DataFrame({\"datetime\": [\"2021-01-01\", \"2024-02-02\", \"2023-03-03\"]})\n",
    "\n",
    "# convert the 'datetime' column to datetime type\n",
    "df[\"datetime\"] = pd.to_datetime(df[\"datetime\"])\n",
    "\n",
    "# get the day of the week\n",
    "df[\"day_of_week\"] = df[\"datetime\"].dt.day_name()\n",
    "\n",
    "# get the week of the year\n",
    "df[\"week_of_year\"] = df[\"datetime\"].dt.isocalendar().week\n",
    "\n",
    "# check for leap year\n",
    "df[\"leap_year\"] = df[\"datetime\"].dt.is_leap_year\n",
    "\n",
    "print(df)"
   ]
  },
  {
   "cell_type": "markdown",
   "metadata": {},
   "source": [
    "## 1.7) DateTime index\n",
    "\n",
    "- pouzitie datetime hodnot ako index\n"
   ]
  },
  {
   "cell_type": "code",
   "execution_count": 8,
   "metadata": {},
   "outputs": [
    {
     "name": "stdout",
     "output_type": "stream",
     "text": [
      "            values\n",
      "2021-01-01      10\n",
      "2021-01-02      20\n",
      "2021-01-03      30\n",
      "2021-01-04      40\n",
      "2021-01-05      50\n"
     ]
    }
   ],
   "source": [
    "import pandas as pd\n",
    "\n",
    "# create a list of datetime values\n",
    "dates = [\"2021-01-01\", \"2021-01-02\", \"2021-01-03\", \"2021-01-04\", \"2021-01-05\"]\n",
    "\n",
    "# create a DataFrame with a DateTimeIndex\n",
    "df = pd.DataFrame({\"values\": [10, 20, 30, 40, 50]}, index=pd.to_datetime(dates))\n",
    "\n",
    "print(df)"
   ]
  }
 ],
 "metadata": {
  "kernelspec": {
   "display_name": ".venv",
   "language": "python",
   "name": "python3"
  },
  "language_info": {
   "codemirror_mode": {
    "name": "ipython",
    "version": 3
   },
   "file_extension": ".py",
   "mimetype": "text/x-python",
   "name": "python",
   "nbconvert_exporter": "python",
   "pygments_lexer": "ipython3",
   "version": "3.13.1"
  }
 },
 "nbformat": 4,
 "nbformat_minor": 2
}

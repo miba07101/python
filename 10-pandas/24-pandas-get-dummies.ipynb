{
 "cells": [
  {
   "cell_type": "markdown",
   "metadata": {},
   "source": [
    "# 1) Pandas get dummies\n",
    "\n",
    "- **dummy variable** - ciselna reprezentacia na kategorickych udajov.\n",
    "- su reprezentovane binarnymi cislami **0** a **1**\n",
    "- **1, True** - znamena existenciu specifickej kategorie\n",
    "- **0 , False** - znamena ze dana kategoria neexistuje\n",
    "- **get_dummies()** - f-cia na transformaciu kategorickych premennych na binarne udaje\n"
   ]
  },
  {
   "cell_type": "markdown",
   "metadata": {},
   "source": [
    "## 1.1) Using get_dummies() on pandas Series\n"
   ]
  },
  {
   "cell_type": "code",
   "execution_count": 2,
   "metadata": {},
   "outputs": [
    {
     "name": "stdout",
     "output_type": "stream",
     "text": [
      "       A      B      C\n",
      "0   True  False  False\n",
      "1  False   True  False\n",
      "2   True  False  False\n",
      "3  False  False   True\n",
      "4  False   True  False\n"
     ]
    }
   ],
   "source": [
    "import pandas as pd\n",
    "\n",
    "# create a Panda Series\n",
    "data = pd.Series([\"A\", \"B\", \"A\", \"C\", \"B\"])\n",
    "\n",
    "# using get_dummies on the Series\n",
    "dummies = pd.get_dummies(data)\n",
    "\n",
    "print(dummies)"
   ]
  },
  {
   "cell_type": "markdown",
   "metadata": {},
   "source": [
    "## 1.2) Use get_dummies() on a DataFrame column\n"
   ]
  },
  {
   "cell_type": "code",
   "execution_count": 3,
   "metadata": {},
   "outputs": [
    {
     "name": "stdout",
     "output_type": "stream",
     "text": [
      "   Color   Blue  Green    Red\n",
      "0    Red  False  False   True\n",
      "1  Green  False   True  False\n",
      "2   Blue   True  False  False\n",
      "3  Green  False   True  False\n",
      "4    Red  False  False   True\n"
     ]
    }
   ],
   "source": [
    "import pandas as pd\n",
    "\n",
    "# sample data\n",
    "data = {\"Color\": [\"Red\", \"Green\", \"Blue\", \"Green\", \"Red\"]}\n",
    "\n",
    "# creating a DataFrame\n",
    "df = pd.DataFrame(data)\n",
    "\n",
    "# using get_dummies to convert the categorical column\n",
    "dummies = pd.get_dummies(df[\"Color\"])\n",
    "\n",
    "# concatenating the dummies DataFrame with the original DataFrame\n",
    "df = pd.concat([df, dummies], axis=1)\n",
    "\n",
    "print(df)"
   ]
  },
  {
   "cell_type": "markdown",
   "metadata": {},
   "source": [
    "## 1.3) Use of drop_first inside get_dummies()\n"
   ]
  },
  {
   "cell_type": "code",
   "execution_count": 4,
   "metadata": {},
   "outputs": [
    {
     "name": "stdout",
     "output_type": "stream",
     "text": [
      "DataFrame with all dummy columns:\n",
      "   Color   Blue  Green    Red\n",
      "0    Red  False  False   True\n",
      "1  Green  False   True  False\n",
      "2   Blue   True  False  False\n",
      "3  Green  False   True  False\n",
      "4    Red  False  False   True\n",
      "\n",
      "\n",
      "DataFrame after dropping 'Blue':\n",
      "   Color  Green    Red\n",
      "0    Red  False   True\n",
      "1  Green   True  False\n",
      "2   Blue  False  False\n",
      "3  Green   True  False\n",
      "4    Red  False   True\n"
     ]
    }
   ],
   "source": [
    "import pandas as pd\n",
    "\n",
    "# sample data\n",
    "data = {\"Color\": [\"Red\", \"Green\", \"Blue\", \"Green\", \"Red\"]}\n",
    "\n",
    "# creating a DataFrame\n",
    "df = pd.DataFrame(data)\n",
    "\n",
    "# getting dummies without dropping any columns\n",
    "dummies_all = pd.get_dummies(df[\"Color\"])\n",
    "\n",
    "# concatenating the dummies DataFrame with the original DataFrame\n",
    "df_all = pd.concat([df, dummies_all], axis=1)\n",
    "\n",
    "print(\"DataFrame with all dummy columns:\")\n",
    "print(df_all)\n",
    "print(\"\\n\")\n",
    "\n",
    "# getting dummies and dropping the first category column ('Blue' in this case)\n",
    "dummies = pd.get_dummies(df[\"Color\"], drop_first=True)\n",
    "\n",
    "# concatenating the dummies DataFrame with the original DataFrame\n",
    "df = pd.concat([df, dummies], axis=1)\n",
    "\n",
    "print(\"DataFrame after dropping 'Blue':\")\n",
    "print(df)"
   ]
  },
  {
   "cell_type": "markdown",
   "metadata": {},
   "source": [
    "## 1.4) Use of prefix inside get_dummies()\n"
   ]
  },
  {
   "cell_type": "code",
   "execution_count": 5,
   "metadata": {},
   "outputs": [
    {
     "name": "stdout",
     "output_type": "stream",
     "text": [
      "   Color  Color_Blue  Color_Green  Color_Red\n",
      "0    Red       False        False       True\n",
      "1  Green       False         True      False\n",
      "2   Blue        True        False      False\n",
      "3  Green       False         True      False\n",
      "4    Red       False        False       True\n"
     ]
    }
   ],
   "source": [
    "import pandas as pd\n",
    "\n",
    "# sample data\n",
    "data = {\"Color\": [\"Red\", \"Green\", \"Blue\", \"Green\", \"Red\"]}\n",
    "\n",
    "# creating a DataFrame\n",
    "df = pd.DataFrame(data)\n",
    "\n",
    "# getting dummies with a specified prefix\n",
    "dummies = pd.get_dummies(df[\"Color\"], prefix=\"Color\")\n",
    "\n",
    "# concatenating the dummies DataFrame with the original DataFrame\n",
    "df = pd.concat([df, dummies], axis=1)\n",
    "\n",
    "print(df)"
   ]
  }
 ],
 "metadata": {
  "kernelspec": {
   "display_name": ".venv",
   "language": "python",
   "name": "python3"
  },
  "language_info": {
   "codemirror_mode": {
    "name": "ipython",
    "version": 3
   },
   "file_extension": ".py",
   "mimetype": "text/x-python",
   "name": "python",
   "nbconvert_exporter": "python",
   "pygments_lexer": "ipython3",
   "version": "3.13.1"
  }
 },
 "nbformat": 4,
 "nbformat_minor": 2
}

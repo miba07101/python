{
 "cells": [
  {
   "cell_type": "markdown",
   "metadata": {},
   "source": [
    "# 1) Pandas reshape\n",
    "\n",
    "- konverzia DataFramu z jedneho formatu na iny pre lepsiu data vizualizaciu a analyzu\n",
    "- viacere metody:\n",
    "  - **pivot()**\n",
    "  - **pivot_table()**\n",
    "  - **stack()**\n",
    "  - **unstack()**\n",
    "  - **melt()**\n"
   ]
  },
  {
   "cell_type": "markdown",
   "metadata": {},
   "source": [
    "## 1.1) pivot()\n",
    "\n",
    "- reshape (pretvara) udaje na zaklade hodnot stlpcov\n",
    "- zoberie hodnoty stlpca a zoskupi ich do 2D tabulky\n"
   ]
  },
  {
   "cell_type": "code",
   "execution_count": 2,
   "metadata": {},
   "outputs": [
    {
     "name": "stdout",
     "output_type": "stream",
     "text": [
      "Original Dataframe:\n",
      "          Date Category  Value\n",
      "0  2023-08-01        A     10\n",
      "1  2023-08-01        B     20\n",
      "2  2023-08-02        A     30\n",
      "3  2023-08-02        B     40\n",
      "\n",
      "Reshaped DataFrame:\n",
      " Category     A   B\n",
      "Date              \n",
      "2023-08-01  10  20\n",
      "2023-08-02  30  40\n"
     ]
    }
   ],
   "source": [
    "import pandas as pd\n",
    "\n",
    "# create a DataFrame\n",
    "data = {\n",
    "    \"Date\": [\"2023-08-01\", \"2023-08-01\", \"2023-08-02\", \"2023-08-02\"],\n",
    "    \"Category\": [\"A\", \"B\", \"A\", \"B\"],\n",
    "    \"Value\": [10, 20, 30, 40],\n",
    "}\n",
    "df = pd.DataFrame(data)\n",
    "\n",
    "print(\"Original Dataframe:\\n\", df)\n",
    "\n",
    "# pivot the  DataFrame\n",
    "pivot_df = df.pivot(index=\"Date\", columns=\"Category\", values=\"Value\")\n",
    "print(\"\\nReshaped DataFrame:\\n\", pivot_df)"
   ]
  },
  {
   "cell_type": "markdown",
   "metadata": {},
   "source": [
    "## 1.2) pivot_table()\n",
    "\n",
    "- vytvorenie kontigencnej (pivot) tabulky, ktora agreguje a sumarizuje udaje na zaklade zadaneho indexu, stlpcov a agregacnych f-cii\n"
   ]
  },
  {
   "cell_type": "code",
   "execution_count": null,
   "metadata": {},
   "outputs": [
    {
     "name": "stdout",
     "output_type": "stream",
     "text": [
      "Original Dataframe:\n",
      "   Category  Value\n",
      "0        A     10\n",
      "1        B     20\n",
      "2        A     30\n",
      "3        B     40\n",
      "4        A     50\n",
      "5        B     60\n",
      "\n",
      "Reshaped Dataframe:\n",
      "           Value\n",
      "Category       \n",
      "A          30.0\n",
      "B          40.0\n"
     ]
    }
   ],
   "source": [
    "import pandas as pd\n",
    "\n",
    "# create a DataFrame\n",
    "data = {\"Category\": [\"A\", \"B\", \"A\", \"B\", \"A\", \"B\"], \"Value\": [10, 20, 30, 40, 50, 60]}\n",
    "df = pd.DataFrame(data)\n",
    "print(\"Original Dataframe:\\n\", df)\n",
    "\n",
    "# create a pivot table\n",
    "pivot_table_df = df.pivot_table(index=\"Category\", values=\"Value\", aggfunc=\"mean\")\n",
    "print(\"\\nReshaped Dataframe:\\n\", pivot_table_df)"
   ]
  },
  {
   "cell_type": "markdown",
   "metadata": {},
   "source": [
    "## 1.3) stack() and unstack()\n",
    "\n",
    "- **stack()** - otaca uroven oznacenia stlpcov a transformuje ich na najvnutornejsie urovne indexu riadku\n",
    "  - v podstate prehodim oznacenia stlpcov za riadky\n",
    "- **unstack()** - otaca urovne indexu riadkov a transformuje ich na uroven najvzdialenejsieho stlpca\n",
    "  - v podstate prehodim riadky za oznacenia stlpcov\n"
   ]
  },
  {
   "cell_type": "code",
   "execution_count": null,
   "metadata": {},
   "outputs": [
    {
     "name": "stdout",
     "output_type": "stream",
     "text": [
      "Original df:\n",
      "          Date  Category_A  Category_B\n",
      "0  2023-08-01          10          30\n",
      "1  2023-08-02          20          40\n",
      "\n",
      "Stack:\n",
      " Date                  \n",
      "2023-08-01  Category_A    10\n",
      "            Category_B    30\n",
      "2023-08-02  Category_A    20\n",
      "            Category_B    40\n",
      "dtype: int64\n",
      "\n",
      "Unstack: \n",
      "             Category_A  Category_B\n",
      "Date                              \n",
      "2023-08-01          10          30\n",
      "2023-08-02          20          40\n"
     ]
    }
   ],
   "source": [
    "import pandas as pd\n",
    "\n",
    "# create a DataFrame\n",
    "data = {\n",
    "    \"Date\": [\"2023-08-01\", \"2023-08-02\"],\n",
    "    \"Category_A\": [10, 20],\n",
    "    \"Category_B\": [30, 40],\n",
    "}\n",
    "df = pd.DataFrame(data)\n",
    "print(\"Original df:\\n\", df)\n",
    "print()\n",
    "\n",
    "# set 'Date' column as the index\n",
    "df.set_index(\"Date\", inplace=True)\n",
    "\n",
    "# stack the columns into rows\n",
    "stacked_df = df.stack()\n",
    "print(\"Stack:\\n\", stacked_df)\n",
    "print()\n",
    "\n",
    "# unstack the rows back to columns\n",
    "unstacked_df = stacked_df.unstack()\n",
    "print(\"Unstack: \\n\", unstacked_df)\n"
   ]
  },
  {
   "cell_type": "markdown",
   "metadata": {},
   "source": [
    "## 1.4) melt()\n",
    "\n",
    "- transformuje DataFrame zo sirokeho formatu na dlhy format\n",
    "  - id_vars - urcuje stlpec, ktory chceme nezmeneny\n",
    "  - var_name - urcuje nazov noveho stlpca, ktory bude obsahovat nazvy premennych ( v pripade ukazky 'Math' a 'History')\n",
    "  - value_name - urcuje nazov noveho stlpca, ktory bude obsahovat hodnoty\n"
   ]
  },
  {
   "cell_type": "code",
   "execution_count": null,
   "metadata": {},
   "outputs": [
    {
     "name": "stdout",
     "output_type": "stream",
     "text": [
      "Original df:\n",
      "     Name  Math  History\n",
      "0  Alice    90       75\n",
      "1    Bob    85       92\n",
      "\n",
      "    Name  Subject  Score\n",
      "0  Alice     Math     90\n",
      "1    Bob     Math     85\n",
      "2  Alice  History     75\n",
      "3    Bob  History     92\n"
     ]
    }
   ],
   "source": [
    "import pandas as pd\n",
    "\n",
    "# create a sample DataFrame\n",
    "data = {\"Name\": [\"Alice\", \"Bob\"], \"Math\": [90, 85], \"History\": [75, 92]}\n",
    "df = pd.DataFrame(data)\n",
    "print(\"Original df:\\n\", df)\n",
    "print()\n",
    "\n",
    "# melt the DataFrame\n",
    "melted_df = pd.melt(df, id_vars=\"Name\", var_name=\"Subject\", value_name=\"Score\")\n",
    "\n",
    "print(melted_df)"
   ]
  }
 ],
 "metadata": {
  "kernelspec": {
   "display_name": ".venv",
   "language": "python",
   "name": "python3"
  },
  "language_info": {
   "codemirror_mode": {
    "name": "ipython",
    "version": 3
   },
   "file_extension": ".py",
   "mimetype": "text/x-python",
   "name": "python",
   "nbconvert_exporter": "python",
   "pygments_lexer": "ipython3",
   "version": "3.13.1"
  }
 },
 "nbformat": 4,
 "nbformat_minor": 2
}

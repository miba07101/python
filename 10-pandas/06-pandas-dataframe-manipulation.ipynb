{
 "cells": [
  {
   "cell_type": "markdown",
   "metadata": {},
   "source": [
    "# 1) Pandas DataFrame manipulation\n",
    "\n",
    "- adding rows/columns\n",
    "- removing rows/columns\n",
    "- renaming rows/columns"
   ]
  },
  {
   "cell_type": "markdown",
   "metadata": {},
   "source": [
    "## 1.1) Adding new rows/columns"
   ]
  },
  {
   "cell_type": "markdown",
   "metadata": {},
   "source": [
    "### Add a new column to dataframe\n",
    "\n",
    "- jednoducho vytvorime novy list ako stlpec"
   ]
  },
  {
   "cell_type": "code",
   "execution_count": null,
   "metadata": {},
   "outputs": [
    {
     "name": "stdout",
     "output_type": "stream",
     "text": [
      "      Name  Height Qualification   Address\n",
      "0     John     5.5           BSc  New York\n",
      "1     Emma     6.0           BBA    London\n",
      "2  Michael     5.8           MBA    Sydney\n",
      "3   Sophia     5.3           BSc   Toronto\n"
     ]
    }
   ],
   "source": [
    "import pandas as pd\n",
    "\n",
    "# define a dictionary containing student data\n",
    "data = {\n",
    "    \"Name\": [\"John\", \"Emma\", \"Michael\", \"Sophia\"],\n",
    "    \"Height\": [5.5, 6.0, 5.8, 5.3],\n",
    "    \"Qualification\": [\"BSc\", \"BBA\", \"MBA\", \"BSc\"],\n",
    "}\n",
    "\n",
    "# convert the dictionary into a DataFrame\n",
    "df = pd.DataFrame(data)\n",
    "\n",
    "# declare a new list\n",
    "address = [\"New York\", \"London\", \"Sydney\", \"Toronto\"]\n",
    "\n",
    "# assign the list as a column\n",
    "df[\"Address\"] = address\n",
    "\n",
    "print(df)"
   ]
  },
  {
   "cell_type": "markdown",
   "metadata": {},
   "source": [
    "### Add a new row to dataframe\n",
    "\n",
    "- **.loc** property"
   ]
  },
  {
   "cell_type": "code",
   "execution_count": null,
   "metadata": {},
   "outputs": [
    {
     "name": "stdout",
     "output_type": "stream",
     "text": [
      "Original DataFrame:\n",
      "      Name  Height Qualification\n",
      "0     John     5.5           BSc\n",
      "1     Emma     6.0           BBA\n",
      "2  Michael     5.8           MBA\n",
      "3   Sophia     5.3           BSc\n",
      "\n",
      "Modified DataFrame:\n",
      "      Name  Height Qualification\n",
      "0     John     5.5           BSc\n",
      "1     Emma     6.0           BBA\n",
      "2  Michael     5.8           MBA\n",
      "3   Sophia     5.3           BSc\n",
      "4      Amy     5.2           BIT\n"
     ]
    }
   ],
   "source": [
    "import pandas as pd\n",
    "\n",
    "# define a dictionary containing student data\n",
    "data = {\n",
    "    \"Name\": [\"John\", \"Emma\", \"Michael\", \"Sophia\"],\n",
    "    \"Height\": [5.5, 6.0, 5.8, 5.3],\n",
    "    \"Qualification\": [\"BSc\", \"BBA\", \"MBA\", \"BSc\"],\n",
    "}\n",
    "\n",
    "# convert the dictionary into a DataFrame\n",
    "df = pd.DataFrame(data)\n",
    "\n",
    "print(\"Original DataFrame:\")\n",
    "print(df)\n",
    "print()\n",
    "\n",
    "# add a new row\n",
    "df.loc[len(df.index)] = [\"Amy\", 5.2, \"BIT\"]\n",
    "\n",
    "print(\"Modified DataFrame:\")\n",
    "print(df)"
   ]
  },
  {
   "cell_type": "markdown",
   "metadata": {},
   "source": [
    "## 1.2) Removing rows/columns\n",
    "\n",
    "- **drop()**"
   ]
  },
  {
   "cell_type": "markdown",
   "metadata": {},
   "source": [
    "### Delete rows"
   ]
  },
  {
   "cell_type": "code",
   "execution_count": null,
   "metadata": {},
   "outputs": [
    {
     "name": "stdout",
     "output_type": "stream",
     "text": [
      "Original DataFrame:\n",
      "      Name  Age      City\n",
      "0    Alice   25  New York\n",
      "1      Bob   30    London\n",
      "2  Charlie   35     Paris\n",
      "3    David   40     Tokyo\n",
      "4   Felipe   22    Bogota\n",
      "5     Rita   29  Banglore\n",
      "\n",
      "Modified DataFrame:\n",
      "      Name  Age      City\n",
      "0    Alice   25  New York\n",
      "2  Charlie   35     Paris\n"
     ]
    }
   ],
   "source": [
    "import pandas as pd\n",
    "\n",
    "# create a sample DataFrame\n",
    "data = {\n",
    "    \"Name\": [\"Alice\", \"Bob\", \"Charlie\", \"David\", \"Felipe\", \"Rita\"],\n",
    "    \"Age\": [25, 30, 35, 40, 22, 29],\n",
    "    \"City\": [\"New York\", \"London\", \"Paris\", \"Tokyo\", \"Bogota\", \"Banglore\"],\n",
    "}\n",
    "df = pd.DataFrame(data)\n",
    "\n",
    "# display the original DataFrame\n",
    "print(\"Original DataFrame:\")\n",
    "print(df)\n",
    "print()\n",
    "\n",
    "# delete row with index 4\n",
    "df.drop(4, axis=0, inplace=True)  # axis=0 - indikuje, ze sa maju vymazat riadky\n",
    "\n",
    "# delete row with index 5\n",
    "df.drop(\n",
    "    index=5, inplace=True\n",
    ")  # inplace - zmena sa vykona na povodnom datframe bez nutnosti vytvarania noveho\n",
    "\n",
    "# delete rows with index 1 and 3\n",
    "df.drop([1, 3], axis=0, inplace=True)\n",
    "\n",
    "# display the modified DataFrame after deleting rows\n",
    "print(\"Modified DataFrame:\")\n",
    "print(df)"
   ]
  },
  {
   "cell_type": "markdown",
   "metadata": {},
   "source": [
    "### Delete columns"
   ]
  },
  {
   "cell_type": "code",
   "execution_count": null,
   "metadata": {},
   "outputs": [
    {
     "name": "stdout",
     "output_type": "stream",
     "text": [
      "Original DataFrame:\n",
      "      Name  Age      City Height    Profession Marital Status\n",
      "0    Alice   25  New York    165      Engineer         Single\n",
      "1      Bob   30    London    178  Entrepreneur        Married\n",
      "2  Charlie   35     Paris    185    Unemployed       Divorced\n",
      "3    David   40     Tokyo    171         Actor        Engaged\n",
      "\n",
      "Modified DataFrame:\n",
      "      Name      City\n",
      "0    Alice  New York\n",
      "1      Bob    London\n",
      "2  Charlie     Paris\n",
      "3    David     Tokyo\n"
     ]
    }
   ],
   "source": [
    "import pandas as pd\n",
    "\n",
    "# create a sample DataFrame\n",
    "data = {\n",
    "    \"Name\": [\"Alice\", \"Bob\", \"Charlie\", \"David\"],\n",
    "    \"Age\": [25, 30, 35, 40],\n",
    "    \"City\": [\"New York\", \"London\", \"Paris\", \"Tokyo\"],\n",
    "    \"Height\": [\"165\", \"178\", \"185\", \"171\"],\n",
    "    \"Profession\": [\"Engineer\", \"Entrepreneur\", \"Unemployed\", \"Actor\"],\n",
    "    \"Marital Status\": [\"Single\", \"Married\", \"Divorced\", \"Engaged\"],\n",
    "}\n",
    "df = pd.DataFrame(data)\n",
    "\n",
    "# display the original DataFrame\n",
    "print(\"Original DataFrame:\")\n",
    "print(df)\n",
    "print()\n",
    "\n",
    "# delete age column\n",
    "df.drop(\"Age\", axis=1, inplace=True)  # axis=1 - indikuje, ze sa maju vymazat stlpce\n",
    "\n",
    "# delete marital status column\n",
    "df.drop(columns=\"Marital Status\", inplace=True)\n",
    "\n",
    "# delete height and profession columns\n",
    "df.drop([\"Height\", \"Profession\"], axis=1, inplace=True)\n",
    "\n",
    "# display the modified DataFrame after deleting rows\n",
    "print(\"Modified DataFrame:\")\n",
    "print(df)"
   ]
  },
  {
   "cell_type": "markdown",
   "metadata": {},
   "source": [
    "## 1.3) Renaming rows/columns\n",
    "\n",
    "- **rename()**"
   ]
  },
  {
   "cell_type": "markdown",
   "metadata": {},
   "source": [
    "### Rename Columns"
   ]
  },
  {
   "cell_type": "code",
   "execution_count": null,
   "metadata": {},
   "outputs": [
    {
     "name": "stdout",
     "output_type": "stream",
     "text": [
      "Original DataFrame:\n",
      "      Name  Age      City\n",
      "0    Alice   25  New York\n",
      "1      Bob   30    London\n",
      "2  Charlie   35     Paris\n",
      "3    David   40     Tokyo\n",
      "\n",
      "Modified DataFrame:\n",
      "  First_Name  Number   Address\n",
      "0      Alice      25  New York\n",
      "1        Bob      30    London\n",
      "2    Charlie      35     Paris\n",
      "3      David      40     Tokyo\n"
     ]
    }
   ],
   "source": [
    "import pandas as pd\n",
    "\n",
    "# create a sample DataFrame\n",
    "data = {\n",
    "    \"Name\": [\"Alice\", \"Bob\", \"Charlie\", \"David\"],\n",
    "    \"Age\": [25, 30, 35, 40],\n",
    "    \"City\": [\"New York\", \"London\", \"Paris\", \"Tokyo\"],\n",
    "}\n",
    "df = pd.DataFrame(data)\n",
    "\n",
    "# display the original DataFrame\n",
    "print(\"Original DataFrame:\")\n",
    "print(df)\n",
    "print()\n",
    "\n",
    "# rename column 'Name' to 'First_Name'\n",
    "df.rename(columns={\"Name\": \"First_Name\"}, inplace=True)\n",
    "\n",
    "# rename columns 'Age' and 'City'\n",
    "df.rename(mapper={\"Age\": \"Number\", \"City\": \"Address\"}, axis=1, inplace=True)\n",
    "\n",
    "# display the DataFrame after renaming column\n",
    "print(\"Modified DataFrame:\")\n",
    "print(df)"
   ]
  },
  {
   "cell_type": "markdown",
   "metadata": {},
   "source": [
    "### Rename rows"
   ]
  },
  {
   "cell_type": "code",
   "execution_count": null,
   "metadata": {},
   "outputs": [
    {
     "name": "stdout",
     "output_type": "stream",
     "text": [
      "Original DataFrame:\n",
      "      Name  Age      City\n",
      "0    Alice   25  New York\n",
      "1      Bob   30    London\n",
      "2  Charlie   35     Paris\n",
      "3    David   40     Tokyo\n",
      "\n",
      "Modified DataFrame:\n",
      "        Name  Age      City\n",
      "7      Alice   25  New York\n",
      "10       Bob   30    London\n",
      "100  Charlie   35     Paris\n",
      "3      David   40     Tokyo\n"
     ]
    }
   ],
   "source": [
    "import pandas as pd\n",
    "\n",
    "# create a sample DataFrame\n",
    "data = {\n",
    "    \"Name\": [\"Alice\", \"Bob\", \"Charlie\", \"David\"],\n",
    "    \"Age\": [25, 30, 35, 40],\n",
    "    \"City\": [\"New York\", \"London\", \"Paris\", \"Tokyo\"],\n",
    "}\n",
    "df = pd.DataFrame(data)\n",
    "\n",
    "# display the original DataFrame\n",
    "print(\"Original DataFrame:\")\n",
    "print(df)\n",
    "print()\n",
    "\n",
    "# rename column one index label\n",
    "df.rename(index={0: 7}, inplace=True)\n",
    "\n",
    "# rename columns multiple index labels\n",
    "df.rename(mapper={1: 10, 2: 100}, axis=0, inplace=True)\n",
    "\n",
    "# display the DataFrame after renaming column\n",
    "print(\"Modified DataFrame:\")\n",
    "print(df)"
   ]
  }
 ],
 "metadata": {
  "kernelspec": {
   "display_name": ".venv",
   "language": "python",
   "name": "python3"
  },
  "language_info": {
   "codemirror_mode": {
    "name": "ipython",
    "version": 3
   },
   "file_extension": ".py",
   "mimetype": "text/x-python",
   "name": "python",
   "nbconvert_exporter": "python",
   "pygments_lexer": "ipython3",
   "version": "3.13.1"
  }
 },
 "nbformat": 4,
 "nbformat_minor": 2
}

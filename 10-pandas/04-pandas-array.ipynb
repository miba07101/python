{
 "cells": [
  {
   "cell_type": "markdown",
   "metadata": {},
   "source": [
    "# 1) Pandas array\n",
    "\n",
    "- pandas array (polia) su pamatovo efektivnejsie a vykonnejsie alternativy k python listom, numpy poliam atd."
   ]
  },
  {
   "cell_type": "markdown",
   "metadata": {},
   "source": [
    "## 1.1) Create array using python list\n",
    "\n",
    "- **pd.array()**"
   ]
  },
  {
   "cell_type": "code",
   "execution_count": null,
   "metadata": {},
   "outputs": [
    {
     "name": "stdout",
     "output_type": "stream",
     "text": [
      "<IntegerArray>\n",
      "[2, 4, 6, 8]\n",
      "Length: 4, dtype: Int64\n",
      "\n",
      "Pandas array, list data:\n",
      " <IntegerArray>\n",
      "[2, 4, 6, 8]\n",
      "Length: 4, dtype: Int64\n"
     ]
    }
   ],
   "source": [
    "import pandas as pd\n",
    "\n",
    "# create a list named data\n",
    "data = [2, 4, 6, 8]\n",
    "\n",
    "# create Pandas array using data\n",
    "array1 = pd.array(data)\n",
    "\n",
    "print(array1)\n",
    "\n",
    "# namiesto vytvarania listu mozme priamo vlozit\n",
    "# hodnoty listu ako argument f-cie .array()\n",
    "\n",
    "arr = pd.array([2, 4, 6, 8])\n",
    "print(\"\\nPandas array, list data:\\n\", arr)"
   ]
  },
  {
   "cell_type": "markdown",
   "metadata": {},
   "source": [
    "## 1.2) Explicitly specify array elements data type"
   ]
  },
  {
   "cell_type": "code",
   "execution_count": null,
   "metadata": {},
   "outputs": [
    {
     "name": "stdout",
     "output_type": "stream",
     "text": [
      "Integer array:\n",
      " <NumpyExtensionArray>\n",
      "[np.int64(1), np.int64(2), np.int64(3), np.int64(4), np.int64(5)]\n",
      "Length: 5, dtype: int64\n",
      "\n",
      "Float array:\n",
      " <NumpyExtensionArray>\n",
      "[np.float64(1.1), np.float64(2.2), np.float64(3.3), np.float64(4.4),\n",
      " np.float64(5.5)]\n",
      "Length: 5, dtype: float64\n",
      "\n",
      "String array:\n",
      " <NumpyExtensionArray>\n",
      "[np.str_('apple'), np.str_('banana'), np.str_('cherry'), np.str_('date')]\n",
      "Length: 4, dtype: str192\n",
      "\n",
      "Boolean array:\n",
      " <NumpyExtensionArray>\n",
      "[np.True_, np.False_, np.True_, np.False_]\n",
      "Length: 4, dtype: bool\n",
      "\n"
     ]
    }
   ],
   "source": [
    "import pandas as pd\n",
    "\n",
    "# creating a pandas.array of integers\n",
    "int_array = pd.array([1, 2, 3, 4, 5], dtype=\"int\")\n",
    "print(\"Integer array:\\n\", int_array)\n",
    "print()\n",
    "\n",
    "# creating a pandas.array of floating-point numbers\n",
    "float_array = pd.array([1.1, 2.2, 3.3, 4.4, 5.5], dtype=\"float\")\n",
    "print(\"Float array:\\n\", float_array)\n",
    "print()\n",
    "\n",
    "# creating a pandas.array of strings\n",
    "string_array = pd.array([\"apple\", \"banana\", \"cherry\", \"date\"], dtype=\"str\")\n",
    "print(\"String array:\\n\", string_array)\n",
    "print()\n",
    "\n",
    "# creating a pandas.array of boolean values\n",
    "bool_array = pd.array([True, False, True, False], dtype=\"bool\")\n",
    "print(\"Boolean array:\\n\", bool_array)\n",
    "print()"
   ]
  },
  {
   "cell_type": "markdown",
   "metadata": {},
   "source": [
    "## 1.3) Create series from pandas array\n",
    "\n",
    "- **Series()** metoda"
   ]
  },
  {
   "cell_type": "code",
   "execution_count": 6,
   "metadata": {},
   "outputs": [
    {
     "name": "stdout",
     "output_type": "stream",
     "text": [
      "0    18\n",
      "1    20\n",
      "2    19\n",
      "3    21\n",
      "4    22\n",
      "dtype: Int64\n"
     ]
    }
   ],
   "source": [
    "import pandas as pd\n",
    "\n",
    "# create a Pandas array\n",
    "arr = pd.array([18, 20, 19, 21, 22])\n",
    "\n",
    "# create a Pandas series from the Pandas array\n",
    "arr_series = pd.Series(arr)\n",
    "\n",
    "print(arr_series)"
   ]
  }
 ],
 "metadata": {
  "kernelspec": {
   "display_name": ".venv",
   "language": "python",
   "name": "python3"
  },
  "language_info": {
   "codemirror_mode": {
    "name": "ipython",
    "version": 3
   },
   "file_extension": ".py",
   "mimetype": "text/x-python",
   "name": "python",
   "nbconvert_exporter": "python",
   "pygments_lexer": "ipython3",
   "version": "3.13.1"
  }
 },
 "nbformat": 4,
 "nbformat_minor": 2
}

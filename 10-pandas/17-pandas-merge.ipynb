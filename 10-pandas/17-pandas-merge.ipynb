{
 "cells": [
  {
   "cell_type": "markdown",
   "metadata": {},
   "source": [
    "# 1) Pandas merge\n",
    "\n",
    "- spojenie dvoch DataFrameov, zalozene na ich indexoch alebo stlpcoch\n",
    "- podobne ako JOIN v SQL\n",
    "- syntax:\n",
    "  ```\n",
    "  pd.merge(left, right, on=None, how='inner', left_on=None, right_on=None, sort=False)\n",
    "  ```\n",
    "  - **left:** specifies the left DataFrame to be merged\n",
    "  - **right:** specifies the right DataFrame to be merged\n",
    "  - **on (optional):** specifies column(s) to join on\n",
    "  - **how (optional):** specifies the type of join to perform\n",
    "  - **left_on (optional):** specifies column(s) from the left DataFrame to use as key(s) for merging\n",
    "  - **right_on (optional):** specifies column(s) from the right DataFrame to use as key(s) for merging\n",
    "  - **sort (optional):** if True, sort the result DataFrame by the join keys\n"
   ]
  },
  {
   "cell_type": "code",
   "execution_count": null,
   "metadata": {},
   "outputs": [
    {
     "name": "stdout",
     "output_type": "stream",
     "text": [
      "Employees:\n",
      "  EmployeeID         Name DeptID\n",
      "0       E001     John Doe   D001\n",
      "1       E002   Jane Smith   D003\n",
      "2       E003  Peter Brown   D001\n",
      "3       E004  Tom Johnson   D002\n",
      "4       E005   Rita Patel   D003\n",
      "\n",
      "Departments:\n",
      "  DeptID DeptName\n",
      "0   D001    Sales\n",
      "1   D002       HR\n",
      "2   D003    Admin\n",
      "\n",
      "Merged DataFrame:\n",
      "  EmployeeID         Name DeptID DeptName\n",
      "0       E001     John Doe   D001    Sales\n",
      "1       E002   Jane Smith   D003    Admin\n",
      "2       E003  Peter Brown   D001    Sales\n",
      "3       E004  Tom Johnson   D002       HR\n",
      "4       E005   Rita Patel   D003    Admin\n"
     ]
    }
   ],
   "source": [
    "import pandas as pd\n",
    "\n",
    "# create dataframes from the dictionaries\n",
    "data1 = {\n",
    "    \"EmployeeID\": [\"E001\", \"E002\", \"E003\", \"E004\", \"E005\"],\n",
    "    \"Name\": [\"John Doe\", \"Jane Smith\", \"Peter Brown\", \"Tom Johnson\", \"Rita Patel\"],\n",
    "    \"DeptID\": [\"D001\", \"D003\", \"D001\", \"D002\", \"D003\"],\n",
    "}\n",
    "employees = pd.DataFrame(data1)\n",
    "\n",
    "data2 = {\"DeptID\": [\"D001\", \"D002\", \"D003\"], \"DeptName\": [\"Sales\", \"HR\", \"Admin\"]}\n",
    "departments = pd.DataFrame(data2)\n",
    "\n",
    "# merge dataframes employees and departments\n",
    "merged_df = pd.merge(employees, departments)\n",
    "\n",
    "# display DataFrames\n",
    "print(\"Employees:\")\n",
    "print(employees)\n",
    "print()\n",
    "print(\"Departments:\")\n",
    "print(departments)\n",
    "print()\n",
    "print(\"Merged DataFrame:\")\n",
    "print(merged_df)"
   ]
  },
  {
   "cell_type": "markdown",
   "metadata": {},
   "source": [
    "## 1.1) Merge DataFrames based on keys\n",
    "\n",
    "- ak 2 dataframy nemaju spolocny stlpec, tak ich spajame tym, ze urcime stlpce pomocou, ktorych sa maju spojit\n"
   ]
  },
  {
   "cell_type": "code",
   "execution_count": null,
   "metadata": {},
   "outputs": [
    {
     "name": "stdout",
     "output_type": "stream",
     "text": [
      "  EmployeeID         Name DeptID1 DeptID2 DeptName\n",
      "0       E001     John Doe    D001    D001    Sales\n",
      "1       E003  Peter Brown    D001    D001    Sales\n",
      "2       E004  Tom Johnson    D002    D002       HR\n",
      "3       E002   Jane Smith    D003    D003    Admin\n"
     ]
    }
   ],
   "source": [
    "import pandas as pd\n",
    "\n",
    "# create dataframes from the dictionaries\n",
    "data1 = {\n",
    "    \"EmployeeID\": [\"E001\", \"E002\", \"E003\", \"E004\", \"E005\"],\n",
    "    \"Name\": [\"John Doe\", \"Jane Smith\", \"Peter Brown\", \"Tom Johnson\", \"Rita Patel\"],\n",
    "    \"DeptID1\": [\"D001\", \"D003\", \"D001\", \"D002\", \"D006\"],\n",
    "}\n",
    "employees = pd.DataFrame(data1)\n",
    "\n",
    "data2 = {\n",
    "    \"DeptID2\": [\"D001\", \"D002\", \"D003\", \"D004\"],\n",
    "    \"DeptName\": [\"Sales\", \"HR\", \"Admin\", \"Marketing\"],\n",
    "}\n",
    "departments = pd.DataFrame(data2)\n",
    "\n",
    "# merge the dataframes\n",
    "df_merge = pd.merge(\n",
    "    employees, departments, left_on=\"DeptID1\", right_on=\"DeptID2\", sort=True\n",
    ")\n",
    "\n",
    "print(df_merge)"
   ]
  },
  {
   "cell_type": "markdown",
   "metadata": {},
   "source": [
    "# 2) Types of join operations in merge()\n",
    "\n",
    "- mozme ich specifikovat v **how** argumente f-cie **merge()**\n",
    "- typy:\n",
    "  - left join\n",
    "  - right join\n",
    "  - outer join\n",
    "  - inner join (default)\n",
    "  - cross join\n"
   ]
  },
  {
   "cell_type": "markdown",
   "metadata": {},
   "source": [
    "## 2.1) Left join\n",
    "\n",
    "- spaja 2 dataframy zalozene na spolocnom kluci a vracia novy dataframe, ktory obsahuje vsetky riadky z laveho dataframu a zhodne riadky z praveho dataframu\n",
    "- ak hodnoty nie su najdene v pravom dataframe, tak vyplni miesta s **NaN**\n"
   ]
  },
  {
   "cell_type": "code",
   "execution_count": null,
   "metadata": {},
   "outputs": [
    {
     "name": "stdout",
     "output_type": "stream",
     "text": [
      "  EmployeeID         Name DeptID DeptName\n",
      "0       E001     John Doe   D001    Sales\n",
      "1       E003  Peter Brown   D001    Sales\n",
      "2       E004  Tom Johnson   D002       HR\n",
      "3       E002   Jane Smith   D003    Admin\n",
      "4       E005   Rita Patel   D006      NaN\n"
     ]
    }
   ],
   "source": [
    "import pandas as pd\n",
    "\n",
    "# create dataframes from the dictionaries\n",
    "data1 = {\n",
    "    \"EmployeeID\": [\"E001\", \"E002\", \"E003\", \"E004\", \"E005\"],\n",
    "    \"Name\": [\"John Doe\", \"Jane Smith\", \"Peter Brown\", \"Tom Johnson\", \"Rita Patel\"],\n",
    "    \"DeptID\": [\"D001\", \"D003\", \"D001\", \"D002\", \"D006\"],\n",
    "}\n",
    "employees = pd.DataFrame(data1)\n",
    "\n",
    "data2 = {\n",
    "    \"DeptID\": [\"D001\", \"D002\", \"D003\", \"D004\"],\n",
    "    \"DeptName\": [\"Sales\", \"HR\", \"Admin\", \"Marketing\"],\n",
    "}\n",
    "departments = pd.DataFrame(data2)\n",
    "\n",
    "# left merge the dataframes\n",
    "df_merge = pd.merge(employees, departments, on=\"DeptID\", how=\"left\", sort=True)\n",
    "\n",
    "print(df_merge)"
   ]
  },
  {
   "cell_type": "markdown",
   "metadata": {},
   "source": [
    "## 2.2) Right join\n",
    "\n",
    "- opacne ako left join\n",
    "- vracia riadky z praveho dataframu a zhodne riadky z laveho dataframu\n"
   ]
  },
  {
   "cell_type": "code",
   "execution_count": 1,
   "metadata": {},
   "outputs": [
    {
     "name": "stdout",
     "output_type": "stream",
     "text": [
      "  EmployeeID         Name DeptID   DeptName\n",
      "0       E001     John Doe   D001      Sales\n",
      "1       E003  Peter Brown   D001      Sales\n",
      "2       E004  Tom Johnson   D002         HR\n",
      "3       E002   Jane Smith   D003      Admin\n",
      "4        NaN          NaN   D004  Marketing\n"
     ]
    }
   ],
   "source": [
    "import pandas as pd\n",
    "\n",
    "# create dataframes from the dictionaries\n",
    "data1 = {\n",
    "    \"EmployeeID\": [\"E001\", \"E002\", \"E003\", \"E004\", \"E005\"],\n",
    "    \"Name\": [\"John Doe\", \"Jane Smith\", \"Peter Brown\", \"Tom Johnson\", \"Rita Patel\"],\n",
    "    \"DeptID\": [\"D001\", \"D003\", \"D001\", \"D002\", \"D006\"],\n",
    "}\n",
    "employees = pd.DataFrame(data1)\n",
    "\n",
    "data2 = {\n",
    "    \"DeptID\": [\"D001\", \"D002\", \"D003\", \"D004\"],\n",
    "    \"DeptName\": [\"Sales\", \"HR\", \"Admin\", \"Marketing\"],\n",
    "}\n",
    "departments = pd.DataFrame(data2)\n",
    "\n",
    "# right merge the dataframes\n",
    "df_merge = pd.merge(employees, departments, on=\"DeptID\", how=\"right\", sort=True)\n",
    "\n",
    "print(df_merge)"
   ]
  },
  {
   "cell_type": "markdown",
   "metadata": {},
   "source": [
    "## 2.3) Inner join\n",
    "\n",
    "- spaja 2 dataframy so spolocnym klucom a vracia novy dataframe, ktoruy obsahuje iba riadky, ktore sa zhoduju v oboch dataframoch\n"
   ]
  },
  {
   "cell_type": "code",
   "execution_count": 2,
   "metadata": {},
   "outputs": [
    {
     "name": "stdout",
     "output_type": "stream",
     "text": [
      "  EmployeeID         Name DeptID DeptName\n",
      "0       E001     John Doe   D001    Sales\n",
      "1       E003  Peter Brown   D001    Sales\n",
      "2       E004  Tom Johnson   D002       HR\n",
      "3       E002   Jane Smith   D003    Admin\n"
     ]
    }
   ],
   "source": [
    "import pandas as pd\n",
    "\n",
    "# create dataframes from the dictionaries\n",
    "data1 = {\n",
    "    \"EmployeeID\": [\"E001\", \"E002\", \"E003\", \"E004\", \"E005\"],\n",
    "    \"Name\": [\"John Doe\", \"Jane Smith\", \"Peter Brown\", \"Tom Johnson\", \"Rita Patel\"],\n",
    "    \"DeptID\": [\"D001\", \"D003\", \"D001\", \"D002\", \"D006\"],\n",
    "}\n",
    "employees = pd.DataFrame(data1)\n",
    "\n",
    "data2 = {\n",
    "    \"DeptID\": [\"D001\", \"D002\", \"D003\", \"D004\"],\n",
    "    \"DeptName\": [\"Sales\", \"HR\", \"Admin\", \"Marketing\"],\n",
    "}\n",
    "departments = pd.DataFrame(data2)\n",
    "\n",
    "# inner merge the dataframes\n",
    "df_merge = pd.merge(employees, departments, on=\"DeptID\", how=\"inner\", sort=True)\n",
    "\n",
    "print(df_merge)"
   ]
  },
  {
   "cell_type": "markdown",
   "metadata": {},
   "source": [
    "## 2.4) Outer join\n",
    "\n",
    "- oproti inner join vracia novy dataframe so vsetkymi riadkami\n",
    "- prazdne hodnoty vyplni **NaN**\n"
   ]
  },
  {
   "cell_type": "code",
   "execution_count": 3,
   "metadata": {},
   "outputs": [
    {
     "name": "stdout",
     "output_type": "stream",
     "text": [
      "  EmployeeID         Name DeptID   DeptName\n",
      "0       E001     John Doe   D001      Sales\n",
      "1       E003  Peter Brown   D001      Sales\n",
      "2       E004  Tom Johnson   D002         HR\n",
      "3       E002   Jane Smith   D003      Admin\n",
      "4        NaN          NaN   D004  Marketing\n",
      "5       E005   Rita Patel   D006        NaN\n"
     ]
    }
   ],
   "source": [
    "import pandas as pd\n",
    "\n",
    "# create dataframes from the dictionaries\n",
    "data1 = {\n",
    "    \"EmployeeID\": [\"E001\", \"E002\", \"E003\", \"E004\", \"E005\"],\n",
    "    \"Name\": [\"John Doe\", \"Jane Smith\", \"Peter Brown\", \"Tom Johnson\", \"Rita Patel\"],\n",
    "    \"DeptID\": [\"D001\", \"D003\", \"D001\", \"D002\", \"D006\"],\n",
    "}\n",
    "employees = pd.DataFrame(data1)\n",
    "\n",
    "data2 = {\n",
    "    \"DeptID\": [\"D001\", \"D002\", \"D003\", \"D004\"],\n",
    "    \"DeptName\": [\"Sales\", \"HR\", \"Admin\", \"Marketing\"],\n",
    "}\n",
    "departments = pd.DataFrame(data2)\n",
    "\n",
    "# outer merge the dataframes\n",
    "df_merge = pd.merge(employees, departments, on=\"DeptID\", how=\"outer\", sort=True)\n",
    "\n",
    "print(df_merge)"
   ]
  },
  {
   "cell_type": "markdown",
   "metadata": {},
   "source": [
    "## 2.5) Cross join\n",
    "\n",
    "- vytvori \"karteziansky sucin\" z oboch dataframov, pricom zachovava poradie laveho dataframu\n"
   ]
  },
  {
   "cell_type": "code",
   "execution_count": 4,
   "metadata": {},
   "outputs": [
    {
     "name": "stdout",
     "output_type": "stream",
     "text": [
      "   EmployeeID         Name DeptID_x DeptID_y   DeptName\n",
      "0        E001     John Doe     D001     D001      Sales\n",
      "1        E001     John Doe     D001     D002         HR\n",
      "2        E001     John Doe     D001     D003      Admin\n",
      "3        E001     John Doe     D001     D004  Marketing\n",
      "4        E002   Jane Smith     D003     D001      Sales\n",
      "5        E002   Jane Smith     D003     D002         HR\n",
      "6        E002   Jane Smith     D003     D003      Admin\n",
      "7        E002   Jane Smith     D003     D004  Marketing\n",
      "8        E003  Peter Brown     D001     D001      Sales\n",
      "9        E003  Peter Brown     D001     D002         HR\n",
      "10       E003  Peter Brown     D001     D003      Admin\n",
      "11       E003  Peter Brown     D001     D004  Marketing\n",
      "12       E004  Tom Johnson     D002     D001      Sales\n",
      "13       E004  Tom Johnson     D002     D002         HR\n",
      "14       E004  Tom Johnson     D002     D003      Admin\n",
      "15       E004  Tom Johnson     D002     D004  Marketing\n",
      "16       E005   Rita Patel     D006     D001      Sales\n",
      "17       E005   Rita Patel     D006     D002         HR\n",
      "18       E005   Rita Patel     D006     D003      Admin\n",
      "19       E005   Rita Patel     D006     D004  Marketing\n"
     ]
    }
   ],
   "source": [
    "import pandas as pd\n",
    "\n",
    "# create dataframes from the dictionaries\n",
    "data1 = {\n",
    "    \"EmployeeID\": [\"E001\", \"E002\", \"E003\", \"E004\", \"E005\"],\n",
    "    \"Name\": [\"John Doe\", \"Jane Smith\", \"Peter Brown\", \"Tom Johnson\", \"Rita Patel\"],\n",
    "    \"DeptID\": [\"D001\", \"D003\", \"D001\", \"D002\", \"D006\"],\n",
    "}\n",
    "employees = pd.DataFrame(data1)\n",
    "\n",
    "data2 = {\n",
    "    \"DeptID\": [\"D001\", \"D002\", \"D003\", \"D004\"],\n",
    "    \"DeptName\": [\"Sales\", \"HR\", \"Admin\", \"Marketing\"],\n",
    "}\n",
    "departments = pd.DataFrame(data2)\n",
    "\n",
    "# merge the dataframes\n",
    "df_merge = pd.merge(employees, departments, how=\"cross\")\n",
    "\n",
    "print(df_merge)"
   ]
  },
  {
   "cell_type": "markdown",
   "metadata": {},
   "source": [
    "# 3) Join vs Merge vs Concat\n",
    "\n",
    "- **join():** spaja 2 dataframy na zaklade indexov, lavy dataframe je predvoleny\n",
    "- **merge():** spaja 2 dataframy na zaklade stlpcov, inner join je predvoleny\n",
    "- **concat():** nasklada 2 dataframy pozdlz vertikalnej alebo horizontalnej osi\n"
   ]
  }
 ],
 "metadata": {
  "kernelspec": {
   "display_name": ".venv",
   "language": "python",
   "name": "python3"
  },
  "language_info": {
   "codemirror_mode": {
    "name": "ipython",
    "version": 3
   },
   "file_extension": ".py",
   "mimetype": "text/x-python",
   "name": "python",
   "nbconvert_exporter": "python",
   "pygments_lexer": "ipython3",
   "version": "3.13.1"
  }
 },
 "nbformat": 4,
 "nbformat_minor": 2
}

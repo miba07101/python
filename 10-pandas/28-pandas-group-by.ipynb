{
 "cells": [
  {
   "cell_type": "markdown",
   "metadata": {},
   "source": [
    "# 1) Pandas group by\n",
    "\n",
    "- umoznuje zoskupobvat udaje na zaklade konkretnych stlpcov\n",
    "- cize mozme rozdelit dataframe na niekolko mensich zoskupeni na zaklade hodnot v stlpcoch\n",
    "- na taketo zoskupenia mozme potom aplikovat rozne funkcie\n"
   ]
  },
  {
   "cell_type": "markdown",
   "metadata": {},
   "source": [
    "## 1.1) Group by a single column\n",
    "\n",
    "- **groupby()**\n"
   ]
  },
  {
   "cell_type": "code",
   "execution_count": null,
   "metadata": {},
   "outputs": [
    {
     "name": "stdout",
     "output_type": "stream",
     "text": [
      "Original:\n",
      "       Category  Sales\n",
      "0  Electronics   1000\n",
      "1     Clothing    500\n",
      "2  Electronics    800\n",
      "3     Clothing    300\n",
      "\n",
      "Category\n",
      "Clothing        800\n",
      "Electronics    1800\n",
      "Name: Sales, dtype: int64\n"
     ]
    }
   ],
   "source": [
    "import pandas as pd\n",
    "\n",
    "# create a dictionary containing the data\n",
    "data = {\n",
    "    \"Category\": [\"Electronics\", \"Clothing\", \"Electronics\", \"Clothing\"],\n",
    "    \"Sales\": [1000, 500, 800, 300],\n",
    "}\n",
    "\n",
    "# create a DataFrame using the data dictionary\n",
    "df = pd.DataFrame(data)\n",
    "print(\"Original:\\n\", df)\n",
    "print()\n",
    "\n",
    "# group the DataFrame by the Category column and\n",
    "# calculate the sum of Sales for each category\n",
    "grouped = df.groupby(\"Category\")[\"Sales\"].sum()\n",
    "\n",
    "# print the grouped data\n",
    "print(grouped)\n",
    "\n",
    "# vysvetlenie\n",
    "# df.groupby('Category') - groups the df DataFrame by the unique values in the Category column.\n",
    "# ['Sales'] - specifies that we are interested in the Sales column within each group.\n",
    "# .sum() - calculates the sum of the Sales values for each group."
   ]
  },
  {
   "cell_type": "markdown",
   "metadata": {},
   "source": [
    "## 1.2) Group by a multiple column\n"
   ]
  },
  {
   "cell_type": "code",
   "execution_count": 6,
   "metadata": {},
   "outputs": [
    {
     "name": "stdout",
     "output_type": "stream",
     "text": [
      "Original:\n",
      "    Gender Grade  Score\n",
      "0    Male     A     90\n",
      "1  Female     B     85\n",
      "2    Male     A     92\n",
      "3  Female     A     88\n",
      "4    Male     B     78\n",
      "\n",
      "             Score    \n",
      "              mean max\n",
      "Gender Grade          \n",
      "Female A      88.0  88\n",
      "       B      85.0  85\n",
      "Male   A      91.0  92\n",
      "       B      78.0  78\n"
     ]
    }
   ],
   "source": [
    "import pandas as pd\n",
    "\n",
    "# create a DataFrame with student data\n",
    "data = {\n",
    "    \"Gender\": [\"Male\", \"Female\", \"Male\", \"Female\", \"Male\"],\n",
    "    \"Grade\": [\"A\", \"B\", \"A\", \"A\", \"B\"],\n",
    "    \"Score\": [90, 85, 92, 88, 78],\n",
    "}\n",
    "\n",
    "df = pd.DataFrame(data)\n",
    "print(\"Original:\\n\", df)\n",
    "print()\n",
    "\n",
    "# define the aggregate functions to be applied to the Score column\n",
    "agg_functions = {\n",
    "    # calculate both mean and maximum of the Score column\n",
    "    \"Score\": [\"mean\", \"max\"]\n",
    "}\n",
    "\n",
    "# group the DataFrame by Gender and Grade, then apply the aggregate functions\n",
    "grouped = df.groupby([\"Gender\", \"Grade\"]).aggregate(agg_functions)\n",
    "\n",
    "# print the resulting grouped DataFrame\n",
    "print(grouped)"
   ]
  },
  {
   "cell_type": "markdown",
   "metadata": {},
   "source": [
    "## 1.3) Group by categorical data\n"
   ]
  },
  {
   "cell_type": "code",
   "execution_count": 10,
   "metadata": {},
   "outputs": [
    {
     "name": "stdout",
     "output_type": "stream",
     "text": [
      "Original:\n",
      "   Category  Sales\n",
      "0        A    100\n",
      "1        B    150\n",
      "2        A    200\n",
      "3        B     50\n",
      "4        A    300\n",
      "5        B    120\n",
      "\n",
      "Categorical:\n",
      "   Category  Sales\n",
      "0        A    100\n",
      "1        B    150\n",
      "2        A    200\n",
      "3        B     50\n",
      "4        A    300\n",
      "5        B    120\n",
      "\n",
      "Category\n",
      "A    600\n",
      "B    320\n",
      "Name: Sales, dtype: int64\n"
     ]
    }
   ],
   "source": [
    "import pandas as pd\n",
    "\n",
    "# sample data\n",
    "data = {\n",
    "    \"Category\": [\"A\", \"B\", \"A\", \"B\", \"A\", \"B\"],\n",
    "    \"Sales\": [100, 150, 200, 50, 300, 120],\n",
    "}\n",
    "\n",
    "df = pd.DataFrame(data)\n",
    "print(\"Original:\\n\", df)\n",
    "print()\n",
    "\n",
    "# convert Category column to categorical type\n",
    "df[\"Category\"] = pd.Categorical(df[\"Category\"])\n",
    "print(\"Categorical:\\n\", df)\n",
    "print()\n",
    "\n",
    "# group by Category  and calculate the total sales\n",
    "grouped = df.groupby(\"Category\", observed=True)[\"Sales\"].sum()\n",
    "\n",
    "print(grouped)"
   ]
  }
 ],
 "metadata": {
  "kernelspec": {
   "display_name": ".venv",
   "language": "python",
   "name": "python3"
  },
  "language_info": {
   "codemirror_mode": {
    "name": "ipython",
    "version": 3
   },
   "file_extension": ".py",
   "mimetype": "text/x-python",
   "name": "python",
   "nbconvert_exporter": "python",
   "pygments_lexer": "ipython3",
   "version": "3.13.1"
  }
 },
 "nbformat": 4,
 "nbformat_minor": 2
}

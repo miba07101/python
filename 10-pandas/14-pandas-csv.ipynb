{
 "cells": [
  {
   "cell_type": "markdown",
   "metadata": {},
   "source": [
    "# 1) Pandas CSV\n",
    "\n",
    "- reading and writting to CSV (comma-separated values)\n",
    "- **read_csv()** - official doc: https://pandas.pydata.org/docs/reference/api/pandas.read_csv.html\n",
    "- **to_csv()** - official doc: https://pandas.pydata.org/docs/reference/api/pandas.DataFrame.to_csv.html\n"
   ]
  },
  {
   "cell_type": "code",
   "execution_count": null,
   "metadata": {},
   "outputs": [],
   "source": [
    "# read_csv\n",
    "# import pandas as pd\n",
    "\n",
    "# read csv file with some arguments\n",
    "# df = pd.read_csv(\"data.csv\", header=None, names=[\"col1\", \"col2\", \"col3\"], skiprows=2)\n",
    "\n",
    "# print(df)\n",
    "\n",
    "# --------------------------------\n",
    "\n",
    "# to_csv()\n",
    "# import pandas as pd\n",
    "\n",
    "# create a dictionary\n",
    "# data = {\n",
    "#     \"Name\": [\"John\", \"Alice\", \"Bob\"],\n",
    "#     \"Age\": [25, 30, 35],\n",
    "#     \"City\": [\"New York\", \"London\", \"Paris\"],\n",
    "# }\n",
    "\n",
    "# create a dataframe from the dictionary\n",
    "# df = pd.DataFrame(data)\n",
    "\n",
    "# write dataframe to csv file\n",
    "# df.to_csv(\"output.csv\", index=False)\n"
   ]
  }
 ],
 "metadata": {
  "kernelspec": {
   "display_name": ".venv",
   "language": "python",
   "name": "python3"
  },
  "language_info": {
   "name": "python",
   "version": "3.13.1"
  }
 },
 "nbformat": 4,
 "nbformat_minor": 2
}

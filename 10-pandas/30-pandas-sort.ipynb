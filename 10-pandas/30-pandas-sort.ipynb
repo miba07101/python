{
 "cells": [
  {
   "cell_type": "markdown",
   "metadata": {},
   "source": [
    "# 1) Pandas sort\n",
    "\n",
    "- triedenie udajov vo zvolenom poradi\n",
    "- fundamentalna operacia pri datovych analyzach\n"
   ]
  },
  {
   "cell_type": "markdown",
   "metadata": {},
   "source": [
    "## 1.1) Sort DataFrame\n",
    "\n",
    "- **sort_values()** f-cia\n"
   ]
  },
  {
   "cell_type": "code",
   "execution_count": null,
   "metadata": {},
   "outputs": [
    {
     "name": "stdout",
     "output_type": "stream",
     "text": [
      "   Name  Age\n",
      "    Bob   22\n",
      "Charlie   25\n",
      "  Alice   28\n"
     ]
    }
   ],
   "source": [
    "import pandas as pd\n",
    "\n",
    "data = {\"Name\": [\"Alice\", \"Bob\", \"Charlie\"], \"Age\": [28, 22, 25]}\n",
    "df = pd.DataFrame(data)\n",
    "\n",
    "# sort DataFrame by Age in ascending order\n",
    "sorted_df = df.sort_values(by=\"Age\")\n",
    "\n",
    "# .to_string(index=False) is used to display values\n",
    "# without the index\n",
    "print(sorted_df.to_string(index=False))"
   ]
  },
  {
   "cell_type": "markdown",
   "metadata": {},
   "source": [
    "## 1.2) Sort DataFrame by multiple columns\n",
    "\n",
    "- zoznam stlpcov vkladame ako \"list\" do \"by=\" parametru metody **sort_values()**\n"
   ]
  },
  {
   "cell_type": "code",
   "execution_count": 2,
   "metadata": {},
   "outputs": [
    {
     "name": "stdout",
     "output_type": "stream",
     "text": [
      "Sorting by 'Age' (ascending) and then by 'Score' (ascending):\n",
      "\n",
      "   Name  Age  Score\n",
      "  David   22     80\n",
      "    Bob   22     90\n",
      "  Alice   25     85\n",
      "Charlie   30     75\n",
      "\n",
      "Sorting by 'Age' (ascending) and then by 'Score' (descending):\n",
      "\n",
      "   Name  Age  Score\n",
      "    Bob   22     90\n",
      "  David   22     80\n",
      "  Alice   25     85\n",
      "Charlie   30     75\n"
     ]
    }
   ],
   "source": [
    "import pandas as pd\n",
    "\n",
    "data = {\n",
    "    \"Name\": [\"Alice\", \"Bob\", \"Charlie\", \"David\"],\n",
    "    \"Age\": [25, 22, 30, 22],\n",
    "    \"Score\": [85, 90, 75, 80],\n",
    "}\n",
    "\n",
    "df = pd.DataFrame(data)\n",
    "\n",
    "# 1. Sort DataFrame by 'Age' and then by 'Score' (Both in ascending order)\n",
    "df1 = df.sort_values(by=[\"Age\", \"Score\"])\n",
    "\n",
    "print(\"Sorting by 'Age' (ascending) and then by 'Score' (ascending):\\n\")\n",
    "print(df1.to_string(index=False))\n",
    "\n",
    "print()\n",
    "# 2. Sort DataFrame by 'Age' in ascending order, and then by 'Score' in descending order\n",
    "df2 = df.sort_values(by=[\"Age\", \"Score\"], ascending=[True, False])\n",
    "\n",
    "print(\"Sorting by 'Age' (ascending) and then by 'Score' (descending):\\n\")\n",
    "print(df2.to_string(index=False))"
   ]
  },
  {
   "cell_type": "markdown",
   "metadata": {},
   "source": [
    "## 1.3) Sort series\n",
    "\n",
    "- **sort_values()**\n"
   ]
  },
  {
   "cell_type": "code",
   "execution_count": 3,
   "metadata": {},
   "outputs": [
    {
     "name": "stdout",
     "output_type": "stream",
     "text": [
      "22\n",
      "25\n",
      "28\n"
     ]
    }
   ],
   "source": [
    "import pandas as pd\n",
    "\n",
    "ages = pd.Series([28, 22, 25], name=\"Age\")\n",
    "\n",
    "# sort Series in ascending order\n",
    "sorted_ages = ages.sort_values()\n",
    "\n",
    "print(sorted_ages.to_string(index=False))"
   ]
  },
  {
   "cell_type": "markdown",
   "metadata": {},
   "source": [
    "## 1.4) Index sort DataFrame\n",
    "\n",
    "- **sort_index()** - sortovanie podla indexu dataframu alebo series\n"
   ]
  },
  {
   "cell_type": "code",
   "execution_count": 4,
   "metadata": {},
   "outputs": [
    {
     "name": "stdout",
     "output_type": "stream",
     "text": [
      "Original DataFrame:\n",
      "      Name  Age\n",
      "2    Alice   28\n",
      "0      Bob   22\n",
      "1  Charlie   25\n",
      "\n",
      "\n",
      "Sorted DataFrame by index:\n",
      "      Name  Age\n",
      "0      Bob   22\n",
      "1  Charlie   25\n",
      "2    Alice   28\n"
     ]
    }
   ],
   "source": [
    "import pandas as pd\n",
    "\n",
    "data = {\"Name\": [\"Alice\", \"Bob\", \"Charlie\"], \"Age\": [28, 22, 25]}\n",
    "# create a DataFrame with a non-sequential index\n",
    "df = pd.DataFrame(data, index=[2, 0, 1])\n",
    "\n",
    "print(\"Original DataFrame:\")\n",
    "print(df.to_string(index=True))\n",
    "print(\"\\n\")\n",
    "\n",
    "# sort DataFrame by index in ascending order\n",
    "sorted_df = df.sort_index()\n",
    "\n",
    "print(\"Sorted DataFrame by index:\")\n",
    "print(sorted_df.to_string(index=True))"
   ]
  }
 ],
 "metadata": {
  "kernelspec": {
   "display_name": ".venv",
   "language": "python",
   "name": "python3"
  },
  "language_info": {
   "codemirror_mode": {
    "name": "ipython",
    "version": 3
   },
   "file_extension": ".py",
   "mimetype": "text/x-python",
   "name": "python",
   "nbconvert_exporter": "python",
   "pygments_lexer": "ipython3",
   "version": "3.13.1"
  }
 },
 "nbformat": 4,
 "nbformat_minor": 2
}

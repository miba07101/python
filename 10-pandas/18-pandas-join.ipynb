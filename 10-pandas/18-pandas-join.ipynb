{
 "cells": [
  {
   "cell_type": "markdown",
   "metadata": {},
   "source": [
    "# 1) Pandas join\n",
    "\n",
    "- spojenie dvoch DataFrameov, zalozene na ich indexoc\n",
    "- syntax:\n",
    "  ```\n",
    "  df1.join(df2, on=None, how='left', lsuffix='', rsuffix='', sort=False)\n",
    "  ```\n",
    "  - **df1:** is the first DataFrame\n",
    "  - **df2:** is the dataframe to be joined to the first DataFrame\n",
    "  - **on(optional):** specifies the index column(s) based on which the DataFrames are joined\n",
    "  - **how(optional):** specifies the type of join to perform\n",
    "  - **lsuffix(optional):** specifies a suffix that will be appended to a column name of the first DataFrame if there is a collision or conflict with another column name\n",
    "  - **rsuffix(optional):** specifies a suffix that will be appended to a column name of the second DataFrame if there is a collision or conflict with another column name\n",
    "  - **sort(optional):** determines whether to sort the result DataFrame by the join keys\n"
   ]
  },
  {
   "cell_type": "code",
   "execution_count": 1,
   "metadata": {},
   "outputs": [
    {
     "name": "stdout",
     "output_type": "stream",
     "text": [
      "DataFrame 1:\n",
      "      A   B\n",
      "K0  A0  B0\n",
      "K1  A1  B1\n",
      "K2  A2  B2\n",
      "K3  A3  B3\n",
      "\n",
      "DataFrame 2:\n",
      "      C   D\n",
      "K0  C0  D0\n",
      "K1  C1  D1\n",
      "K2  C2  D2\n",
      "K3  C3  D3\n",
      "\n",
      "Joined DataFrame:\n",
      "      A   B   C   D\n",
      "K0  A0  B0  C0  D0\n",
      "K1  A1  B1  C1  D1\n",
      "K2  A2  B2  C2  D2\n",
      "K3  A3  B3  C3  D3\n"
     ]
    }
   ],
   "source": [
    "import pandas as pd\n",
    "\n",
    "# create dataframe 1\n",
    "data1 = {\n",
    "    \"A\": [\"A0\", \"A1\", \"A2\", \"A3\"],\n",
    "    \"B\": [\"B0\", \"B1\", \"B2\", \"B3\"],\n",
    "}\n",
    "df1 = pd.DataFrame(data1, index=[\"K0\", \"K1\", \"K2\", \"K3\"])\n",
    "\n",
    "# create dataframe 2\n",
    "data2 = {\n",
    "    \"C\": [\"C0\", \"C1\", \"C2\", \"C3\"],\n",
    "    \"D\": [\"D0\", \"D1\", \"D2\", \"D3\"],\n",
    "}\n",
    "df2 = pd.DataFrame(data2, index=[\"K0\", \"K1\", \"K2\", \"K3\"])\n",
    "\n",
    "# join dataframes\n",
    "df_join = df1.join(df2)\n",
    "\n",
    "# display DataFrames\n",
    "print(\"DataFrame 1:\\n\", df1)\n",
    "print(\"\\nDataFrame 2:\\n\", df2)\n",
    "print(\"\\nJoined DataFrame:\\n\", df_join)"
   ]
  },
  {
   "cell_type": "markdown",
   "metadata": {},
   "source": [
    "# 2) Types of join\n",
    "\n",
    "- mozme ich specifikovat v **how** argumente f-cie **join()**\n",
    "- typy:\n",
    "  - left join\n",
    "  - right join\n",
    "  - outer join\n",
    "  - inner join (default)\n",
    "  - cross join\n"
   ]
  },
  {
   "cell_type": "markdown",
   "metadata": {},
   "source": [
    "## 2.1) Left join\n",
    "\n",
    "- spaja 2 dataframy zalozene na spolocnom kluci a vracia novy dataframe, ktory obsahuje vsetky riadky z laveho dataframu a zhodne riadky z praveho dataframu\n",
    "- ak hodnoty nie su najdene v pravom dataframe, tak vyplni miesta s **NaN**\n"
   ]
  },
  {
   "cell_type": "code",
   "execution_count": 2,
   "metadata": {},
   "outputs": [
    {
     "name": "stdout",
     "output_type": "stream",
     "text": [
      "  EmployeeID         Name DeptID DeptName\n",
      "0       E001     John Doe   D001    Sales\n",
      "1       E002   Jane Smith   D003    Admin\n",
      "2       E003  Peter Brown   D001    Sales\n",
      "3       E004  Tom Johnson   D002       HR\n",
      "4       E005   Rita Patel   D005      NaN\n"
     ]
    }
   ],
   "source": [
    "import pandas as pd\n",
    "\n",
    "# create dataframes from the dictionaries\n",
    "data1 = {\n",
    "    \"EmployeeID\": [\"E001\", \"E002\", \"E003\", \"E004\", \"E005\"],\n",
    "    \"Name\": [\"John Doe\", \"Jane Smith\", \"Peter Brown\", \"Tom Johnson\", \"Rita Patel\"],\n",
    "    \"DeptID\": [\"D001\", \"D003\", \"D001\", \"D002\", \"D005\"],\n",
    "}\n",
    "employees = pd.DataFrame(data1)\n",
    "\n",
    "data2 = {\n",
    "    \"DeptID\": [\"D001\", \"D002\", \"D003\", \"D004\"],\n",
    "    \"DeptName\": [\"Sales\", \"HR\", \"Admin\", \"Marketing\"],\n",
    "}\n",
    "departments = pd.DataFrame(data2)\n",
    "\n",
    "# set DeptID as index for departments\n",
    "departments.set_index(\"DeptID\", inplace=True)\n",
    "\n",
    "# left join\n",
    "df_join = employees.join(departments, on=\"DeptID\", how=\"left\")\n",
    "\n",
    "print(df_join)"
   ]
  },
  {
   "cell_type": "markdown",
   "metadata": {},
   "source": [
    "## 2.2) Right join\n",
    "\n",
    "- opacne ako left join\n",
    "- vracia riadky z praveho dataframu a zhodne riadky z laveho dataframu\n"
   ]
  },
  {
   "cell_type": "code",
   "execution_count": 3,
   "metadata": {},
   "outputs": [
    {
     "name": "stdout",
     "output_type": "stream",
     "text": [
      "  EmployeeID         Name DeptID   DeptName\n",
      "0       E001     John Doe   D001      Sales\n",
      "1       E003  Peter Brown   D001      Sales\n",
      "2       E004  Tom Johnson   D002         HR\n",
      "3       E002   Jane Smith   D003      Admin\n",
      "4        NaN          NaN   D004  Marketing\n"
     ]
    }
   ],
   "source": [
    "import pandas as pd\n",
    "\n",
    "# create dataframes from the dictionaries\n",
    "data1 = {\n",
    "    \"EmployeeID\": [\"E001\", \"E002\", \"E003\", \"E004\", \"E005\"],\n",
    "    \"Name\": [\"John Doe\", \"Jane Smith\", \"Peter Brown\", \"Tom Johnson\", \"Rita Patel\"],\n",
    "    \"DeptID\": [\"D001\", \"D003\", \"D001\", \"D002\", \"D005\"],\n",
    "}\n",
    "employees = pd.DataFrame(data1)\n",
    "\n",
    "data2 = {\n",
    "    \"DeptID\": [\"D001\", \"D002\", \"D003\", \"D004\"],\n",
    "    \"DeptName\": [\"Sales\", \"HR\", \"Admin\", \"Marketing\"],\n",
    "}\n",
    "departments = pd.DataFrame(data2)\n",
    "\n",
    "# set DeptID as index for departments\n",
    "departments.set_index(\"DeptID\", inplace=True)\n",
    "\n",
    "# right join\n",
    "df_join = employees.join(departments, on=\"DeptID\", how=\"right\")\n",
    "\n",
    "# reset index\n",
    "df_join.reset_index(drop=True, inplace=True)\n",
    "\n",
    "print(df_join)"
   ]
  },
  {
   "cell_type": "markdown",
   "metadata": {},
   "source": [
    "## 2.3) Inner join\n",
    "\n",
    "- spaja 2 dataframy so spolocnym klucom a vracia novy dataframe, ktoruy obsahuje iba riadky, ktore sa zhoduju v oboch dataframoch\n"
   ]
  },
  {
   "cell_type": "code",
   "execution_count": 4,
   "metadata": {},
   "outputs": [
    {
     "name": "stdout",
     "output_type": "stream",
     "text": [
      "  EmployeeID         Name DeptID DeptName\n",
      "0       E001     John Doe   D001    Sales\n",
      "1       E002   Jane Smith   D003    Admin\n",
      "2       E003  Peter Brown   D001    Sales\n",
      "3       E004  Tom Johnson   D002       HR\n"
     ]
    }
   ],
   "source": [
    "import pandas as pd\n",
    "\n",
    "# create dataframes from the dictionaries\n",
    "data1 = {\n",
    "    \"EmployeeID\": [\"E001\", \"E002\", \"E003\", \"E004\", \"E005\"],\n",
    "    \"Name\": [\"John Doe\", \"Jane Smith\", \"Peter Brown\", \"Tom Johnson\", \"Rita Patel\"],\n",
    "    \"DeptID\": [\"D001\", \"D003\", \"D001\", \"D002\", \"D005\"],\n",
    "}\n",
    "employees = pd.DataFrame(data1)\n",
    "\n",
    "data2 = {\n",
    "    \"DeptID\": [\"D001\", \"D002\", \"D003\", \"D004\"],\n",
    "    \"DeptName\": [\"Sales\", \"HR\", \"Admin\", \"Marketing\"],\n",
    "}\n",
    "departments = pd.DataFrame(data2)\n",
    "\n",
    "# set DeptID as index for departments\n",
    "departments.set_index(\"DeptID\", inplace=True)\n",
    "\n",
    "# inner join\n",
    "df_join = employees.join(departments, on=\"DeptID\", how=\"inner\")\n",
    "\n",
    "# reset index\n",
    "df_join.reset_index(drop=True, inplace=True)\n",
    "\n",
    "print(df_join)"
   ]
  },
  {
   "cell_type": "markdown",
   "metadata": {},
   "source": [
    "## 2.4) Outer join\n",
    "\n",
    "- oproti inner join vracia novy dataframe so vsetkymi riadkami\n",
    "- prazdne hodnoty vyplni **NaN**\n"
   ]
  },
  {
   "cell_type": "code",
   "execution_count": 5,
   "metadata": {},
   "outputs": [
    {
     "name": "stdout",
     "output_type": "stream",
     "text": [
      "  EmployeeID         Name DeptID   DeptName\n",
      "0       E001     John Doe   D001      Sales\n",
      "1       E003  Peter Brown   D001      Sales\n",
      "2       E004  Tom Johnson   D002         HR\n",
      "3       E002   Jane Smith   D003      Admin\n",
      "4        NaN          NaN   D004  Marketing\n",
      "5       E005   Rita Patel   D005        NaN\n"
     ]
    }
   ],
   "source": [
    "import pandas as pd\n",
    "\n",
    "# create dataframes from the dictionaries\n",
    "data1 = {\n",
    "    \"EmployeeID\": [\"E001\", \"E002\", \"E003\", \"E004\", \"E005\"],\n",
    "    \"Name\": [\"John Doe\", \"Jane Smith\", \"Peter Brown\", \"Tom Johnson\", \"Rita Patel\"],\n",
    "    \"DeptID\": [\"D001\", \"D003\", \"D001\", \"D002\", \"D005\"],\n",
    "}\n",
    "employees = pd.DataFrame(data1)\n",
    "\n",
    "data2 = {\n",
    "    \"DeptID\": [\"D001\", \"D002\", \"D003\", \"D004\"],\n",
    "    \"DeptName\": [\"Sales\", \"HR\", \"Admin\", \"Marketing\"],\n",
    "}\n",
    "departments = pd.DataFrame(data2)\n",
    "\n",
    "# set DeptID as index for departments\n",
    "departments.set_index(\"DeptID\", inplace=True)\n",
    "\n",
    "# outer join\n",
    "df_join = employees.join(departments, on=\"DeptID\", how=\"outer\")\n",
    "\n",
    "# reset index\n",
    "df_join.reset_index(drop=True, inplace=True)\n",
    "\n",
    "print(df_join)"
   ]
  },
  {
   "cell_type": "markdown",
   "metadata": {},
   "source": [
    "## 2.5) Cross join\n",
    "\n",
    "- vytvori \"karteziansky sucin\" z oboch dataframov, pricom zachovava poradie laveho dataframu\n"
   ]
  },
  {
   "cell_type": "code",
   "execution_count": 6,
   "metadata": {},
   "outputs": [
    {
     "name": "stdout",
     "output_type": "stream",
     "text": [
      "   EmployeeID         Name DeptID   DeptName\n",
      "0        E001     John Doe   D001      Sales\n",
      "1        E001     John Doe   D001         HR\n",
      "2        E001     John Doe   D001      Admin\n",
      "3        E001     John Doe   D001  Marketing\n",
      "4        E002   Jane Smith   D003      Sales\n",
      "5        E002   Jane Smith   D003         HR\n",
      "6        E002   Jane Smith   D003      Admin\n",
      "7        E002   Jane Smith   D003  Marketing\n",
      "8        E003  Peter Brown   D001      Sales\n",
      "9        E003  Peter Brown   D001         HR\n",
      "10       E003  Peter Brown   D001      Admin\n",
      "11       E003  Peter Brown   D001  Marketing\n",
      "12       E004  Tom Johnson   D002      Sales\n",
      "13       E004  Tom Johnson   D002         HR\n",
      "14       E004  Tom Johnson   D002      Admin\n",
      "15       E004  Tom Johnson   D002  Marketing\n",
      "16       E005   Rita Patel   D005      Sales\n",
      "17       E005   Rita Patel   D005         HR\n",
      "18       E005   Rita Patel   D005      Admin\n",
      "19       E005   Rita Patel   D005  Marketing\n"
     ]
    }
   ],
   "source": [
    "import pandas as pd\n",
    "\n",
    "# create dataframes from the dictionaries\n",
    "data1 = {\n",
    "    \"EmployeeID\": [\"E001\", \"E002\", \"E003\", \"E004\", \"E005\"],\n",
    "    \"Name\": [\"John Doe\", \"Jane Smith\", \"Peter Brown\", \"Tom Johnson\", \"Rita Patel\"],\n",
    "    \"DeptID\": [\"D001\", \"D003\", \"D001\", \"D002\", \"D005\"],\n",
    "}\n",
    "employees = pd.DataFrame(data1)\n",
    "\n",
    "data2 = {\n",
    "    \"DeptID\": [\"D001\", \"D002\", \"D003\", \"D004\"],\n",
    "    \"DeptName\": [\"Sales\", \"HR\", \"Admin\", \"Marketing\"],\n",
    "}\n",
    "departments = pd.DataFrame(data2)\n",
    "\n",
    "# set DeptID as index for departments\n",
    "departments.set_index(\"DeptID\", inplace=True)\n",
    "\n",
    "# cross join\n",
    "df_join = employees.join(departments, how=\"cross\")\n",
    "\n",
    "print(df_join)"
   ]
  }
 ],
 "metadata": {
  "kernelspec": {
   "display_name": ".venv",
   "language": "python",
   "name": "python3"
  },
  "language_info": {
   "codemirror_mode": {
    "name": "ipython",
    "version": 3
   },
   "file_extension": ".py",
   "mimetype": "text/x-python",
   "name": "python",
   "nbconvert_exporter": "python",
   "pygments_lexer": "ipython3",
   "version": "3.13.1"
  }
 },
 "nbformat": 4,
 "nbformat_minor": 2
}

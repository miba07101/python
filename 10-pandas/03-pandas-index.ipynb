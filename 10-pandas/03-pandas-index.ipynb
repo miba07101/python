{
 "cells": [
  {
   "cell_type": "markdown",
   "metadata": {},
   "source": [
    "# 1) Pandas index\n",
    "\n",
    "- oznacuju riadky alebo stlpce v pandas Series a DataFrame"
   ]
  },
  {
   "cell_type": "markdown",
   "metadata": {},
   "source": [
    "# 2) Create indexes\n",
    "\n",
    "- najcastejsie metody:\n",
    "    - default index (predvolene indexovanie)\n",
    "    - setting index (nastavenie oznacenia indexovania)\n",
    "    - range index (nastavenie rozsahu indexovania)"
   ]
  },
  {
   "cell_type": "markdown",
   "metadata": {},
   "source": [
    "## 2.1) Default index\n",
    "\n",
    "- zacina od 0"
   ]
  },
  {
   "cell_type": "code",
   "execution_count": null,
   "metadata": {},
   "outputs": [
    {
     "name": "stdout",
     "output_type": "stream",
     "text": [
      "    Name  Age      City\n",
      "0   John   25  New York\n",
      "1  Alice   28    London\n",
      "2    Bob   32     Paris\n"
     ]
    }
   ],
   "source": [
    "import pandas as pd\n",
    "\n",
    "data = {\n",
    "    \"Name\": [\"John\", \"Alice\", \"Bob\"],\n",
    "    \"Age\": [25, 28, 32],\n",
    "    \"City\": [\"New York\", \"London\", \"Paris\"],\n",
    "}\n",
    "\n",
    "df = pd.DataFrame(data)\n",
    "print(df)"
   ]
  },
  {
   "cell_type": "markdown",
   "metadata": {},
   "source": [
    "## 2.2) Setting index\n",
    "\n",
    "- **set_index()** - mozme pouzit existujuce stlpce ako index, cize nahradime predvolene indexovanie udajmi z existujuceho stlpca"
   ]
  },
  {
   "cell_type": "code",
   "execution_count": null,
   "metadata": {},
   "outputs": [
    {
     "name": "stdout",
     "output_type": "stream",
     "text": [
      "       Age      City\n",
      "Name                \n",
      "John    25  New York\n",
      "Alice   28    London\n",
      "Bob     32     Paris\n"
     ]
    }
   ],
   "source": [
    "import pandas as pd\n",
    "\n",
    "# create dataframe\n",
    "data = {\n",
    "    \"Name\": [\"John\", \"Alice\", \"Bob\"],\n",
    "    \"Age\": [25, 28, 32],\n",
    "    \"City\": [\"New York\", \"London\", \"Paris\"],\n",
    "}\n",
    "\n",
    "df = pd.DataFrame(data)\n",
    "\n",
    "# set the 'Name' column as index\n",
    "df.set_index(\n",
    "    \"Name\", inplace=True\n",
    ")  # inplace parameter vykona operaciu priamo na objekte, bez nutnosti vytvarania noveho\n",
    "\n",
    "print(df)"
   ]
  },
  {
   "cell_type": "markdown",
   "metadata": {},
   "source": [
    "## 2.3) Creating a range index\n",
    "\n",
    "- **RangeIndex()** vytvorenie rozsahu indexovania so startovaciou a koncovou hodnotou"
   ]
  },
  {
   "cell_type": "code",
   "execution_count": null,
   "metadata": {},
   "outputs": [
    {
     "name": "stdout",
     "output_type": "stream",
     "text": [
      "        Name  Age      City\n",
      "Index                      \n",
      "5       John   25  New York\n",
      "6      Alice   28    London\n",
      "7        Bob   32     Paris\n"
     ]
    }
   ],
   "source": [
    "import pandas as pd\n",
    "\n",
    "# create dataframe\n",
    "data = {\n",
    "    \"Name\": [\"John\", \"Alice\", \"Bob\"],\n",
    "    \"Age\": [25, 28, 32],\n",
    "    \"City\": [\"New York\", \"London\", \"Paris\"],\n",
    "}\n",
    "\n",
    "df = pd.DataFrame(data)\n",
    "\n",
    "# create a range index\n",
    "df = pd.DataFrame(data, index=pd.RangeIndex(5, 8, name=\"Index\"))\n",
    "\n",
    "print(df)"
   ]
  },
  {
   "cell_type": "markdown",
   "metadata": {},
   "source": [
    "# 3) Modifying indexes in pandas\n",
    "\n",
    "- pomocou:\n",
    "    - **renaming index**\n",
    "    - **resetting index**"
   ]
  },
  {
   "cell_type": "markdown",
   "metadata": {},
   "source": [
    "## 3.1) Renaming index\n",
    "\n",
    "- **rename()**"
   ]
  },
  {
   "cell_type": "code",
   "execution_count": null,
   "metadata": {},
   "outputs": [
    {
     "name": "stdout",
     "output_type": "stream",
     "text": [
      "Original DataFrame:\n",
      "    Name  Age      City\n",
      "0   John   25  New York\n",
      "1  Alice   28    London\n",
      "2    Bob   32     Paris\n",
      "\n",
      "Modified DataFrame\n",
      "    Name  Age      City\n",
      "A   John   25  New York\n",
      "B  Alice   28    London\n",
      "C    Bob   32     Paris\n"
     ]
    }
   ],
   "source": [
    "import pandas as pd\n",
    "\n",
    "# create a dataframe\n",
    "data = {\n",
    "    \"Name\": [\"John\", \"Alice\", \"Bob\"],\n",
    "    \"Age\": [25, 28, 32],\n",
    "    \"City\": [\"New York\", \"London\", \"Paris\"],\n",
    "}\n",
    "df = pd.DataFrame(data)\n",
    "\n",
    "# display original dataframe\n",
    "print(\"Original DataFrame:\")\n",
    "print(df)\n",
    "print()\n",
    "\n",
    "# rename index\n",
    "df.rename(index={0: \"A\", 1: \"B\", 2: \"C\"}, inplace=True)\n",
    "\n",
    "# display dataframe after index is renamed\n",
    "print(\"Modified DataFrame\")\n",
    "print(df)"
   ]
  },
  {
   "cell_type": "markdown",
   "metadata": {},
   "source": [
    "## 3.2) Resetting index\n",
    "\n",
    "- **reset_index()**"
   ]
  },
  {
   "cell_type": "code",
   "execution_count": null,
   "metadata": {},
   "outputs": [
    {
     "name": "stdout",
     "output_type": "stream",
     "text": [
      "Original DataFrame:\n",
      "    Name  Age      City\n",
      "A   John   25  New York\n",
      "B  Alice   28    London\n",
      "C    Bob   32     Paris\n",
      "\n",
      "\n",
      "Modified DataFrame after resetting indexes:\n",
      "  index   Name  Age      City\n",
      "0     A   John   25  New York\n",
      "1     B  Alice   28    London\n",
      "2     C    Bob   32     Paris\n"
     ]
    }
   ],
   "source": [
    "import pandas as pd\n",
    "\n",
    "data = {\n",
    "    \"Name\": [\"John\", \"Alice\", \"Bob\"],\n",
    "    \"Age\": [25, 28, 32],\n",
    "    \"City\": [\"New York\", \"London\", \"Paris\"],\n",
    "}\n",
    "\n",
    "# create a dataframe\n",
    "df = pd.DataFrame(data)\n",
    "\n",
    "# rename index\n",
    "df.rename(index={0: \"A\", 1: \"B\", 2: \"C\"}, inplace=True)\n",
    "\n",
    "# display dataframe\n",
    "print(\"Original DataFrame:\")\n",
    "print(df)\n",
    "print(\"\\n\")\n",
    "\n",
    "# reset index\n",
    "df.reset_index(inplace=True)\n",
    "\n",
    "# display dataframe after index is reset\n",
    "print(\"Modified DataFrame after resetting indexes:\")\n",
    "print(df)"
   ]
  },
  {
   "cell_type": "markdown",
   "metadata": {},
   "source": [
    "# 4) Access rows by index\n",
    "\n",
    "- **.iloc** property"
   ]
  },
  {
   "cell_type": "code",
   "execution_count": null,
   "metadata": {},
   "outputs": [
    {
     "name": "stdout",
     "output_type": "stream",
     "text": [
      "Original DataFrame:\n",
      "     Name  Age      City\n",
      "0   John   25  New York\n",
      "1  Alice   28    London\n",
      "2    Bob   32     Paris\n",
      "\n",
      "Second row:\n",
      " Name     Alice\n",
      "Age         28\n",
      "City    London\n",
      "Name: 1, dtype: object\n"
     ]
    }
   ],
   "source": [
    "import pandas as pd\n",
    "\n",
    "# create a dataframe\n",
    "data = {\n",
    "    \"Name\": [\"John\", \"Alice\", \"Bob\"],\n",
    "    \"Age\": [25, 28, 32],\n",
    "    \"City\": [\"New York\", \"London\", \"Paris\"],\n",
    "}\n",
    "\n",
    "df = pd.DataFrame(data)\n",
    "print(\"Original DataFrame:\\n\", df)\n",
    "\n",
    "# access second row\n",
    "second_row = df.iloc[1]\n",
    "\n",
    "print(\"\\nSecond row:\\n\", second_row)"
   ]
  },
  {
   "cell_type": "markdown",
   "metadata": {},
   "source": [
    "# 5) Get DataFrame index\n",
    "\n",
    "- **index** attribute"
   ]
  },
  {
   "cell_type": "code",
   "execution_count": null,
   "metadata": {},
   "outputs": [
    {
     "name": "stdout",
     "output_type": "stream",
     "text": [
      "Original DataFrame:\n",
      "     Name  Age      City\n",
      "0   John   25  New York\n",
      "1  Alice   28    London\n",
      "2    Bob   32     Paris\n",
      "\n",
      "RangeIndex(start=0, stop=3, step=1)\n",
      "[0 1 2]\n"
     ]
    }
   ],
   "source": [
    "import pandas as pd\n",
    "\n",
    "# create a dataframe\n",
    "data = {\n",
    "    \"Name\": [\"John\", \"Alice\", \"Bob\"],\n",
    "    \"Age\": [25, 28, 32],\n",
    "    \"City\": [\"New York\", \"London\", \"Paris\"],\n",
    "}\n",
    "\n",
    "df = pd.DataFrame(data)\n",
    "print(\"Original DataFrame:\\n\", df)\n",
    "print()\n",
    "\n",
    "# return index object\n",
    "print(df.index)\n",
    "\n",
    "# return index values as a list\n",
    "print(df.index.values)"
   ]
  },
  {
   "cell_type": "markdown",
   "metadata": {},
   "source": [
    "# 6) Types of indexes\n",
    "\n",
    "- pandas podporuje rozne typy indexov (rangeIndex, CategoricalIndex, DateTimeIndex ....)\n",
    "- viac info v pandas oficialnej dokumentacii \n",
    "https://pandas.pydata.org/docs/reference/api/pandas.Index.html"
   ]
  }
 ],
 "metadata": {
  "kernelspec": {
   "display_name": ".venv",
   "language": "python",
   "name": "python3"
  },
  "language_info": {
   "codemirror_mode": {
    "name": "ipython",
    "version": 3
   },
   "file_extension": ".py",
   "mimetype": "text/x-python",
   "name": "python",
   "nbconvert_exporter": "python",
   "pygments_lexer": "ipython3",
   "version": "3.13.1"
  }
 },
 "nbformat": 4,
 "nbformat_minor": 2
}

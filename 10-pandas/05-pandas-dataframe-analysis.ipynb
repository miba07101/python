{
 "cells": [
  {
   "cell_type": "markdown",
   "metadata": {},
   "source": [
    "# 1) Pandas DataFrame analysis\n",
    "\n",
    "- zabudovane f-cie:\n",
    "    - head()\n",
    "    - tail()\n",
    "    - info()\n",
    "- pouzivame ich na zobrazenie rozsiahlych databaz"
   ]
  },
  {
   "cell_type": "markdown",
   "metadata": {},
   "source": [
    "## 1.1) Head()\n",
    "\n",
    "- poskytuje rychlu sumarizaciu DataFramu\n",
    "- vracia (returns) hlavicky stlpcov a specifikovany pocet riadkov od zaciatku\n",
    "- prednastavena hodnota (default) je **5** riadkov"
   ]
  },
  {
   "cell_type": "code",
   "execution_count": null,
   "metadata": {},
   "outputs": [
    {
     "name": "stdout",
     "output_type": "stream",
     "text": [
      "First Three Rows:\n",
      "    Name  Age      City\n",
      "0   John   25  New York\n",
      "1  Alice   30     Paris\n",
      "2    Bob   35    London\n",
      "\n",
      "First Five Rows:\n",
      "    Name  Age      City\n",
      "0   John   25  New York\n",
      "1  Alice   30     Paris\n",
      "2    Bob   35    London\n",
      "3   Emma   28    Sydney\n",
      "4   Mike   32     Tokyo\n"
     ]
    }
   ],
   "source": [
    "import pandas as pd\n",
    "\n",
    "# create a dataframe\n",
    "data = {\n",
    "    \"Name\": [\n",
    "        \"John\",\n",
    "        \"Alice\",\n",
    "        \"Bob\",\n",
    "        \"Emma\",\n",
    "        \"Mike\",\n",
    "        \"Sarah\",\n",
    "        \"David\",\n",
    "        \"Linda\",\n",
    "        \"Tom\",\n",
    "        \"Emily\",\n",
    "    ],\n",
    "    \"Age\": [25, 30, 35, 28, 32, 27, 40, 33, 29, 31],\n",
    "    \"City\": [\n",
    "        \"New York\",\n",
    "        \"Paris\",\n",
    "        \"London\",\n",
    "        \"Sydney\",\n",
    "        \"Tokyo\",\n",
    "        \"Berlin\",\n",
    "        \"Rome\",\n",
    "        \"Madrid\",\n",
    "        \"Toronto\",\n",
    "        \"Moscow\",\n",
    "    ],\n",
    "}\n",
    "df = pd.DataFrame(data)\n",
    "\n",
    "# display the first three rows\n",
    "print(\"First Three Rows:\")\n",
    "print(df.head(3))\n",
    "print()\n",
    "\n",
    "# display the first five rows\n",
    "print(\"First Five Rows:\")\n",
    "print(df.head())"
   ]
  },
  {
   "cell_type": "markdown",
   "metadata": {},
   "source": [
    "## 1.2) Tail()\n",
    "\n",
    "- ako Head() ale zobrazuje riadky od konca"
   ]
  },
  {
   "cell_type": "code",
   "execution_count": null,
   "metadata": {},
   "outputs": [
    {
     "name": "stdout",
     "output_type": "stream",
     "text": [
      "Last Three Rows:\n",
      "    Name  Age     City\n",
      "7  Linda   33   Madrid\n",
      "8    Tom   29  Toronto\n",
      "9  Emily   31   Moscow\n",
      "\n",
      "Last Five Rows:\n",
      "    Name  Age     City\n",
      "5  Sarah   27   Berlin\n",
      "6  David   40     Rome\n",
      "7  Linda   33   Madrid\n",
      "8    Tom   29  Toronto\n",
      "9  Emily   31   Moscow\n"
     ]
    }
   ],
   "source": [
    "import pandas as pd\n",
    "\n",
    "# create a dataframe\n",
    "data = {\n",
    "    \"Name\": [\n",
    "        \"John\",\n",
    "        \"Alice\",\n",
    "        \"Bob\",\n",
    "        \"Emma\",\n",
    "        \"Mike\",\n",
    "        \"Sarah\",\n",
    "        \"David\",\n",
    "        \"Linda\",\n",
    "        \"Tom\",\n",
    "        \"Emily\",\n",
    "    ],\n",
    "    \"Age\": [25, 30, 35, 28, 32, 27, 40, 33, 29, 31],\n",
    "    \"City\": [\n",
    "        \"New York\",\n",
    "        \"Paris\",\n",
    "        \"London\",\n",
    "        \"Sydney\",\n",
    "        \"Tokyo\",\n",
    "        \"Berlin\",\n",
    "        \"Rome\",\n",
    "        \"Madrid\",\n",
    "        \"Toronto\",\n",
    "        \"Moscow\",\n",
    "    ],\n",
    "}\n",
    "\n",
    "df = pd.DataFrame(data)\n",
    "\n",
    "# display the last three rows\n",
    "print(\"Last Three Rows:\")\n",
    "print(df.tail(3))\n",
    "print()\n",
    "\n",
    "# display the last five rows\n",
    "print(\"Last Five Rows:\")\n",
    "print(df.tail())"
   ]
  },
  {
   "cell_type": "markdown",
   "metadata": {},
   "source": [
    "## 1.3) Info()\n",
    "\n",
    "- ziskavam celkove informacie o DataFrame, ako napr.:\n",
    "    - class\n",
    "    - data type\n",
    "    - size\n",
    "    - atd..."
   ]
  },
  {
   "cell_type": "code",
   "execution_count": null,
   "metadata": {},
   "outputs": [
    {
     "name": "stdout",
     "output_type": "stream",
     "text": [
      "<class 'pandas.core.frame.DataFrame'>\n",
      "RangeIndex: 10 entries, 0 to 9\n",
      "Data columns (total 3 columns):\n",
      " #   Column  Non-Null Count  Dtype \n",
      "---  ------  --------------  ----- \n",
      " 0   Name    10 non-null     object\n",
      " 1   Age     10 non-null     int64 \n",
      " 2   City    10 non-null     object\n",
      "dtypes: int64(1), object(2)\n",
      "memory usage: 372.0+ bytes\n"
     ]
    }
   ],
   "source": [
    "import pandas as pd\n",
    "\n",
    "# create dataframe\n",
    "data = {\n",
    "    \"Name\": [\n",
    "        \"John\",\n",
    "        \"Alice\",\n",
    "        \"Bob\",\n",
    "        \"Emma\",\n",
    "        \"Mike\",\n",
    "        \"Sarah\",\n",
    "        \"David\",\n",
    "        \"Linda\",\n",
    "        \"Tom\",\n",
    "        \"Emily\",\n",
    "    ],\n",
    "    \"Age\": [25, 30, 35, 28, 32, 27, 40, 33, 29, 31],\n",
    "    \"City\": [\n",
    "        \"New York\",\n",
    "        \"Paris\",\n",
    "        \"London\",\n",
    "        \"Sydney\",\n",
    "        \"Tokyo\",\n",
    "        \"Berlin\",\n",
    "        \"Rome\",\n",
    "        \"Madrid\",\n",
    "        \"Toronto\",\n",
    "        \"Moscow\",\n",
    "    ],\n",
    "}\n",
    "df = pd.DataFrame(data)\n",
    "\n",
    "# get info about dataframe\n",
    "df.info()"
   ]
  }
 ],
 "metadata": {
  "kernelspec": {
   "display_name": ".venv",
   "language": "python",
   "name": "python3"
  },
  "language_info": {
   "codemirror_mode": {
    "name": "ipython",
    "version": 3
   },
   "file_extension": ".py",
   "mimetype": "text/x-python",
   "name": "python",
   "nbconvert_exporter": "python",
   "pygments_lexer": "ipython3",
   "version": "3.13.1"
  }
 },
 "nbformat": 4,
 "nbformat_minor": 2
}

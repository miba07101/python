{
 "cells": [
  {
   "cell_type": "markdown",
   "metadata": {},
   "source": [
    "# 1) Pandas data cleaning\n",
    "\n",
    "- v podstate cistenie mnozstva dat, najcastejsie:\n",
    "  - odstranenie irelevantnych stlpcov\n",
    "  - premenovanie nazvov stlpcov\n",
    "  - nahradenie alebo vyplnenie chybajucich udajov\n"
   ]
  },
  {
   "cell_type": "markdown",
   "metadata": {},
   "source": [
    "## 1.1) Drop rows with missing values\n",
    "\n",
    "- **dropna()**\n"
   ]
  },
  {
   "cell_type": "code",
   "execution_count": 1,
   "metadata": {},
   "outputs": [
    {
     "name": "stdout",
     "output_type": "stream",
     "text": [
      "Original Data:\n",
      "      A    B    C\n",
      "0  1.0  NaN  1.0\n",
      "1  2.0  2.0  2.0\n",
      "2  3.0  3.0  NaN\n",
      "3  NaN  4.0  NaN\n",
      "4  5.0  5.0  5.0\n",
      "\n",
      "Cleaned Data:\n",
      "      A    B    C\n",
      "1  2.0  2.0  2.0\n",
      "4  5.0  5.0  5.0\n"
     ]
    }
   ],
   "source": [
    "import pandas as pd\n",
    "\n",
    "# define a dictionary with sample data which includes some missing values\n",
    "data = {\"A\": [1, 2, 3, None, 5], \"B\": [None, 2, 3, 4, 5], \"C\": [1, 2, None, None, 5]}\n",
    "\n",
    "df = pd.DataFrame(data)\n",
    "print(\"Original Data:\\n\", df)\n",
    "print()\n",
    "\n",
    "# use dropna() to remove rows with any missing values\n",
    "df_cleaned = df.dropna()\n",
    "\n",
    "print(\"Cleaned Data:\\n\", df_cleaned)"
   ]
  },
  {
   "cell_type": "markdown",
   "metadata": {},
   "source": [
    "## 1.2) Fill missing values\n",
    "\n",
    "- **fillna()**\n"
   ]
  },
  {
   "cell_type": "code",
   "execution_count": 2,
   "metadata": {},
   "outputs": [
    {
     "name": "stdout",
     "output_type": "stream",
     "text": [
      "Original Data:\n",
      "      A    B    C\n",
      "0  1.0  NaN  1.0\n",
      "1  2.0  2.0  2.0\n",
      "2  3.0  3.0  NaN\n",
      "3  NaN  4.0  NaN\n",
      "4  5.0  5.0  5.0\n",
      "\n",
      "Data after filling NaN with 0:\n",
      "      A    B    C\n",
      "0  1.0  0.0  1.0\n",
      "1  2.0  2.0  2.0\n",
      "2  3.0  3.0  0.0\n",
      "3  0.0  4.0  0.0\n",
      "4  5.0  5.0  5.0\n"
     ]
    }
   ],
   "source": [
    "import pandas as pd\n",
    "\n",
    "# define a dictionary with sample data which includes some missing values\n",
    "data = {\"A\": [1, 2, 3, None, 5], \"B\": [None, 2, 3, 4, 5], \"C\": [1, 2, None, None, 5]}\n",
    "\n",
    "df = pd.DataFrame(data)\n",
    "\n",
    "print(\"Original Data:\\n\", df)\n",
    "\n",
    "# filling NaN values with 0\n",
    "df.fillna(0, inplace=True)\n",
    "\n",
    "print(\"\\nData after filling NaN with 0:\\n\", df)"
   ]
  },
  {
   "cell_type": "markdown",
   "metadata": {},
   "source": [
    "## 1.3) Use aggregate functions to fill missing values\n"
   ]
  },
  {
   "cell_type": "code",
   "execution_count": 3,
   "metadata": {},
   "outputs": [
    {
     "name": "stdout",
     "output_type": "stream",
     "text": [
      "Original Data:\n",
      "      A    B    C\n",
      "0  1.0  NaN  1.0\n",
      "1  2.0  2.0  2.0\n",
      "2  3.0  3.0  NaN\n",
      "3  NaN  4.0  NaN\n",
      "4  5.0  5.0  5.0\n",
      "\n",
      "Data after filling NaN with mean:\n",
      "       A    B         C\n",
      "0  1.00  3.5  1.000000\n",
      "1  2.00  2.0  2.000000\n",
      "2  3.00  3.0  2.666667\n",
      "3  2.75  4.0  2.666667\n",
      "4  5.00  5.0  5.000000\n"
     ]
    }
   ],
   "source": [
    "import pandas as pd\n",
    "\n",
    "# define a dictionary with sample data which includes some missing values\n",
    "data = {\"A\": [1, 2, 3, None, 5], \"B\": [None, 2, 3, 4, 5], \"C\": [1, 2, None, None, 5]}\n",
    "\n",
    "df = pd.DataFrame(data)\n",
    "\n",
    "print(\"Original Data:\\n\", df)\n",
    "\n",
    "# filling NaN values with the mean of each column\n",
    "df.fillna(df.mean(), inplace=True)\n",
    "\n",
    "print(\"\\nData after filling NaN with mean:\\n\", df)"
   ]
  },
  {
   "cell_type": "markdown",
   "metadata": {},
   "source": [
    "## 1.4) Handle duplicates values\n",
    "\n",
    "- **duplicated():** kontrola duplicitnych hodnot\n",
    "- **drop_duplicates():** - odstranenie duplicitnych riadkov\n"
   ]
  },
  {
   "cell_type": "code",
   "execution_count": 4,
   "metadata": {},
   "outputs": [
    {
     "name": "stdout",
     "output_type": "stream",
     "text": [
      "Original DataFrame:\n",
      "  A  B\n",
      " 1  5\n",
      " 2  6\n",
      " 2  6\n",
      " 3  7\n",
      " 3  8\n",
      " 4  8\n",
      "\n",
      "Duplicate Rows:\n",
      "  A  B\n",
      " 2  6\n",
      "\n",
      "DataFrame after removing duplicates based on column 'A':\n",
      "  A  B\n",
      " 1  5\n",
      " 2  6\n",
      " 3  7\n",
      " 4  8\n"
     ]
    }
   ],
   "source": [
    "import pandas as pd\n",
    "\n",
    "# sample data\n",
    "data = {\"A\": [1, 2, 2, 3, 3, 4], \"B\": [5, 6, 6, 7, 8, 8]}\n",
    "df = pd.DataFrame(data)\n",
    "\n",
    "print(\"Original DataFrame:\\n\", df.to_string(index=False))\n",
    "\n",
    "# detect duplicates\n",
    "print(\"\\nDuplicate Rows:\\n\", df[df.duplicated()].to_string(index=False))\n",
    "\n",
    "# remove duplicates based on column 'A'\n",
    "df.drop_duplicates(subset=[\"A\"], keep=\"first\", inplace=True)\n",
    "\n",
    "print(\n",
    "    \"\\nDataFrame after removing duplicates based on column 'A':\\n\",\n",
    "    df.to_string(index=False),\n",
    ")"
   ]
  },
  {
   "cell_type": "markdown",
   "metadata": {},
   "source": [
    "## 1.5) Rename column names to meaningful names\n",
    "\n",
    "- **rename()**\n"
   ]
  },
  {
   "cell_type": "code",
   "execution_count": 5,
   "metadata": {},
   "outputs": [
    {
     "name": "stdout",
     "output_type": "stream",
     "text": [
      " Age  Name  Salary\n",
      "  25  John   50000\n",
      "  30   Doe   60000\n",
      "  35 Smith   70000\n"
     ]
    }
   ],
   "source": [
    "import pandas as pd\n",
    "\n",
    "# sample data\n",
    "data = {\"A\": [25, 30, 35], \"B\": [\"John\", \"Doe\", \"Smith\"], \"C\": [50000, 60000, 70000]}\n",
    "\n",
    "df = pd.DataFrame(data)\n",
    "\n",
    "# rename columns\n",
    "df.rename(columns={\"A\": \"Age\", \"B\": \"Name\", \"C\": \"Salary\"}, inplace=True)\n",
    "\n",
    "print(df.to_string(index=False))"
   ]
  }
 ],
 "metadata": {
  "kernelspec": {
   "display_name": ".venv",
   "language": "python",
   "name": "python3"
  },
  "language_info": {
   "codemirror_mode": {
    "name": "ipython",
    "version": 3
   },
   "file_extension": ".py",
   "mimetype": "text/x-python",
   "name": "python",
   "nbconvert_exporter": "python",
   "pygments_lexer": "ipython3",
   "version": "3.13.1"
  }
 },
 "nbformat": 4,
 "nbformat_minor": 2
}

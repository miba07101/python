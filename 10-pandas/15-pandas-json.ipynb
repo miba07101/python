{
 "cells": [
  {
   "cell_type": "markdown",
   "metadata": {},
   "source": [
    "# 1) Pandas JSON\n",
    "\n",
    "- reading and writting to JSON (javascript object notation)\n",
    "- **read_json()** - official doc: https://pandas.pydata.org/docs/reference/api/pandas.read_json.html\n",
    "- **to_json()** - official doc: https://pandas.pydata.org/docs/reference/api/pandas.read_json.html\n"
   ]
  },
  {
   "cell_type": "code",
   "execution_count": null,
   "metadata": {},
   "outputs": [],
   "source": [
    "# read_json()\n",
    "# import pandas as pd\n",
    "\n",
    "# df = pd.read_json('data.json', orient = 'values', lines = False)\n",
    "\n",
    "# print(df)\n",
    "\n",
    "# ---------------------------------------------------------------\n",
    "\n",
    "# to_json()\n",
    "# import pandas as pd\n",
    "\n",
    "# # create a dictionary\n",
    "# data = {'Name': ['John', 'Alice', 'Bob'],\n",
    "#              'Age': [25, 30, 35],\n",
    "#              'City': ['New York', 'London', 'Paris']}\n",
    "\n",
    "# # create a dataframe from the dictionary\n",
    "# df = pd.DataFrame(data)\n",
    "\n",
    "# # write dataframe to json file\n",
    "# df.to_json('output.json', orient = 'records', indent = 4)"
   ]
  }
 ],
 "metadata": {
  "kernelspec": {
   "display_name": ".venv",
   "language": "python",
   "name": "python3"
  },
  "language_info": {
   "name": "python",
   "version": "3.13.1"
  }
 },
 "nbformat": 4,
 "nbformat_minor": 2
}

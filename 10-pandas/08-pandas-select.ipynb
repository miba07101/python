{
 "cells": [
  {
   "cell_type": "markdown",
   "metadata": {},
   "source": [
    "# 1) Pandas select\n",
    "\n",
    "- na extrakciu specifikovanej cast dataframu\n",
    "- vyber riadku alebo stlpca na zaklade oznacenia (labels), pozicie (position) alebo podmienok (conditions)\n",
    "- pouzivame:\n",
    "    - basic indexing\n",
    "    - slicing\n",
    "    - boolean indexing\n",
    "    - querying"
   ]
  }
 ],
 "metadata": {
  "language_info": {
   "name": "python"
  }
 },
 "nbformat": 4,
 "nbformat_minor": 2
}

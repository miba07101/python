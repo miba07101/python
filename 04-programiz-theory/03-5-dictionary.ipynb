{
 "cells": [
  {
   "cell_type": "markdown",
   "metadata": {},
   "source": [
    "# 1) Dictionary\n",
    "\n",
    "- characteristics:\n",
    "    - **ordered** collection of items\n",
    "    - each item is **key-value** pair\n",
    "    - **keys** - must be **immutable** like tuples, strings\n",
    "    - **keys** - must be **unique**\n",
    "    - **values** - can be of any type including **mutable** types like list\n",
    "\n",
    "- syntax:\n",
    "```python\n",
    "{key: value}\n",
    "```"
   ]
  },
  {
   "cell_type": "markdown",
   "metadata": {},
   "source": [
    "## 1.1) Create dictionary\n",
    "\n",
    "- using **key: value** pairs inside **curly brackets {}**\n",
    "- using **dict()** build-in function"
   ]
  },
  {
   "cell_type": "code",
   "execution_count": 6,
   "metadata": {},
   "outputs": [
    {
     "name": "stdout",
     "output_type": "stream",
     "text": [
      "Using {} {'Germany': 'Berlin', 'Canada': 'Ottava', 'China': 'Peking'}\n",
      "Using dict() {'Germany': 'Berlin', 'Canada': 'Ottava', 'China': 'Peking'}\n"
     ]
    }
   ],
   "source": [
    "# create dictionary using {}\n",
    "country_capitals = {\"Germany\": \"Berlin\", \"Canada\": \"Ottava\", \"China\": \"Peking\"}\n",
    "\n",
    "print(\"Using {}\", country_capitals)\n",
    "\n",
    "\n",
    "country_capitals = dict(Germany=\"Berlin\", Canada=\"Ottava\", China=\"Peking\")\n",
    "print(\"Using dict()\", country_capitals)"
   ]
  },
  {
   "cell_type": "markdown",
   "metadata": {},
   "source": [
    "## 1.2) Valid and Invalid dictionaries"
   ]
  },
  {
   "cell_type": "code",
   "execution_count": 8,
   "metadata": {},
   "outputs": [
    {
     "name": "stdout",
     "output_type": "stream",
     "text": [
      "Integer as key: {1: 'one', 2: 'two', 3: 'three'}\n",
      "Tuple as key: {(1, 2): 'one two', 3: 'three'}\n",
      "String as key, List as values: {'USA': ['chicago', 'california']}\n"
     ]
    }
   ],
   "source": [
    "# Valid:\n",
    "# integer as key\n",
    "my_dict = {1: \"one\", 2: \"two\", 3: \"three\"}\n",
    "print(\"Integer as key:\", my_dict)\n",
    "\n",
    "# tuple as key\n",
    "my_dict = {(1, 2): \"one two\", 3: \"three\"}\n",
    "print(\"Tuple as key:\", my_dict)\n",
    "\n",
    "# string as key list as value\n",
    "my_dict = {\"USA\": [\"chicago\", \"california\"]}\n",
    "print(\"String as key, List as values:\", my_dict)\n",
    "\n",
    "# Invalid:\n",
    "# Error: using a list as a key is not allowed\n",
    "# my_dict = {[1,2]: \"one two\", 3:\"three\"}\n",
    "# print(\"List as key:\",my_dict)"
   ]
  },
  {
   "cell_type": "markdown",
   "metadata": {},
   "source": [
    "## 1.3) Access dictionary items\n",
    "\n",
    "- we can access **value** by placing **key** inside **square bracket []**\n",
    "- we can use **get()** method"
   ]
  },
  {
   "cell_type": "code",
   "execution_count": 11,
   "metadata": {},
   "outputs": [
    {
     "name": "stdout",
     "output_type": "stream",
     "text": [
      "Capital of Germany is Berlin\n",
      "Capital of Germany is Berlin\n"
     ]
    }
   ],
   "source": [
    "country_capitals = {\"Germany\": \"Berlin\", \"Canada\": \"Ottawa\", \"England\": \"London\"}\n",
    "\n",
    "# access the value\n",
    "print(\"Capital of Germany is\", country_capitals[\"Germany\"])\n",
    "print(\"Capital of Germany is\", country_capitals.get(\"Germany\"))"
   ]
  },
  {
   "cell_type": "markdown",
   "metadata": {},
   "source": [
    "## 1.4) Add items to dictionary\n",
    "\n",
    "- assigning value to new key\n",
    "- syntax:\n",
    "    ```python\n",
    "    existing_dict[new key] = new value\n",
    "    ```"
   ]
  },
  {
   "cell_type": "code",
   "execution_count": 12,
   "metadata": {},
   "outputs": [
    {
     "name": "stdout",
     "output_type": "stream",
     "text": [
      "Original dict: {'Germany': 'Berlin', 'Canada': 'Ottawa'}\n",
      "New dict: {'Germany': 'Berlin', 'Canada': 'Ottawa', 'Italy': 'Rome'}\n"
     ]
    }
   ],
   "source": [
    "country_capitals = {\n",
    "    \"Germany\": \"Berlin\",\n",
    "    \"Canada\": \"Ottawa\",\n",
    "}\n",
    "\n",
    "print(\"Original dict:\", country_capitals)\n",
    "\n",
    "# add item to dictionary\n",
    "country_capitals[\"Italy\"] = \"Rome\"\n",
    "print(\"New dict:\", country_capitals)"
   ]
  },
  {
   "cell_type": "markdown",
   "metadata": {},
   "source": [
    "## 1.5) Change dictionary items\n",
    "\n",
    "- same as adding but reffering value to existing key "
   ]
  },
  {
   "cell_type": "code",
   "execution_count": 13,
   "metadata": {},
   "outputs": [
    {
     "name": "stdout",
     "output_type": "stream",
     "text": [
      "Original dict: {'Germany': 'Berlin', 'Canada': 'Ottawa', 'Italy': 'Florencia'}\n",
      "New dict: {'Germany': 'Berlin', 'Canada': 'Ottawa', 'Italy': 'Rome'}\n"
     ]
    }
   ],
   "source": [
    "country_capitals = {\n",
    "    \"Germany\": \"Berlin\",\n",
    "    \"Canada\": \"Ottawa\",\n",
    "    \"Italy\": \"Florencia\",\n",
    "}\n",
    "\n",
    "print(\"Original dict:\", country_capitals)\n",
    "\n",
    "# change item in dictionary\n",
    "country_capitals[\"Italy\"] = \"Rome\"\n",
    "print(\"New dict:\", country_capitals)"
   ]
  },
  {
   "cell_type": "markdown",
   "metadata": {},
   "source": [
    "## 1.6) Remove dictionary item\n",
    "\n",
    "- **del** statement - removes 1 or more items\n",
    "- **pop()** method -  removes and return an value of give key\n",
    "- **clear()** method - remove all items"
   ]
  },
  {
   "cell_type": "code",
   "execution_count": 7,
   "metadata": {},
   "outputs": [
    {
     "name": "stdout",
     "output_type": "stream",
     "text": [
      "del statement: {'Canada': 'Ottawa', 'Italy': 'Florencia'}\n",
      "pop(): Ottawa\n",
      "clear() {}\n"
     ]
    }
   ],
   "source": [
    "country_capitals = {\n",
    "    \"Germany\": \"Berlin\",\n",
    "    \"Canada\": \"Ottawa\",\n",
    "    \"Italy\": \"Florencia\",\n",
    "}\n",
    "\n",
    "# del\n",
    "del country_capitals[\"Germany\"]\n",
    "print(\"del statement:\", country_capitals)\n",
    "\n",
    "# pop()\n",
    "country_value = country_capitals.pop(\"Canada\")\n",
    "print(\"pop():\", country_value)\n",
    "\n",
    "# clear()\n",
    "country_capitals.clear()\n",
    "print(\"clear()\", country_capitals)"
   ]
  },
  {
   "cell_type": "markdown",
   "metadata": {},
   "source": [
    "## 1.7) Iterate trough dictionary"
   ]
  },
  {
   "cell_type": "code",
   "execution_count": 13,
   "metadata": {},
   "outputs": [
    {
     "name": "stdout",
     "output_type": "stream",
     "text": [
      "United States\n",
      "Italy\n",
      "United States\n",
      "Italy\n",
      "Washington D.C.\n",
      "Rome\n",
      "Washington D.C.\n",
      "Rome\n"
     ]
    }
   ],
   "source": [
    "country_capitals = {\"United States\": \"Washington D.C.\", \"Italy\": \"Rome\"}\n",
    "\n",
    "# using for loop\n",
    "# print keys\n",
    "for key in country_capitals:\n",
    "    print(key)\n",
    "for key in country_capitals.keys():\n",
    "    print(key)\n",
    "\n",
    "# print values\n",
    "for key in country_capitals:\n",
    "    print(country_capitals[key])\n",
    "for value in country_capitals.values():\n",
    "    print(value)"
   ]
  },
  {
   "cell_type": "markdown",
   "metadata": {},
   "source": [
    "## 1.8) Dictionary length\n",
    "\n",
    "- **len()** build-in function - use to find number of items in a dictionary"
   ]
  },
  {
   "cell_type": "code",
   "execution_count": 14,
   "metadata": {},
   "outputs": [
    {
     "name": "stdout",
     "output_type": "stream",
     "text": [
      "The length of dictionary is: 2\n"
     ]
    }
   ],
   "source": [
    "country_capitals = {\"United States\": \"Washington D.C.\", \"Italy\": \"Rome\"}\n",
    "\n",
    "print(\"The length of dictionary is:\", len(country_capitals))"
   ]
  },
  {
   "cell_type": "markdown",
   "metadata": {},
   "source": [
    "## 1.9) Dictionary membership\n",
    "\n",
    "- chceck if s key exist in dictionary"
   ]
  },
  {
   "cell_type": "code",
   "execution_count": 19,
   "metadata": {},
   "outputs": [
    {
     "name": "stdout",
     "output_type": "stream",
     "text": [
      "{'.txt': 'Text File', '.pdf': 'PDF Document', '.jpg': 'JPEG Image'}\n",
      ".pdf is key in dictionary\n",
      ".pdf is in dictionary: True\n"
     ]
    }
   ],
   "source": [
    "file_types = {\n",
    "    \".txt\": \"Text File\",\n",
    "    \".pdf\": \"PDF Document\",\n",
    "    \".jpg\": \"JPEG Image\",\n",
    "}\n",
    "\n",
    "print(file_types)\n",
    "\n",
    "my_key = \".pdf\"\n",
    "\n",
    "exists = (\n",
    "    f\"{my_key} is key in dictionary\"\n",
    "    if my_key in file_types\n",
    "    else f\"{my_key} is NOT a key in dictionary\"\n",
    ")\n",
    "print(exists)\n",
    "\n",
    "# chceck True False\n",
    "print(my_key, \"is in dictionary:\", my_key in file_types)"
   ]
  }
 ],
 "metadata": {
  "kernelspec": {
   "display_name": ".venv",
   "language": "python",
   "name": "python3"
  },
  "language_info": {
   "codemirror_mode": {
    "name": "ipython",
    "version": 3
   },
   "file_extension": ".py",
   "mimetype": "text/x-python",
   "name": "python",
   "nbconvert_exporter": "python",
   "pygments_lexer": "ipython3",
   "version": "3.12.6"
  }
 },
 "nbformat": 4,
 "nbformat_minor": 2
}

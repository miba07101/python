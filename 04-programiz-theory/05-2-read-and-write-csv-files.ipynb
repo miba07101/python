{
 "cells": [
  {
   "cell_type": "markdown",
   "metadata": {},
   "source": [
    "# 1) Read and write CSV files\n",
    "\n",
    "- csv - comma separated values\n",
    "- **csv** module to work with csv files in python"
   ]
  },
  {
   "cell_type": "markdown",
   "metadata": {},
   "source": [
    "## 1.1) Read CSV files\n",
    "\n",
    "- **reader()** - method of **csv** module to read files\n",
    "- **DictReader()** - class to read csv file to dictionary, first row in csv transform to keys"
   ]
  },
  {
   "cell_type": "code",
   "execution_count": 1,
   "metadata": {},
   "outputs": [
    {
     "name": "stdout",
     "output_type": "stream",
     "text": [
      "['SN', ' Name', '    City']\n",
      "['1', '  Michael', ' New Jersey']\n",
      "['2', '  Jack', '    California']\n"
     ]
    }
   ],
   "source": [
    "# reader() method\n",
    "import csv\n",
    "\n",
    "# open people.csv as file\n",
    "with open(\"people.csv\", \"r\") as file:\n",
    "    # read csv file to variable reader\n",
    "    reader = csv.reader(file)\n",
    "\n",
    "    # display content of people.csv\n",
    "    for row in reader:\n",
    "        print(row)"
   ]
  },
  {
   "cell_type": "code",
   "execution_count": 7,
   "metadata": {},
   "outputs": [
    {
     "name": "stdout",
     "output_type": "stream",
     "text": [
      "{'SN': '1', ' Name': '  Michael', '    City': ' New Jersey'}\n",
      "{'SN': '2', ' Name': '  Jack', '    City': '    California'}\n"
     ]
    }
   ],
   "source": [
    "# DictReader() class\n",
    "import csv\n",
    "\n",
    "with open(\"people.csv\", \"r\") as file:\n",
    "    reader = csv.DictReader(file)\n",
    "    for row in reader:\n",
    "        print(row)"
   ]
  },
  {
   "cell_type": "markdown",
   "metadata": {},
   "source": [
    "## 1.2) Write to CSV files\n",
    "\n",
    "- **writer()** - module to write to a csv file\n",
    "- **DictWriter()** - class to write dictionary data into csv file"
   ]
  },
  {
   "cell_type": "code",
   "execution_count": 8,
   "metadata": {},
   "outputs": [],
   "source": [
    "# writer() method\n",
    "import csv\n",
    "\n",
    "with open(\"new_people.csv\", \"w\", newline=\"\") as file:\n",
    "    writer = csv.writer(file)\n",
    "    writer.writerow([\"SN\", \"Name\", \"City\"])\n",
    "    writer.writerow([1, \"Milan\", \"Bratislava\"])"
   ]
  }
 ],
 "metadata": {
  "kernelspec": {
   "display_name": ".venv",
   "language": "python",
   "name": "python3"
  },
  "language_info": {
   "codemirror_mode": {
    "name": "ipython",
    "version": 3
   },
   "file_extension": ".py",
   "mimetype": "text/x-python",
   "name": "python",
   "nbconvert_exporter": "python",
   "pygments_lexer": "ipython3",
   "version": "3.12.6"
  }
 },
 "nbformat": 4,
 "nbformat_minor": 2
}

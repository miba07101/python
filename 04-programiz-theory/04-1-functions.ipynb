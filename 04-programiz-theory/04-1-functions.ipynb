{
 "cells": [
  {
   "cell_type": "markdown",
   "metadata": {},
   "source": [
    "# 1) Functions\n",
    "\n",
    "- block of code that preforms a specific task\n",
    "- dividing a complex problem into smaller chunks"
   ]
  },
  {
   "cell_type": "markdown",
   "metadata": {},
   "source": [
    "## 1.1) Create a function\n",
    "\n",
    "- syntax:\n",
    "```python\n",
    "def function_name():\n",
    "    function body\n",
    "```"
   ]
  },
  {
   "cell_type": "code",
   "execution_count": 2,
   "metadata": {},
   "outputs": [
    {
     "name": "stdout",
     "output_type": "stream",
     "text": [
      "Hello World\n"
     ]
    }
   ],
   "source": [
    "# define function\n",
    "def greeting():\n",
    "    print(\"Hello World\")\n",
    "\n",
    "\n",
    "# call function\n",
    "greeting()"
   ]
  },
  {
   "cell_type": "markdown",
   "metadata": {},
   "source": [
    "## 1.2) Parameters and arguments\n",
    "\n",
    "- **parameters** - are **variable** listed inside parantheses in the function definition. They act like **placeholders** for the data that f. accept when we call them.\n",
    "\n",
    "- syntax:\n",
    "```python\n",
    "def function_name(parameter):\n",
    "    function body\n",
    "```\n",
    "\n",
    "**arguments** - are inputs/actual values given to function when we call it. Arguments replace parameters when f. executes.\n",
    "\n",
    "- syntax:\n",
    "```python\n",
    "# calling f.\n",
    "function_name(argument)\n",
    "```"
   ]
  },
  {
   "cell_type": "code",
   "execution_count": 3,
   "metadata": {},
   "outputs": [
    {
     "name": "stdout",
     "output_type": "stream",
     "text": [
      "Hello Milan\n"
     ]
    }
   ],
   "source": [
    "def greeting(name):  # name is parameter\n",
    "    print(\"Hello\", name)\n",
    "\n",
    "\n",
    "# call f. with passing argument\n",
    "greeting(\"Milan\")  # \"Milan\" is argument"
   ]
  },
  {
   "cell_type": "code",
   "execution_count": 4,
   "metadata": {},
   "outputs": [
    {
     "name": "stdout",
     "output_type": "stream",
     "text": [
      "Sum: 5\n"
     ]
    }
   ],
   "source": [
    "# f. to add 2 numbers\n",
    "def add_numbers(num1, num2):\n",
    "    sum = num1 + num2\n",
    "    print(\"Sum:\", sum)\n",
    "\n",
    "\n",
    "# call f. and passing 2 numbers to it\n",
    "add_numbers(2, 3)"
   ]
  },
  {
   "cell_type": "markdown",
   "metadata": {},
   "source": [
    "## 1.3) Return statement\n",
    "\n",
    "- return value from the f."
   ]
  },
  {
   "cell_type": "code",
   "execution_count": 11,
   "metadata": {},
   "outputs": [
    {
     "name": "stdout",
     "output_type": "stream",
     "text": [
      "Square: 9\n"
     ]
    }
   ],
   "source": [
    "# define function\n",
    "def find_square(num):\n",
    "    result = num * num\n",
    "    return result\n",
    "\n",
    "\n",
    "# call f.\n",
    "print(\"Square:\", find_square(3))"
   ]
  },
  {
   "cell_type": "markdown",
   "metadata": {},
   "source": [
    "## 1.4) Pass statement\n",
    "\n",
    "- placeholder for future code, preventing errors from empty code block"
   ]
  },
  {
   "cell_type": "code",
   "execution_count": 12,
   "metadata": {},
   "outputs": [],
   "source": [
    "def future_function():\n",
    "    pass\n",
    "\n",
    "\n",
    "# this will execute without any action or error\n",
    "future_function()"
   ]
  }
 ],
 "metadata": {
  "kernelspec": {
   "display_name": ".venv",
   "language": "python",
   "name": "python3"
  },
  "language_info": {
   "codemirror_mode": {
    "name": "ipython",
    "version": 3
   },
   "file_extension": ".py",
   "mimetype": "text/x-python",
   "name": "python",
   "nbconvert_exporter": "python",
   "pygments_lexer": "ipython3",
   "version": "3.12.6"
  }
 },
 "nbformat": 4,
 "nbformat_minor": 2
}

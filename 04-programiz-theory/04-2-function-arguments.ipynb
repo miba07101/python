{
 "cells": [
  {
   "cell_type": "markdown",
   "metadata": {},
   "source": [
    "# 1) Arguments\n",
    "\n",
    "**arguments** - are inputs/actual values given to function when we call it. Arguments replace parameters when f. executes.\n",
    "\n",
    "- syntax:\n",
    "```python\n",
    "# calling f.\n",
    "function_name(argument)\n",
    "```"
   ]
  },
  {
   "cell_type": "code",
   "execution_count": 1,
   "metadata": {},
   "outputs": [
    {
     "name": "stdout",
     "output_type": "stream",
     "text": [
      "Sum: 5\n"
     ]
    }
   ],
   "source": [
    "def add_numbers(num1, num2):  # num1, num2 are parameters\n",
    "    sum = num1 + num2\n",
    "    print(\"Sum:\", sum)\n",
    "\n",
    "\n",
    "# call f. with given arguments\n",
    "add_numbers(2, 3)  # 2,3 are arguments"
   ]
  },
  {
   "cell_type": "markdown",
   "metadata": {},
   "source": [
    "## 1.1) Default arguments\n",
    "\n",
    "- are used when **no explicit** values are passed to f. parameters during f. call. \n",
    "- use the = operator to provide default values\n",
    "- !important: can be rewriten by adding explicit arguments when call the f."
   ]
  },
  {
   "cell_type": "code",
   "execution_count": null,
   "metadata": {},
   "outputs": [
    {
     "name": "stdout",
     "output_type": "stream",
     "text": [
      "Both arguments: Good morning Milan\n",
      "One argument: Hello Milan\n"
     ]
    }
   ],
   "source": [
    "def greeting(name, message=\"Hello\"):\n",
    "    print(message, name)\n",
    "\n",
    "\n",
    "# calling f. with both arguments\n",
    "print(\"Both arguments:\", end=\" \")\n",
    "greeting(\"Milan\", \"Good morning\")\n",
    "\n",
    "# calling f. with one argument\n",
    "print(\"One argument:\", end=\" \")\n",
    "greeting(\"Milan\")"
   ]
  },
  {
   "cell_type": "markdown",
   "metadata": {},
   "source": [
    "## 1.2) Keyword arguments\n",
    "\n",
    "- assign argument to parameter name\n",
    "- !important: position doesn`t matter - we can change order of keyword arguments"
   ]
  },
  {
   "cell_type": "code",
   "execution_count": 3,
   "metadata": {},
   "outputs": [
    {
     "name": "stdout",
     "output_type": "stream",
     "text": [
      "First name: Milan Last name: Doe\n",
      "First name: Milan Last name: Doe\n"
     ]
    }
   ],
   "source": [
    "def display_info(first_name, last_name):\n",
    "    print(\"First name:\", first_name, \"Last name:\", last_name)\n",
    "\n",
    "\n",
    "# call f. with keyword argument\n",
    "display_info(first_name=\"Milan\", last_name=\"Doe\")\n",
    "\n",
    "# call f. with changing position of keyword arguments\n",
    "display_info(last_name=\"Doe\", first_name=\"Milan\")"
   ]
  },
  {
   "cell_type": "markdown",
   "metadata": {},
   "source": [
    "## 1.3) Arbitrary (lubovolny) arguments\n",
    "\n",
    "- when we **do not know** the numbers of arguments that will be passed into a function\n",
    "- we used **asterisk (*)** before the parameter name\n",
    "- syntax:\n",
    "```python\n",
    "def function_name(*parameter):\n",
    "    pass\n",
    "```"
   ]
  },
  {
   "cell_type": "code",
   "execution_count": 6,
   "metadata": {},
   "outputs": [
    {
     "name": "stdout",
     "output_type": "stream",
     "text": [
      "Sum: 5\n",
      "Sum: 6\n"
     ]
    }
   ],
   "source": [
    "# program to find sum of multiple numbers\n",
    "# After getting multiple values, numbers behave as an list\n",
    "# so we are able to use the for loop to access each value\n",
    "def find_sum(*numbers):\n",
    "    sum = 0\n",
    "    for number in numbers:\n",
    "        sum = sum + number\n",
    "    print(\"Sum:\", sum)\n",
    "\n",
    "\n",
    "# call f. with 2 arguments\n",
    "find_sum(2, 3)\n",
    "\n",
    "# call f. with 3 arguments\n",
    "find_sum(1, 2, 3)"
   ]
  },
  {
   "cell_type": "markdown",
   "metadata": {},
   "source": [
    "## 1.4) *args - non keyword argument\n",
    "\n",
    "- allow pass **variable number** of non keyword arguments to function\n",
    "- arguments are passed as **tuple**"
   ]
  },
  {
   "cell_type": "code",
   "execution_count": 4,
   "metadata": {},
   "outputs": [
    {
     "name": "stdout",
     "output_type": "stream",
     "text": [
      "sum: 5\n",
      "sum: 6\n",
      "sum: 22\n"
     ]
    }
   ],
   "source": [
    "def adder(*num):\n",
    "    sum = 0\n",
    "    for n in num:\n",
    "        sum = sum + n\n",
    "    return print(\"sum:\", sum)\n",
    "\n",
    "\n",
    "adder(2, 3)\n",
    "adder(1, 2, 3)\n",
    "adder(4, 5, 6, 7)"
   ]
  },
  {
   "cell_type": "markdown",
   "metadata": {},
   "source": [
    "## 1.5) **kwargs - keyword argument\n",
    "\n",
    "- allow pass **variable number** of keyword arguments to function\n",
    "- arguments are passed as **dictionary**"
   ]
  },
  {
   "cell_type": "code",
   "execution_count": 7,
   "metadata": {},
   "outputs": [
    {
     "name": "stdout",
     "output_type": "stream",
     "text": [
      "\n",
      "Data type of argument: <class 'dict'>\n",
      "Firstname is Sita\n",
      "Lastname is Sharma\n",
      "Age is 22\n",
      "Phone is 1234567890\n",
      "\n",
      "Data type of argument: <class 'dict'>\n",
      "Firstname is John\n",
      "Lastname is Wood\n",
      "Email is johnwood@nomail.com\n",
      "Country is Wakanda\n",
      "Age is 25\n",
      "Phone is 9876543210\n"
     ]
    }
   ],
   "source": [
    "def intro(**data):\n",
    "    print(\"\\nData type of argument:\", type(data))\n",
    "\n",
    "    for key, value in data.items():\n",
    "        print(\"{} is {}\".format(key, value))\n",
    "\n",
    "\n",
    "intro(Firstname=\"Sita\", Lastname=\"Sharma\", Age=22, Phone=1234567890)\n",
    "intro(\n",
    "    Firstname=\"John\",\n",
    "    Lastname=\"Wood\",\n",
    "    Email=\"johnwood@nomail.com\",\n",
    "    Country=\"Wakanda\",\n",
    "    Age=25,\n",
    "    Phone=9876543210,\n",
    ")"
   ]
  }
 ],
 "metadata": {
  "kernelspec": {
   "display_name": ".venv",
   "language": "python",
   "name": "python3"
  },
  "language_info": {
   "codemirror_mode": {
    "name": "ipython",
    "version": 3
   },
   "file_extension": ".py",
   "mimetype": "text/x-python",
   "name": "python",
   "nbconvert_exporter": "python",
   "pygments_lexer": "ipython3",
   "version": "3.12.6"
  }
 },
 "nbformat": 4,
 "nbformat_minor": 2
}

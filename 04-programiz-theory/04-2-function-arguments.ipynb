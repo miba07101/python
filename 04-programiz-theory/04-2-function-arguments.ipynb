{
 "cells": [
  {
   "cell_type": "markdown",
   "metadata": {},
   "source": [
    "# 1) Arguments\n",
    "\n",
    "**arguments** - are inputs/actual values given to function when we call it. Arguments replace parameters when f. executes.\n",
    "\n",
    "- syntax:\n",
    "```python\n",
    "# calling f.\n",
    "function_name(argument)\n",
    "```"
   ]
  },
  {
   "cell_type": "code",
   "execution_count": 1,
   "metadata": {},
   "outputs": [
    {
     "name": "stdout",
     "output_type": "stream",
     "text": [
      "Sum: 5\n"
     ]
    }
   ],
   "source": [
    "def add_numbers(num1, num2):  # num1, num2 are parameters\n",
    "    sum = num1 + num2\n",
    "    print(\"Sum:\", sum)\n",
    "\n",
    "\n",
    "# call f. with given arguments\n",
    "add_numbers(2, 3)  # 2,3 are arguments"
   ]
  },
  {
   "cell_type": "markdown",
   "metadata": {},
   "source": [
    "## 1.1) Default arguments\n",
    "\n",
    "- are used when **no explicit** values are passed to f. parameters during f. call. \n",
    "- use the = operator to provide default values\n",
    "- !important: can be rewriten by adding explicit arguments when call the f."
   ]
  },
  {
   "cell_type": "code",
   "execution_count": null,
   "metadata": {},
   "outputs": [
    {
     "name": "stdout",
     "output_type": "stream",
     "text": [
      "Both arguments: Good morning Milan\n",
      "One argument: Hello Milan\n"
     ]
    }
   ],
   "source": [
    "def greeting(name, message=\"Hello\"):\n",
    "    print(message, name)\n",
    "\n",
    "\n",
    "# calling f. with both arguments\n",
    "print(\"Both arguments:\", end=\" \")\n",
    "greeting(\"Milan\", \"Good morning\")\n",
    "\n",
    "# calling f. with one argument\n",
    "print(\"One argument:\", end=\" \")\n",
    "greeting(\"Milan\")"
   ]
  },
  {
   "cell_type": "markdown",
   "metadata": {},
   "source": [
    "## 1.2) Keyword arguments\n",
    "\n",
    "- assigm argument to parameter name\n",
    "- !important: position doesn`t matter - we can change order of keyword arguments"
   ]
  },
  {
   "cell_type": "code",
   "execution_count": 3,
   "metadata": {},
   "outputs": [
    {
     "name": "stdout",
     "output_type": "stream",
     "text": [
      "First name: Milan Last name: Doe\n",
      "First name: Milan Last name: Doe\n"
     ]
    }
   ],
   "source": [
    "def display_info(first_name, last_name):\n",
    "    print(\"First name:\", first_name, \"Last name:\", last_name)\n",
    "\n",
    "\n",
    "# call f. with keyword argument\n",
    "display_info(first_name=\"Milan\", last_name=\"Doe\")\n",
    "\n",
    "# call f. with changing position of keyword arguments\n",
    "display_info(last_name=\"Doe\", first_name=\"Milan\")"
   ]
  },
  {
   "cell_type": "markdown",
   "metadata": {},
   "source": [
    "## 1.3) Arbitrary (lubovolny) arguments\n",
    "\n",
    "- when we **do not know** the numbers of arguments that will be passed into a function\n",
    "- we used **asterisk (*)** before the parameter name\n",
    "- syntax:\n",
    "```python\n",
    "def function_name(*parameter):\n",
    "    pass\n",
    "```"
   ]
  },
  {
   "cell_type": "code",
   "execution_count": 6,
   "metadata": {},
   "outputs": [
    {
     "name": "stdout",
     "output_type": "stream",
     "text": [
      "Sum: 5\n",
      "Sum: 6\n"
     ]
    }
   ],
   "source": [
    "# program to find sum of multiple numbers\n",
    "# After getting multiple values, numbers behave as an list\n",
    "# so we are able to use the for loop to access each value\n",
    "def find_sum(*numbers):\n",
    "    sum = 0\n",
    "    for number in numbers:\n",
    "        sum = sum + number\n",
    "    print(\"Sum:\", sum)\n",
    "\n",
    "\n",
    "# call f. with 2 arguments\n",
    "find_sum(2, 3)\n",
    "\n",
    "# call f. with 3 arguments\n",
    "find_sum(1, 2, 3)"
   ]
  }
 ],
 "metadata": {
  "kernelspec": {
   "display_name": ".venv",
   "language": "python",
   "name": "python3"
  },
  "language_info": {
   "codemirror_mode": {
    "name": "ipython",
    "version": 3
   },
   "file_extension": ".py",
   "mimetype": "text/x-python",
   "name": "python",
   "nbconvert_exporter": "python",
   "pygments_lexer": "ipython3",
   "version": "3.12.6"
  }
 },
 "nbformat": 4,
 "nbformat_minor": 2
}

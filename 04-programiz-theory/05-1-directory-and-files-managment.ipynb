{
 "cells": [
  {
   "cell_type": "markdown",
   "metadata": {},
   "source": [
    "# 1) Directory and files managment\n",
    "\n",
    "- **os** module to work with directories and files"
   ]
  },
  {
   "cell_type": "markdown",
   "metadata": {},
   "source": [
    "## 1.1) Get current directory\n",
    "\n",
    "- **getcwd()** method of the **os** module\n",
    "- return cwd in form of **string**"
   ]
  },
  {
   "cell_type": "code",
   "execution_count": 1,
   "metadata": {},
   "outputs": [
    {
     "name": "stdout",
     "output_type": "stream",
     "text": [
      "c:\\Users\\mech\\github\\python\\04-programiz-theory\n"
     ]
    }
   ],
   "source": [
    "import os\n",
    "\n",
    "print(os.getcwd())"
   ]
  },
  {
   "cell_type": "markdown",
   "metadata": {},
   "source": [
    "## 1.2) Changing directory\n",
    "\n",
    "- **chdir()** method to change cwd"
   ]
  },
  {
   "cell_type": "code",
   "execution_count": 3,
   "metadata": {},
   "outputs": [
    {
     "name": "stdout",
     "output_type": "stream",
     "text": [
      "C:\\Users\\mech\\github\\python\n"
     ]
    }
   ],
   "source": [
    "import os\n",
    "\n",
    "# change directory\n",
    "os.chdir(\"C:\\\\Users\\\\mech\\\\github\\\\python\")\n",
    "\n",
    "print(os.getcwd())"
   ]
  },
  {
   "cell_type": "markdown",
   "metadata": {},
   "source": [
    "## 1.3) List directories and files\n",
    "\n",
    "- **listdir()** method to list all files and sub-directories inside a directory"
   ]
  },
  {
   "cell_type": "code",
   "execution_count": 5,
   "metadata": {},
   "outputs": [
    {
     "data": {
      "text/plain": [
       "['.git',\n",
       " '.gitignore',\n",
       " '.venv',\n",
       " '.vscode',\n",
       " '00-notes',\n",
       " '01-david-setek-youtube',\n",
       " '02-michal-hucko-youtube',\n",
       " '03-microsoft-learning',\n",
       " '04-programiz-theory',\n",
       " '05-programiz-examples',\n",
       " 'bubble-sort.py',\n",
       " 'lottery.py',\n",
       " 'random_numbers.py']"
      ]
     },
     "execution_count": 5,
     "metadata": {},
     "output_type": "execute_result"
    }
   ],
   "source": [
    "import os\n",
    "\n",
    "# list files and directories in current working directory (cwd)\n",
    "# !!! cwd is changed in previous code cell\n",
    "os.listdir()"
   ]
  },
  {
   "cell_type": "markdown",
   "metadata": {},
   "source": [
    "## 1.4) Making a new directory\n",
    "\n",
    "- **mkdir()**\n",
    "```python\n",
    "import os\n",
    "\n",
    "os.mkdir(\"Test\")\n",
    "```"
   ]
  },
  {
   "cell_type": "markdown",
   "metadata": {},
   "source": [
    "## 1.5) Renaming a directory\n",
    "\n",
    "- **rename()**\n",
    "\n",
    "```python\n",
    "import os\n",
    "\n",
    "os.rename(\"Test\", \"New_name\")"
   ]
  },
  {
   "cell_type": "markdown",
   "metadata": {},
   "source": [
    "## 1.6) Removing directory\n",
    "\n",
    "- **remove()** method to remove file\n",
    "- **rmdir()** method to remove directory\n",
    "- **shutil module - rmtree method** to remove non-empty directory \n",
    "\n",
    "```python\n",
    "import os\n",
    "\n",
    "# remove file\n",
    "os.remove(\"file.txt\")\n",
    "\n",
    "# remove directory\n",
    "os.rmdir(\"New_name\")\n",
    "\n",
    "# remove non-empty directory\n",
    "import shutil\n",
    "\n",
    "shutil.rmtree(\"non_empty_dir\")\n",
    "```"
   ]
  }
 ],
 "metadata": {
  "kernelspec": {
   "display_name": ".venv",
   "language": "python",
   "name": "python3"
  },
  "language_info": {
   "codemirror_mode": {
    "name": "ipython",
    "version": 3
   },
   "file_extension": ".py",
   "mimetype": "text/x-python",
   "name": "python",
   "nbconvert_exporter": "python",
   "pygments_lexer": "ipython3",
   "version": "3.12.6"
  }
 },
 "nbformat": 4,
 "nbformat_minor": 2
}

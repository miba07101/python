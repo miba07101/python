{
 "cells": [
  {
   "cell_type": "markdown",
   "metadata": {},
   "source": [
    "# 1) WHILE loop\n",
    "\n",
    "- use to repeat a block of code **until** certain condition is met\n",
    "- the **while** loop evaluates condition, which is a **boolen** expression\n",
    "- the while continues until the condition is **False**\n",
    "- **infinite while loop** - condition of a while always evaluates to **True**\n",
    "\n",
    "\n",
    "- syntax:\n",
    "```python\n",
    "while condition:\n",
    "    # body of the while loop\n",
    "```"
   ]
  },
  {
   "cell_type": "code",
   "execution_count": 2,
   "metadata": {},
   "outputs": [
    {
     "name": "stdout",
     "output_type": "stream",
     "text": [
      "5\n",
      "6\n",
      "8\n",
      "9\n"
     ]
    }
   ],
   "source": [
    "# Print numbers until the user enters 0\n",
    "number = int(input(\"Enter number:\"))\n",
    "\n",
    "while number != 0:\n",
    "    print(number)\n",
    "    number = int(input(\"Enter number:\"))\n",
    "\n",
    "print(\"The end\")"
   ]
  },
  {
   "cell_type": "markdown",
   "metadata": {},
   "source": [
    "## 1.2) Break statement\n",
    "\n",
    "- using for terminate while loop **without** checking the test condition"
   ]
  },
  {
   "cell_type": "code",
   "execution_count": 3,
   "metadata": {},
   "outputs": [
    {
     "name": "stdout",
     "output_type": "stream",
     "text": [
      "ahoj\n",
      "lebo\n",
      "The while loop is ended\n"
     ]
    }
   ],
   "source": [
    "# terminate the while loop when user enter \"end\"\n",
    "while True:\n",
    "    user_input = input(\"Enter something, if you want end, enter 'end'\")\n",
    "\n",
    "    if user_input == \"end\":\n",
    "        print(\"The while loop is ended\")\n",
    "        break\n",
    "\n",
    "    print(user_input)"
   ]
  },
  {
   "cell_type": "markdown",
   "metadata": {},
   "source": [
    "## 1.3) WHILE with ELSE clause\n",
    "\n",
    "- else is executed once while loop is False"
   ]
  },
  {
   "cell_type": "code",
   "execution_count": 6,
   "metadata": {},
   "outputs": [
    {
     "name": "stdout",
     "output_type": "stream",
     "text": [
      "0 This is inside loop\n",
      "1 This is inside loop\n",
      "this is inside else block\n"
     ]
    }
   ],
   "source": [
    "counter = 0\n",
    "\n",
    "while counter < 2:\n",
    "    print(counter, \"This is inside loop\")\n",
    "    counter += 1\n",
    "else:\n",
    "    print(\"this is inside else block\")"
   ]
  },
  {
   "cell_type": "markdown",
   "metadata": {},
   "source": [
    "## 1.4) FOR vs WHILE loop\n",
    "\n",
    "- **for loop** is used when the number of iterations is **known**\n",
    "- **while loop** is used when the number of iterations is **unknown**"
   ]
  },
  {
   "cell_type": "code",
   "execution_count": 7,
   "metadata": {},
   "outputs": [
    {
     "name": "stdout",
     "output_type": "stream",
     "text": [
      "0 x for loop\n",
      "1 x for loop\n",
      "2 x for loop\n",
      "3 x for loop\n",
      "for loop ended\n",
      "0 x while loop\n",
      "1 x while loop\n",
      "2 x while loop\n",
      "3 x while loop\n",
      "while loop ended\n"
     ]
    }
   ],
   "source": [
    "# for loop\n",
    "for i in range(4):\n",
    "    print(i, \"x for loop\")\n",
    "\n",
    "print(\"for loop ended\")\n",
    "\n",
    "# while loop\n",
    "counter = 0\n",
    "\n",
    "while counter < 4:\n",
    "    print(counter, \"x while loop\")\n",
    "    counter += 1\n",
    "\n",
    "print(\"while loop ended\")"
   ]
  }
 ],
 "metadata": {
  "kernelspec": {
   "display_name": ".venv",
   "language": "python",
   "name": "python3"
  },
  "language_info": {
   "codemirror_mode": {
    "name": "ipython",
    "version": 3
   },
   "file_extension": ".py",
   "mimetype": "text/x-python",
   "name": "python",
   "nbconvert_exporter": "python",
   "pygments_lexer": "ipython3",
   "version": "3.12.6"
  }
 },
 "nbformat": 4,
 "nbformat_minor": 2
}

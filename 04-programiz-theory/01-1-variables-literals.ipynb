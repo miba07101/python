{
 "cells": [
  {
   "cell_type": "markdown",
   "metadata": {},
   "source": [
    "# 1) Variables\n",
    "\n",
    "- container (storage area) to hold data\n",
    "\n",
    "- Naming rules:\n",
    "    - combination of letters, numbers or underscore \"_\"\n",
    "    - multi words variable separate by underscore \"_\", example. my_name\n",
    "    - do not start with number\n",
    "    - can start with underscore \"_\"\n",
    "    - avoid using build in **keywords** (True, class, if, for, etc.)"
   ]
  },
  {
   "cell_type": "markdown",
   "metadata": {},
   "source": [
    "## 1.1) assigning values to variable\n",
    "\n",
    "- using **assignment operator =**\n",
    "- python is **type-inferred (vyvodit/usudit/dedukovat)** language, so we do not have to **explicitly** define the variable type."
   ]
  },
  {
   "cell_type": "code",
   "execution_count": 1,
   "metadata": {},
   "outputs": [
    {
     "name": "stdout",
     "output_type": "stream",
     "text": [
      "programiz.pro\n"
     ]
    }
   ],
   "source": [
    "# assign value to site_name variable\n",
    "site_name = \"programiz.pro\"\n",
    "print(site_name)"
   ]
  },
  {
   "cell_type": "markdown",
   "metadata": {},
   "source": [
    "## 1.2) changing the value of variable"
   ]
  },
  {
   "cell_type": "code",
   "execution_count": 2,
   "metadata": {},
   "outputs": [
    {
     "name": "stdout",
     "output_type": "stream",
     "text": [
      "programiz.pro\n",
      "apple.com\n"
     ]
    }
   ],
   "source": [
    "site_name = \"programiz.pro\"\n",
    "print(site_name)\n",
    "\n",
    "# assigning a new value to site_name variable\n",
    "site_name = \"apple.com\"\n",
    "print(site_name)"
   ]
  },
  {
   "cell_type": "markdown",
   "metadata": {},
   "source": [
    "## 1.3) assigning multiple values to multiple variables"
   ]
  },
  {
   "cell_type": "code",
   "execution_count": 3,
   "metadata": {},
   "outputs": [
    {
     "name": "stdout",
     "output_type": "stream",
     "text": [
      "5\n",
      "3.2\n",
      "hello\n"
     ]
    }
   ],
   "source": [
    "a, b, c = 5, 3.2, \"hello\"\n",
    "\n",
    "print(a)\n",
    "print(b)\n",
    "print(c)"
   ]
  },
  {
   "cell_type": "markdown",
   "metadata": {},
   "source": [
    "## 1.4) assigning same value to multiple variables"
   ]
  },
  {
   "cell_type": "code",
   "execution_count": 4,
   "metadata": {},
   "outputs": [
    {
     "name": "stdout",
     "output_type": "stream",
     "text": [
      "programiz.pro\n",
      "programiz.pro\n"
     ]
    }
   ],
   "source": [
    "site1 = site2 = \"programiz.pro\"\n",
    "\n",
    "print(site1)\n",
    "print(site2)"
   ]
  },
  {
   "cell_type": "markdown",
   "metadata": {},
   "source": [
    "# 2) Literals\n",
    "\n",
    "- are representation of **fixed** values in program\n",
    "- are used to assign values to variables or constant\n",
    "- commonly used Literals:\n",
    "    - numbers\n",
    "    - string\n",
    "    - boolen\n",
    "    - characters\n",
    "    - special\n",
    "    - collection\n",
    "    - etc."
   ]
  },
  {
   "cell_type": "markdown",
   "metadata": {},
   "source": [
    "## 2.1) Numbers (numeric literals)\n",
    "\n",
    "- are **immutable (nemenne)**\n",
    "- 3 types:\n",
    "    - integer (int):\n",
    "        - numbers **without** decimal parts, ex. 5, -11, 0, 12, etc.\n",
    "    - float:\n",
    "        - numbers **with** decimal parts, ex. 2.5, 6.76, 0.0, -9.45\n",
    "    - complex:\n",
    "        - numbers that represent **complex** numbers, ex. 6+9j, 2+3j"
   ]
  },
  {
   "cell_type": "markdown",
   "metadata": {},
   "source": [
    "## 2.2) String literals\n",
    "\n",
    "- are text inside quatation, ex. some_string = \"This is string literal\""
   ]
  },
  {
   "cell_type": "markdown",
   "metadata": {},
   "source": [
    "## 2.3) Boolen literals\n",
    "\n",
    "- 2 boolen literals: True and False"
   ]
  },
  {
   "cell_type": "markdown",
   "metadata": {},
   "source": [
    "## 2.4) Characters literals\n",
    "\n",
    "- character inside quotation. ex. some_caharcter = \"S\""
   ]
  },
  {
   "cell_type": "markdown",
   "metadata": {},
   "source": [
    "## 2.5) Special literal\n",
    "\n",
    "- it is **None** - we use it to specifi **a null** variable"
   ]
  },
  {
   "cell_type": "code",
   "execution_count": 5,
   "metadata": {},
   "outputs": [
    {
     "name": "stdout",
     "output_type": "stream",
     "text": [
      "None\n"
     ]
    }
   ],
   "source": [
    "# special literal to assigning null value to variable\n",
    "value = None\n",
    "print(value)"
   ]
  },
  {
   "cell_type": "markdown",
   "metadata": {},
   "source": [
    "## 2.6) Collection literals \n",
    "\n",
    "- List\n",
    "- Tuple\n",
    "- Dictionary (dict)\n",
    "- Set"
   ]
  },
  {
   "cell_type": "code",
   "execution_count": 6,
   "metadata": {},
   "outputs": [
    {
     "name": "stdout",
     "output_type": "stream",
     "text": [
      "This is list: ['apple', 'mango', 'orange']\n",
      "This is tuple: (1, 2, 3)\n",
      "This is dictionary: {'a': 'apple', 'b': 'ball', 'c': 'cat'}\n",
      "This is set: {'i', 'u', 'e', 'a', 'o'}\n"
     ]
    }
   ],
   "source": [
    "# example of collection literals\n",
    "\n",
    "# list\n",
    "fruits = [\"apple\", \"mango\", \"orange\"]\n",
    "print(\"This is list:\", fruits)\n",
    "\n",
    "# tuple\n",
    "numbers = (1, 2, 3)\n",
    "print(\"This is tuple:\", numbers)\n",
    "\n",
    "# dictionary\n",
    "alphabets = {\"a\": \"apple\", \"b\": \"ball\", \"c\": \"cat\"}\n",
    "print(\"This is dictionary:\", alphabets)\n",
    "\n",
    "# set\n",
    "vowels = {\"a\", \"e\", \"i\", \"o\", \"u\"}\n",
    "print(\"This is set:\", vowels)"
   ]
  }
 ],
 "metadata": {
  "kernelspec": {
   "display_name": ".venv",
   "language": "python",
   "name": "python3"
  },
  "language_info": {
   "codemirror_mode": {
    "name": "ipython",
    "version": 3
   },
   "file_extension": ".py",
   "mimetype": "text/x-python",
   "name": "python",
   "nbconvert_exporter": "python",
   "pygments_lexer": "ipython3",
   "version": "3.12.6"
  }
 },
 "nbformat": 4,
 "nbformat_minor": 2
}

{
 "cells": [
  {
   "cell_type": "markdown",
   "metadata": {},
   "source": [
    "# 1) Operator overloading\n",
    "\n",
    "- allow same operator to have differnet meanings\n",
    "- example: we can use **+** operator to work with user-defined objects\n"
   ]
  },
  {
   "cell_type": "markdown",
   "metadata": {},
   "source": [
    "## 1.1) Special functions\n",
    "\n",
    "- methods with two underscores **__** before and after their names\n",
    "- example: ```__add__(), __len__(), etc```"
   ]
  },
  {
   "cell_type": "code",
   "execution_count": 1,
   "metadata": {},
   "outputs": [
    {
     "name": "stdout",
     "output_type": "stream",
     "text": [
      "11\n"
     ]
    }
   ],
   "source": [
    "# use the __add__() method to add two numbers instead of using the + operator\n",
    "num1 = 5\n",
    "\n",
    "# using __add__()\n",
    "# num2 = num1 + 6\n",
    "num2 = num1.__add__(6)\n",
    "\n",
    "print(num2)"
   ]
  },
  {
   "cell_type": "markdown",
   "metadata": {},
   "source": [
    "- some special functions:"
   ]
  },
  {
   "cell_type": "markdown",
   "metadata": {},
   "source": [
    "| Function | Description |\n",
    "| --- | --- |\n",
    "| ```__init__()``` | initialize the attributes of the object |\n",
    "| ```__str__()``` | returns a string representation of the object |\n",
    "| ```__len__()``` | returns the length of the object |\n",
    "| ```__add__()``` | adds two objects |\n",
    "| ```__call__()``` | call objects of the class like a normal function |"
   ]
  },
  {
   "cell_type": "markdown",
   "metadata": {},
   "source": [
    "## 1.2) How to use operator overloading?\n",
    "\n",
    "- example: make objects of class work with **+** operator\n",
    "- **!important** - Since the + operator internally calls the ```__add__()``` method, if we implement this method in a class, we can make objects of that class work with the + operator."
   ]
  },
  {
   "cell_type": "code",
   "execution_count": 6,
   "metadata": {},
   "outputs": [
    {
     "name": "stdout",
     "output_type": "stream",
     "text": [
      "<__main__.Point object at 0x000001EE638215E0>\n",
      "(3, 5)\n"
     ]
    }
   ],
   "source": [
    "# program to add two co-ordinates (without using + operator overloading)\n",
    "\n",
    "\n",
    "class Point:\n",
    "    def __init__(self, x=0, y=0):\n",
    "        self.x = x\n",
    "        self.y = y\n",
    "\n",
    "    def add_points(self, other):\n",
    "        x = self.x + other.x\n",
    "        y = self.y + other.y\n",
    "        return Point(x, y)\n",
    "\n",
    "\n",
    "# define objects\n",
    "p1 = Point(x=1, y=2)\n",
    "p2 = Point(x=2, y=3)\n",
    "\n",
    "p3 = p1.add_points(p2)\n",
    "print(p3)\n",
    "print((p3.x, p3.y))"
   ]
  },
  {
   "cell_type": "code",
   "execution_count": 8,
   "metadata": {},
   "outputs": [
    {
     "name": "stdout",
     "output_type": "stream",
     "text": [
      "<__main__.Point object at 0x000001EE63808B90>\n",
      "(3, 5)\n"
     ]
    }
   ],
   "source": [
    "# Add Two Coordinates (With Overloading)\n",
    "class Point:\n",
    "    def __init__(self, x=0, y=0):\n",
    "        self.x = x\n",
    "        self.y = y\n",
    "\n",
    "    def __add__(self, other):\n",
    "        x = self.x + other.x\n",
    "        y = self.y + other.y\n",
    "        return Point(x, y)\n",
    "\n",
    "\n",
    "# define objects\n",
    "p1 = Point(x=1, y=2)\n",
    "p2 = Point(x=2, y=3)\n",
    "\n",
    "# p1 + p2 calls the __add__(self, other) method\n",
    "p3 = p1 + p2\n",
    "print(p3)\n",
    "print((p3.x, p3.y))"
   ]
  },
  {
   "cell_type": "markdown",
   "metadata": {},
   "source": [
    "| Operator            | Expression  |   Internally              |\n",
    "| ---                 | ---         | ---                       |\n",
    "| Addition            |\tp1 + p2\t    |```p1.__add__(p2)```       |\n",
    "| Subtraction         |\tp1 - p2\t    |```p1.__sub__(p2)```       |\n",
    "| Multiplication      |\tp1 * p2\t    |```p1.__mul__(p2)```       |\n",
    "| Power               |\tp1 ** p2\t|```p1.__pow__(p2)```       |\n",
    "| Division            |\tp1 / p2\t    |```p1.__truediv__(p2)```   |\n",
    "| Floor Division      |\tp1 // p2\t|```p1.__floordiv__(p2)```  |\n",
    "| Remainder (modulo)  |\tp1 % p2\t    |```p1.__mod__(p2)```       |\n",
    "| Bitwise Left Shift  |\tp1 << p2\t|```p1.__lshift__(p2)```    |\n",
    "| Bitwise Right Shift |\tp1 >> p2\t|```p1.__rshift__(p2)```    |\n",
    "| Bitwise AND         |\tp1 & p2\t    |```p1.__and__(p2)```       |\n",
    "| Bitwise OR          |\tp1 \\| p2    |```p1.__or__(p2)```        |\n",
    "| Bitwise XOR         |\tp1 ^ p2\t    |```p1.__xor__(p2)```       |\n",
    "| Bitwise NOT         |\t~p1\t        |```p1.__invert__()```      |"
   ]
  },
  {
   "cell_type": "markdown",
   "metadata": {},
   "source": [
    "## 1.3) Overloading comparison operators"
   ]
  },
  {
   "cell_type": "code",
   "execution_count": 10,
   "metadata": {},
   "outputs": [
    {
     "name": "stdout",
     "output_type": "stream",
     "text": [
      "True\n",
      "False\n"
     ]
    }
   ],
   "source": [
    "# example of how we can overload the < operator to compare two objects\n",
    "# of the Person class based on their age\n",
    "\n",
    "\n",
    "class Person:\n",
    "    def __init__(self, name, age):\n",
    "        self.name = name\n",
    "        self.age = age\n",
    "\n",
    "    # overload < operator\n",
    "    def __lt__(self, other):\n",
    "        return self.age < other.age\n",
    "\n",
    "\n",
    "person1 = Person(name=\"Alice\", age=20)\n",
    "person2 = Person(name=\"Bob\", age=30)\n",
    "\n",
    "# compare age\n",
    "print(person1 < person2)\n",
    "print(person2 < person1)"
   ]
  },
  {
   "cell_type": "markdown",
   "metadata": {},
   "source": [
    "| Operator                  | Expression    | Internally          | \n",
    "| ---                       | ---           | ---                 |         \n",
    "| Less than                 | p1 < p2       | ```p1.__lt__(p2)``` |\n",
    "| Less than or equal to     | p1 <= p2\t    | ```p1.__le__(p2)``` |\n",
    "| Equal to                  | p1 == p2\t    | ```p1.__eq__(p2)``` |\n",
    "| Not equal to              | p1 != p2\t    | ```p1.__ne__(p2)``` |\n",
    "| Greater than              | p1 > p2\t    | ```p1.__gt__(p2)``` |    \n",
    "| Greater than or equal to  | p1 >= p2\t    | ```p1.__ge__(p2)``` |"
   ]
  }
 ],
 "metadata": {
  "kernelspec": {
   "display_name": ".venv",
   "language": "python",
   "name": "python3"
  },
  "language_info": {
   "codemirror_mode": {
    "name": "ipython",
    "version": 3
   },
   "file_extension": ".py",
   "mimetype": "text/x-python",
   "name": "python",
   "nbconvert_exporter": "python",
   "pygments_lexer": "ipython3",
   "version": "3.12.6"
  }
 },
 "nbformat": 4,
 "nbformat_minor": 2
}

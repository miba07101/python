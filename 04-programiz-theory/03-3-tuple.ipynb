{
 "cells": [
  {
   "cell_type": "markdown",
   "metadata": {},
   "source": [
    "# 1) Tuple\n",
    "\n",
    "- characteristics:\n",
    "    - **ordered** - zachovavaju poradie prvkov\n",
    "    - **immutable** - prvky nemozem zmenit\n",
    "    - **allow duplicates** - mozu byt duplicitne prvky  "
   ]
  },
  {
   "cell_type": "markdown",
   "metadata": {},
   "source": [
    "## 1.1) Create Tuple\n",
    "\n",
    "- using **parantheses ()**\n",
    "- using **tuple()** constructor\n",
    "- tuple items can be of different types (strings, numbers)"
   ]
  },
  {
   "cell_type": "code",
   "execution_count": 1,
   "metadata": {},
   "outputs": [
    {
     "name": "stdout",
     "output_type": "stream",
     "text": [
      "('Jack', 'Peter', 'Joshua')\n",
      "tuple() constructor ('Jack', 'Peter', 'Joshua')\n"
     ]
    }
   ],
   "source": [
    "# create tuple using ()\n",
    "names = (\"Jack\", \"Peter\", \"Joshua\")\n",
    "print(names)\n",
    "\n",
    "# create using tuple()\n",
    "tuple_constructor = tuple((\"Jack\", \"Peter\", \"Joshua\"))\n",
    "print(\"tuple() constructor\", tuple_constructor)"
   ]
  },
  {
   "cell_type": "markdown",
   "metadata": {},
   "source": [
    "### 1.1.1) Tuple with one item\n",
    "\n",
    "- adding **trailing comma (ciarka)** after the item\n",
    "\n",
    "- syntax:\n",
    "```python\n",
    "variable = (\"hello\",)\n",
    "print(variable) # tuple\n",
    "```\n"
   ]
  },
  {
   "cell_type": "markdown",
   "metadata": {},
   "source": [
    "## 1.2) Access tuple items\n",
    "\n",
    "- each item in a tuple is associated with **index**\n",
    "- index start with **0**\n",
    "- we use index to access tuple items"
   ]
  },
  {
   "cell_type": "code",
   "execution_count": 2,
   "metadata": {},
   "outputs": [
    {
     "name": "stdout",
     "output_type": "stream",
     "text": [
      "Second tuple item is language: swift\n"
     ]
    }
   ],
   "source": [
    "# access tuple item with index\n",
    "languages = (\"python\", \"swift\", \"c\")\n",
    "\n",
    "# second item/element access\n",
    "print(\"Second tuple item is language:\", languages[1])"
   ]
  },
  {
   "cell_type": "markdown",
   "metadata": {},
   "source": [
    "## 1.3) Tuple **Can NOT be Modified**\n",
    "\n",
    "- we can ONLY delete entire tuple:\n",
    "    ```python\n",
    "    del tuple_name\n",
    "    ```"
   ]
  },
  {
   "cell_type": "markdown",
   "metadata": {},
   "source": [
    "## 1.4) Tuple length\n",
    "\n",
    "- **len()** build-in function - use to find number of items in a tuple"
   ]
  },
  {
   "cell_type": "code",
   "execution_count": 3,
   "metadata": {},
   "outputs": [
    {
     "name": "stdout",
     "output_type": "stream",
     "text": [
      "('apple', 'banana', 'orange')\n",
      "The number of items in tuple is: 3\n"
     ]
    }
   ],
   "source": [
    "fruits = (\"apple\", \"banana\", \"orange\")\n",
    "\n",
    "print(fruits)\n",
    "print(\"The number of items in tuple is:\", len(fruits))"
   ]
  },
  {
   "cell_type": "markdown",
   "metadata": {},
   "source": [
    "## 1.5) Check if item exists in list"
   ]
  },
  {
   "cell_type": "code",
   "execution_count": 4,
   "metadata": {},
   "outputs": [
    {
     "name": "stdout",
     "output_type": "stream",
     "text": [
      "True\n",
      "False\n"
     ]
    }
   ],
   "source": [
    "fruits = (\"apple\", \"cherry\", \"banana\")\n",
    "\n",
    "print(\"apple\" in fruits)\n",
    "print(\"pineapple\" in fruits)"
   ]
  }
 ],
 "metadata": {
  "kernelspec": {
   "display_name": ".venv",
   "language": "python",
   "name": "python3"
  },
  "language_info": {
   "codemirror_mode": {
    "name": "ipython",
    "version": 3
   },
   "file_extension": ".py",
   "mimetype": "text/x-python",
   "name": "python",
   "nbconvert_exporter": "python",
   "pygments_lexer": "ipython3",
   "version": "3.12.6"
  }
 },
 "nbformat": 4,
 "nbformat_minor": 2
}

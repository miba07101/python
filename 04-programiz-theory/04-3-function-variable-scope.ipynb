{
 "cells": [
  {
   "cell_type": "markdown",
   "metadata": {},
   "source": [
    "# 1) Variable scope\n",
    "\n",
    "- 3 variables scopes:\n",
    "    - local\n",
    "    - global\n",
    "    - nonlocal"
   ]
  },
  {
   "cell_type": "markdown",
   "metadata": {},
   "source": [
    "## 1.1) Local variables\n",
    "\n",
    "- variable is declared **inside** function"
   ]
  },
  {
   "cell_type": "code",
   "execution_count": 1,
   "metadata": {},
   "outputs": [
    {
     "name": "stdout",
     "output_type": "stream",
     "text": [
      "Local Hello\n"
     ]
    },
    {
     "ename": "NameError",
     "evalue": "name 'message' is not defined",
     "output_type": "error",
     "traceback": [
      "\u001b[1;31m---------------------------------------------------------------------------\u001b[0m",
      "\u001b[1;31mNameError\u001b[0m                                 Traceback (most recent call last)",
      "Cell \u001b[1;32mIn[1], line 12\u001b[0m\n\u001b[0;32m      8\u001b[0m greet()\n\u001b[0;32m     10\u001b[0m \u001b[38;5;66;03m# try to access message variable \u001b[39;00m\n\u001b[0;32m     11\u001b[0m \u001b[38;5;66;03m# outside greet() function\u001b[39;00m\n\u001b[1;32m---> 12\u001b[0m \u001b[38;5;28mprint\u001b[39m(\u001b[43mmessage\u001b[49m)\n",
      "\u001b[1;31mNameError\u001b[0m: name 'message' is not defined"
     ]
    }
   ],
   "source": [
    "def greet():\n",
    "\n",
    "    # local variable\n",
    "    message = \"Hello\"\n",
    "\n",
    "    print(\"Local\", message)\n",
    "\n",
    "\n",
    "greet()\n",
    "\n",
    "# try to access message variable\n",
    "# outside greet() function\n",
    "print(message)"
   ]
  },
  {
   "cell_type": "markdown",
   "metadata": {},
   "source": [
    "## 1.2) Global variables\n",
    "\n",
    "- variable is declared **outside** function"
   ]
  },
  {
   "cell_type": "code",
   "execution_count": 2,
   "metadata": {},
   "outputs": [
    {
     "name": "stdout",
     "output_type": "stream",
     "text": [
      "Local Hello\n",
      "Global Hello\n"
     ]
    }
   ],
   "source": [
    "# declare global variable\n",
    "message = \"Hello\"\n",
    "\n",
    "\n",
    "def greet():\n",
    "    # declare local variable\n",
    "    print(\"Local\", message)\n",
    "\n",
    "\n",
    "greet()\n",
    "print(\"Global\", message)"
   ]
  },
  {
   "cell_type": "markdown",
   "metadata": {},
   "source": [
    "## 1.3) Nonlocal variables\n",
    "\n",
    "- using with **nonlocal** keyword\n",
    "- pouzivane pri vnorenych funkciach, oznacuje, ze premenna nie je lokalna pre vnutornu funkciu ale patri do rozsahu vonkajsej funkcie \n",
    "- !important: ak zmenime hodnotu nonlocal premennej, tak zmenime aj hodnotu lokalnej premennej vo vonkajsej funkcii"
   ]
  },
  {
   "cell_type": "code",
   "execution_count": 3,
   "metadata": {},
   "outputs": [
    {
     "name": "stdout",
     "output_type": "stream",
     "text": [
      "inner f. variable: inner\n",
      "outer f. variable: inner\n"
     ]
    }
   ],
   "source": [
    "# outside function\n",
    "def outer():\n",
    "    message = \"outer\"\n",
    "\n",
    "    # inner/ nested f.\n",
    "    def inner():\n",
    "        # declare nonlocal variable\n",
    "        nonlocal message\n",
    "        message = \"inner\"\n",
    "        print(\"inner f. variable:\", message)\n",
    "\n",
    "    # call inner f.\n",
    "    inner()\n",
    "\n",
    "    # print outer f. message\n",
    "    print(\"outer f. variable:\", message)\n",
    "\n",
    "\n",
    "# call outer f.\n",
    "outer()"
   ]
  }
 ],
 "metadata": {
  "kernelspec": {
   "display_name": ".venv",
   "language": "python",
   "name": "python3"
  },
  "language_info": {
   "codemirror_mode": {
    "name": "ipython",
    "version": 3
   },
   "file_extension": ".py",
   "mimetype": "text/x-python",
   "name": "python",
   "nbconvert_exporter": "python",
   "pygments_lexer": "ipython3",
   "version": "3.12.6"
  }
 },
 "nbformat": 4,
 "nbformat_minor": 2
}

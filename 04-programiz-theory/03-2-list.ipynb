{
 "cells": [
  {
   "cell_type": "markdown",
   "metadata": {},
   "source": [
    "# 1) List\n",
    "\n",
    "- characteristics:\n",
    "    - **ordered** - zachovavaju poradie prvkov\n",
    "    - **mutable** - prvky mozem zmenit\n",
    "    - **allow duplicates** - mozu byt duplicitne prvky  "
   ]
  },
  {
   "cell_type": "markdown",
   "metadata": {},
   "source": [
    "## 1.1) Create list\n",
    "\n",
    "- using **square brackets []**\n",
    "- using **list()** build-in function - can be used for converting other itterable (strings, dictionaries, tuples, etc) to a list\n",
    "- list items can be of different types (strings, numbers, list, etc.)"
   ]
  },
  {
   "cell_type": "code",
   "execution_count": 2,
   "metadata": {},
   "outputs": [
    {
     "name": "stdout",
     "output_type": "stream",
     "text": [
      "['Jack', 'Peter', 'Joshua']\n",
      "Converted string to list ['a', 'x', 'z']\n"
     ]
    }
   ],
   "source": [
    "# create list using []\n",
    "names = [\"Jack\", \"Peter\", \"Joshua\"]\n",
    "print(names)\n",
    "\n",
    "# create list using list()\n",
    "string = \"axz\"\n",
    "conversion = list(string)\n",
    "print(\"Converted string to list\", conversion)"
   ]
  },
  {
   "cell_type": "markdown",
   "metadata": {},
   "source": [
    "## 1.2) Access list items\n",
    "\n",
    "- each item in a list is associated with **index**\n",
    "- index start with **0**\n",
    "- we use index to access list items\n",
    "- we can use **negative** indexing:\n",
    "    - index **-1** means last item in list, **-2** second-last item, and so on\n",
    "- we can use **slicing (slicing operator :)** to access a section of items:\n",
    "    - syntax [start:stop:step]\n",
    "    - ! stop item will not be displayed"
   ]
  },
  {
   "cell_type": "code",
   "execution_count": 24,
   "metadata": {},
   "outputs": [
    {
     "name": "stdout",
     "output_type": "stream",
     "text": [
      "Second list item is language: swift\n",
      "The last list item using negative indexing is language: c\n",
      "Second and last languages using slicing ['swift', 'c']\n",
      "All languages using slicing ['python', 'swift', 'c']\n",
      "First and Last languages using slicing ['python', 'c']\n"
     ]
    }
   ],
   "source": [
    "# access list item with index\n",
    "languages = [\"python\", \"swift\", \"c\"]\n",
    "\n",
    "# second item/element access\n",
    "print(\"Second list item is language:\", languages[1])\n",
    "\n",
    "# negative indexing\n",
    "print(\"The last item using negative indexing is language:\", languages[-1])\n",
    "\n",
    "# slicing\n",
    "print(\"Second and last languages using slicing\", languages[1:])\n",
    "print(\"All languages using slicing\", languages[:])\n",
    "# stop index is set to 3 because I want display also the last item which has index 2.\n",
    "print(\"First and Last languages using slicing\", languages[0:3:2])"
   ]
  },
  {
   "cell_type": "markdown",
   "metadata": {},
   "source": [
    "## 1.3) Add items to list\n",
    "\n",
    "- **append()** method - add item to the end of a list\n",
    "- **insert()** method - add item at the specified index\n",
    "- **extend()** method - add items to a list from other iterables"
   ]
  },
  {
   "cell_type": "code",
   "execution_count": 29,
   "metadata": {},
   "outputs": [
    {
     "name": "stdout",
     "output_type": "stream",
     "text": [
      "Original list: ['apple', 'banana', 'orange']\n",
      "Append(): ['apple', 'banana', 'orange', 'cherry']\n",
      "Insert() ['apple', 'mango', 'banana', 'orange', 'cherry']\n",
      "Extend() ['apple', 'mango', 'banana', 'orange', 'cherry', 'pineapple', 'grape']\n"
     ]
    }
   ],
   "source": [
    "fruits = [\"apple\", \"banana\", \"orange\"]\n",
    "print(\"Original list:\", fruits)\n",
    "\n",
    "# append()\n",
    "fruits.append(\"cherry\")\n",
    "print(\"Append():\", fruits)\n",
    "\n",
    "# insert()\n",
    "fruits.insert(1, \"mango\")\n",
    "print(\"Insert()\", fruits)\n",
    "\n",
    "# extend()\n",
    "fruits2 = [\"pineapple\", \"grape\"]\n",
    "\n",
    "fruits.extend(fruits2)\n",
    "print(\"Extend()\", fruits)"
   ]
  },
  {
   "cell_type": "markdown",
   "metadata": {},
   "source": [
    "## 1.4) Change list items\n",
    "\n",
    "- using **equal operator =**"
   ]
  },
  {
   "cell_type": "code",
   "execution_count": 31,
   "metadata": {},
   "outputs": [
    {
     "name": "stdout",
     "output_type": "stream",
     "text": [
      "Original list: ['apple', 'banana', 'orange']\n",
      "Changed ['apple', 'cherry', 'orange']\n"
     ]
    }
   ],
   "source": [
    "fruits = [\"apple\", \"banana\", \"orange\"]\n",
    "print(\"Original list:\", fruits)\n",
    "\n",
    "# change item\n",
    "fruits[1] = \"cherry\"\n",
    "print(\"Changed\", fruits)"
   ]
  },
  {
   "cell_type": "markdown",
   "metadata": {},
   "source": [
    "## 1.5) Remove list item\n",
    "\n",
    "- **remove()** method - remove 1 item\n",
    "- **del** statement - removes 1 or more items"
   ]
  },
  {
   "cell_type": "code",
   "execution_count": 39,
   "metadata": {},
   "outputs": [
    {
     "name": "stdout",
     "output_type": "stream",
     "text": [
      "Original list: ['apple', 'banana', 'orange']\n",
      "Remove() ['apple', 'orange']\n",
      "Original list Insert(): ['apple', 'banana', 'orange']\n",
      "Del ['apple']\n"
     ]
    },
    {
     "ename": "NameError",
     "evalue": "name 'fruits' is not defined",
     "output_type": "error",
     "traceback": [
      "\u001b[1;31m---------------------------------------------------------------------------\u001b[0m",
      "\u001b[1;31mNameError\u001b[0m                                 Traceback (most recent call last)",
      "Cell \u001b[1;32mIn[39], line 17\u001b[0m\n\u001b[0;32m     15\u001b[0m \u001b[38;5;66;03m# deled the entire list\u001b[39;00m\n\u001b[0;32m     16\u001b[0m \u001b[38;5;28;01mdel\u001b[39;00m fruits\n\u001b[1;32m---> 17\u001b[0m \u001b[38;5;28mprint\u001b[39m(\u001b[38;5;124m\"\u001b[39m\u001b[38;5;124mDel all:\u001b[39m\u001b[38;5;124m\"\u001b[39m,\u001b[43mfruits\u001b[49m)\n",
      "\u001b[1;31mNameError\u001b[0m: name 'fruits' is not defined"
     ]
    }
   ],
   "source": [
    "fruits = [\"apple\", \"banana\", \"orange\"]\n",
    "print(\"Original list:\", fruits)\n",
    "\n",
    "# remove item\n",
    "fruits.remove(\"banana\")\n",
    "print(\"Remove()\", fruits)\n",
    "\n",
    "# znovu obnovim vymazany prvok\n",
    "fruits.insert(1, \"banana\")\n",
    "print(\"Original list Insert():\", fruits)\n",
    "# deleting from index 1:3\n",
    "del fruits[1:3]\n",
    "print(\"Del\", fruits)\n",
    "\n",
    "# deled the entire list\n",
    "del fruits\n",
    "print(\"Del all:\", fruits)  # vypise chybu pretoze list fruits uz neexistuje"
   ]
  },
  {
   "cell_type": "markdown",
   "metadata": {},
   "source": [
    "## 1.6) List length\n",
    "\n",
    "- **len()** build-in function - use to find number of items in a list"
   ]
  },
  {
   "cell_type": "code",
   "execution_count": 40,
   "metadata": {},
   "outputs": [
    {
     "name": "stdout",
     "output_type": "stream",
     "text": [
      "['apple', 'banana', 'orange']\n",
      "The number of items in list is: 3\n"
     ]
    }
   ],
   "source": [
    "fruits = [\"apple\", \"banana\", \"orange\"]\n",
    "\n",
    "print(fruits)\n",
    "print(\"The number of items in list is:\", len(fruits))"
   ]
  },
  {
   "cell_type": "markdown",
   "metadata": {},
   "source": [
    "## 1.7) List comprehension\n",
    "\n",
    "- can be used for creating a list for example"
   ]
  },
  {
   "cell_type": "code",
   "execution_count": 43,
   "metadata": {},
   "outputs": [
    {
     "name": "stdout",
     "output_type": "stream",
     "text": [
      "[1, 4, 9, 16, 25, 36, 49, 64, 81, 100]\n"
     ]
    }
   ],
   "source": [
    "# create a list with square values\n",
    "numbers = [n**2 for n in range(1, 11)]\n",
    "print(numbers)"
   ]
  },
  {
   "cell_type": "markdown",
   "metadata": {},
   "source": [
    "## 1.8) Check if item exists in list"
   ]
  },
  {
   "cell_type": "code",
   "execution_count": 46,
   "metadata": {},
   "outputs": [
    {
     "name": "stdout",
     "output_type": "stream",
     "text": [
      "True\n",
      "False\n",
      "True\n"
     ]
    }
   ],
   "source": [
    "fruits = [\"apple\", \"cherry\", \"banana\"]\n",
    "\n",
    "print(\"apple\" in fruits)\n",
    "print(\"pineapple\" in fruits)\n",
    "\n",
    "# moj pokus o terrary if..else\n",
    "exists = True if \"apple\" in fruits else False\n",
    "print(exists)"
   ]
  }
 ],
 "metadata": {
  "kernelspec": {
   "display_name": ".venv",
   "language": "python",
   "name": "python3"
  },
  "language_info": {
   "codemirror_mode": {
    "name": "ipython",
    "version": 3
   },
   "file_extension": ".py",
   "mimetype": "text/x-python",
   "name": "python",
   "nbconvert_exporter": "python",
   "pygments_lexer": "ipython3",
   "version": "3.12.6"
  }
 },
 "nbformat": 4,
 "nbformat_minor": 2
}

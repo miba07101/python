{
 "cells": [
  {
   "cell_type": "markdown",
   "metadata": {},
   "source": [
    "# 1) Numbers, Type conversion and Mathematics\n",
    "\n",
    "- number data types store the numeric values\n",
    "- types:\n",
    "    - **int** - integers (without decimal point)\n",
    "    - **float** - float with decimal point up to **15** decimal places\n",
    "    - **complex** - for complex numbers (x + yj - x is real part and y is imaginary part)"
   ]
  },
  {
   "cell_type": "code",
   "execution_count": 2,
   "metadata": {},
   "outputs": [
    {
     "name": "stdout",
     "output_type": "stream",
     "text": [
      "5 is of type <class 'int'>\n",
      "5.42 is of type <class 'float'>\n",
      "(8+2j) is of type <class 'complex'>\n"
     ]
    }
   ],
   "source": [
    "num1 = 5\n",
    "print(num1, \"is of type\", type(num1))\n",
    "\n",
    "num2 = 5.42\n",
    "print(num2, \"is of type\", type(num2))\n",
    "\n",
    "num3 = 8 + 2j\n",
    "print(num3, \"is of type\", type(num3))"
   ]
  },
  {
   "cell_type": "markdown",
   "metadata": {},
   "source": [
    "## 1.2) Number systems\n",
    "\n",
    "- **decimal** - base 10\n",
    "- **binary** - base 2\n",
    "- **hexadecimal** - base 16\n",
    "- **octal** - base 8"
   ]
  },
  {
   "cell_type": "code",
   "execution_count": 4,
   "metadata": {},
   "outputs": [
    {
     "name": "stdout",
     "output_type": "stream",
     "text": [
      "107\n",
      "253\n",
      "13\n"
     ]
    }
   ],
   "source": [
    "# binary\n",
    "print(0b1101011)\n",
    "\n",
    "# hexadecimal\n",
    "print(0xFB + 0b10)\n",
    "\n",
    "# octal\n",
    "print(0o15)"
   ]
  },
  {
   "cell_type": "markdown",
   "metadata": {},
   "source": [
    "## 1.3) Type conversion\n",
    "\n",
    "- implicit - conversion from int to float is automatic\n",
    "- explicit - must be defined, example string to int: int(\"1\")"
   ]
  },
  {
   "cell_type": "code",
   "execution_count": 6,
   "metadata": {},
   "outputs": [
    {
     "name": "stdout",
     "output_type": "stream",
     "text": [
      "String <class 'str'>\n",
      "Converted from string to int <class 'int'>\n"
     ]
    }
   ],
   "source": [
    "number = \"1\"\n",
    "\n",
    "print(\"String\", type(number))\n",
    "print(\"Converted from string to int\", type(int(number)))"
   ]
  },
  {
   "cell_type": "markdown",
   "metadata": {},
   "source": [
    "## 1.4) Mathematics\n",
    "\n",
    "- **math** module to carry out different mathematics like trigonometry, logarithms, probability and statistics, etc."
   ]
  },
  {
   "cell_type": "code",
   "execution_count": 7,
   "metadata": {},
   "outputs": [
    {
     "name": "stdout",
     "output_type": "stream",
     "text": [
      "3.141592653589793\n"
     ]
    }
   ],
   "source": [
    "import math\n",
    "\n",
    "print(math.pi)"
   ]
  }
 ],
 "metadata": {
  "kernelspec": {
   "display_name": ".venv",
   "language": "python",
   "name": "python3"
  },
  "language_info": {
   "codemirror_mode": {
    "name": "ipython",
    "version": 3
   },
   "file_extension": ".py",
   "mimetype": "text/x-python",
   "name": "python",
   "nbconvert_exporter": "python",
   "pygments_lexer": "ipython3",
   "version": "3.12.6"
  }
 },
 "nbformat": 4,
 "nbformat_minor": 2
}

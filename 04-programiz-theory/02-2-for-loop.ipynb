{
 "cells": [
  {
   "cell_type": "markdown",
   "metadata": {},
   "source": [
    "# 1) FOR loop\n",
    "\n",
    "- using for iterate over sequences such as **list, strings, dictionaries, etc.**\n",
    "- loop ends after the last item in sequence is reached \n",
    "- we can end for loop before iterating through all the items by using **break** statement\n",
    "\n",
    "- syntax:\n",
    "```python\n",
    "for item in sequence:\n",
    "    # body of the loop"
   ]
  },
  {
   "cell_type": "code",
   "execution_count": 2,
   "metadata": {},
   "outputs": [
    {
     "name": "stdout",
     "output_type": "stream",
     "text": [
      "p\n",
      "y\n",
      "t\n",
      "h\n",
      "o\n",
      "n\n"
     ]
    }
   ],
   "source": [
    "# loop trough a string\n",
    "\n",
    "string = \"python\"\n",
    "\n",
    "for character in string:\n",
    "    print(character)"
   ]
  },
  {
   "cell_type": "code",
   "execution_count": 3,
   "metadata": {},
   "outputs": [
    {
     "name": "stdout",
     "output_type": "stream",
     "text": [
      "0\n",
      "1\n",
      "2\n",
      "3\n"
     ]
    }
   ],
   "source": [
    "# loop trugh range()\n",
    "for i in range(4):\n",
    "    print(i)"
   ]
  },
  {
   "cell_type": "markdown",
   "metadata": {},
   "source": [
    "## 1.2) FOR loop with ELSE clause\n",
    "\n",
    "- **else** clause executes after the iteration completes\n",
    "- !Important: the **esle** block **will not** execute if the for loop is stopped by a **break** statement"
   ]
  },
  {
   "cell_type": "code",
   "execution_count": 4,
   "metadata": {},
   "outputs": [
    {
     "name": "stdout",
     "output_type": "stream",
     "text": [
      "0\n",
      "1\n",
      "5\n",
      "No digits left\n"
     ]
    }
   ],
   "source": [
    "digits = [0, 1, 5]\n",
    "\n",
    "for i in digits:\n",
    "    print(i)\n",
    "else:\n",
    "    print(\"No digits left\")"
   ]
  },
  {
   "cell_type": "markdown",
   "metadata": {},
   "source": [
    "## 1.3) FOR loop without accessing items\n",
    "\n",
    "- we can use **for** loop to repeat an action a certain number of times\n",
    "- !Important: in such case is clearer to use **_ (underscore)** as the loop variable. (tento zapis nam hovori, ze premenna cyklu je len zastupujuca a ze jej hodnota je ignorovana)"
   ]
  },
  {
   "cell_type": "code",
   "execution_count": 1,
   "metadata": {},
   "outputs": [
    {
     "name": "stdout",
     "output_type": "stream",
     "text": [
      "Hi\n",
      "Hi\n",
      "Hi\n",
      "Hello\n",
      "Hello\n",
      "Hello\n"
     ]
    }
   ],
   "source": [
    "languages = [\"swift\", \"python\", \"go\"]\n",
    "\n",
    "# loping to repeat an action without using the list items\n",
    "for item in languages:\n",
    "    print(\"Hi\")\n",
    "\n",
    "# using underscore symbol _ as loop variable\n",
    "for _ in languages:\n",
    "    print(\"Hello\")"
   ]
  },
  {
   "cell_type": "markdown",
   "metadata": {},
   "source": [
    "## 1.4) Nested FOR loops\n",
    "\n",
    "- for each cycle of the outer loop inner loop completes its entire sequence"
   ]
  },
  {
   "cell_type": "code",
   "execution_count": 2,
   "metadata": {},
   "outputs": [
    {
     "name": "stdout",
     "output_type": "stream",
     "text": [
      "i = 0, j = 0\n",
      "i = 0, j = 1\n",
      "i = 0, j = 2\n",
      "i = 1, j = 0\n",
      "i = 1, j = 1\n",
      "i = 1, j = 2\n"
     ]
    }
   ],
   "source": [
    "# outer loop\n",
    "for i in range(2):\n",
    "    # inner loop\n",
    "    for j in range(3):\n",
    "        print(f\"i = {i}, j = {j}\")"
   ]
  }
 ],
 "metadata": {
  "kernelspec": {
   "display_name": ".venv",
   "language": "python",
   "name": "python3"
  },
  "language_info": {
   "codemirror_mode": {
    "name": "ipython",
    "version": 3
   },
   "file_extension": ".py",
   "mimetype": "text/x-python",
   "name": "python",
   "nbconvert_exporter": "python",
   "pygments_lexer": "ipython3",
   "version": "3.12.6"
  }
 },
 "nbformat": 4,
 "nbformat_minor": 2
}

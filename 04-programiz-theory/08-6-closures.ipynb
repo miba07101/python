{
 "cells": [
  {
   "cell_type": "markdown",
   "metadata": {},
   "source": [
    "# 1) Closures (uzavery)\n",
    "\n",
    "- is a **nested function** - allows us to access variables of the **outer** function evan after the outer function is **closed**"
   ]
  },
  {
   "cell_type": "markdown",
   "metadata": {},
   "source": [
    "## 1.1) Nested functions"
   ]
  },
  {
   "cell_type": "code",
   "execution_count": 1,
   "metadata": {},
   "outputs": [
    {
     "name": "stdout",
     "output_type": "stream",
     "text": [
      "Hi Milan\n"
     ]
    }
   ],
   "source": [
    "def greeting(name):\n",
    "    # inner function\n",
    "    def display_name():\n",
    "        print(\"Hi\", name)\n",
    "\n",
    "    # call inner function\n",
    "    display_name()\n",
    "\n",
    "\n",
    "# call outer function\n",
    "greeting(\"Milan\")"
   ]
  },
  {
   "cell_type": "markdown",
   "metadata": {},
   "source": [
    "## 1.2) Closures"
   ]
  },
  {
   "cell_type": "code",
   "execution_count": 6,
   "metadata": {},
   "outputs": [
    {
     "name": "stdout",
     "output_type": "stream",
     "text": [
      "Hi John\n"
     ]
    }
   ],
   "source": [
    "def greeting():\n",
    "    # variable defined outside the inner function\n",
    "    name = \"John\"\n",
    "\n",
    "    # return a nested anonymous function\n",
    "    return lambda: \"Hi \" + name\n",
    "\n",
    "\n",
    "# call the outer function\n",
    "# The returned lambda function is now assigned to the message variable.\n",
    "message = greeting()\n",
    "\n",
    "# call the inner f.\n",
    "print(message())"
   ]
  },
  {
   "cell_type": "code",
   "execution_count": 2,
   "metadata": {},
   "outputs": [
    {
     "name": "stdout",
     "output_type": "stream",
     "text": [
      "3\n",
      "5\n",
      "7\n",
      "3\n"
     ]
    }
   ],
   "source": [
    "# Print Odd Numbers using Python Closure\n",
    "\n",
    "\n",
    "def calculate():\n",
    "    num = 1\n",
    "\n",
    "    def inner_func():\n",
    "        nonlocal num\n",
    "        num += 2\n",
    "        return num\n",
    "\n",
    "    return inner_func\n",
    "\n",
    "\n",
    "# call the outer function\n",
    "odd = calculate()\n",
    "\n",
    "# call the inner function\n",
    "print(odd())\n",
    "print(odd())\n",
    "print(odd())\n",
    "\n",
    "# call the outer function again\n",
    "odd2 = calculate()\n",
    "print(odd2())"
   ]
  }
 ],
 "metadata": {
  "kernelspec": {
   "display_name": ".venv",
   "language": "python",
   "name": "python3"
  },
  "language_info": {
   "codemirror_mode": {
    "name": "ipython",
    "version": 3
   },
   "file_extension": ".py",
   "mimetype": "text/x-python",
   "name": "python",
   "nbconvert_exporter": "python",
   "pygments_lexer": "ipython3",
   "version": "3.12.6"
  }
 },
 "nbformat": 4,
 "nbformat_minor": 2
}

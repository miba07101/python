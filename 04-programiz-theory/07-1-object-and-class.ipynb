{
 "cells": [
  {
   "cell_type": "markdown",
   "metadata": {},
   "source": [
    "# 1) Objects and classes\n",
    "\n",
    "- **object** - is a collection of data (variables) and methods (functions)\n",
    "- **class** - is a blueprint (navrh) for object"
   ]
  },
  {
   "cell_type": "markdown",
   "metadata": {},
   "source": [
    "## 1.1) Classes\n",
    "\n",
    "- think that class is sketch/plan for house. it contains all details about floors, windows, doors, etc.\n",
    "- based on this sketch/plan we can build house - object.\n",
    "- since many houses can be build from the same sketch/plan, we can create many objects from a class."
   ]
  },
  {
   "cell_type": "markdown",
   "metadata": {},
   "source": [
    "### 1.1.1) Define class\n",
    "\n",
    "- **class** - keyword to create a class\n",
    "- syntax:\n",
    "```python\n",
    "class ClassName:\n",
    "    # class definition\n",
    "```\n",
    "- !important: variables inside a class are called **attributes**"
   ]
  },
  {
   "cell_type": "markdown",
   "metadata": {},
   "source": [
    "## 1.2) Objects\n",
    "\n",
    "- is **instance** of a class\n",
    "- syntax:\n",
    "```python\n",
    "objectName = ClassName()\n",
    "```\n",
    "- trough object we can access class atributes"
   ]
  },
  {
   "cell_type": "code",
   "execution_count": 1,
   "metadata": {},
   "outputs": [
    {
     "name": "stdout",
     "output_type": "stream",
     "text": [
      "Name: Mountain bike, Gears: 11\n"
     ]
    }
   ],
   "source": [
    "# Example: Class and objects\n",
    "# create Class\n",
    "class Bike:\n",
    "    # define attributes\n",
    "    name = \"\"\n",
    "    gear = 0\n",
    "\n",
    "\n",
    "# create instance/object of class Bike\n",
    "bike1 = Bike()\n",
    "\n",
    "# access class attributes and assign new values\n",
    "bike1.name = \"Mountain bike\"\n",
    "bike1.gear = 11\n",
    "\n",
    "# display class attributes via object\n",
    "print(f\"Name: {bike1.name}, Gears: {bike1.gear}\")"
   ]
  },
  {
   "cell_type": "markdown",
   "metadata": {},
   "source": [
    "## 1.3) Create multiple objects of class"
   ]
  },
  {
   "cell_type": "code",
   "execution_count": 12,
   "metadata": {},
   "outputs": [
    {
     "name": "stdout",
     "output_type": "stream",
     "text": [
      "Employee 1 ID: 1001, Employee 2 ID: 1002\n"
     ]
    }
   ],
   "source": [
    "class Employee:\n",
    "    employee_id = 0\n",
    "\n",
    "\n",
    "# create two objects of Employee class\n",
    "employee1 = Employee()\n",
    "employee2 = Employee()\n",
    "\n",
    "# acces attributes\n",
    "employee1.employee_id = 1001\n",
    "employee2.employee_id = 1002\n",
    "\n",
    "# display info\n",
    "print(f\"Employee 1 ID: {employee1.employee_id}, Employee 2 ID: {employee2.employee_id}\")"
   ]
  },
  {
   "cell_type": "markdown",
   "metadata": {},
   "source": [
    "## 1.4) Methods\n",
    "\n",
    "- **method** - is function defined inside class"
   ]
  },
  {
   "cell_type": "code",
   "execution_count": 14,
   "metadata": {},
   "outputs": [
    {
     "name": "stdout",
     "output_type": "stream",
     "text": [
      "Area of room: 1309.0\n"
     ]
    }
   ],
   "source": [
    "class Room:\n",
    "    length = 0.0\n",
    "    breadth = 0.0\n",
    "\n",
    "    # method to calcualte area\n",
    "    def calculate_area(self):\n",
    "        print(\"Area of room:\", self.length * self.breadth)\n",
    "\n",
    "\n",
    "# create instance of Room class\n",
    "study_room = Room()\n",
    "\n",
    "# assign values to all attributes\n",
    "study_room.length = 42.5\n",
    "study_room.breadth = 30.8\n",
    "\n",
    "# access method inside class\n",
    "study_room.calculate_area()"
   ]
  },
  {
   "cell_type": "markdown",
   "metadata": {},
   "source": [
    "## 1.5) Constructor\n",
    "\n",
    "- instead assigning default values to a class attributes, we can initialize values using **constructor**\n",
    "- ```__init__()``` is **constructor** function"
   ]
  },
  {
   "cell_type": "code",
   "execution_count": 17,
   "metadata": {},
   "outputs": [
    {
     "name": "stdout",
     "output_type": "stream",
     "text": [
      "Mountain Bike\n"
     ]
    }
   ],
   "source": [
    "class Bike:\n",
    "    # constructor f.\n",
    "    # initialize the value \"name\" attribute\n",
    "    def __init__(self, name=\"\"):\n",
    "        # self.name refer to the \"name\" attribute\n",
    "        self.name = name\n",
    "\n",
    "\n",
    "bike1 = Bike(name=\"Mountain Bike\")\n",
    "print(bike1.name)"
   ]
  }
 ],
 "metadata": {
  "kernelspec": {
   "display_name": ".venv",
   "language": "python",
   "name": "python3"
  },
  "language_info": {
   "codemirror_mode": {
    "name": "ipython",
    "version": 3
   },
   "file_extension": ".py",
   "mimetype": "text/x-python",
   "name": "python",
   "nbconvert_exporter": "python",
   "pygments_lexer": "ipython3",
   "version": "3.12.6"
  }
 },
 "nbformat": 4,
 "nbformat_minor": 2
}

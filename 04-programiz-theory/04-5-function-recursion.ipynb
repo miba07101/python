{
 "cells": [
  {
   "cell_type": "markdown",
   "metadata": {},
   "source": [
    "# 1) Recursion\n",
    "\n",
    "- is the process of defining something in terms of itself\n",
    "- ako 2 zrkadla polozene oproti sebe, kazdy objek medzi nimi bude videny rekurzivne\n",
    "- **recursive function** - can call itself\n",
    "- syntax:\n",
    "```python\n",
    "def recurse():\n",
    "    # call itself\n",
    "    recurse()\n",
    "\n",
    "# call f.\n",
    "recurse()\n",
    "```"
   ]
  },
  {
   "cell_type": "code",
   "execution_count": 6,
   "metadata": {},
   "outputs": [
    {
     "name": "stdout",
     "output_type": "stream",
     "text": [
      "Factorial recursion: 6\n",
      "Factorial while 6\n"
     ]
    }
   ],
   "source": [
    "#  find the factorial of an integer\n",
    "# Factorial of a number is the product of all the integers from 1 to that number.\n",
    "# For example, the factorial of 6 (denoted as 6!) is 1*2*3*4*5*6 = 720.\n",
    "\n",
    "\n",
    "def factorial(x):\n",
    "    \"\"\"This is a recursive function\n",
    "    to find the factorial of an integer\"\"\"\n",
    "\n",
    "    if x == 1:\n",
    "        return 1\n",
    "    else:\n",
    "        return x * factorial(x - 1)\n",
    "\n",
    "\n",
    "print(\"Factorial recursion:\", factorial(3))\n",
    "\n",
    "\n",
    "def fact(x):\n",
    "    factor = 1\n",
    "    while x >= 1:\n",
    "        factor *= x\n",
    "        x -= 1\n",
    "    return factor\n",
    "\n",
    "\n",
    "print(\"Factorial while\", fact(3))"
   ]
  }
 ],
 "metadata": {
  "kernelspec": {
   "display_name": ".venv",
   "language": "python",
   "name": "python3"
  },
  "language_info": {
   "codemirror_mode": {
    "name": "ipython",
    "version": 3
   },
   "file_extension": ".py",
   "mimetype": "text/x-python",
   "name": "python",
   "nbconvert_exporter": "python",
   "pygments_lexer": "ipython3",
   "version": "3.12.6"
  }
 },
 "nbformat": 4,
 "nbformat_minor": 2
}

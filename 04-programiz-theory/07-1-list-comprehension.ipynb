{
 "cells": [
  {
   "cell_type": "markdown",
   "metadata": {},
   "source": [
    "# 1) List comprehension\n",
    "\n",
    "- can be used for creating a new list\n",
    "- can also be used with iterables other than lists, for ex. strings\n",
    "\n",
    "- syntax:\n",
    "```python\n",
    "[expression for item in list if condition == True]\n",
    " \n",
    " # for every item in list, execute the expression if the condition is True\n",
    " ```"
   ]
  },
  {
   "cell_type": "code",
   "execution_count": 1,
   "metadata": {},
   "outputs": [
    {
     "name": "stdout",
     "output_type": "stream",
     "text": [
      "[2, 4, 6, 8]\n"
     ]
    }
   ],
   "source": [
    "# create new list from existing using list comprehension\n",
    "numbers = [1, 2, 3, 4]\n",
    "\n",
    "# make new list with doubled values\n",
    "double_numbers = [number * 2 for number in numbers]\n",
    "print(double_numbers)"
   ]
  },
  {
   "cell_type": "markdown",
   "metadata": {},
   "source": [
    "## 1.1) for loop vs list comprehension\n",
    "\n",
    "- list comprehension makes code **cleaner**"
   ]
  },
  {
   "cell_type": "code",
   "execution_count": 7,
   "metadata": {},
   "outputs": [
    {
     "name": "stdout",
     "output_type": "stream",
     "text": [
      "Using for loop: [1, 4, 9, 16, 25]\n",
      "Using list comprehension [1, 4, 9, 16, 25]\n"
     ]
    }
   ],
   "source": [
    "numbers = [1, 2, 3, 4, 5]\n",
    "square_numbers = []\n",
    "\n",
    "# using for loop\n",
    "for num in numbers:\n",
    "    square_numbers.append(num * num)\n",
    "\n",
    "print(\"Using for loop:\", square_numbers)\n",
    "\n",
    "# using list comprehension\n",
    "square_numbers = [num * num for num in numbers]\n",
    "print(\"Using list comprehension\", square_numbers)"
   ]
  },
  {
   "cell_type": "markdown",
   "metadata": {},
   "source": [
    "## 1.2) Conditionals if..else in list comprehension"
   ]
  },
  {
   "cell_type": "code",
   "execution_count": 8,
   "metadata": {},
   "outputs": [
    {
     "name": "stdout",
     "output_type": "stream",
     "text": [
      "Even numbers: [2, 4, 6, 8, 10]\n"
     ]
    }
   ],
   "source": [
    "# filtering even numbers from a list\n",
    "even_numbers = [num for num in range(1, 11) if num % 2 == 0]\n",
    "print(\"Even numbers:\", even_numbers)"
   ]
  },
  {
   "cell_type": "code",
   "execution_count": 10,
   "metadata": {},
   "outputs": [
    {
     "name": "stdout",
     "output_type": "stream",
     "text": [
      "['Odd', 'Even', 'Odd', 'Even', 'Odd', 'Even', 'Odd', 'Even', 'Odd', 'Even']\n"
     ]
    }
   ],
   "source": [
    "# use if...else with list comprehension to find even and odd numbers\n",
    "numbers = [1, 2, 3, 4, 5, 6, 7, 8, 9, 10]\n",
    "\n",
    "even_odd = [\"Even\" if num % 2 == 0 else \"Odd\" for num in numbers]\n",
    "print(even_odd)"
   ]
  },
  {
   "cell_type": "code",
   "execution_count": 21,
   "metadata": {},
   "outputs": [
    {
     "name": "stdout",
     "output_type": "stream",
     "text": [
      "[0, 10, 20, 30, 40, 50, 60, 70, 80, 90, 100]\n",
      "[0, 10, 20, 30, 40, 50, 60, 70, 80, 90, 100]\n"
     ]
    }
   ],
   "source": [
    "# nested if\n",
    "# find even numbers that are divisible by 5\n",
    "\n",
    "num_list = [num for num in range(0, 101) if num % 2 == 0 and num % 10 == 0]\n",
    "print(num_list)\n",
    "\n",
    "# programiz\n",
    "num_list = [num for num in range(101) if num % 2 == 0 if num % 5 == 0]\n",
    "print(num_list)"
   ]
  },
  {
   "cell_type": "markdown",
   "metadata": {},
   "source": [
    "## 1.3) List comprehension with string"
   ]
  },
  {
   "cell_type": "code",
   "execution_count": 29,
   "metadata": {},
   "outputs": [
    {
     "name": "stdout",
     "output_type": "stream",
     "text": [
      "o\n",
      "['o']\n"
     ]
    }
   ],
   "source": [
    "word = \"Python\"\n",
    "vowels = \"aeiou\"\n",
    "\n",
    "for char in word:\n",
    "    if char in vowels:\n",
    "        print(char)\n",
    "\n",
    "# find vowel in the string \"Python\"\n",
    "vowel_character = [char for char in word if char in vowels]\n",
    "print(vowel_character)"
   ]
  },
  {
   "cell_type": "markdown",
   "metadata": {},
   "source": [
    "## 1.4) Nested list comprehension"
   ]
  },
  {
   "cell_type": "code",
   "execution_count": 32,
   "metadata": {},
   "outputs": [
    {
     "name": "stdout",
     "output_type": "stream",
     "text": [
      "Using nested for loop: [[2, 4, 6, 8, 10], [3, 6, 9, 12, 15], [4, 8, 12, 16, 20]]\n",
      "Using nested list comprehension: [[2, 4, 6, 8, 10], [3, 6, 9, 12, 15], [4, 8, 12, 16, 20]]\n"
     ]
    },
    {
     "name": "stderr",
     "output_type": "stream",
     "text": [
      "C:\\Users\\mech\\AppData\\Local\\Temp\\ipykernel_1456\\1626657503.py:4: DeprecationWarning: 'audioop' is deprecated and slated for removal in Python 3.13\n",
      "  from audioop import mul\n"
     ]
    }
   ],
   "source": [
    "# make multiplication table\n",
    "\n",
    "# using nested for loop\n",
    "multiplication = []\n",
    "\n",
    "for i in range(2, 5):\n",
    "    row = []\n",
    "    for j in range(1, 6):\n",
    "        row.append(i * j)\n",
    "    multiplication.append(row)\n",
    "\n",
    "print(\"Using nested for loop:\", multiplication)\n",
    "\n",
    "# using nested list comprehension\n",
    "multiplication = [[i * j for j in range(1, 6)] for i in range(2, 5)]\n",
    "print(\"Using nested list comprehension:\", multiplication)"
   ]
  },
  {
   "cell_type": "markdown",
   "metadata": {},
   "source": [
    "## 1.5) List comprehension with lambda function"
   ]
  },
  {
   "cell_type": "code",
   "execution_count": 44,
   "metadata": {},
   "outputs": [
    {
     "name": "stdout",
     "output_type": "stream",
     "text": [
      "Using lambda and map() [25, 36, 49, 64, 81]\n",
      "Using list comprehension [25, 36, 49, 64, 81]\n"
     ]
    }
   ],
   "source": [
    "# create new list with power numbers using lambda function\n",
    "from ast import comprehension\n",
    "\n",
    "\n",
    "numbers = [5, 6, 7, 8, 9]\n",
    "\n",
    "# using lambda function\n",
    "powers = list(map(lambda num: num**2, numbers))\n",
    "print(\"Using lambda and map()\", powers)\n",
    "\n",
    "# using list comprehension\n",
    "powers = [num**2 for num in numbers]\n",
    "print(\"Using list comprehension\", powers)"
   ]
  }
 ],
 "metadata": {
  "kernelspec": {
   "display_name": ".venv",
   "language": "python",
   "name": "python3"
  },
  "language_info": {
   "codemirror_mode": {
    "name": "ipython",
    "version": 3
   },
   "file_extension": ".py",
   "mimetype": "text/x-python",
   "name": "python",
   "nbconvert_exporter": "python",
   "pygments_lexer": "ipython3",
   "version": "3.12.6"
  }
 },
 "nbformat": 4,
 "nbformat_minor": 2
}

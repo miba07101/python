{
 "cells": [
  {
   "cell_type": "markdown",
   "metadata": {},
   "source": [
    "# 1) Iterators\n",
    "\n",
    "- methods that iterate collections (list, tuples, etc)\n",
    "- can loop trough **object** and return its elements\n",
    "\n",
    "- **iterator object** - must implement 2 special methods, ```__iter__()``` and ```__next__()``` - called **iterator protocol**\n",
    "- ```__iter__()``` - returns the iterator object itself\n",
    "- ```__next__()``` - return next item in the sequence. On reaching the end, and there is no more data, it must raise StopIteration"
   ]
  },
  {
   "cell_type": "markdown",
   "metadata": {},
   "source": [
    "## 1.1) Iterating through an iterator\n",
    "\n",
    "- **next()** - function return the **next** item in sequence\n",
    "    - when there is no more data to be returned we get an exeption error **StopIteration**"
   ]
  },
  {
   "cell_type": "code",
   "execution_count": 6,
   "metadata": {},
   "outputs": [
    {
     "name": "stdout",
     "output_type": "stream",
     "text": [
      "4\n",
      "7\n",
      "0\n"
     ]
    }
   ],
   "source": [
    "# define a list\n",
    "my_list = [4, 7, 0]\n",
    "\n",
    "# create an iterator from the list\n",
    "# vytvori mi objekt\n",
    "iterator = iter(my_list)\n",
    "\n",
    "# get first element of iterator\n",
    "print(next(iterator))\n",
    "\n",
    "# get secon element of iterator\n",
    "print(next(iterator))\n",
    "\n",
    "# get third element of iterator\n",
    "print(next(iterator))"
   ]
  },
  {
   "cell_type": "markdown",
   "metadata": {},
   "source": [
    "## 1.2) For loop with iterators"
   ]
  },
  {
   "cell_type": "code",
   "execution_count": 7,
   "metadata": {},
   "outputs": [
    {
     "name": "stdout",
     "output_type": "stream",
     "text": [
      "1\n",
      "2\n",
      "3\n",
      "4\n",
      "5\n"
     ]
    }
   ],
   "source": [
    "# create a list of integers\n",
    "my_list = [1, 2, 3, 4, 5]\n",
    "\n",
    "# create an iterator from the list\n",
    "iterator = iter(my_list)\n",
    "\n",
    "# iterate through the elements of the iterator\n",
    "for element in iterator:\n",
    "    print(element)"
   ]
  },
  {
   "cell_type": "markdown",
   "metadata": {},
   "source": [
    "## 1.3) Building custom iterators\n",
    "\n",
    "- must implement ```__iter__()``` and ```__next__()``` methods\n"
   ]
  },
  {
   "cell_type": "code",
   "execution_count": 12,
   "metadata": {},
   "outputs": [
    {
     "name": "stdout",
     "output_type": "stream",
     "text": [
      "1\n",
      "2\n",
      "4\n",
      "8\n"
     ]
    }
   ],
   "source": [
    "# Example that will give us the next power of 2 in each iteration.\n",
    "# Power exponent starts from zero up to a user set number\n",
    "\n",
    "\n",
    "class PowTwo:\n",
    "    \"\"\"Class to implement an iterator\n",
    "    of powers of two\"\"\"\n",
    "\n",
    "    # inicializujem triedu\n",
    "    def __init__(self, max=0):\n",
    "        self.max = max\n",
    "\n",
    "    # definujem iter metodu\n",
    "    def __iter__(self):\n",
    "        self.num = 0\n",
    "        return self\n",
    "\n",
    "    # defirnujem next metodu\n",
    "    def __next__(self):\n",
    "        if self.num <= self.max:\n",
    "            result = 2**self.num\n",
    "            self.num += 1\n",
    "            return result\n",
    "        else:\n",
    "            raise StopIteration\n",
    "\n",
    "\n",
    "# create an object\n",
    "numbers = PowTwo(3)\n",
    "\n",
    "# create an iterable from the object\n",
    "iterator = iter(numbers)\n",
    "\n",
    "# iterate trough the iterable\n",
    "for element in iterator:\n",
    "    print(element)"
   ]
  }
 ],
 "metadata": {
  "kernelspec": {
   "display_name": ".venv",
   "language": "python",
   "name": "python3"
  },
  "language_info": {
   "codemirror_mode": {
    "name": "ipython",
    "version": 3
   },
   "file_extension": ".py",
   "mimetype": "text/x-python",
   "name": "python",
   "nbconvert_exporter": "python",
   "pygments_lexer": "ipython3",
   "version": "3.12.6"
  }
 },
 "nbformat": 4,
 "nbformat_minor": 2
}

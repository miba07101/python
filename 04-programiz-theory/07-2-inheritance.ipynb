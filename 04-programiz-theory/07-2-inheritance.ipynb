{
 "cells": [
  {
   "cell_type": "markdown",
   "metadata": {},
   "source": [
    "# 1) Inheritance\n",
    "\n",
    "- **inheritance** - creating new class from another\n",
    "- new created class is **subclass** (child or derived class)\n",
    "- origin class is called **superclass** (parent or base class)\n",
    "\n",
    "- syntax:\n",
    "```python\n",
    "# define superclass/parent/base\n",
    "class SuperClass:\n",
    "    # attributes and methods of superclass\n",
    "\n",
    "# inheritance\n",
    "class SubClass(SuperClass):\n",
    "    # attributes and methods from superclass\n",
    "    # attributes and methos of subclass\n",
    "```\n",
    "- types:\n",
    "    - **Single:** a child class inherits from only one parent class.\n",
    "    - **Multiple:** a child class inherits from multiple parent classes.\n",
    "    - **Multilevel:** a child class inherits from its parent class, which is inheriting from its parent class.\n",
    "    - **Hierarchical:** more than one child class are created from a single parent class.\n",
    "    - **Hybrid:** combines more than one form of inheritance."
   ]
  },
  {
   "cell_type": "code",
   "execution_count": 3,
   "metadata": {},
   "outputs": [
    {
     "name": "stdout",
     "output_type": "stream",
     "text": [
      "I can eat\n",
      "haf, my name is: Rohu\n"
     ]
    }
   ],
   "source": [
    "class Animals:\n",
    "    # attributes and methods of the parent class\n",
    "    def __init__(self, name):\n",
    "        self.name = name\n",
    "\n",
    "    def eat(self):\n",
    "        print(\"I can eat\")\n",
    "\n",
    "\n",
    "# inherit from animal\n",
    "class Dog(Animals):\n",
    "\n",
    "    # new method of subclass\n",
    "    def display(self):\n",
    "        # access name attribute of superclass using self\n",
    "        print(\"haf, my name is:\", self.name)\n",
    "\n",
    "\n",
    "# create instance\n",
    "labrador = Dog(\"Rohu\")\n",
    "\n",
    "# access attributes and methods\n",
    "# superclass method\n",
    "labrador.eat()\n",
    "# subclass method\n",
    "labrador.display()"
   ]
  },
  {
   "cell_type": "markdown",
   "metadata": {},
   "source": [
    "## 1.1) Method overriding (prvorade)\n",
    "\n",
    "- if same method exist in super and subclass, in this case method of subclass **overrides** the method in superclass"
   ]
  },
  {
   "cell_type": "code",
   "execution_count": 4,
   "metadata": {},
   "outputs": [
    {
     "name": "stdout",
     "output_type": "stream",
     "text": [
      "I like to eat bones\n"
     ]
    }
   ],
   "source": [
    "class Animal:\n",
    "\n",
    "    # attributes and method of the parent class\n",
    "    name = \"\"\n",
    "\n",
    "    def eat(self):\n",
    "        print(\"I can eat\")\n",
    "\n",
    "\n",
    "# inherit from Animal\n",
    "class Dog(Animal):\n",
    "\n",
    "    # override eat() method\n",
    "    def eat(self):\n",
    "        print(\"I like to eat bones\")\n",
    "\n",
    "\n",
    "# create an object of the subclass\n",
    "labrador = Dog()\n",
    "\n",
    "# call the eat() method on the labrador object\n",
    "labrador.eat()"
   ]
  },
  {
   "cell_type": "markdown",
   "metadata": {},
   "source": [
    "## 1.2) super() function\n",
    "\n",
    "- **super()** - if we need **access** the superclass method from subclass"
   ]
  },
  {
   "cell_type": "code",
   "execution_count": 6,
   "metadata": {},
   "outputs": [
    {
     "name": "stdout",
     "output_type": "stream",
     "text": [
      "I can eat\n",
      "I like to eat bones\n"
     ]
    }
   ],
   "source": [
    "class Animal:\n",
    "    def __init__(self, name):\n",
    "        self.name = name\n",
    "\n",
    "    def eat(self):\n",
    "        print(\"I can eat\")\n",
    "\n",
    "\n",
    "class Dog(Animal):\n",
    "    # override eat() method from superclass Animal\n",
    "    def eat(self):\n",
    "        # call the eat() method of the superclass using super()\n",
    "        super().eat()\n",
    "        print(\"I like to eat bones\")\n",
    "\n",
    "\n",
    "# create object/instance\n",
    "labrador = Dog(\"Ronie\")\n",
    "\n",
    "labrador.eat()"
   ]
  },
  {
   "cell_type": "markdown",
   "metadata": {},
   "source": [
    "# 2) Multiple Inheritance\n",
    "\n",
    "- inherit from more than one superclass\n",
    "- syntax:\n",
    "```python\n",
    "class SuperClass1:\n",
    "    # features of SuperClass1\n",
    "\n",
    "class SuperClass2:\n",
    "    # features of SuperClass2\n",
    "\n",
    "class MultiDerived(SuperClass1, SuperClass2):\n",
    "    # features of SuperClass1 + SuperClass2 + MultiDerived class\n",
    "```"
   ]
  },
  {
   "cell_type": "code",
   "execution_count": 7,
   "metadata": {},
   "outputs": [
    {
     "name": "stdout",
     "output_type": "stream",
     "text": [
      "Mammals can give direct birth.\n",
      "Winged animals can flap.\n"
     ]
    }
   ],
   "source": [
    "class Mammal:\n",
    "    def mammal_info(self):\n",
    "        print(\"Mammals can give direct birth.\")\n",
    "\n",
    "\n",
    "class WingedAnimal:\n",
    "    def winged_animal_info(self):\n",
    "        print(\"Winged animals can flap.\")\n",
    "\n",
    "\n",
    "class Bat(Mammal, WingedAnimal):\n",
    "    pass\n",
    "\n",
    "\n",
    "# create an object of Bat class\n",
    "b1 = Bat()\n",
    "\n",
    "b1.mammal_info()\n",
    "b1.winged_animal_info()"
   ]
  },
  {
   "cell_type": "markdown",
   "metadata": {},
   "source": [
    "# 3) Multilevel inheritance\n",
    "\n",
    "- inherit from subclass\n",
    "- syntax:\n",
    "```python\n",
    "class SuperClass:\n",
    "    # Super class code here\n",
    "\n",
    "class DerivedClass1(SuperClass):\n",
    "    # Derived class 1 code here\n",
    "\n",
    "class DerivedClass2(DerivedClass1):\n",
    "    # Derived class 2 code here\n",
    "```"
   ]
  },
  {
   "cell_type": "code",
   "execution_count": 8,
   "metadata": {},
   "outputs": [
    {
     "name": "stdout",
     "output_type": "stream",
     "text": [
      "Super Class method called\n",
      "Derived class 1 method called\n",
      "Derived class 2 method called\n"
     ]
    }
   ],
   "source": [
    "class SuperClass:\n",
    "\n",
    "    def super_method(self):\n",
    "        print(\"Super Class method called\")\n",
    "\n",
    "\n",
    "# define class that derive from SuperClass\n",
    "class DerivedClass1(SuperClass):\n",
    "    def derived1_method(self):\n",
    "        print(\"Derived class 1 method called\")\n",
    "\n",
    "\n",
    "# define class that derive from DerivedClass1\n",
    "class DerivedClass2(DerivedClass1):\n",
    "\n",
    "    def derived2_method(self):\n",
    "        print(\"Derived class 2 method called\")\n",
    "\n",
    "\n",
    "# create an object of DerivedClass2\n",
    "d2 = DerivedClass2()\n",
    "\n",
    "d2.super_method()  # Output: \"Super Class method called\"\n",
    "\n",
    "d2.derived1_method()  # Output: \"Derived class 1 method called\"\n",
    "\n",
    "d2.derived2_method()  # Output: \"Derived class 2 method called\""
   ]
  },
  {
   "cell_type": "markdown",
   "metadata": {},
   "source": [
    "# 4) Method resolution order (MRO)\n",
    "\n",
    "- if superclasses have the same method name and subclass call that method"
   ]
  },
  {
   "cell_type": "code",
   "execution_count": 9,
   "metadata": {},
   "outputs": [
    {
     "name": "stdout",
     "output_type": "stream",
     "text": [
      "Super Class 1 method called\n"
     ]
    }
   ],
   "source": [
    "class SuperClass1:\n",
    "    def info(self):\n",
    "        print(\"Super Class 1 method called\")\n",
    "\n",
    "\n",
    "class SuperClass2:\n",
    "    def info(self):\n",
    "        print(\"Super Class 2 method called\")\n",
    "\n",
    "\n",
    "class Derived(SuperClass1, SuperClass2):\n",
    "    pass\n",
    "\n",
    "\n",
    "d1 = Derived()\n",
    "d1.info()"
   ]
  }
 ],
 "metadata": {
  "kernelspec": {
   "display_name": ".venv",
   "language": "python",
   "name": "python3"
  },
  "language_info": {
   "codemirror_mode": {
    "name": "ipython",
    "version": 3
   },
   "file_extension": ".py",
   "mimetype": "text/x-python",
   "name": "python",
   "nbconvert_exporter": "python",
   "pygments_lexer": "ipython3",
   "version": "3.12.6"
  }
 },
 "nbformat": 4,
 "nbformat_minor": 2
}

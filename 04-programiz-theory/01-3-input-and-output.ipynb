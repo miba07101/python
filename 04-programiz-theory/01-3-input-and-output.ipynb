{
 "cells": [
  {
   "cell_type": "markdown",
   "metadata": {},
   "source": [
    "# 1) Output\n",
    "\n",
    "- commonly we use **print()** f.\n",
    "- syntax of print():\n",
    "    print(object= separator= end= file= flush=)\n",
    "    - object - value to be printed\n",
    "    - sep - allows to separate multiple **objects** inside print()\n",
    "    - end - allow to add specific values like **new line \"\\n\", tab \"\\t\"**\n",
    "    - file - where the values are printed, default: **sys.stdout (screen)**\n",
    "    - flush - boolen specifying if the output is **flushed** or **buffered**, default: False"
   ]
  },
  {
   "cell_type": "markdown",
   "metadata": {},
   "source": [
    "## 1.1) Print with only **object** parameter"
   ]
  },
  {
   "cell_type": "code",
   "execution_count": 1,
   "metadata": {},
   "outputs": [
    {
     "name": "stdout",
     "output_type": "stream",
     "text": [
      "Hello World\n",
      "My name is Python\n"
     ]
    }
   ],
   "source": [
    "print(\"Hello World\")\n",
    "print(\"My name is Python\")"
   ]
  },
  {
   "cell_type": "markdown",
   "metadata": {},
   "source": [
    "## 1.2) Print with **end** parameter\n",
    "\n",
    "- if we include the **end** parameter equals **whitespace (medzera)** after the end of the first line, we get output of 2 prints in a single line"
   ]
  },
  {
   "cell_type": "code",
   "execution_count": 2,
   "metadata": {},
   "outputs": [
    {
     "name": "stdout",
     "output_type": "stream",
     "text": [
      "Good morning! Python\n"
     ]
    }
   ],
   "source": [
    "# print with end whitespace\n",
    "print(\"Good morning!\", end=\" \")\n",
    "print(\"Python\")"
   ]
  },
  {
   "cell_type": "markdown",
   "metadata": {},
   "source": [
    "## 1.3) Print with **sep** parameter\n",
    "\n",
    "- we can define how to separate multiple iteams in print statement"
   ]
  },
  {
   "cell_type": "code",
   "execution_count": 6,
   "metadata": {},
   "outputs": [
    {
     "name": "stdout",
     "output_type": "stream",
     "text": [
      "New Year 2025 See you soon!\n",
      "New Year.2025.See you soon!\n"
     ]
    }
   ],
   "source": [
    "# without separator\n",
    "print(\"New Year\", 2025, \"See you soon!\")\n",
    "\n",
    "# with separator \"dot\"\n",
    "print(\"New Year\", 2025, \"See you soon!\", sep=\".\")"
   ]
  },
  {
   "cell_type": "markdown",
   "metadata": {},
   "source": [
    "## 1.4) Print variables and literals"
   ]
  },
  {
   "cell_type": "code",
   "execution_count": 9,
   "metadata": {},
   "outputs": [
    {
     "name": "stdout",
     "output_type": "stream",
     "text": [
      "Printing literals: 5\n",
      "Printing variable number: -10.6\n",
      "Printing variable name: programiz\n"
     ]
    }
   ],
   "source": [
    "number = -10.6\n",
    "name = \"programiz\"\n",
    "\n",
    "# print literals\n",
    "print(\"Printing literals:\", 5)\n",
    "\n",
    "# print variables\n",
    "print(\"Printing variable number:\", number)\n",
    "print(\"Printing variable name:\", name)"
   ]
  },
  {
   "cell_type": "markdown",
   "metadata": {},
   "source": [
    "## 1.5) Print concatenated strings\n",
    "\n",
    "- join 2 strings inside print()"
   ]
  },
  {
   "cell_type": "code",
   "execution_count": 11,
   "metadata": {},
   "outputs": [
    {
     "name": "stdout",
     "output_type": "stream",
     "text": [
      "Programiz is awesome\n"
     ]
    }
   ],
   "source": [
    "print(\"Programiz is \" + \"awesome\")"
   ]
  },
  {
   "cell_type": "markdown",
   "metadata": {},
   "source": [
    "# 2) Input\n",
    "\n",
    "- using **input()** f.\n",
    "- syntax of input():\n",
    "    input(prompt)\n",
    "    - prompt (optional) - string we wish to diplay on the screen\n",
    "\n",
    "- ! Important: Entered numbers are always **strings**, we must convert data type"
   ]
  },
  {
   "cell_type": "code",
   "execution_count": 12,
   "metadata": {},
   "outputs": [
    {
     "name": "stdout",
     "output_type": "stream",
     "text": [
      "You entered: 5\n",
      "Data type of enterd number: <class 'str'>\n",
      "Data type of enterd number after conversion: <class 'int'>\n"
     ]
    }
   ],
   "source": [
    "# using input() to take user input\n",
    "num = input(\"enter a number:\")\n",
    "\n",
    "print(\"You entered:\", num)\n",
    "print(\"Data type of enterd number:\", type(num))\n",
    "\n",
    "# data type conversion\n",
    "num = int(num)\n",
    "print(\"Data type of enterd number after conversion:\", type(num))"
   ]
  }
 ],
 "metadata": {
  "kernelspec": {
   "display_name": ".venv",
   "language": "python",
   "name": "python3"
  },
  "language_info": {
   "codemirror_mode": {
    "name": "ipython",
    "version": 3
   },
   "file_extension": ".py",
   "mimetype": "text/x-python",
   "name": "python",
   "nbconvert_exporter": "python",
   "pygments_lexer": "ipython3",
   "version": "3.12.6"
  }
 },
 "nbformat": 4,
 "nbformat_minor": 2
}

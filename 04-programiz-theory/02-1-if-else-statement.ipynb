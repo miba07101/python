{
 "cells": [
  {
   "cell_type": "markdown",
   "metadata": {},
   "source": [
    "# 1) If..else statement\n",
    "\n",
    "- **if** statement is **conditional** statement\n",
    "- execute a block of code only when a specific condition is met:\n",
    "```python\n",
    "if condition:\n",
    "    # body of if statement\n",
    "else:\n",
    "    # body of else statement\n",
    "    \n",
    "# code after if...else\n",
    "```"
   ]
  },
  {
   "cell_type": "code",
   "execution_count": 3,
   "metadata": {},
   "outputs": [
    {
     "name": "stdout",
     "output_type": "stream",
     "text": [
      "5 is greater than 0\n"
     ]
    }
   ],
   "source": [
    "number = int(input(\"Enter number:\"))\n",
    "\n",
    "# check if number is greater than 0\n",
    "if number > 0:\n",
    "    print(f\"{number} is greater than 0\")\n",
    "else:\n",
    "    print(f\"{number} is less than 0\")"
   ]
  },
  {
   "cell_type": "markdown",
   "metadata": {},
   "source": [
    "- **indentation**:\n",
    "    - define a block of code\n",
    "    - ussualy 4 spaces"
   ]
  },
  {
   "cell_type": "markdown",
   "metadata": {},
   "source": [
    "## 1.1) If..elif..else statement\n",
    "\n",
    "- when we need make choices between more than 2 alternatives\n",
    "\n",
    "```python\n",
    "if condition1:\n",
    "    # code block 1\n",
    "elif condition2:\n",
    "    # code block 2\n",
    "else:\n",
    "    # code block 3\n",
    "```"
   ]
  },
  {
   "cell_type": "code",
   "execution_count": 7,
   "metadata": {},
   "outputs": [
    {
     "name": "stdout",
     "output_type": "stream",
     "text": [
      "5 is positive\n"
     ]
    }
   ],
   "source": [
    "number = int(input(\"Enter number:\"))\n",
    "\n",
    "if number > 0:\n",
    "    print(number, \"is positive\")\n",
    "elif number < 0:\n",
    "    print(number, \"is negative\")\n",
    "else:\n",
    "    print(number, \"equal 0\")"
   ]
  },
  {
   "cell_type": "markdown",
   "metadata": {},
   "source": [
    "## 1.2) Nested if statements"
   ]
  },
  {
   "cell_type": "code",
   "execution_count": 10,
   "metadata": {},
   "outputs": [
    {
     "name": "stdout",
     "output_type": "stream",
     "text": [
      "0 is equal 0\n"
     ]
    }
   ],
   "source": [
    "number = int(input(\"Enter number:\"))\n",
    "\n",
    "# outer if statement\n",
    "if number >= 0:\n",
    "    # inner if statement\n",
    "    if number == 0:\n",
    "        print(number, \"is equal 0\")\n",
    "    # inner else statement\n",
    "    else:\n",
    "        print(number, \"is positive\")\n",
    "# outer else statement\n",
    "else:\n",
    "    print(number, \"is negative\")"
   ]
  },
  {
   "cell_type": "markdown",
   "metadata": {},
   "source": [
    "## 1.3) Compact if statement\n",
    "\n",
    "- if statement simplified in **single/one line**"
   ]
  },
  {
   "cell_type": "code",
   "execution_count": 11,
   "metadata": {},
   "outputs": [
    {
     "name": "stdout",
     "output_type": "stream",
     "text": [
      "10 is positive\n",
      "10 is positive\n"
     ]
    }
   ],
   "source": [
    "number = 10\n",
    "\n",
    "# if statement\n",
    "if number > 0:\n",
    "    print(number, \"is positive\")\n",
    "\n",
    "# compact if statement\n",
    "if number > 0:\n",
    "    print(number, \"is positive\")"
   ]
  },
  {
   "cell_type": "markdown",
   "metadata": {},
   "source": [
    "## 1.4) Ternary operator\n",
    "\n",
    "- python **doesn't have** a ternary operator\n",
    "- we can use if..else statment for this situation"
   ]
  },
  {
   "cell_type": "code",
   "execution_count": 13,
   "metadata": {},
   "outputs": [
    {
     "name": "stdout",
     "output_type": "stream",
     "text": [
      "fail\n",
      "fail\n"
     ]
    }
   ],
   "source": [
    "number = 40\n",
    "\n",
    "# if statment\n",
    "if number >= 50:\n",
    "    result = \"pass\"\n",
    "else:\n",
    "    result = \"fail\"\n",
    "print(result)\n",
    "\n",
    "# ternary\n",
    "result = \"pass\" if number >= 50 else \"fail\"\n",
    "print(result)"
   ]
  },
  {
   "cell_type": "markdown",
   "metadata": {},
   "source": [
    "## 1.5) Logical operators to add multiple conditions\n",
    "\n",
    "- we can use logical operators **and, or** to create complex conditions"
   ]
  },
  {
   "cell_type": "code",
   "execution_count": 14,
   "metadata": {},
   "outputs": [
    {
     "name": "stdout",
     "output_type": "stream",
     "text": [
      "premium\n",
      "premium\n"
     ]
    }
   ],
   "source": [
    "age = 35\n",
    "salary = 6000\n",
    "\n",
    "# add 2 conditions using \"and\" operator\n",
    "if age >= 30 and salary >= 5000:\n",
    "    print(\"premium\")\n",
    "else:\n",
    "    print(\"not premium\")\n",
    "\n",
    "# moj pokus o terary\n",
    "result = \"premium\" if (age >= 30 and salary >= 5000) else \"not premium\"\n",
    "print(result)"
   ]
  },
  {
   "cell_type": "code",
   "execution_count": 29,
   "metadata": {},
   "outputs": [
    {
     "name": "stdout",
     "output_type": "stream",
     "text": [
      "i= 0 [-2, 45, 0, 11, -9]\n",
      "j= 0 [-2, 45, 0, 11, -9]\n",
      "j= 1 [-2, 45, 0, 11, -9]\n",
      "j= 2 [-2, 0, 45, 11, -9]\n",
      "j= 3 [-2, 0, 11, 45, -9]\n",
      "i= 1 [-2, 0, 11, -9, 45]\n",
      "j= 0 [-2, 0, 11, -9, 45]\n",
      "j= 1 [-2, 0, 11, -9, 45]\n",
      "j= 2 [-2, 0, 11, -9, 45]\n",
      "i= 2 [-2, 0, -9, 11, 45]\n",
      "j= 0 [-2, 0, -9, 11, 45]\n",
      "j= 1 [-2, 0, -9, 11, 45]\n",
      "i= 3 [-2, -9, 0, 11, 45]\n",
      "j= 0 [-2, -9, 0, 11, 45]\n",
      "i= 4 [-9, -2, 0, 11, 45]\n",
      "[-9, -2, 0, 11, 45]\n"
     ]
    }
   ],
   "source": [
    "# bubble sort\n",
    "\n",
    "numbers = [-2, 45, 0, 11, -9]\n",
    "\n",
    "for i in range(0, len(numbers)):\n",
    "    print(\"i=\", i, numbers)\n",
    "    swap = False\n",
    "    for j in range(0, len(numbers) - i - 1):\n",
    "        print(\"j=\", j, numbers)\n",
    "        if numbers[j] > numbers[j + 1]:\n",
    "            numbers[j], numbers[j + 1] = numbers[j + 1], numbers[j]\n",
    "            swap = True\n",
    "    if swap == False:\n",
    "        break\n",
    "\n",
    "print(numbers)"
   ]
  },
  {
   "cell_type": "code",
   "execution_count": 28,
   "metadata": {},
   "outputs": [
    {
     "name": "stdout",
     "output_type": "stream",
     "text": [
      "i= 0 [1, 2, 3, 4, 5, 6]\n",
      "j= 0 [1, 2, 3, 4, 5, 6]\n",
      "j= 1 [1, 2, 3, 4, 5, 6]\n",
      "j= 2 [1, 2, 3, 4, 5, 6]\n",
      "j= 3 [1, 2, 3, 4, 5, 6]\n",
      "i= 1 [1, 2, 3, 4, 5, 6]\n",
      "j= 0 [1, 2, 3, 4, 5, 6]\n",
      "j= 1 [1, 2, 3, 4, 5, 6]\n",
      "j= 2 [1, 2, 3, 4, 5, 6]\n",
      "i= 2 [1, 2, 3, 4, 5, 6]\n",
      "j= 0 [1, 2, 3, 4, 5, 6]\n",
      "j= 1 [1, 2, 3, 4, 5, 6]\n",
      "i= 3 [1, 2, 3, 4, 5, 6]\n",
      "j= 0 [1, 2, 3, 4, 5, 6]\n",
      "i= 4 [1, 2, 3, 4, 5, 6]\n",
      "Sorted Array in Ascending Order:\n",
      "[-9, -2, 0, 11, 45]\n"
     ]
    }
   ],
   "source": [
    "# Optimized Bubble sort in Python\n",
    "\n",
    "\n",
    "def bubbleSort(array):\n",
    "\n",
    "    # loop through each element of array\n",
    "    for i in range(len(array)):\n",
    "        print(\"i=\", i, numbers)\n",
    "\n",
    "        # keep track of swapping\n",
    "        # swapped = False\n",
    "\n",
    "        # loop to compare array elements\n",
    "        for j in range(0, len(array) - i - 1):\n",
    "            print(\"j=\", j, numbers)\n",
    "\n",
    "            # compare two adjacent elements\n",
    "            # change > to < to sort in descending order\n",
    "            if array[j] > array[j + 1]:\n",
    "\n",
    "                # swapping occurs if elements\n",
    "                # are not in the intended order\n",
    "                temp = array[j]\n",
    "                array[j] = array[j + 1]\n",
    "                array[j + 1] = temp\n",
    "\n",
    "                # swapped = True\n",
    "\n",
    "        # no swapping means the array is already sorted\n",
    "        # so no need for further comparison\n",
    "        # if not swapped:\n",
    "        # break\n",
    "\n",
    "\n",
    "data = [-2, 45, 0, 11, -9]\n",
    "\n",
    "bubbleSort(data)\n",
    "\n",
    "print(\"Sorted Array in Ascending Order:\")\n",
    "print(data)"
   ]
  }
 ],
 "metadata": {
  "kernelspec": {
   "display_name": ".venv",
   "language": "python",
   "name": "python3"
  },
  "language_info": {
   "codemirror_mode": {
    "name": "ipython",
    "version": 3
   },
   "file_extension": ".py",
   "mimetype": "text/x-python",
   "name": "python",
   "nbconvert_exporter": "python",
   "pygments_lexer": "ipython3",
   "version": "3.12.6"
  }
 },
 "nbformat": 4,
 "nbformat_minor": 2
}

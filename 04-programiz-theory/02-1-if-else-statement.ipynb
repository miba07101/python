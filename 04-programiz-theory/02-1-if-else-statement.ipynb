{
 "cells": [
  {
   "cell_type": "markdown",
   "metadata": {},
   "source": [
    "# 1) If..else statement\n",
    "\n",
    "- **if** statement is **conditional** statement\n",
    "- execute a block of code only when a specific condition is met:\n",
    "```python\n",
    "if condition:\n",
    "    # body of if statement\n",
    "else:\n",
    "    # body of else statement\n",
    "    \n",
    "# code after if...else\n",
    "```"
   ]
  },
  {
   "cell_type": "code",
   "execution_count": 3,
   "metadata": {},
   "outputs": [
    {
     "name": "stdout",
     "output_type": "stream",
     "text": [
      "5 is greater than 0\n"
     ]
    }
   ],
   "source": [
    "number = int(input(\"Enter number:\"))\n",
    "\n",
    "# check if number is greater than 0\n",
    "if number > 0:\n",
    "    print(f\"{number} is greater than 0\")\n",
    "else:\n",
    "    print(f\"{number} is less than 0\")"
   ]
  },
  {
   "cell_type": "markdown",
   "metadata": {},
   "source": [
    "- **indentation**:\n",
    "    - define a block of code\n",
    "    - ussualy 4 spaces"
   ]
  },
  {
   "cell_type": "markdown",
   "metadata": {},
   "source": [
    "## 1.1) If..elif..else statement\n",
    "\n",
    "- when we need make choices between more than 2 alternatives\n",
    "\n",
    "```python\n",
    "if condition1:\n",
    "    # code block 1\n",
    "elif condition2:\n",
    "    # code block 2\n",
    "else:\n",
    "    # code block 3\n",
    "```"
   ]
  },
  {
   "cell_type": "code",
   "execution_count": 7,
   "metadata": {},
   "outputs": [
    {
     "name": "stdout",
     "output_type": "stream",
     "text": [
      "5 is positive\n"
     ]
    }
   ],
   "source": [
    "number = int(input(\"Enter number:\"))\n",
    "\n",
    "if number > 0:\n",
    "    print(number, \"is positive\")\n",
    "elif number < 0:\n",
    "    print(number, \"is negative\")\n",
    "else:\n",
    "    print(number, \"equal 0\")"
   ]
  },
  {
   "cell_type": "markdown",
   "metadata": {},
   "source": [
    "## 1.2) Nested if statements"
   ]
  },
  {
   "cell_type": "code",
   "execution_count": 10,
   "metadata": {},
   "outputs": [
    {
     "name": "stdout",
     "output_type": "stream",
     "text": [
      "0 is equal 0\n"
     ]
    }
   ],
   "source": [
    "number = int(input(\"Enter number:\"))\n",
    "\n",
    "# outer if statement\n",
    "if number >= 0:\n",
    "    # inner if statement\n",
    "    if number == 0:\n",
    "        print(number, \"is equal 0\")\n",
    "    # inner else statement\n",
    "    else:\n",
    "        print(number, \"is positive\")\n",
    "# outer else statement\n",
    "else:\n",
    "    print(number, \"is negative\")"
   ]
  },
  {
   "cell_type": "markdown",
   "metadata": {},
   "source": [
    "## 1.3) Compact if statement\n",
    "\n",
    "- if statement simplified in **single/one line**"
   ]
  },
  {
   "cell_type": "code",
   "execution_count": 11,
   "metadata": {},
   "outputs": [
    {
     "name": "stdout",
     "output_type": "stream",
     "text": [
      "10 is positive\n",
      "10 is positive\n"
     ]
    }
   ],
   "source": [
    "number = 10\n",
    "\n",
    "# if statement\n",
    "if number > 0:\n",
    "    print(number, \"is positive\")\n",
    "\n",
    "# compact if statement\n",
    "if number > 0:\n",
    "    print(number, \"is positive\")"
   ]
  },
  {
   "cell_type": "markdown",
   "metadata": {},
   "source": [
    "## 1.4) Ternary operator\n",
    "\n",
    "- python **doesn't have** a ternary operator\n",
    "- we can use if..else statment for tjis situation"
   ]
  },
  {
   "cell_type": "code",
   "execution_count": 13,
   "metadata": {},
   "outputs": [
    {
     "name": "stdout",
     "output_type": "stream",
     "text": [
      "fail\n",
      "fail\n"
     ]
    }
   ],
   "source": [
    "number = 40\n",
    "\n",
    "# if statment\n",
    "if number >= 50:\n",
    "    result = \"pass\"\n",
    "else:\n",
    "    result = \"fail\"\n",
    "print(result)\n",
    "\n",
    "# ternary\n",
    "result = \"pass\" if number >= 50 else \"fail\"\n",
    "print(result)"
   ]
  },
  {
   "cell_type": "markdown",
   "metadata": {},
   "source": [
    "## 1.5) Logical operators to add multiple conditions\n",
    "\n",
    "- we can use logical operators **and, or** to create complex conditions"
   ]
  },
  {
   "cell_type": "code",
   "execution_count": 14,
   "metadata": {},
   "outputs": [
    {
     "name": "stdout",
     "output_type": "stream",
     "text": [
      "premium\n",
      "premium\n"
     ]
    }
   ],
   "source": [
    "age = 35\n",
    "salary = 6000\n",
    "\n",
    "# add 2 conditions using \"and\" operator\n",
    "if age >= 30 and salary >= 5000:\n",
    "    print(\"premium\")\n",
    "else:\n",
    "    print(\"not premium\")\n",
    "\n",
    "# moj pokus o terary\n",
    "result = \"premium\" if (age >= 30 and salary >= 5000) else \"not premium\"\n",
    "print(result)"
   ]
  }
 ],
 "metadata": {
  "kernelspec": {
   "display_name": ".venv",
   "language": "python",
   "name": "python3"
  },
  "language_info": {
   "codemirror_mode": {
    "name": "ipython",
    "version": 3
   },
   "file_extension": ".py",
   "mimetype": "text/x-python",
   "name": "python",
   "nbconvert_exporter": "python",
   "pygments_lexer": "ipython3",
   "version": "3.12.6"
  }
 },
 "nbformat": 4,
 "nbformat_minor": 2
}

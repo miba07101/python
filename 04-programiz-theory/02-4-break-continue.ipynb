{
 "cells": [
  {
   "cell_type": "markdown",
   "metadata": {},
   "source": [
    "# 1) Break and Continue\n",
    "\n",
    "- **break** - exits loop entirely\n",
    "    - is usually used inside decision-making statements such as **if..else**\n",
    "    - can also terminate **while loop**\n",
    "- **continue** - skips the current iteration and proceeds to the next one\n",
    "    - using with **for loop** to skip the current iteration and jump to next one\n",
    "    - also using it with **while loop**"
   ]
  },
  {
   "cell_type": "markdown",
   "metadata": {},
   "source": [
    "## 1.1) Break statement"
   ]
  },
  {
   "cell_type": "code",
   "execution_count": 3,
   "metadata": {},
   "outputs": [
    {
     "name": "stdout",
     "output_type": "stream",
     "text": [
      "break with for loop\n",
      "0\n",
      "1\n",
      "2\n",
      "\n",
      "break with while loop\n",
      "0\n",
      "1\n",
      "2\n"
     ]
    }
   ],
   "source": [
    "# break statement with for loop\n",
    "print(\"break with for loop\")\n",
    "for i in range(5):\n",
    "    if i == 3:\n",
    "        break\n",
    "    print(i)\n",
    "\n",
    "# break statement with while\n",
    "print(\"\\nbreak with while loop\")\n",
    "i = 0\n",
    "\n",
    "while i < 5:\n",
    "    if i == 3:\n",
    "        break\n",
    "    print(i)\n",
    "    i += 1"
   ]
  },
  {
   "cell_type": "markdown",
   "metadata": {},
   "source": [
    "## 1.2) Continue statement"
   ]
  },
  {
   "cell_type": "code",
   "execution_count": 1,
   "metadata": {},
   "outputs": [
    {
     "name": "stdout",
     "output_type": "stream",
     "text": [
      "continue with for loop\n",
      "0\n",
      "1\n",
      "2\n",
      "4\n",
      "\n",
      "continue with while loop\n",
      "1\n",
      "2\n",
      "4\n",
      "5\n"
     ]
    }
   ],
   "source": [
    "# continue with for loop\n",
    "print(\"continue with for loop\")\n",
    "\n",
    "for i in range(5):\n",
    "    if i == 3:\n",
    "        continue\n",
    "    print(i)\n",
    "\n",
    "# continue with while loop\n",
    "print(\"\\ncontinue with while loop\")\n",
    "\n",
    "i = 0\n",
    "\n",
    "while i < 5:\n",
    "    i += 1\n",
    "    # skip if number equal 3\n",
    "    if i == 3:\n",
    "        continue\n",
    "    print(i)"
   ]
  }
 ],
 "metadata": {
  "kernelspec": {
   "display_name": ".venv",
   "language": "python",
   "name": "python3"
  },
  "language_info": {
   "codemirror_mode": {
    "name": "ipython",
    "version": 3
   },
   "file_extension": ".py",
   "mimetype": "text/x-python",
   "name": "python",
   "nbconvert_exporter": "python",
   "pygments_lexer": "ipython3",
   "version": "3.12.6"
  }
 },
 "nbformat": 4,
 "nbformat_minor": 2
}

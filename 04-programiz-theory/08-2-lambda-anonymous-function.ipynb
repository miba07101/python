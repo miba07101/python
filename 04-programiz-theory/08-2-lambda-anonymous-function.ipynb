{
 "cells": [
  {
   "cell_type": "markdown",
   "metadata": {},
   "source": [
    "# 1) Lambda / anonymous function\n",
    "\n",
    "- function without name\n",
    "- use **lambda** keyword instead of **def** to create it\n",
    "- syntax:\n",
    "```python\n",
    "lambda arguments : expression\n",
    "```\n",
    "- **arguments** - value passed to the lambda function\n",
    "- **expression** - expression is executed and returned"
   ]
  },
  {
   "cell_type": "markdown",
   "metadata": {},
   "source": [
    "## 1.1) Lambda without argument"
   ]
  },
  {
   "cell_type": "code",
   "execution_count": 2,
   "metadata": {},
   "outputs": [
    {
     "name": "stdout",
     "output_type": "stream",
     "text": [
      "Hello world\n"
     ]
    }
   ],
   "source": [
    "# simple hello world lambda\n",
    "greeting = lambda: print(\"Hello world\")\n",
    "\n",
    "# call the lambda function\n",
    "greeting()"
   ]
  },
  {
   "cell_type": "markdown",
   "metadata": {},
   "source": [
    "## 1.2) Lambda with argument"
   ]
  },
  {
   "cell_type": "code",
   "execution_count": 3,
   "metadata": {},
   "outputs": [
    {
     "name": "stdout",
     "output_type": "stream",
     "text": [
      "Hello Milan\n"
     ]
    }
   ],
   "source": [
    "greeting = lambda name: print(\"Hello\", name)\n",
    "\n",
    "# call lambda with argumnet\n",
    "greeting(\"Milan\")"
   ]
  },
  {
   "cell_type": "markdown",
   "metadata": {},
   "source": [
    "## 1.3) Lambda with filter()\n",
    "\n",
    "- **filter()** - function which takes **iterables** (list, tuples, strings) as arguments\n",
    "    - iterate trought list and return new list with items for which function evaluates True "
   ]
  },
  {
   "cell_type": "code",
   "execution_count": 5,
   "metadata": {},
   "outputs": [
    {
     "name": "stdout",
     "output_type": "stream",
     "text": [
      "[4, 6, 8, 12]\n"
     ]
    }
   ],
   "source": [
    "# program to filter out only the even items from a list\n",
    "my_list = [1, 5, 4, 6, 8, 11, 3, 12]\n",
    "\n",
    "# musim dat \"list\" type conversion, inac mi da iba objekt\n",
    "# filter iteruje skrz \"my_list\" a plikuje tam lambda funkciu, ktora vybera iba parne cisla\n",
    "new_list = list(filter(lambda num: num % 2 == 0, my_list))\n",
    "\n",
    "print(new_list)"
   ]
  },
  {
   "cell_type": "markdown",
   "metadata": {},
   "source": [
    "## 1.4) Lambda with map()\n",
    "\n",
    "- **map()** - function which takes **iterables** (list, tuples, strings) as arguments\n",
    "    - iterate trough list and return new list applying function to **each** item "
   ]
  },
  {
   "cell_type": "code",
   "execution_count": 9,
   "metadata": {},
   "outputs": [
    {
     "name": "stdout",
     "output_type": "stream",
     "text": [
      "[2, 10, 8, 12, 16, 22, 6, 24]\n"
     ]
    }
   ],
   "source": [
    "# Program to double each item in a list using map()\n",
    "\n",
    "my_list = [1, 5, 4, 6, 8, 11, 3, 12]\n",
    "\n",
    "new_list = list(map(lambda num: num * 2, my_list))\n",
    "\n",
    "print(new_list)"
   ]
  }
 ],
 "metadata": {
  "kernelspec": {
   "display_name": ".venv",
   "language": "python",
   "name": "python3"
  },
  "language_info": {
   "codemirror_mode": {
    "name": "ipython",
    "version": 3
   },
   "file_extension": ".py",
   "mimetype": "text/x-python",
   "name": "python",
   "nbconvert_exporter": "python",
   "pygments_lexer": "ipython3",
   "version": "3.12.6"
  }
 },
 "nbformat": 4,
 "nbformat_minor": 2
}

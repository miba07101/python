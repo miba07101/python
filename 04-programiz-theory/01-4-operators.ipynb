{
 "cells": [
  {
   "cell_type": "markdown",
   "metadata": {},
   "source": [
    "# 1) Operators\n",
    "\n",
    "- symbols that perform operations on variables and values\n",
    "- types:\n",
    "    - arithmetic\n",
    "    - assignment\n",
    "    - comparison\n",
    "    - logical\n",
    "    - bitwise\n",
    "    - special"
   ]
  },
  {
   "cell_type": "markdown",
   "metadata": {},
   "source": [
    "## 1.1) Arithmetic operators\n",
    "\n",
    "- for mathematical operations, such us addition, substraction, multiplication, division, etc."
   ]
  },
  {
   "cell_type": "code",
   "execution_count": 2,
   "metadata": {},
   "outputs": [
    {
     "name": "stdout",
     "output_type": "stream",
     "text": [
      "Addition: 9\n",
      "Substraction: 5\n",
      "Multiplication: 14\n",
      "Division: 3.5\n",
      "Floor division: 3\n",
      "Modulo: 1\n",
      "Power: 49\n"
     ]
    }
   ],
   "source": [
    "# define variables\n",
    "a = 7\n",
    "b = 2\n",
    "\n",
    "# addition\n",
    "print(\"Addition:\", a + b)\n",
    "\n",
    "# substraction\n",
    "print(\"Substraction:\", a - b)\n",
    "\n",
    "# multiplication\n",
    "print(\"Multiplication:\", a * b)\n",
    "\n",
    "# division\n",
    "print(\"Division:\", a / b)\n",
    "\n",
    "# floor division\n",
    "print(\"Floor division:\", a // b)\n",
    "\n",
    "# modulo\n",
    "print(\"Modulo:\", a % b)\n",
    "\n",
    "# a to the power b\n",
    "print(\"Power:\", a**b)"
   ]
  },
  {
   "cell_type": "markdown",
   "metadata": {},
   "source": [
    "## 1.2) Assignment operators\n",
    "\n",
    "- for assign values to variables"
   ]
  },
  {
   "cell_type": "code",
   "execution_count": 3,
   "metadata": {},
   "outputs": [
    {
     "name": "stdout",
     "output_type": "stream",
     "text": [
      "15\n"
     ]
    }
   ],
   "source": [
    "# assign 10 to a\n",
    "a = 10\n",
    "\n",
    "# assign 5 to b\n",
    "b = 5\n",
    "\n",
    "# assign the sum of a and b to a\n",
    "a += b  # a = a + b\n",
    "\n",
    "print(a)"
   ]
  },
  {
   "cell_type": "markdown",
   "metadata": {},
   "source": [
    "## 1.3) Comparison operators\n",
    "\n",
    "- for comparison variables/values and return Boolen results: **True or False**\n",
    "- are used in decision-making and loops\n"
   ]
  },
  {
   "cell_type": "code",
   "execution_count": 5,
   "metadata": {},
   "outputs": [
    {
     "name": "stdout",
     "output_type": "stream",
     "text": [
      "Comparison of two numbers 5 and 2\n",
      "a == b = False\n",
      "a != b = True\n",
      "a > b = True\n",
      "a < b = False\n",
      "a >= b = True\n",
      "a <= b = False\n"
     ]
    }
   ],
   "source": [
    "a = 5\n",
    "b = 2\n",
    "\n",
    "print(\"Comparison of two numbers\", a, \"and\", b)\n",
    "# equal to operator\n",
    "print(\"a == b =\", a == b)\n",
    "\n",
    "# not equal to operator\n",
    "print(\"a != b =\", a != b)\n",
    "\n",
    "# greater than operator\n",
    "print(\"a > b =\", a > b)\n",
    "\n",
    "# less than operator\n",
    "print(\"a < b =\", a < b)\n",
    "\n",
    "# greater than or equal to operator\n",
    "print(\"a >= b =\", a >= b)\n",
    "\n",
    "# less than or equal to operator\n",
    "print(\"a <= b =\", a <= b)"
   ]
  },
  {
   "cell_type": "markdown",
   "metadata": {},
   "source": [
    "## 1.4) Logical operators\n",
    "\n",
    "- are used to check if expression is True or False\n",
    "- are used in decision-making\n",
    "- operators: **and, or, not**"
   ]
  },
  {
   "cell_type": "code",
   "execution_count": 6,
   "metadata": {},
   "outputs": [
    {
     "name": "stdout",
     "output_type": "stream",
     "text": [
      "True\n",
      "False\n",
      "True\n",
      "False\n"
     ]
    }
   ],
   "source": [
    "# # logical AND\n",
    "print(True and True)  # True\n",
    "print(True and False)  # False\n",
    "\n",
    "# logical OR\n",
    "print(True or False)  # True\n",
    "\n",
    "# logical NOT\n",
    "print(not True)  # False"
   ]
  },
  {
   "cell_type": "markdown",
   "metadata": {},
   "source": [
    "## 1.5) Bitwise operators\n",
    "\n",
    "- act on operands as if they were strings of binary digits\n",
    "- they operate bit by bit"
   ]
  },
  {
   "cell_type": "markdown",
   "metadata": {},
   "source": [
    "## 1.6) Special operators\n",
    "\n",
    "- type:\n",
    "    - identity operators\n",
    "    - membership operators"
   ]
  },
  {
   "cell_type": "markdown",
   "metadata": {},
   "source": [
    "### 1.6.1) Identity operators\n",
    "\n",
    "- **is**, **is not** - are used to check if 2 values are located at the same memory location\n",
    "\n",
    "- ! Importatnt: 2 variables with equal values **doesn't** necessarily mean they are identical"
   ]
  },
  {
   "cell_type": "code",
   "execution_count": 12,
   "metadata": {},
   "outputs": [
    {
     "name": "stdout",
     "output_type": "stream",
     "text": [
      "True\n",
      "True\n",
      "False\n"
     ]
    }
   ],
   "source": [
    "x1 = 5\n",
    "y1 = 5\n",
    "x2 = \"Hello\"\n",
    "y2 = \"hello\"\n",
    "x3 = [1, 2, 3]\n",
    "y3 = [1, 2, 3]\n",
    "\n",
    "print(x1 is y1)\n",
    "print(x2 is not y2)\n",
    "print(x3 is y3)"
   ]
  },
  {
   "cell_type": "markdown",
   "metadata": {},
   "source": [
    "- ! x3 and y3 are lists. They are equal but not identical. It is because the interpreter locates them separately in memory, although they are equal"
   ]
  },
  {
   "cell_type": "markdown",
   "metadata": {},
   "source": [
    "### 1.6.2) Membership operators\n",
    "\n",
    "- **in**, **not in** - are used if a value/variable is found in a **sequence (string, list, tuple, set and dictionary)**\n",
    "- ! Important: in dictionary we can only test key, not value."
   ]
  },
  {
   "cell_type": "code",
   "execution_count": 16,
   "metadata": {},
   "outputs": [
    {
     "name": "stdout",
     "output_type": "stream",
     "text": [
      "Is H present in string: True\n",
      "Is 'hello' present in string: False\n",
      "Is '1' key in dictionary: True\n",
      "Is 'a' key in dictionary: False\n"
     ]
    }
   ],
   "source": [
    "message = \"Hello World\"\n",
    "dict1 = {1: \"a\", 2: \"b\"}\n",
    "\n",
    "# check if \"H\" is present in message string\n",
    "print(\"Is H present in string:\", \"H\" in message)\n",
    "\n",
    "# check if 'hello' is present in message string\n",
    "print(\"Is 'hello' present in string:\", \"hello\" in message)\n",
    "\n",
    "# check if '1' key is present in dict1\n",
    "print(\"Is '1' key in dictionary:\", 1 in dict1)\n",
    "\n",
    "# check if 'a' key is present in dict1\n",
    "print(\"Is 'a' key in dictionary:\", \"a\" in dict1)"
   ]
  }
 ],
 "metadata": {
  "kernelspec": {
   "display_name": ".venv",
   "language": "python",
   "name": "python3"
  },
  "language_info": {
   "codemirror_mode": {
    "name": "ipython",
    "version": 3
   },
   "file_extension": ".py",
   "mimetype": "text/x-python",
   "name": "python",
   "nbconvert_exporter": "python",
   "pygments_lexer": "ipython3",
   "version": "3.12.6"
  }
 },
 "nbformat": 4,
 "nbformat_minor": 2
}

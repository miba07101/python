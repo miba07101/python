{
 "cells": [
  {
   "cell_type": "markdown",
   "metadata": {},
   "source": [
    "# 1) Namespace and scope\n",
    "\n",
    "- **namespace** - collection of names\n",
    "    - types:\n",
    "        - build-in (when we start interpreter)\n",
    "        - global (defined in module)\n",
    "        - local (defined in function)\n",
    "- **scope** - portion of program from where a namespace can be accessed:\n",
    "    - at any moment at least 3 nested scopes:\n",
    "        - of the current function\n",
    "        - of the module\n",
    "        - outermost with build-in names"
   ]
  },
  {
   "cell_type": "code",
   "execution_count": 1,
   "metadata": {},
   "outputs": [
    {
     "name": "stdout",
     "output_type": "stream",
     "text": [
      "10\n",
      "20\n",
      "30\n"
     ]
    }
   ],
   "source": [
    "# global_var is in the global namespace\n",
    "global_var = 10\n",
    "\n",
    "\n",
    "def outer_function():\n",
    "    #  outer_var is in the local namespace\n",
    "    outer_var = 20\n",
    "\n",
    "    def inner_function():\n",
    "        #  inner_var is in the nested local namespace\n",
    "        inner_var = 30\n",
    "\n",
    "        print(inner_var)\n",
    "\n",
    "    print(outer_var)\n",
    "\n",
    "    inner_function()\n",
    "\n",
    "\n",
    "# print the value of the global variable\n",
    "print(global_var)\n",
    "\n",
    "# call the outer function and print local and nested local variables\n",
    "outer_function()"
   ]
  },
  {
   "cell_type": "markdown",
   "metadata": {},
   "source": [
    "## 1.1) Use of global keyword"
   ]
  },
  {
   "cell_type": "code",
   "execution_count": 2,
   "metadata": {},
   "outputs": [
    {
     "name": "stdout",
     "output_type": "stream",
     "text": [
      "10\n",
      "30\n"
     ]
    }
   ],
   "source": [
    "# define global variable\n",
    "global_var = 10\n",
    "\n",
    "\n",
    "def my_function():\n",
    "    # define local variable\n",
    "    local_var = 20\n",
    "\n",
    "    # modify global variable value\n",
    "    global global_var\n",
    "    global_var = 30\n",
    "\n",
    "\n",
    "# print global variable value\n",
    "print(global_var)\n",
    "\n",
    "# call the function and modify the global variable\n",
    "my_function()\n",
    "\n",
    "# print the modified value of the global variable\n",
    "print(global_var)"
   ]
  }
 ],
 "metadata": {
  "kernelspec": {
   "display_name": ".venv",
   "language": "python",
   "name": "python3"
  },
  "language_info": {
   "codemirror_mode": {
    "name": "ipython",
    "version": 3
   },
   "file_extension": ".py",
   "mimetype": "text/x-python",
   "name": "python",
   "nbconvert_exporter": "python",
   "pygments_lexer": "ipython3",
   "version": "3.12.6"
  }
 },
 "nbformat": 4,
 "nbformat_minor": 2
}

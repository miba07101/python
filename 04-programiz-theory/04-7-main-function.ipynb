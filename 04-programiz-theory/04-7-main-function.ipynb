{
 "cells": [
  {
   "cell_type": "markdown",
   "metadata": {},
   "source": [
    "# 1) Main function\n",
    "\n",
    "- execution point for program file\n",
    "- in python we use **main()** function and the **__name__** property of a python file\n",
    "- **__name__** variable:\n",
    "    - is special build-in python variable\n",
    "    - shows the name of current module\n"
   ]
  },
  {
   "cell_type": "code",
   "execution_count": 11,
   "metadata": {},
   "outputs": [
    {
     "name": "stdout",
     "output_type": "stream",
     "text": [
      "__main__\n",
      "Hello World\n"
     ]
    }
   ],
   "source": [
    "# this is content of \"greeting.py\" script\n",
    "def greeting():\n",
    "    print(\"Hello World\")\n",
    "\n",
    "\n",
    "print(__name__)\n",
    "\n",
    "if __name__ == \"__main__\":\n",
    "    greeting()"
   ]
  },
  {
   "cell_type": "markdown",
   "metadata": {},
   "source": [
    "- ak spustim predchadzajuci script ako samostatny subor tak sa spusti a vypise \"Hello World\", pretoze ```__name__``` premmena bude mat hodnotu ```__main__```.\n",
    "- ak to spustim v inom scripte ako importovany modu;l tak sa neudeje nic, pretoze ```__name__``` v tomto pripade bude mat hodnotu nazvu scriptu greeting.py, cize ```greeting```\n"
   ]
  }
 ],
 "metadata": {
  "kernelspec": {
   "display_name": ".venv",
   "language": "python",
   "name": "python3"
  },
  "language_info": {
   "codemirror_mode": {
    "name": "ipython",
    "version": 3
   },
   "file_extension": ".py",
   "mimetype": "text/x-python",
   "name": "python",
   "nbconvert_exporter": "python",
   "pygments_lexer": "ipython3",
   "version": "3.12.6"
  }
 },
 "nbformat": 4,
 "nbformat_minor": 2
}

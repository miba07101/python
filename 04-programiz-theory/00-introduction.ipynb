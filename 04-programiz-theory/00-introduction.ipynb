{
 "cells": [
  {
   "cell_type": "markdown",
   "metadata": {},
   "source": [
    "# 1) Getting started with Python\n",
    "\n",
    "- python is versatile, high-level programming language\n",
    "- is **case-sensitive**"
   ]
  },
  {
   "cell_type": "code",
   "execution_count": 1,
   "metadata": {},
   "outputs": [
    {
     "name": "stdout",
     "output_type": "stream",
     "text": [
      "Hello World\n"
     ]
    }
   ],
   "source": [
    "# first python program\n",
    "\n",
    "print(\"Hello World\")"
   ]
  },
  {
   "cell_type": "markdown",
   "metadata": {},
   "source": [
    "# 2) Comments\n",
    "\n",
    "- comments are **hints (napovedy)** that we add to our code to make it easier to understand\n",
    "- start with **hash symbol #**\n",
    "- valuable when debbuging code - we can comment line cassing the error or prevent executing code\n",
    "\n",
    "## 2.1) single-line comment\n",
    "\n",
    "- starts with **hash symbol #**\n",
    "- can be used alongside the code"
   ]
  },
  {
   "cell_type": "code",
   "execution_count": 2,
   "metadata": {},
   "outputs": [
    {
     "name": "stdout",
     "output_type": "stream",
     "text": [
      "Hello World\n"
     ]
    }
   ],
   "source": [
    "# single-line comments\n",
    "print(\"Hello World\")  # comment alongside the code"
   ]
  },
  {
   "cell_type": "markdown",
   "metadata": {},
   "source": [
    "## 2.2) multi-line comment\n",
    "\n",
    "- there is **no** dedicated method\n",
    "- we can use **hash symbol #** for each line\n",
    "- or, we can use **triple quotes \"\"\" or '''**"
   ]
  },
  {
   "cell_type": "code",
   "execution_count": 5,
   "metadata": {},
   "outputs": [
    {
     "name": "stdout",
     "output_type": "stream",
     "text": [
      "Hello World\n"
     ]
    }
   ],
   "source": [
    "# multi-line comments\n",
    "# the next line\n",
    "\"\"\"multiline comment\n",
    "using triple quotes\"\"\"\n",
    "print(\"Hello World\")"
   ]
  }
 ],
 "metadata": {
  "kernelspec": {
   "display_name": ".venv",
   "language": "python",
   "name": "python3"
  },
  "language_info": {
   "codemirror_mode": {
    "name": "ipython",
    "version": 3
   },
   "file_extension": ".py",
   "mimetype": "text/x-python",
   "name": "python",
   "nbconvert_exporter": "python",
   "pygments_lexer": "ipython3",
   "version": "3.12.6"
  }
 },
 "nbformat": 4,
 "nbformat_minor": 2
}

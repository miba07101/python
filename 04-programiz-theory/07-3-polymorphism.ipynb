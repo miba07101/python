{
 "cells": [
  {
   "cell_type": "markdown",
   "metadata": {},
   "source": [
    "# 1) Polymorphism\n",
    "\n",
    "- ?condition of occurence in differnet form\n",
    "- ?podmienka vyskytu v roznych formach?\n",
    "- example: **+** operator\n",
    "    - 1) used for arithmetic adition\n",
    "    ```python\n",
    "    num1 = 1\n",
    "    nu2 = 2\n",
    "    print(num1 + num2)\n",
    "    # output: 3\n",
    "    ```\n",
    "    - 2) used for string concatenation\n",
    "    ```python\n",
    "    str1 = \"Hello\"\n",
    "    str2 = \"World\"\n",
    "    print(str1 + \" \" + str2)\n",
    "    # output: Hello World\n",
    "    ```"
   ]
  },
  {
   "cell_type": "markdown",
   "metadata": {},
   "source": [
    "## 1.1) Function polymorphism\n",
    "\n",
    "- **len()** - it can run many data types such as string, list, tuple, set, dictionary\n",
    "- but returns specific info (string - length, list - number of item, dictionary - number of keys)"
   ]
  },
  {
   "cell_type": "code",
   "execution_count": null,
   "metadata": {},
   "outputs": [],
   "source": [
    "# string\n",
    "print(len(\"Programiz\"))\n",
    "# list\n",
    "print(len([\"Python\", \"Java\", \"C\"]))\n",
    "# dictionary\n",
    "print(len({\"Name\": \"John\", \"Address\": \"Nepal\"}))"
   ]
  },
  {
   "cell_type": "markdown",
   "metadata": {},
   "source": [
    "## 1.2) Class polymorphism\n",
    "\n",
    "- use concept of polymorphism when crating class method\n",
    "- we can create in different classes methods with **same name**"
   ]
  },
  {
   "cell_type": "code",
   "execution_count": 1,
   "metadata": {},
   "outputs": [
    {
     "name": "stdout",
     "output_type": "stream",
     "text": [
      "Meow\n",
      "I'm cat. My name is Kitty. I'm 2.5 old.\n",
      "Haf\n",
      "I'm dog. My name is Fluffy. I'm 4 old.\n"
     ]
    }
   ],
   "source": [
    "class Cat:\n",
    "    def __init__(self, name, age):\n",
    "        self.name = name\n",
    "        self.age = age\n",
    "\n",
    "    def info(self):\n",
    "        print(f\"I'm cat. My name is {self.name}. I'm {self.age} old.\")\n",
    "\n",
    "    def make_sound(self):\n",
    "        print(\"Meow\")\n",
    "\n",
    "\n",
    "class Dog:\n",
    "    def __init__(self, name, age):\n",
    "        self.name = name\n",
    "        self.age = age\n",
    "\n",
    "    def info(self):\n",
    "        print(f\"I'm dog. My name is {self.name}. I'm {self.age} old.\")\n",
    "\n",
    "    def make_sound(self):\n",
    "        print(\"Haf\")\n",
    "\n",
    "\n",
    "# create objects\n",
    "cat1 = Cat(\"Kitty\", age=2.5)\n",
    "dog1 = Dog(\"Fluffy\", age=4)\n",
    "\n",
    "#  we can pack these two different objects into a tuple and iterate through it using a common animal variable\n",
    "for animal in (cat1, dog1):\n",
    "    animal.make_sound()\n",
    "    animal.info()"
   ]
  },
  {
   "cell_type": "markdown",
   "metadata": {},
   "source": [
    "## 1.3) Polymorphism and inheritance\n",
    "\n",
    "- polymorphism allow us to access **overridden methods** and attributes in subclass that have the **same name** as the superclass"
   ]
  },
  {
   "cell_type": "code",
   "execution_count": 3,
   "metadata": {},
   "outputs": [
    {
     "name": "stdout",
     "output_type": "stream",
     "text": [
      "Circle\n",
      "Squares have each angle equal to 90 degrees.\n",
      "I'm a two-dimensional shape\n"
     ]
    }
   ],
   "source": [
    "# Method Overriding\n",
    "class Shape:\n",
    "    def __init__(self, name):\n",
    "        self.name = name\n",
    "\n",
    "    def area(self):\n",
    "        pass\n",
    "\n",
    "    def fact(self):\n",
    "        return \"I'm a two-dimensional shape\"\n",
    "\n",
    "    def __str__(self):\n",
    "        return self.name\n",
    "\n",
    "\n",
    "class Square(Shape):\n",
    "    def __init__(self, length):\n",
    "        # call the init() method of the superclass using super()\n",
    "        super().__init__(\"Square\")\n",
    "        self.length = length\n",
    "\n",
    "    def area(self):\n",
    "        return self.length**2\n",
    "\n",
    "    def fact(self):\n",
    "        return \"Squares have each angle equal to 90 degrees.\"\n",
    "\n",
    "\n",
    "class Circle(Shape):\n",
    "    def __init__(self, radius):\n",
    "        super().__init__(\"Circle\")\n",
    "        self.radius = radius\n",
    "\n",
    "    def area(self):\n",
    "        return pi * self.radius**2\n",
    "\n",
    "\n",
    "# define objects\n",
    "square = Square(length=4)\n",
    "circle = Circle(radius=7)\n",
    "\n",
    "# print name of object using \"__str__()\" method in superclass \"Shape\"\n",
    "print(circle)\n",
    "\n",
    "# display other facts\n",
    "# Due to polymorphism, the Python interpreter automatically recognizes\n",
    "# that the fact() method for object square(Square class) is overridden.\n",
    "# So, it uses the one defined in the child class.\n",
    "print(square.fact())\n",
    "# On the other hand, since the fact() method for object circle isn't overridden,\n",
    "# it is used from the Parent Shape class.\n",
    "print(circle.fact())"
   ]
  }
 ],
 "metadata": {
  "kernelspec": {
   "display_name": ".venv",
   "language": "python",
   "name": "python3"
  },
  "language_info": {
   "codemirror_mode": {
    "name": "ipython",
    "version": 3
   },
   "file_extension": ".py",
   "mimetype": "text/x-python",
   "name": "python",
   "nbconvert_exporter": "python",
   "pygments_lexer": "ipython3",
   "version": "3.12.6"
  }
 },
 "nbformat": 4,
 "nbformat_minor": 2
}

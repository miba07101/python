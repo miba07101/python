{
 "cells": [
  {
   "cell_type": "markdown",
   "metadata": {},
   "source": [
    "# 1) Generators\n",
    "\n",
    "- is a function that returns an **iterator** that produces a sequence of values when iterated over\n",
    "- !important: generator is useful when we want to produce a large sequence of values, but we don't want store all of them in memory at once."
   ]
  },
  {
   "cell_type": "markdown",
   "metadata": {},
   "source": [
    "## 1.1) Create generator\n",
    "\n",
    "- as function with **def** keyword\n",
    "- instead **return** we use **yield** statement\n",
    "- syntax:\n",
    "```python\n",
    "def generator_name():\n",
    "    # statements\n",
    "    yield something\n",
    "```"
   ]
  },
  {
   "cell_type": "code",
   "execution_count": 1,
   "metadata": {},
   "outputs": [
    {
     "name": "stdout",
     "output_type": "stream",
     "text": [
      "0\n",
      "1\n",
      "2\n"
     ]
    }
   ],
   "source": [
    "#  Example of a generator function that produces a sequence of numbers\n",
    "def my_generator(n):\n",
    "    # initialize counter\n",
    "    value = 0\n",
    "\n",
    "    # loop until counter is less than n\n",
    "    while value < n:\n",
    "\n",
    "        # produce the current value of the counter\n",
    "        yield value\n",
    "\n",
    "        # increment counter\n",
    "        value += 1\n",
    "\n",
    "\n",
    "# iterate over the generator object produced by my_generator\n",
    "for item in my_generator(3):\n",
    "    print(item)"
   ]
  },
  {
   "cell_type": "markdown",
   "metadata": {},
   "source": [
    "## 1.2) Generator expression\n",
    "\n",
    "- similar to **list comprehension**\n",
    "- syntax:\n",
    "```python\n",
    "(expression for item in iterable)\n",
    "```\n",
    "- **expression** is a value that will be returned for each item in iterable"
   ]
  },
  {
   "cell_type": "code",
   "execution_count": 4,
   "metadata": {},
   "outputs": [
    {
     "name": "stdout",
     "output_type": "stream",
     "text": [
      "0\n",
      "1\n",
      "4\n",
      "9\n",
      "16\n"
     ]
    }
   ],
   "source": [
    "# create the generator object\n",
    "square_generator = (i * i for i in range(5))\n",
    "\n",
    "# iterate trough the generator\n",
    "for item in square_generator:\n",
    "    print(item)"
   ]
  },
  {
   "cell_type": "markdown",
   "metadata": {},
   "source": [
    "## 1.3) Use of generators"
   ]
  },
  {
   "cell_type": "markdown",
   "metadata": {},
   "source": [
    "### 1.3.1) Easy to implement\n",
    "\n",
    "- much simple way compared to **iterators**"
   ]
  },
  {
   "cell_type": "code",
   "execution_count": null,
   "metadata": {},
   "outputs": [],
   "source": [
    "# using iterator class\n",
    "class PowTwo:\n",
    "    def __init__(self, max=0):\n",
    "        self.n = 0\n",
    "        self.max = max\n",
    "\n",
    "    def __iter__(self):\n",
    "        return self\n",
    "\n",
    "    def __next__(self):\n",
    "        if self.n > self.max:\n",
    "            raise StopIteration\n",
    "\n",
    "        result = 2**self.n\n",
    "        self.n += 1\n",
    "        return result\n",
    "\n",
    "\n",
    "# the same usin generators\n",
    "def PowTwoGen(max=0):\n",
    "    n = 0\n",
    "    while n < max:\n",
    "        yield 2**n\n",
    "        n += 1"
   ]
  },
  {
   "cell_type": "markdown",
   "metadata": {},
   "source": [
    "### 1.3.2) Memory efficient\n",
    "\n",
    "- normal function to return a sequence will create the entire sequence in memory before returning the result\n",
    "\n",
    "- generator implementation is much memoruy friendly in such case, because it only produce one item at a time"
   ]
  },
  {
   "cell_type": "markdown",
   "metadata": {},
   "source": [
    "### 1.3.3) Represent infinite stream\n",
    "\n",
    "-  excellent mediums to represent an infinite stream of data. Infinite streams cannot be stored in memory, and since generators produce only one item at a time, they can represent an infinite stream of data.\n",
    "- The following generator function can generate all the even numbers (**at least in theory**).\n",
    "```python\n",
    "def all_even():\n",
    "    n = 0\n",
    "    while True:\n",
    "        yield n\n",
    "        n += 2\n",
    "```"
   ]
  },
  {
   "cell_type": "markdown",
   "metadata": {},
   "source": [
    "### 1.3.4) Pipelining Generators\n",
    "\n",
    "- multiple generators can be used to pipeline a series of operations"
   ]
  },
  {
   "cell_type": "code",
   "execution_count": 6,
   "metadata": {},
   "outputs": [
    {
     "name": "stdout",
     "output_type": "stream",
     "text": [
      "4895\n"
     ]
    }
   ],
   "source": [
    "# We have a generator that produces the numbers in the Fibonacci series.\n",
    "# And we have another generator for squaring numbers.\n",
    "# If we want to find out the sum of squares of numbers in the Fibonacci series,\n",
    "# we can do it in the following way by pipelining the output of generator functions together\n",
    "\n",
    "\n",
    "def fibonacci_numbers(n):\n",
    "    x, y = 0, 1\n",
    "    for _ in range(n):\n",
    "        x, y = y, x + y\n",
    "        yield x\n",
    "\n",
    "\n",
    "def square(n):\n",
    "    for num in n:\n",
    "        yield num**2\n",
    "\n",
    "\n",
    "# pipline generators\n",
    "print(sum(square(fibonacci_numbers(10))))"
   ]
  }
 ],
 "metadata": {
  "kernelspec": {
   "display_name": ".venv",
   "language": "python",
   "name": "python3"
  },
  "language_info": {
   "codemirror_mode": {
    "name": "ipython",
    "version": 3
   },
   "file_extension": ".py",
   "mimetype": "text/x-python",
   "name": "python",
   "nbconvert_exporter": "python",
   "pygments_lexer": "ipython3",
   "version": "3.12.6"
  }
 },
 "nbformat": 4,
 "nbformat_minor": 2
}

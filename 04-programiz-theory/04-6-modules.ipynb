{
 "cells": [
  {
   "cell_type": "markdown",
   "metadata": {},
   "source": [
    "# 1) Modules\n",
    "\n",
    "- using to separate code into multiple files\n",
    "- module is a file that contains code to perform specific task. May contain **variables, function classes, etc**\n",
    "- **import module**:\n",
    "    - using **import** keyword\n",
    "    ```python\n",
    "    import some_module\n",
    "    ```\n",
    "    - using the modul name we can access the function inside it using **dot .** operator\n",
    "    ```python\n",
    "    import some_module\n",
    "\n",
    "    # call f. from some_module\n",
    "    some_module.function()\n",
    "    ```\n",
    "- **python standard library modules**:\n",
    "    - over **200** modules, ex. math module\n",
    "- **importing with renaming**:\n",
    "    ```python\n",
    "    #import module and rename it\n",
    "    import math as m\n",
    "    ```\n",
    "- **from..import statement**:\n",
    "    - we can import specific names from modulu without importing whole module\n",
    "    ```python\n",
    "    from math import pi\n",
    "    ```"
   ]
  },
  {
   "cell_type": "markdown",
   "metadata": {},
   "source": [
    "## 1.1) dir() build-in function\n",
    "\n",
    "- **dir()** - to list all the function names in a module"
   ]
  },
  {
   "cell_type": "code",
   "execution_count": 4,
   "metadata": {},
   "outputs": [
    {
     "name": "stdout",
     "output_type": "stream",
     "text": [
      "['__doc__', '__loader__', '__name__', '__package__', '__spec__', 'acos', 'acosh', 'asin', 'asinh', 'atan', 'atan2', 'atanh', 'cbrt', 'ceil', 'comb', 'copysign', 'cos', 'cosh', 'degrees', 'dist', 'e', 'erf', 'erfc', 'exp', 'exp2', 'expm1', 'fabs', 'factorial', 'floor', 'fmod', 'frexp', 'fsum', 'gamma', 'gcd', 'hypot', 'inf', 'isclose', 'isfinite', 'isinf', 'isnan', 'isqrt', 'lcm', 'ldexp', 'lgamma', 'log', 'log10', 'log1p', 'log2', 'modf', 'nan', 'nextafter', 'perm', 'pi', 'pow', 'prod', 'radians', 'remainder', 'sin', 'sinh', 'sqrt', 'sumprod', 'tan', 'tanh', 'tau', 'trunc', 'ulp']\n",
      "None\n"
     ]
    }
   ],
   "source": [
    "import math\n",
    "\n",
    "print(dir(math))\n",
    "print(__spec__)"
   ]
  }
 ],
 "metadata": {
  "kernelspec": {
   "display_name": ".venv",
   "language": "python",
   "name": "python3"
  },
  "language_info": {
   "codemirror_mode": {
    "name": "ipython",
    "version": 3
   },
   "file_extension": ".py",
   "mimetype": "text/x-python",
   "name": "python",
   "nbconvert_exporter": "python",
   "pygments_lexer": "ipython3",
   "version": "3.12.6"
  }
 },
 "nbformat": 4,
 "nbformat_minor": 2
}

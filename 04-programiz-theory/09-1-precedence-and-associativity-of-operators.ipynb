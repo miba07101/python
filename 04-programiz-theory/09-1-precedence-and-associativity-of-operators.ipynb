{
 "cells": [
  {
   "cell_type": "markdown",
   "metadata": {},
   "source": [
    "# 1) Precedence (prednost) and associativity (asociativita) of operators"
   ]
  },
  {
   "cell_type": "markdown",
   "metadata": {},
   "source": [
    "## 1.1) Precedence"
   ]
  },
  {
   "cell_type": "code",
   "execution_count": 3,
   "metadata": {},
   "outputs": [
    {
     "name": "stdout",
     "output_type": "stream",
     "text": [
      "Can't deliver lunch\n"
     ]
    }
   ],
   "source": [
    "# Precedence of or & and\n",
    "meal = \"fruit\"\n",
    "\n",
    "money = 0\n",
    "\n",
    "if (meal == \"fruit\" or meal == \"sandwich\") and money >= 2:\n",
    "    print(\"Lunch being delivered\")\n",
    "else:\n",
    "    print(\"Can't deliver lunch\")"
   ]
  },
  {
   "cell_type": "markdown",
   "metadata": {},
   "source": [
    "## 1.2) Associativity\n",
    "\n",
    "- When two operators have the same **precedence**, associativity helps to determine the order of operations\n",
    "- Associativity is the order in which an expression is evaluated that has multiple operators of the same precedence. \n",
    "- Almost all the operators have **left-to-right** associativity."
   ]
  },
  {
   "cell_type": "code",
   "execution_count": 4,
   "metadata": {},
   "outputs": [
    {
     "name": "stdout",
     "output_type": "stream",
     "text": [
      "3\n",
      "0\n"
     ]
    }
   ],
   "source": [
    "# Left-right associativity\n",
    "# Output: 3\n",
    "print(5 * 2 // 3)\n",
    "\n",
    "# Shows left-right associativity\n",
    "# Output: 0\n",
    "print(5 * (2 // 3))"
   ]
  },
  {
   "cell_type": "code",
   "execution_count": 5,
   "metadata": {},
   "outputs": [
    {
     "name": "stdout",
     "output_type": "stream",
     "text": [
      "512\n",
      "64\n"
     ]
    }
   ],
   "source": [
    "# Shows the right-left associativity of **\n",
    "# Output: 512, Since 2**(3**2) = 2**9\n",
    "print(2**3**2)\n",
    "\n",
    "# If 2 needs to be exponated fisrt, need to use ()\n",
    "# Output: 64\n",
    "print((2**3) ** 2)"
   ]
  },
  {
   "cell_type": "markdown",
   "metadata": {},
   "source": [
    "### 1.2.1) Non associative operators\n",
    "\n",
    "- **assignment** operators and **comparison** operators do not have associativity\n",
    "- For example, x < y < z neither means (x < y) < z nor x < (y < z). x < y < z is equivalent to x < y and y < z, and is evaluated from left-to-right. "
   ]
  }
 ],
 "metadata": {
  "kernelspec": {
   "display_name": ".venv",
   "language": "python",
   "name": "python3"
  },
  "language_info": {
   "codemirror_mode": {
    "name": "ipython",
    "version": 3
   },
   "file_extension": ".py",
   "mimetype": "text/x-python",
   "name": "python",
   "nbconvert_exporter": "python",
   "pygments_lexer": "ipython3",
   "version": "3.12.6"
  }
 },
 "nbformat": 4,
 "nbformat_minor": 2
}

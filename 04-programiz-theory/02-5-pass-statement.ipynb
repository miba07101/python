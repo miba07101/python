{
 "cells": [
  {
   "cell_type": "markdown",
   "metadata": {},
   "source": [
    "# 1) PASS statement\n",
    "\n",
    "- it is a **null** statement which can be used as a placeholder for futire code\n",
    "- difference between **pass** and **comment**: python interpreter ignores a comment entirely\n",
    "\n",
    "- syntax\n",
    "```python\n",
    "if condition:\n",
    "    pass\n",
    "\n",
    "def function():\n",
    "    pass\n",
    "\n",
    "class Example:\n",
    "    pass\n",
    "```"
   ]
  }
 ],
 "metadata": {
  "language_info": {
   "name": "python"
  }
 },
 "nbformat": 4,
 "nbformat_minor": 2
}

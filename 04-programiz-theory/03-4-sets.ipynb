{
 "cells": [
  {
   "cell_type": "markdown",
   "metadata": {},
   "source": [
    "# 1) Sets\n",
    "\n",
    "- characteristics:\n",
    "    - **unordered** - nezachovavaju poradie prvkov\n",
    "    - **unchangeable** - prvky nemozem zmenit, ale mozem ich odstranit a pridat\n",
    "    - **not allow duplicates** - nemozu byt duplicitne prvky  \n",
    "    - **no indexing** - nemaju indexovanie, pretoze su unordered/neusporiadane"
   ]
  },
  {
   "cell_type": "markdown",
   "metadata": {},
   "source": [
    "## 1.1) Create Set\n",
    "\n",
    "- using **curly braces {}**\n",
    "- using **set()** function - to make an **empty** set\n",
    "- set items can be of different types (strings, numbers)\n",
    "- Important!: set **can not** have mutable elements (list, tuple, set, dictionary) as its items"
   ]
  },
  {
   "cell_type": "code",
   "execution_count": 3,
   "metadata": {},
   "outputs": [
    {
     "name": "stdout",
     "output_type": "stream",
     "text": [
      "{'Jack', 'Joshua', 'Peter'}\n",
      "Empty set(): set() and type is: <class 'set'>\n"
     ]
    }
   ],
   "source": [
    "# create set using {}\n",
    "names = {\"Jack\", \"Peter\", \"Joshua\"}\n",
    "print(names)  # output is in different order because set is \"unordered\"\n",
    "\n",
    "# create empty set using set()\n",
    "empty_set = set()\n",
    "print(\"Empty set():\", empty_set, \"and type is:\", type(empty_set))"
   ]
  },
  {
   "cell_type": "markdown",
   "metadata": {},
   "source": [
    "## 1.2) Duplicate items **NOT ALLOWED**"
   ]
  },
  {
   "cell_type": "code",
   "execution_count": 4,
   "metadata": {},
   "outputs": [
    {
     "name": "stdout",
     "output_type": "stream",
     "text": [
      "{1, 2, 3, 4, 5}\n"
     ]
    }
   ],
   "source": [
    "numbers = {1, 2, 2, 3, 4, 4, 5}\n",
    "print(numbers)"
   ]
  },
  {
   "cell_type": "markdown",
   "metadata": {},
   "source": [
    "## 1.3) Add items to set\n",
    "\n",
    "- **add()** method - add item to set\n",
    "- **update()** method - add items to set from other collection/iterable types (list, tuple, sets, dictionary, strings)"
   ]
  },
  {
   "cell_type": "code",
   "execution_count": 2,
   "metadata": {},
   "outputs": [
    {
     "name": "stdout",
     "output_type": "stream",
     "text": [
      "Original set: {1, 34, 12, 54}\n",
      "Add(): {1, 34, '21', 12, 54}\n",
      "Update() list {'lacoste', 'boss', 'apple', 'intel', 'hp'}\n",
      "Update() string {'lacoste', 'w', 'm', 'boss', 'apple', 'intel', 'b', 'hp'}\n"
     ]
    }
   ],
   "source": [
    "numbers = {1, 34, 54, 12}\n",
    "print(\"Original set:\", numbers)\n",
    "\n",
    "# add()\n",
    "numbers.add(\"21\")\n",
    "print(\"Add():\", numbers)\n",
    "\n",
    "# update()\n",
    "companies = {\"lacoste\", \"boss\"}\n",
    "tech_companies = [\"apple\", \"hp\", \"intel\", \"apple\"]\n",
    "\n",
    "companies.update(tech_companies)\n",
    "print(\n",
    "    \"Update() list\", companies\n",
    ")  # apple is only once because sets do not allow duplicates\n",
    "\n",
    "string = \"bmw\"\n",
    "companies.update(string)\n",
    "print(\"Update() string\", companies)  # bmw rozhodi na pismena"
   ]
  },
  {
   "cell_type": "markdown",
   "metadata": {},
   "source": [
    "## 1.4) Remove set item\n",
    "\n",
    "- **discard()** method - remove specified item"
   ]
  },
  {
   "cell_type": "code",
   "execution_count": 3,
   "metadata": {},
   "outputs": [
    {
     "name": "stdout",
     "output_type": "stream",
     "text": [
      "Discard() {'intel', 'apple'}\n"
     ]
    }
   ],
   "source": [
    "tech_companies = {\"apple\", \"hp\", \"intel\", \"apple\"}\n",
    "\n",
    "# discard()\n",
    "tech_companies.discard(\"hp\")\n",
    "print(\"Discard()\", tech_companies)"
   ]
  },
  {
   "cell_type": "markdown",
   "metadata": {},
   "source": [
    "## 1.5) Set length\n",
    "\n",
    "- **len()** build-in function - use to find number of items in a set"
   ]
  },
  {
   "cell_type": "code",
   "execution_count": 4,
   "metadata": {},
   "outputs": [
    {
     "name": "stdout",
     "output_type": "stream",
     "text": [
      "{'banana', 'orange', 'apple'}\n",
      "The number of items in set is: 3\n"
     ]
    }
   ],
   "source": [
    "fruits = {\"apple\", \"banana\", \"orange\"}\n",
    "\n",
    "print(fruits)\n",
    "print(\"The number of items in set is:\", len(fruits))"
   ]
  },
  {
   "cell_type": "markdown",
   "metadata": {},
   "source": [
    "## 1.6) Set operations\n",
    "\n",
    "- **union (| or union() method)** - zjednotenie, obsahuje vsetky prvky\n",
    "- **intersection (& or intersection() method)** - prienik, obsahuje len spolocne prvky\n",
    "- **difference (- or difference method)** - rozdiel, obsahuje len prvky, ktore nie su spolocne a neobsahuje ich druhy set\n",
    "- **symetric difference (^ or symmetric_difference() method)** - symetricky rozdiel, obsahuje prvky, ktore nie su spolocne"
   ]
  },
  {
   "cell_type": "code",
   "execution_count": 9,
   "metadata": {},
   "outputs": [
    {
     "name": "stdout",
     "output_type": "stream",
     "text": [
      "Union | {1, 2, 3, 5, 6}\n",
      "Union union() {1, 2, 3, 5, 6}\n",
      "Intersection & {2}\n",
      "Intersection intersection() {2}\n",
      "Difference - {3, 5}\n",
      "Difference difference() {3, 5}\n",
      "Symmetric difference ^ {1, 3, 5, 6}\n",
      "Symmetric difference symmetric_difference() {1, 3, 5, 6}\n"
     ]
    }
   ],
   "source": [
    "# first set\n",
    "A = {2, 3, 5}\n",
    "\n",
    "# second set\n",
    "B = {1, 2, 6}\n",
    "\n",
    "# union\n",
    "print(\"Union |\", A | B)\n",
    "print(\"Union union()\", A.union(B))\n",
    "\n",
    "# intersection\n",
    "print(\"Intersection &\", A & B)\n",
    "print(\"Intersection intersection()\", A.intersection(B))\n",
    "\n",
    "# difference\n",
    "print(\"Difference -\", A - B)\n",
    "print(\"Difference difference()\", A.difference(B))\n",
    "\n",
    "# symmetric difference\n",
    "print(\"Symmetric difference ^\", A ^ B)\n",
    "print(\"Symmetric difference symmetric_difference()\", A.symmetric_difference(B))"
   ]
  },
  {
   "cell_type": "markdown",
   "metadata": {},
   "source": [
    "## 1.7) Check if sets are equal\n",
    "\n",
    "- using **==** operator"
   ]
  },
  {
   "cell_type": "code",
   "execution_count": 10,
   "metadata": {},
   "outputs": [
    {
     "name": "stdout",
     "output_type": "stream",
     "text": [
      "Are equal\n"
     ]
    }
   ],
   "source": [
    "# first set\n",
    "A = {1, 3, 5}\n",
    "\n",
    "# second set\n",
    "B = {3, 5, 1}\n",
    "\n",
    "equality = \"Are equal\" if A == B else \"Not equal\"\n",
    "print(equality)"
   ]
  }
 ],
 "metadata": {
  "kernelspec": {
   "display_name": ".venv",
   "language": "python",
   "name": "python3"
  },
  "language_info": {
   "codemirror_mode": {
    "name": "ipython",
    "version": 3
   },
   "file_extension": ".py",
   "mimetype": "text/x-python",
   "name": "python",
   "nbconvert_exporter": "python",
   "pygments_lexer": "ipython3",
   "version": "3.12.6"
  }
 },
 "nbformat": 4,
 "nbformat_minor": 2
}

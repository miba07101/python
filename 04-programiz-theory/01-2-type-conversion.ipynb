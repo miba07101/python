{
 "cells": [
  {
   "cell_type": "markdown",
   "metadata": {},
   "source": [
    "# 1) Type conversion\n",
    "\n",
    "- converting object from one data type to another data type\n",
    "- Types:\n",
    "    - Implicit - automatic type conversion\n",
    "    - Explicit - manulatype conversion"
   ]
  },
  {
   "cell_type": "markdown",
   "metadata": {},
   "source": [
    "## 1.1) Implicit type conversion\n",
    "\n",
    "- in same case python automatically converts one dat type to another"
   ]
  },
  {
   "cell_type": "code",
   "execution_count": 1,
   "metadata": {},
   "outputs": [
    {
     "name": "stdout",
     "output_type": "stream",
     "text": [
      "Value 124.23\n",
      "Data type of new value: <class 'float'>\n"
     ]
    }
   ],
   "source": [
    "# implicit type conversion\n",
    "integer_number = 123\n",
    "float_number = 1.23\n",
    "\n",
    "# create new value\n",
    "new_value = integer_number + float_number\n",
    "# display new value and resulting data type\n",
    "print(\"Value\", new_value)\n",
    "print(\"Data type of new value:\", type(new_value))"
   ]
  },
  {
   "cell_type": "markdown",
   "metadata": {},
   "source": [
    "## 1.2) Explicit type conversion\n",
    "\n",
    "- manual dat type conversion\n",
    "- also called **typecasting**, because the user **cast (changes)** the data type of the object\n",
    "- built in function: **int(), float(), str(), etc**"
   ]
  },
  {
   "cell_type": "code",
   "execution_count": 4,
   "metadata": {},
   "outputs": [
    {
     "name": "stdout",
     "output_type": "stream",
     "text": [
      "Data type of num_string before type casting: <class 'str'>\n",
      "Data type of num_string after type casting: <class 'int'>\n",
      "Data type of sum_num: <class 'int'>\n"
     ]
    }
   ],
   "source": [
    "num_string = \"12\"\n",
    "num_integer = 23\n",
    "\n",
    "print(\"Data type of num_string before type casting:\", type(num_string))\n",
    "\n",
    "# Explicit type conversion / typecatsing\n",
    "num_string = int(num_string)\n",
    "\n",
    "print(\"Data type of num_string after type casting:\", type(num_string))\n",
    "\n",
    "# sum of numbers\n",
    "sum_num = num_string + num_integer\n",
    "print(\"Data type of sum_num:\", type(sum_num))"
   ]
  }
 ],
 "metadata": {
  "kernelspec": {
   "display_name": ".venv",
   "language": "python",
   "name": "python3"
  },
  "language_info": {
   "codemirror_mode": {
    "name": "ipython",
    "version": 3
   },
   "file_extension": ".py",
   "mimetype": "text/x-python",
   "name": "python",
   "nbconvert_exporter": "python",
   "pygments_lexer": "ipython3",
   "version": "3.12.6"
  }
 },
 "nbformat": 4,
 "nbformat_minor": 2
}

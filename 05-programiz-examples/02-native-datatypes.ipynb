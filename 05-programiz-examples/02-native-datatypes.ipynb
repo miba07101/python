{
 "cells": [
  {
   "cell_type": "markdown",
   "metadata": {},
   "source": [
    "# 1) Program to Add Two Matrices\n",
    "\n",
    "- In Python, we can implement a **matrix as a nested list** (list inside a list)"
   ]
  },
  {
   "cell_type": "markdown",
   "metadata": {},
   "source": [
    "## 1.1) Matrix Addition using Nested Loop"
   ]
  },
  {
   "cell_type": "code",
   "execution_count": 11,
   "metadata": {},
   "outputs": [
    {
     "name": "stdout",
     "output_type": "stream",
     "text": [
      "[17, 15, 4]\n",
      "[10, 12, 9]\n",
      "[11, 13, 18]\n"
     ]
    }
   ],
   "source": [
    "# Program to add two matrices using nested loop\n",
    "\n",
    "x = [[12,7,3],\n",
    "     [4,5,6],\n",
    "     [7,8,9]]\n",
    "\n",
    "y = [[5,8,1],\n",
    "     [6,7,3],\n",
    "     [4,5,9]]\n",
    "\n",
    "result = [[0,0,0],\n",
    "          [0,0,0],\n",
    "          [0,0,0]]\n",
    "\n",
    "for i in range(len(x)):\n",
    "    for j in range(len(x[i])):\n",
    "        result[i][j] = x[i][j] + y[i][j]\n",
    "\n",
    "for r in result:\n",
    "    print(r)"
   ]
  },
  {
   "cell_type": "markdown",
   "metadata": {},
   "source": [
    "## 1.2) Matrix Addition using Nested List Comprehension\n",
    "\n",
    "syntax: newlist = [expression for item in iterable if condition == True]"
   ]
  },
  {
   "cell_type": "code",
   "execution_count": 25,
   "metadata": {},
   "outputs": [
    {
     "name": "stdout",
     "output_type": "stream",
     "text": [
      "[17, 15, 4]\n",
      "[10, 12, 9]\n",
      "[11, 13, 18]\n"
     ]
    }
   ],
   "source": [
    "x = [[12,7,3],\n",
    "     [4,5,6],\n",
    "     [7,8,9]]\n",
    "\n",
    "y = [[5,8,1],\n",
    "     [6,7,3],\n",
    "     [4,5,9]]\n",
    "\n",
    "result = [[x[i][j] + y[i][j] for j in range(len(x[i]))] for i in range(len(x))]\n",
    "\n",
    "\n",
    "for r in result:\n",
    "    print(r)"
   ]
  },
  {
   "cell_type": "markdown",
   "metadata": {},
   "source": [
    "# 2) Program to Transpose a Matrix\n",
    "\n",
    "- Transpose of a matrix is the interchanging of rows and columns. It is denoted as X'. The element at ith row and jth column in X will be placed at jth row and ith column in X'. So if X is a 3x2 matrix, X' will be a 2x3 matrix."
   ]
  },
  {
   "cell_type": "markdown",
   "metadata": {},
   "source": [
    "## 2.1) Matrix Transpose using Nested Loop"
   ]
  },
  {
   "cell_type": "code",
   "execution_count": 39,
   "metadata": {},
   "outputs": [
    {
     "name": "stdout",
     "output_type": "stream",
     "text": [
      "[12, 4, 7]\n",
      "[7, 5, 8]\n",
      "[3, 6, 9]\n"
     ]
    }
   ],
   "source": [
    "x = [[12,7,3],\n",
    "     [4,5,6],\n",
    "     [7,8,9]]\n",
    "\n",
    "transpose_matrix = [[0,0,0,],\n",
    "                   [0,0,0],\n",
    "                   [0,0,0]]\n",
    "\n",
    "for i in range(len(x)):\n",
    "    for j in range(len(x[i])):\n",
    "        transpose_matrix[j][i] = x[i][j]\n",
    "\n",
    "for r in transpose_matrix:    \n",
    "    print(r)"
   ]
  },
  {
   "cell_type": "markdown",
   "metadata": {},
   "source": [
    "## 2.2) Matrix Transpose using Nested List Comprehension"
   ]
  },
  {
   "cell_type": "code",
   "execution_count": 40,
   "metadata": {},
   "outputs": [
    {
     "name": "stdout",
     "output_type": "stream",
     "text": [
      "[12, 7, 3]\n",
      "[4, 5, 6]\n",
      "[7, 8, 9]\n"
     ]
    }
   ],
   "source": [
    "x = [[12,7,3],\n",
    "     [4,5,6],\n",
    "     [7,8,9]]\n",
    "\n",
    "transpose_matrix = [[x[i][j] for j in range(len(x[i]))] for i in range(len(x))]\n",
    "\n",
    "for r in transpose_matrix:\n",
    "    print(r)"
   ]
  },
  {
   "cell_type": "markdown",
   "metadata": {},
   "source": [
    "# 3) Program to Multiply Two Matrices\n",
    "\n",
    "- Multiplication of two matrices X and Y is defined only if the number of columns in X is equal to the number of rows Y."
   ]
  },
  {
   "cell_type": "markdown",
   "metadata": {},
   "source": [
    "## 3.1) Matrix Multiplication using Nested Loop"
   ]
  },
  {
   "cell_type": "code",
   "execution_count": 61,
   "metadata": {},
   "outputs": [
    {
     "name": "stdout",
     "output_type": "stream",
     "text": [
      "[114, 160, 60, 27]\n",
      "[74, 97, 73, 14]\n",
      "[119, 157, 112, 23]\n"
     ]
    }
   ],
   "source": [
    "# 3x3 matrix\n",
    "x = [[12,7,3],\n",
    "     [4,5,6],\n",
    "     [7,8,9]]\n",
    "\n",
    "# 3x4 matrix\n",
    "y = [[5,8,1,2],\n",
    "     [6,7,3,0],\n",
    "     [4,5,9,1]]\n",
    "\n",
    "# result is 3x4 matrix\n",
    "result = [[0,0,0,0],\n",
    "          [0,0,0,0],\n",
    "          [0,0,0,0]]\n",
    "\n",
    "# iterate through rows of X\n",
    "for i in range(len(x)):\n",
    "    # iterate through columns of Y\n",
    "    for j in range(len(y[0])):\n",
    "        # iterate through rows of Y\n",
    "        for k in range(len(y)):\n",
    "            result[i][j] += x[i][k] * y[k][j]\n",
    "\n",
    "for r in result:\n",
    "    print(r)\n"
   ]
  },
  {
   "cell_type": "markdown",
   "metadata": {},
   "source": [
    "## 3.2) Matrix Multiplication Using Nested List Comprehension\n",
    "\n",
    "- using **zip()** function and **unpacking argument list**"
   ]
  },
  {
   "cell_type": "code",
   "execution_count": 63,
   "metadata": {},
   "outputs": [
    {
     "name": "stdout",
     "output_type": "stream",
     "text": [
      "[114, 160, 60, 27]\n",
      "[74, 97, 73, 14]\n",
      "[119, 157, 112, 23]\n"
     ]
    }
   ],
   "source": [
    "# 3x3 matrix\n",
    "x = [[12,7,3],\n",
    "     [4,5,6],\n",
    "     [7,8,9]]\n",
    "\n",
    "# 3x4 matrix\n",
    "y = [[5,8,1,2],\n",
    "     [6,7,3,0],\n",
    "     [4,5,9,1]]\n",
    "\n",
    "# PROGRAMIZ\n",
    "# using zip() function and unpacking argument list\n",
    "result = [[sum(a*b for a,b in zip(X_row,Y_col)) for Y_col in zip(*Y)] for X_row in X]\n",
    "\n",
    "for r in result:\n",
    "   print(r)"
   ]
  },
  {
   "cell_type": "markdown",
   "metadata": {},
   "source": [
    "# 4) Program to Check Whether a String is Palindrome or Not\n",
    "\n",
    "- A palindrome is a string that is the same read forward or backward.\n",
    "- example: dad, aibohphobia"
   ]
  },
  {
   "cell_type": "code",
   "execution_count": 75,
   "metadata": {},
   "outputs": [
    {
     "name": "stdout",
     "output_type": "stream",
     "text": [
      "aibohphobia ïs palindrome\n",
      "\n",
      "POGRAMIZ\n",
      "--------------------------------------\n",
      "aibohphobia  - the string is a palindrome.\n"
     ]
    }
   ],
   "source": [
    "my_str = 'aIbohPhoBiA'\n",
    "\n",
    "# make case lower\n",
    "my_str_lw = my_str.lower()\n",
    "\n",
    "# using if statment and string slicing\n",
    "if my_str_lw[:] == my_str_lw[::-1]:\n",
    "    print(my_str_lw, \"ïs palindrome\")\n",
    "else:\n",
    "    print(f\"{my_str_lw} is not palindrome\")\n",
    "\n",
    "# PROGRAMIZ\n",
    "print(\"\"\"\\nPOGRAMIZ\n",
    "--------------------------------------\"\"\")\n",
    "# make it suitable for caseless comparison\n",
    "my_str = my_str.casefold()\n",
    "\n",
    "# reverse the string\n",
    "rev_str = reversed(my_str)\n",
    "\n",
    "# check if the string is equal to its reverse\n",
    "if list(my_str) == list(rev_str):\n",
    "   print(my_str,\" - the string is a palindrome.\")\n",
    "else:\n",
    "   print(my_str,\"- the string is not a palindrome.\")\n",
    "\n"
   ]
  },
  {
   "cell_type": "markdown",
   "metadata": {},
   "source": [
    "# 5) Program to Remove Punctuations From a String"
   ]
  },
  {
   "cell_type": "code",
   "execution_count": 85,
   "metadata": {},
   "outputs": [
    {
     "name": "stdout",
     "output_type": "stream",
     "text": [
      "Hello he said and went\n"
     ]
    }
   ],
   "source": [
    "# define punctuation\n",
    "punctuations = '''!()-[]{};:'\",<>./?@#$%^&*_~'''\n",
    "\n",
    "my_str = \"Hello!!!, he said ---and went.\"\n",
    "\n",
    "# make empty string for add characters\n",
    "no_punc_sentence = \"\"\n",
    "\n",
    "# break sentence to characters\n",
    "for char in my_str:\n",
    "    # check if char not in punctuation string\n",
    "    if char not in punctuations:\n",
    "        # add each non punc char to string\n",
    "        no_punc_sentence += char\n",
    "\n",
    "print(no_punc_sentence)"
   ]
  },
  {
   "cell_type": "markdown",
   "metadata": {},
   "source": [
    "# 6) Program to Sort Words in Alphabetic Order"
   ]
  },
  {
   "cell_type": "code",
   "execution_count": 94,
   "metadata": {},
   "outputs": [
    {
     "name": "stdout",
     "output_type": "stream",
     "text": [
      "an cased example hello is letters this with "
     ]
    }
   ],
   "source": [
    "my_str = \"Hello this Is an Example With cased letters\"\n",
    "\n",
    "# break sentence into list of words - use split() method\n",
    "words = my_str.split()\n",
    "\n",
    "# make each word case non intensive\n",
    "words = [word.lower() for word in words]\n",
    "\n",
    "#!!! len taka vychytavka (nahradi predchadajuze riadky):\n",
    "# words = my_str.lower().split()\n",
    "\n",
    "# sort words\n",
    "words.sort()\n",
    "\n",
    "#display sorted words\n",
    "for word in words:\n",
    "    print(word,end=\" \")\n"
   ]
  },
  {
   "cell_type": "markdown",
   "metadata": {},
   "source": [
    "# 7) Program to Illustrate Different Set Operations\n",
    "\n",
    "- datatype called **set** whose elements must be unique.\n",
    "- it can be used to perform different set operations like: **union, intersection, difference and symmetric difference**"
   ]
  },
  {
   "cell_type": "code",
   "execution_count": 101,
   "metadata": {},
   "outputs": [
    {
     "name": "stdout",
     "output_type": "stream",
     "text": [
      "union A and B: {0, 1, 2, 3, 4, 5, 6, 8}\n",
      "intersection A and B is: {2, 4}\n",
      "difference A and B is: {0, 8, 6}\n",
      "symmetric difference A and B is: {0, 1, 3, 5, 6, 8}\n"
     ]
    }
   ],
   "source": [
    "# define three sets\n",
    "a = {0, 2, 4, 6, 8}\n",
    "b = {1, 2, 3, 4, 5}\n",
    "\n",
    "# set union\n",
    "print(\"union A and B:\", a | b)\n",
    "\n",
    "# set intersection\n",
    "print(\"intersection A and B is:\", a & b)\n",
    "\n",
    "# set difference\n",
    "print(\"difference A and B is:\", a - b)\n",
    "\n",
    "# set symmetric difference\n",
    "print(\"symmetric difference A and B is:\", a ^ b)"
   ]
  },
  {
   "cell_type": "markdown",
   "metadata": {},
   "source": [
    "# 8) Program to Count the Number of Each Vowel (samohlaska)"
   ]
  },
  {
   "cell_type": "code",
   "execution_count": 104,
   "metadata": {},
   "outputs": [
    {
     "name": "stdout",
     "output_type": "stream",
     "text": [
      "No. of vowels in string is: 18\n"
     ]
    }
   ],
   "source": [
    "# string of vowels\n",
    "vowels = 'aeiou'\n",
    "\n",
    "ip_str = 'Hello, have you tried our tutorial section yet?'\n",
    "\n",
    "# count of vowels\n",
    "count_vowels = 0\n",
    "\n",
    "for char in ip_str.lower():\n",
    "    if char in vowels:\n",
    "        count_vowels += 1\n",
    "\n",
    "print(\"No. of vowels in string is:\",count_vowels)\n"
   ]
  },
  {
   "cell_type": "markdown",
   "metadata": {},
   "source": [
    "## 8.1) Using Dictionary"
   ]
  },
  {
   "cell_type": "code",
   "execution_count": 108,
   "metadata": {},
   "outputs": [
    {
     "name": "stdout",
     "output_type": "stream",
     "text": [
      "{'a': 2, 'e': 5, 'i': 3, 'o': 5, 'u': 3}\n"
     ]
    }
   ],
   "source": [
    "# string of vowels\n",
    "vowels = 'aeiou'\n",
    "\n",
    "ip_str = 'Hello, have you tried our tutorial section yet?'\n",
    "\n",
    "# create dict from keys-vowels and values of 0\n",
    "dict = dict.fromkeys(vowels,0)\n",
    "\n",
    "for char in ip_str.lower():\n",
    "    if char in vowels:\n",
    "        dict[char] += 1\n",
    "\n",
    "print(dict)\n"
   ]
  },
  {
   "cell_type": "markdown",
   "metadata": {},
   "source": [
    "## 8.2) Using a list and a dictionary comprehension"
   ]
  },
  {
   "cell_type": "code",
   "execution_count": 111,
   "metadata": {},
   "outputs": [
    {
     "name": "stdout",
     "output_type": "stream",
     "text": [
      "{'a': 2, 'e': 5, 'i': 3, 'o': 5, 'u': 3}\n"
     ]
    }
   ],
   "source": [
    "# string of vowels\n",
    "vowels = 'aeiou'\n",
    "\n",
    "ip_str = 'Hello, have you tried our tutorial section yet?'\n",
    "\n",
    "# we have nested a list comprehension inside a dictionary comprehension\n",
    "# to count the vowels in a single line\n",
    "count = {x:sum([1 for char in ip_str.lower() if char == x]) for x in vowels}\n",
    "\n",
    "print(count)"
   ]
  },
  {
   "cell_type": "markdown",
   "metadata": {},
   "source": [
    "# 9) Program to Merge Two Dictionaries"
   ]
  },
  {
   "cell_type": "code",
   "execution_count": 119,
   "metadata": {},
   "outputs": [
    {
     "name": "stdout",
     "output_type": "stream",
     "text": [
      "{1: 'a', 2: 'c', 4: 'd'}\n",
      "{1: 'a', 2: 'c', 4: 'd'}\n",
      "{1: 'a', 2: 'c', 4: 'd'}\n"
     ]
    }
   ],
   "source": [
    "dict_1 = {1: 'a', 2: 'b'}\n",
    "dict_2 = {2: 'c', 4: 'd'}\n",
    "\n",
    "# Using the | Operator\n",
    "# Note: If there are two keys with the same name,\n",
    "# the merged dictionary contains the value of the latter key.\n",
    "print(dict_1 | dict_2)\n",
    "\n",
    "# Using the ** Operator\n",
    "# we have used ** to unpack dictionaries dict_1 and dict_2. \n",
    "# Then, the dictionaries are merged by placing them inside {}\n",
    "print({**dict_1, **dict_2})\n",
    "\n",
    "# Using copy() and update()\n",
    "dict_3 = dict_1.copy()\n",
    "dict_3.update(dict_2)\n",
    "\n",
    "print(dict_3)"
   ]
  },
  {
   "cell_type": "markdown",
   "metadata": {},
   "source": [
    "# 10) Program to Access Index of a List Using for Loop"
   ]
  },
  {
   "cell_type": "code",
   "execution_count": 138,
   "metadata": {},
   "outputs": [
    {
     "name": "stdout",
     "output_type": "stream",
     "text": [
      "---- enumerate ----\n",
      "0 21\n",
      "1 44\n",
      "2 35\n",
      "3 11\n",
      "---- enumerate non zero ----\n",
      "1 21\n",
      "2 44\n",
      "3 35\n",
      "4 11\n",
      "---- without using enumerate() ----\n",
      "0 21\n",
      "1 44\n",
      "2 35\n",
      "3 11\n"
     ]
    }
   ],
   "source": [
    "my_list = [21, 44, 35, 11]\n",
    "\n",
    "# Using enumerate\n",
    "# Using enumerate(), we can print both the index and the values\n",
    "print(\"---- enumerate ----\")\n",
    "for index, value in enumerate(my_list):\n",
    "    print(index, value)\n",
    "\n",
    "# Start the indexing with non zero value\n",
    "print(\"---- enumerate non zero ----\")\n",
    "for index, value in enumerate(my_list, start=1):\n",
    "    print(index,value)\n",
    "\n",
    "# Without using enumerate()\n",
    "print(\"---- without using enumerate() ----\")\n",
    "for index in range(len(my_list)):\n",
    "    value = my_list[index]\n",
    "    print(index,value)\n"
   ]
  },
  {
   "cell_type": "markdown",
   "metadata": {},
   "source": [
    "# 11) Program to Flatten a Nested List"
   ]
  },
  {
   "cell_type": "code",
   "execution_count": 167,
   "metadata": {},
   "outputs": [
    {
     "name": "stdout",
     "output_type": "stream",
     "text": [
      "---- using Nested for Loops ----\n",
      "[1, 2, 3, 4, 5, 6, 7]\n",
      "\n",
      "---- using List Comprehension ----\n",
      "[1, 2, 3, 4, 5, 6, 7]\n",
      "\n",
      "---- using sum() ----\n",
      "[1, 2, 3, 4, 5, 6, 7]\n"
     ]
    }
   ],
   "source": [
    "my_list = [[1], [2, 3], [4, 5, 6, 7]]\n",
    "\n",
    "# Using Nested for Loops (non pythonic way)\n",
    "print(\"---- using Nested for Loops ----\")\n",
    "\n",
    "flat_list = []\n",
    "for sublist in my_list:\n",
    "    for num in sublist:\n",
    "        flat_list.append(num)\n",
    "\n",
    "print(flat_list)\n",
    "\n",
    "# Using List Comprehension\n",
    "print(\"\\n---- using List Comprehension ----\")\n",
    "flat_list = [ num for sublist in my_list for num in sublist]\n",
    "print(flat_list)\n",
    "\n",
    "# Using sum()\n",
    "print(\"\\n---- using sum() ----\")\n",
    "flat_list = sum(my_list, [])\n",
    "print(flat_list)\n"
   ]
  },
  {
   "cell_type": "markdown",
   "metadata": {},
   "source": [
    "# 12) Program to Slice Lists"
   ]
  },
  {
   "cell_type": "code",
   "execution_count": 8,
   "metadata": {},
   "outputs": [
    {
     "name": "stdout",
     "output_type": "stream",
     "text": [
      "[1, 2, 3, 4, 5]\n",
      "[3, 4, 5]\n",
      "[1, 2]\n",
      "[3, 4]\n",
      "[1, 3, 5]\n",
      "[5, 3, 1]\n",
      "[2, 4]\n"
     ]
    }
   ],
   "source": [
    "# get all the items\n",
    "my_list = [1,2,3,4,5]\n",
    "print(my_list[:])\n",
    "\n",
    "# get all the items after a specific position\n",
    "print(my_list[2:])\n",
    "\n",
    "# get all the items before a specific position\n",
    "print(my_list[:2])\n",
    "\n",
    "# get all the items from one position to another position\n",
    "print(my_list[2:4])\n",
    "\n",
    "# get all the items at specified interval\n",
    "print(my_list[::2])\n",
    "print(my_list[::-2])\n",
    "print(my_list[1:4:2])"
   ]
  },
  {
   "cell_type": "markdown",
   "metadata": {},
   "source": [
    "# 13) Program to Sort a Dictionary by Value\n",
    "\n",
    "## 13.1) Example 1: Sort the dictionary based on values"
   ]
  },
  {
   "cell_type": "code",
   "execution_count": 29,
   "metadata": {},
   "outputs": [
    {
     "name": "stdout",
     "output_type": "stream",
     "text": [
      "{6: 3, 5: 4, 1: 6}\n",
      "\n",
      "POGRAMIZ\n",
      "--------------------------------------\n",
      "{6: 3, 5: 4, 1: 6}\n"
     ]
    }
   ],
   "source": [
    "dt = {5:4, 1:6, 6:3}\n",
    "\n",
    "# 1) pass the dictionary to the sorted() method as the first value\n",
    "# 2) use the items() method on the dictionary to retrieve its keys and values\n",
    "# 3) write a lambda function to get the values retrieved with the item() method\n",
    "sorted_dt = sorted(dt.items(), key=lambda x:x[1])\n",
    "# \"1\" represents the indexes of the values. The keys are \"0\"\n",
    "\n",
    "# 4) convert the Resulting List to a Dictionary\n",
    "result_dt = dict(sorted_dt)\n",
    "print(result_dt)\n",
    "\n",
    "# PROGRAMIZ\n",
    "print(\"\"\"\\nPOGRAMIZ\n",
    "--------------------------------------\"\"\")\n",
    "sorted_dt = {key: value for key, value in sorted(dt.items(), key=lambda item: item[1])}\n",
    "\n",
    "print(sorted_dt)"
   ]
  },
  {
   "cell_type": "markdown",
   "metadata": {},
   "source": [
    "## 13.2) Example 2: Sort only the values"
   ]
  },
  {
   "cell_type": "code",
   "execution_count": 28,
   "metadata": {},
   "outputs": [
    {
     "name": "stdout",
     "output_type": "stream",
     "text": [
      "[3, 4, 6]\n"
     ]
    }
   ],
   "source": [
    "dt = {5:4, 1:6, 6:3}\n",
    "\n",
    "sorted_dt_value = sorted(dt.values())\n",
    "print(sorted_dt_value)"
   ]
  },
  {
   "cell_type": "markdown",
   "metadata": {},
   "source": [
    "# 14) Program to Check If a List is Empty"
   ]
  },
  {
   "cell_type": "code",
   "execution_count": 34,
   "metadata": {},
   "outputs": [
    {
     "name": "stdout",
     "output_type": "stream",
     "text": [
      "\n",
      "---- Using Boolean operation ----\n",
      "empty list\n",
      "empty list\n",
      "\n",
      "---- Using len() ----\n",
      "empty list\n",
      "empty list\n",
      "\n",
      "---- Comparing with [] ----\n",
      "empty list\n"
     ]
    }
   ],
   "source": [
    "my_list = []\n",
    "\n",
    "# Using Boolean operation\n",
    "print(\"\\n---- Using Boolean operation ----\")\n",
    "if value not in my_list:\n",
    "    print(\"empty list\")\n",
    "if not my_list:\n",
    "    print(\"empty list\")\n",
    "\n",
    "# Using len()\n",
    "print(\"\\n---- Using len() ----\")\n",
    "if len(my_list) == 0:\n",
    "    print(\"empty list\")\n",
    "if not len(my_list):\n",
    "    print(\"empty list\")\n",
    "\n",
    "# Comparing with []\n",
    "print(\"\\n---- Comparing with [] ----\")\n",
    "if my_list == []:\n",
    "    print(\"empty list\")\n",
    "\n",
    "\n",
    "\n"
   ]
  },
  {
   "cell_type": "markdown",
   "metadata": {},
   "source": [
    "# 15) Program to Concatenate Two Lists"
   ]
  },
  {
   "cell_type": "code",
   "execution_count": 43,
   "metadata": {},
   "outputs": [
    {
     "name": "stdout",
     "output_type": "stream",
     "text": [
      "\n",
      "---- Using + operator ----\n",
      "[1, 'a', 3, 4, 5]\n",
      "\n",
      "---- Using iterable unpacking operator * ----\n",
      "[1, 'a', 2, 3]\n",
      "\n",
      "---- With unique values ----\n",
      "[{1, 3, 4, 5, 'a'}]\n",
      "\n",
      "---- Using extend() ----\n",
      "[1, 'a', 3, 4, 5]\n"
     ]
    }
   ],
   "source": [
    "list1 = [1, \"a\"]\n",
    "list2 = [3,4,5]\n",
    "\n",
    "# Using + operator\n",
    "print(\"\\n---- Using + operator ----\")\n",
    "list_joined = list1 + list2\n",
    "print(list_joined)\n",
    "\n",
    "# Using iterable unpacking operator *\n",
    "print(\"\\n---- Using iterable unpacking operator * ----\")\n",
    "list3 = range(2,4)\n",
    "\n",
    "list_joined = [*list1, *list3]\n",
    "print(list_joined)\n",
    "\n",
    "# With unique values\n",
    "print(\"\\n---- With unique values ----\")\n",
    "list_joined = [set(list1 + list2)]\n",
    "print(list_joined)\n",
    "\n",
    "# Using extend()\n",
    "print(\"\\n---- Using extend() ----\")\n",
    "list1.extend(list2)\n",
    "print(list1)"
   ]
  },
  {
   "cell_type": "markdown",
   "metadata": {},
   "source": [
    "# 16) Program to Check if a Key is Already Present in a Dictionary"
   ]
  },
  {
   "cell_type": "code",
   "execution_count": 49,
   "metadata": {},
   "outputs": [
    {
     "name": "stdout",
     "output_type": "stream",
     "text": [
      "present\n"
     ]
    }
   ],
   "source": [
    "my_dict = {1: 'a', 2: 'b', 3: 'c'}\n",
    "\n",
    "if 2 in my_dict:\n",
    "    print(\"present\")"
   ]
  },
  {
   "cell_type": "markdown",
   "metadata": {},
   "source": [
    "# 17) Program to Split a List Into **Evenly Sized Chunks (rovnomerne velke casti)**"
   ]
  },
  {
   "cell_type": "code",
   "execution_count": 100,
   "metadata": {},
   "outputs": [
    {
     "name": "stdout",
     "output_type": "stream",
     "text": [
      "---- Using a loop and list slicing ----\n",
      "[[1, 2], [3, 4], [5, 6], [7, 8], [9]]\n",
      "\n",
      "---- Using list comprehension ----\n",
      "[[1, 2], [3, 4], [5, 6], [7, 8], [9]]\n"
     ]
    }
   ],
   "source": [
    "my_list = [1,2,3,4,5,6,7,8,9]\n",
    "chunk_size = 2\n",
    "\n",
    "# using a loop in python and list slicing\n",
    "print(\"---- Using a loop and list slicing ----\")\n",
    "split_list = []\n",
    "for i in range(0, len(my_list), chunk_size):\n",
    "    # pridanie listu (rozdelenych casti) do prazdneho listu\n",
    "    # !! dolezite je dat [] tieto zatvorky do pravej strany, inac vypise [1,2,3,4,5,6,7,8,9]\n",
    "    split_list += [my_list[i:i+chunk_size]]\n",
    "\n",
    "print(split_list)\n",
    "\n",
    "# Using list comprehension\n",
    "print(\"\\n---- Using list comprehension ----\")\n",
    "list_chunked = [my_list[i:i + chunk_size] for i in range(0, len(my_list), chunk_size)]\n",
    "print(list_chunked)\n",
    "\n",
    "# Using numpy\n",
    "# !!!! potrebne nainstalovat NUMPY kniznicu\n",
    "# print(\"\\n---- Using numpy ----\")\n",
    "# import numpy as np\n",
    "\n",
    "# my_list = [1,2,3,4,5,6,7,8,9]\n",
    "# print(np.array_split(my_list, 5))"
   ]
  },
  {
   "cell_type": "markdown",
   "metadata": {},
   "source": [
    "# 18) Program to Parse a String to a Float or Int"
   ]
  },
  {
   "cell_type": "code",
   "execution_count": 112,
   "metadata": {},
   "outputs": [
    {
     "name": "stdout",
     "output_type": "stream",
     "text": [
      "---- Parse string into integer ----\n",
      "1500 string is converted to 1500 <class 'int'> type\n",
      "\n",
      "---- Parse string into float ----\n",
      "1500.4 string is converted to 1500.4 <class 'float'> type\n",
      "\n",
      "---- A string float numeral into integer ----\n",
      "1500.34 float numeral string is converted to 1500 <class 'int'> type\n"
     ]
    }
   ],
   "source": [
    "# Parse string into integer\n",
    "print(\"---- Parse string into integer ----\")\n",
    "str = \"1500\"\n",
    "print(f\"{str} string is converted to {int(str)} {type(int(str))} type\")\n",
    "\n",
    "# Parse string into float\n",
    "print(\"\\n---- Parse string into float ----\")\n",
    "str = \"1500.4\"\n",
    "print(f\"{str} string is converted to {float(str)} {type(float(str))} type\")\n",
    "\n",
    "# A string float numeral into integer\n",
    "print(\"\\n---- A string float numeral into integer ----\")\n",
    "str =\"1500.34\"\n",
    "print(f\"{str} float numeral string is converted to {int(float(str))} {type(int(float(str)))} type\")"
   ]
  },
  {
   "cell_type": "markdown",
   "metadata": {},
   "source": [
    "# 19) Program to Print Colored Text to the Terminal"
   ]
  },
  {
   "cell_type": "code",
   "execution_count": 113,
   "metadata": {},
   "outputs": [
    {
     "name": "stdout",
     "output_type": "stream",
     "text": [
      "\u001b[38;2;5;86;243mProgramiz\u001b[0m\n"
     ]
    }
   ],
   "source": [
    "# Using ANSI escape sequences\n",
    "print('\\x1b[38;2;5;86;243m' + 'Programiz' + '\\x1b[0m')\n",
    "\n",
    "# Using python module termcolor\n",
    "# !!! Potrebne instalovat TERMCOLOr kniznicu\n",
    "# from termcolor import colored\n",
    "# print(colored(\"Programiz\", \"blue\"))\n"
   ]
  },
  {
   "cell_type": "markdown",
   "metadata": {},
   "source": [
    "# 20) Program to Convert String to Datetime"
   ]
  },
  {
   "cell_type": "code",
   "execution_count": 114,
   "metadata": {},
   "outputs": [
    {
     "name": "stdout",
     "output_type": "stream",
     "text": [
      "<class 'datetime.datetime'>\n",
      "2011-03-11 11:31:00\n"
     ]
    }
   ],
   "source": [
    "from datetime import datetime\n",
    "\n",
    "my_date_string = \"Mar 11 2011 11:31AM\"\n",
    "\n",
    "datetime_object = datetime.strptime(my_date_string, '%b %d %Y %I:%M%p')\n",
    "\n",
    "print(type(datetime_object))\n",
    "print(datetime_object)"
   ]
  },
  {
   "cell_type": "markdown",
   "metadata": {},
   "source": [
    "# 21) Program to Get the Last Element of the List"
   ]
  },
  {
   "cell_type": "code",
   "execution_count": 118,
   "metadata": {},
   "outputs": [
    {
     "name": "stdout",
     "output_type": "stream",
     "text": [
      "e\n"
     ]
    }
   ],
   "source": [
    "# Using negative indexing\n",
    "my_list = ['a', 'b', 'c', 'd', 'e']\n",
    "\n",
    "print(my_list[-1])"
   ]
  },
  {
   "cell_type": "markdown",
   "metadata": {},
   "source": [
    "# 22) Program to Get a Substring of a String"
   ]
  },
  {
   "cell_type": "code",
   "execution_count": 142,
   "metadata": {},
   "outputs": [
    {
     "name": "stdout",
     "output_type": "stream",
     "text": [
      "---- Using String slicing ----\n",
      "love\n",
      "love python.\n",
      "I love python\n"
     ]
    }
   ],
   "source": [
    "# Using String slicing\n",
    "print(\"---- Using String slicing ----\")\n",
    "my_string = \"I love python.\"\n",
    "\n",
    "# prints \"love\"\n",
    "print(my_string[2:6])\n",
    "# prints \"love python.\"\n",
    "print(my_string[2:])\n",
    "# prints \"I love python\"\n",
    "print(my_string[:-1])"
   ]
  },
  {
   "cell_type": "markdown",
   "metadata": {},
   "source": [
    "# 23) Program to Randomly Select an Element From the List"
   ]
  },
  {
   "cell_type": "code",
   "execution_count": 146,
   "metadata": {},
   "outputs": [
    {
     "name": "stdout",
     "output_type": "stream",
     "text": [
      "31\n"
     ]
    }
   ],
   "source": [
    "# Using random module\n",
    "import random\n",
    "\n",
    "my_list = [1, 'a', 32, 'c', 'd', 31]\n",
    "print(random.choice(my_list))"
   ]
  },
  {
   "cell_type": "markdown",
   "metadata": {},
   "source": [
    "# 24) Program to Check If a String Is a Number (Float)"
   ]
  },
  {
   "cell_type": "code",
   "execution_count": 151,
   "metadata": {},
   "outputs": [
    {
     "name": "stdout",
     "output_type": "stream",
     "text": [
      "it is float\n"
     ]
    }
   ],
   "source": [
    "str = \"12\"\n",
    "\n",
    "try:\n",
    "    float(str)\n",
    "    print(\"it is float\")\n",
    "except ValueError:\n",
    "    print(\"not float\")"
   ]
  },
  {
   "cell_type": "markdown",
   "metadata": {},
   "source": [
    "# 25) Program to Count the Occurrence of an Item in a List"
   ]
  },
  {
   "cell_type": "code",
   "execution_count": 153,
   "metadata": {},
   "outputs": [
    {
     "name": "stdout",
     "output_type": "stream",
     "text": [
      "3\n",
      "---- Using count() method ----\n",
      "3\n"
     ]
    }
   ],
   "source": [
    "my_list = ['a', 1, 'a', 4, 3, 2, 'a']\n",
    "\n",
    "# moje for loop\n",
    "count = 0\n",
    "for item in my_list:\n",
    "    if item == \"a\":\n",
    "        count += 1\n",
    "\n",
    "print(count)\n",
    "\n",
    "# Using count() method\n",
    "print(\"---- Using count() method ----\")\n",
    "print(my_list.count(\"a\"))"
   ]
  },
  {
   "cell_type": "markdown",
   "metadata": {},
   "source": [
    "# 26) Program to Delete an Element From a Dictionary"
   ]
  },
  {
   "cell_type": "code",
   "execution_count": 157,
   "metadata": {},
   "outputs": [
    {
     "name": "stdout",
     "output_type": "stream",
     "text": [
      "{21: 'b', 14: 'c'}\n",
      "{14: 'c'}\n"
     ]
    }
   ],
   "source": [
    "my_dict = {31: 'a', 21: 'b', 14: 'c'}\n",
    "\n",
    "# using del keyword\n",
    "del my_dict[31]\n",
    "print(my_dict)\n",
    "\n",
    "# using pop() method\n",
    "my_dict.pop(21)\n",
    "print(my_dict)"
   ]
  },
  {
   "cell_type": "markdown",
   "metadata": {},
   "source": [
    "# 27) Program to Create a Long Multiline String"
   ]
  },
  {
   "cell_type": "code",
   "execution_count": 168,
   "metadata": {},
   "outputs": [
    {
     "name": "stdout",
     "output_type": "stream",
     "text": [
      "---- Using triple quotes ----\n",
      "The only way to\n",
      "learn to program is\n",
      "by writing code\n",
      "\n",
      "---- Using parentheses and a single/double quotes ----\n",
      "The only way to \n",
      "learn to program is \n",
      "by writing code\n",
      "\n",
      "---- Using '\\' ----\n",
      "The only way to \n",
      "learn to program is \n",
      "by writing code\n"
     ]
    }
   ],
   "source": [
    "# Using triple quotes\n",
    "print(\"---- Using triple quotes ----\")\n",
    "\n",
    "str = \"\"\"The only way to\n",
    "learn to program is\n",
    "by writing code\"\"\"\n",
    "\n",
    "print(str)\n",
    "\n",
    "# Using parentheses and a single/double quotes\n",
    "print(\"\\n---- Using parentheses and a single/double quotes ----\")\n",
    "\n",
    "str = (\"The only way to \\n\"\n",
    "       \"learn to program is \\n\"\n",
    "       \"by writing code\")\n",
    "\n",
    "print(str)\n",
    "\n",
    "# Using \\\n",
    "print(\"\\n---- Using '\\\\' ----\")\n",
    "\n",
    "str = \"The only way to \\n\" \\\n",
    "\"learn to program is \\n\" \\\n",
    "\"by writing code\"\n",
    "\n",
    "print(str)"
   ]
  },
  {
   "cell_type": "markdown",
   "metadata": {},
   "source": [
    "# 28) Program to Convert Two Lists Into a Dictionary"
   ]
  },
  {
   "cell_type": "code",
   "execution_count": 176,
   "metadata": {},
   "outputs": [
    {
     "name": "stdout",
     "output_type": "stream",
     "text": [
      "---- moje riesenie for loop ----\n",
      "{1: 'python', 2: 'c', 3: 'c++'}\n",
      "\n",
      "---- Using zip and dict methods ----\n",
      "{1: 'python', 2: 'c', 3: 'c++'}\n",
      "\n",
      "---- Using list comprehension ----\n",
      "{1: 'python', 2: 'c', 3: 'c++'}\n"
     ]
    }
   ],
   "source": [
    "index = [1, 2, 3]\n",
    "languages = ['python', 'c', 'c++']\n",
    "\n",
    "# moje riesenie\n",
    "print(\"---- moje riesenie for loop ----\")\n",
    "\n",
    "my_dict = dict().fromkeys(index)\n",
    "\n",
    "count = 0\n",
    "for key, value in my_dict.items():\n",
    "    my_dict[key] = languages[count]\n",
    "    count += 1\n",
    "\n",
    "print(my_dict)\n",
    "\n",
    "# Using zip and dict methods\n",
    "# We have two lists: index and languages. \n",
    "# They are first zipped and then converted into a dictionary.\n",
    "# The zip() function takes iterables (can be zero or more), aggregates them in a tuple, and returns it.\n",
    "# Likewise, dict() gives the dictionary.\n",
    "print(\"\\n---- Using zip and dict methods ----\")\n",
    "my_dict = dict(zip(index, languages))\n",
    "print(my_dict)\n",
    "\n",
    "# Using list comprehension\n",
    "print(\"\\n---- Using list comprehension ----\")\n",
    "my_dict = {key: value for key,value in zip(index, languages)}\n",
    "print(my_dict)"
   ]
  },
  {
   "cell_type": "markdown",
   "metadata": {},
   "source": [
    "# 29) Program to Trim Whitespace From a String"
   ]
  },
  {
   "cell_type": "code",
   "execution_count": 179,
   "metadata": {},
   "outputs": [
    {
     "name": "stdout",
     "output_type": "stream",
     "text": [
      "Python\n",
      "\n",
      "Python\n"
     ]
    }
   ],
   "source": [
    "# Using strip()\n",
    "my_string = \" Python \"\n",
    "print(my_string.strip())\n",
    "\n",
    "# However, if you have characters in the string like '\\n' and you want to remove only the whitespaces,\n",
    "# you need to specify it explicitly on the strip() method as shown in the following code.\n",
    "my_string = \" \\nPython \"\n",
    "print(my_string.strip(\" \"))\n"
   ]
  },
  {
   "cell_type": "markdown",
   "metadata": {},
   "source": [
    "# 30) Program to Iterate Through Two Lists in Parallel"
   ]
  },
  {
   "cell_type": "code",
   "execution_count": 180,
   "metadata": {},
   "outputs": [
    {
     "name": "stdout",
     "output_type": "stream",
     "text": [
      "1 a\n",
      "2 b\n",
      "3 c\n"
     ]
    }
   ],
   "source": [
    "# Using zip()\n",
    "\n",
    "list_1 = [1, 2, 3, 4]\n",
    "list_2 = ['a', 'b', 'c']\n",
    "\n",
    "for i,j in zip(list_1, list_2):\n",
    "    print(i, j)\n"
   ]
  },
  {
   "cell_type": "markdown",
   "metadata": {},
   "source": [
    "# 31) Program to Count the Number of Digits Present In a Number"
   ]
  },
  {
   "cell_type": "code",
   "execution_count": 12,
   "metadata": {},
   "outputs": [
    {
     "name": "stdout",
     "output_type": "stream",
     "text": [
      "---- moje riesenie for loop ----\n",
      "6\n",
      "\n",
      "---- using WHILE ----\n",
      "6\n",
      "\n",
      "---- using len() ----\n",
      "6\n"
     ]
    }
   ],
   "source": [
    "num = 123456\n",
    "\n",
    "# moje riesenie\n",
    "print(\"---- moje riesenie for loop ----\")\n",
    "str_num = str(num)\n",
    "\n",
    "count = 0\n",
    "for i in str_num:\n",
    "    count += 1\n",
    "\n",
    "print(count)\n",
    "\n",
    "# using WHILE\n",
    "print(\"\\n---- using WHILE ----\")\n",
    "count = 0\n",
    "\n",
    "while num != 0:\n",
    "    num //= 10\n",
    "    count += 1\n",
    "print(count)\n",
    "\n",
    "# using len()\n",
    "print(\"\\n---- using len() ----\")\n",
    "print(len(str_num))\n"
   ]
  },
  {
   "cell_type": "markdown",
   "metadata": {},
   "source": [
    "# 32) Program to Check If Two Strings are Anagram\n",
    "\n",
    "- Two strings are said to be anagram if we can form one string by arranging the characters of another string. For example, Race and Care."
   ]
  },
  {
   "cell_type": "code",
   "execution_count": 13,
   "metadata": {},
   "outputs": [
    {
     "name": "stdout",
     "output_type": "stream",
     "text": [
      "race care are anagrams\n"
     ]
    }
   ],
   "source": [
    "str1 = \"Race\"\n",
    "str2 = \"Care\"\n",
    "\n",
    "# make lowercase\n",
    "str1 = str1.lower()\n",
    "str2 = str2.lower()\n",
    "\n",
    "if len(str1) != len(str2):\n",
    "    print(str1, str2, \"are not anagrams\")\n",
    "else:\n",
    "    sorted_str1 = sorted(str1)\n",
    "    sorted_str2 = sorted(str2)\n",
    "    if sorted_str1 == sorted_str2:\n",
    "        print(str1, str2, \"are anagrams\")\n",
    "    else:\n",
    "        print(str1, str2, \"are not anagrams\")"
   ]
  },
  {
   "cell_type": "markdown",
   "metadata": {},
   "source": [
    "# 33) Program to Capitalize the First Character of a String"
   ]
  },
  {
   "cell_type": "code",
   "execution_count": 16,
   "metadata": {},
   "outputs": [
    {
     "name": "stdout",
     "output_type": "stream",
     "text": [
      "\n",
      "---- using list slicing ----\n",
      "Programiz is lit\n",
      "\n",
      "---- using capitalize() ----\n",
      "Programiz is lit\n"
     ]
    }
   ],
   "source": [
    "my_string = \"programiz is Lit\"\n",
    "\n",
    "# Using list slicing\n",
    "print(\"\\n---- using list slicing ----\")\n",
    "print(my_string[0].upper() + my_string[1:].lower())\n",
    "\n",
    "# Using inbuilt method capitalize()\n",
    "print(\"\\n---- using capitalize() ----\")\n",
    "print(my_string.capitalize())"
   ]
  },
  {
   "cell_type": "markdown",
   "metadata": {},
   "source": [
    "# 34) Program to Compute all the Permutation of the String\n",
    "\n",
    "- Permutation is the method of selecting elements from a set in different ways.\n",
    "- For example: the number of ways in which characters from yup can be selected are yup, ypu, uyp, upy, puy, pyu, and not selecting any."
   ]
  },
  {
   "cell_type": "code",
   "execution_count": 21,
   "metadata": {},
   "outputs": [
    {
     "name": "stdout",
     "output_type": "stream",
     "text": [
      "yup\n",
      "ypu\n",
      "uyp\n",
      "upy\n",
      "puy\n",
      "pyu\n",
      "None\n"
     ]
    }
   ],
   "source": [
    "# Using recursion\n",
    "\n",
    "def get_permutation(string, i=0):\n",
    "    \n",
    "    if i == len(string):\n",
    "        print(\"\".join(string))\n",
    "    for j in range(i, len(string)):\n",
    "        # In each iteration of the for loop, each character of \"string\" is stored in words\n",
    "        words = [c for c in string]\n",
    "\n",
    "        # swap\n",
    "        # The elements of words are swapped. In this way, we achieve all different combinations of characters\n",
    "        words[i], words[j] = words[j], words[i]\n",
    "\n",
    "        # recursion\n",
    "        get_permutation(words, i + 1)\n",
    "\n",
    "print(get_permutation(\"yup\"))"
   ]
  },
  {
   "cell_type": "markdown",
   "metadata": {},
   "source": [
    "# 35) Program to Count the Number of Occurrence of a Character in String"
   ]
  },
  {
   "cell_type": "code",
   "execution_count": 26,
   "metadata": {},
   "outputs": [
    {
     "name": "stdout",
     "output_type": "stream",
     "text": [
      "---- using for loop ----\n",
      "occurrence of: r in word Programiz is 2 times\n",
      "\n",
      "---- using count() ----\n",
      "occurrence of: r in word Programiz is 2 times\n"
     ]
    }
   ],
   "source": [
    "my_string = \"Programiz\"\n",
    "my_char = \"r\"\n",
    "\n",
    "# using for loop\n",
    "print(\"---- using for loop ----\")\n",
    "count = 0\n",
    "\n",
    "for char in my_string:\n",
    "    if char == my_char:\n",
    "        count += 1\n",
    "\n",
    "print(\"occurrence of:\", my_char,\"in word\",my_string,\"is\",count,\"times\")\n",
    "\n",
    "# Using method count()\n",
    "print(\"\\n---- using count() ----\")\n",
    "print(\"occurrence of:\", my_char,\"in word\",my_string,\"is\",my_string.count(my_char),\"times\")"
   ]
  },
  {
   "cell_type": "markdown",
   "metadata": {},
   "source": [
    "# 36) Program to Remove Duplicate Element From a List\n",
    "\n",
    "- najednoduchsie je premenit list na set, set nema duplikaty"
   ]
  },
  {
   "cell_type": "code",
   "execution_count": 27,
   "metadata": {},
   "outputs": [
    {
     "name": "stdout",
     "output_type": "stream",
     "text": [
      "[1, 2, 4, 6]\n"
     ]
    }
   ],
   "source": [
    "# Using set()\n",
    "list_1 = [1, 2, 1, 4, 6]\n",
    "\n",
    "print(list(set(list_1)))"
   ]
  },
  {
   "cell_type": "markdown",
   "metadata": {},
   "source": [
    "## 36.1) Remove the items that are duplicated in two lists\n",
    "\n",
    "- pouzitie: **set symmetric difference** z prikladu 7)"
   ]
  },
  {
   "cell_type": "code",
   "execution_count": 28,
   "metadata": {},
   "outputs": [
    {
     "name": "stdout",
     "output_type": "stream",
     "text": [
      "[4, 6, 7, 8]\n"
     ]
    }
   ],
   "source": [
    "list_1 = [1, 2, 1, 4, 6]\n",
    "list_2 = [7, 8, 2, 1]\n",
    "\n",
    "print(list(set(list_1) ^ set(list_2)))"
   ]
  }
 ],
 "metadata": {
  "kernelspec": {
   "display_name": ".venv",
   "language": "python",
   "name": "python3"
  },
  "language_info": {
   "codemirror_mode": {
    "name": "ipython",
    "version": 3
   },
   "file_extension": ".py",
   "mimetype": "text/x-python",
   "name": "python",
   "nbconvert_exporter": "python",
   "pygments_lexer": "ipython3",
   "version": "3.12.6"
  }
 },
 "nbformat": 4,
 "nbformat_minor": 2
}

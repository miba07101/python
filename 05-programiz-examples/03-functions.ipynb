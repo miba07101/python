{
 "cells": [
  {
   "cell_type": "markdown",
   "metadata": {},
   "source": [
    "# 1) Program to Display Powers of 2 Using Anonymous Function\n",
    "\n",
    "- lambda f. and map() f."
   ]
  },
  {
   "cell_type": "code",
   "execution_count": 1,
   "metadata": {},
   "outputs": [
    {
     "name": "stdout",
     "output_type": "stream",
     "text": [
      "<map object at 0x0000022FD9F63160>\n",
      "[1, 4, 9, 16, 25]\n"
     ]
    }
   ],
   "source": [
    "numbers = [1, 2, 3, 4, 5]\n",
    "\n",
    "# using lambda function (anonymous) to perform the powers of 2 for each element\n",
    "power = lambda x: x**2\n",
    "\n",
    "# using map() function to apply lambda function to each element in iterable list numbers\n",
    "results = map(power, numbers)\n",
    "\n",
    "# display ressults as list because print map() gives object\n",
    "print(results)\n",
    "print(list(results))"
   ]
  },
  {
   "cell_type": "markdown",
   "metadata": {},
   "source": [
    "# 2) Program to Find Numbers Divisible by Another Number\n",
    "\n",
    "- lambda f. and filter() f."
   ]
  },
  {
   "cell_type": "code",
   "execution_count": 8,
   "metadata": {},
   "outputs": [
    {
     "name": "stdout",
     "output_type": "stream",
     "text": [
      "Numbers divisible by 13 are [65, 39, 221]\n"
     ]
    }
   ],
   "source": [
    "numbers = [\n",
    "    12,\n",
    "    65,\n",
    "    54,\n",
    "    39,\n",
    "    102,\n",
    "    339,\n",
    "    221,\n",
    "]\n",
    "\n",
    "\n",
    "div_number = 13\n",
    "\n",
    "\n",
    "# find if number in list numbers is divisible by div_number\n",
    "\n",
    "\n",
    "divisible = lambda x: (x % div_number == 0)\n",
    "\n",
    "\n",
    "# apply filter() f. to find result of lambda f. in numbers list\n",
    "\n",
    "\n",
    "# funkcia filter() vyberie cislo z listu cisel, ktore zodpoveda vysledku lambda funkcie\n",
    "\n",
    "\n",
    "results = filter(divisible, numbers)\n",
    "\n",
    "\n",
    "# display results as list because filter() f. gives object\n",
    "\n",
    "\n",
    "print(\"Numbers divisible by\", div_number, \"are\", list(results))"
   ]
  },
  {
   "cell_type": "markdown",
   "metadata": {},
   "source": [
    "# 3) Program to Convert Decimal to Binary, Octal and Hexadecimal\n",
    "\n",
    "- decimal system is base 10 (ten symbols, 0-9, are used to represent a number) and similarly,\n",
    "- binary is base 2, \n",
    "- octal is base 8,\n",
    "- hexadecimal is base 16."
   ]
  },
  {
   "cell_type": "code",
   "execution_count": 10,
   "metadata": {},
   "outputs": [
    {
     "name": "stdout",
     "output_type": "stream",
     "text": [
      "The decimal value 344 is:\n",
      "0b101011000 in binary\n",
      "0o530 in octal\n",
      "0x158 in hexadecimal\n"
     ]
    }
   ],
   "source": [
    "decimal = 344\n",
    "\n",
    "print(\"The decimal value\", decimal, \"is:\")\n",
    "print(bin(decimal), \"in binary\")\n",
    "print(oct(decimal), \"in octal\")\n",
    "print(hex(decimal), \"in hexadecimal\")"
   ]
  },
  {
   "cell_type": "markdown",
   "metadata": {},
   "source": [
    "# 4) Program to Find ASCII Value of Character\n",
    "\n",
    "- ASCII stands for American Standard Code for Information Interchange.\n",
    "- For example, the ASCII value of the letter 'A' is 65.\n",
    "- ord() f."
   ]
  },
  {
   "cell_type": "code",
   "execution_count": 12,
   "metadata": {},
   "outputs": [
    {
     "name": "stdout",
     "output_type": "stream",
     "text": [
      "The ASCII value of A is 65\n"
     ]
    }
   ],
   "source": [
    "char = \"A\"\n",
    "print(\"The ASCII value of\", char, \"is\", ord(char))"
   ]
  },
  {
   "cell_type": "markdown",
   "metadata": {},
   "source": [
    "# 5) Program to Find HCF or GCD\n",
    "\n",
    "- highest common factor (H.C.F) or greatest common divisor (G.C.D) of two numbers is the largest positive integer that perfectly divides the two given numbers. For example, the H.C.F of 12 and 14 is 2."
   ]
  },
  {
   "cell_type": "code",
   "execution_count": 13,
   "metadata": {},
   "outputs": [
    {
     "name": "stdout",
     "output_type": "stream",
     "text": [
      "The HCF of 54 and 24 is 6\n"
     ]
    }
   ],
   "source": [
    "# program to find H.C.F of two numbers\n",
    "\n",
    "# define function to find HCF of 2 numbers\n",
    "from gettext import find\n",
    "\n",
    "\n",
    "def find_hcf(x, y):\n",
    "    # choose the smaller number\n",
    "    if x > y:\n",
    "        smaller = y\n",
    "    else:\n",
    "        smaller = x\n",
    "    for i in range(1, smaller + 1):\n",
    "        if (x % i == 0) and (y % i == 0):\n",
    "            hcf = i\n",
    "    return hcf\n",
    "\n",
    "\n",
    "num1 = 54\n",
    "num2 = 24\n",
    "print(\"The HCF of\", num1, \"and\", num2, \"is\", find_hcf(num1, num2))"
   ]
  },
  {
   "cell_type": "markdown",
   "metadata": {},
   "source": [
    "## 5.1) Euclidean algorithm\n",
    "\n",
    "- This algorithm is based on the fact that H.C.F. of two numbers divides their difference as well.\n",
    "- In this algorithm, we divide the greater by smaller and take the remainder. Now, divide the smaller by this remainder. Repeat until the remainder is 0."
   ]
  },
  {
   "cell_type": "code",
   "execution_count": 19,
   "metadata": {},
   "outputs": [
    {
     "name": "stdout",
     "output_type": "stream",
     "text": [
      "24\n",
      "6\n",
      "The HCF of 54 and 24 is 6\n",
      "4\n"
     ]
    }
   ],
   "source": [
    "# Euclidian algorithm\n",
    "def find_hcf(x, y):\n",
    "    # Here we loop until y becomes zero. The statement x, y = y, x % y does swapping of values in Python.\n",
    "    while y:\n",
    "        x, y = y, x % y\n",
    "    return x\n",
    "\n",
    "\n",
    "num1 = 54\n",
    "num2 = 24\n",
    "print(\"The HCF of\", num1, \"and\", num2, \"is\", find_hcf(num1, num2))"
   ]
  },
  {
   "cell_type": "markdown",
   "metadata": {},
   "source": [
    "# 6) Program to Find LCM\n",
    "\n",
    "- The least common multiple (L.C.M.) of two numbers is the smallest positive integer that is perfectly divisible by the two given numbers.\n",
    "- For example, the L.C.M. of 12 and 14 is 84."
   ]
  },
  {
   "cell_type": "code",
   "execution_count": 22,
   "metadata": {},
   "outputs": [
    {
     "name": "stdout",
     "output_type": "stream",
     "text": [
      "The LCM of 14 and 12 is 84\n"
     ]
    }
   ],
   "source": [
    "def find_lcm(x, y):\n",
    "    # we first determine the greater of the two numbers\n",
    "    # since the L.C.M. can only be greater than or equal to the largest number.\n",
    "    if x > y:\n",
    "        greater = x\n",
    "    else:\n",
    "        greater = y\n",
    "        # In each iteration, we check if both the numbers perfectly divide our number.\n",
    "        # If so, we store the number as L.C.M. and break from the loop.\n",
    "        # Otherwise, the number is incremented by 1 and the loop continues.\n",
    "    while True:\n",
    "        if (greater % x == 0) and (greater % y == 0):\n",
    "            lcm = greater\n",
    "            break\n",
    "        greater += 1\n",
    "    return lcm\n",
    "\n",
    "\n",
    "num1 = 14\n",
    "num2 = 12\n",
    "\n",
    "print(\"The LCM of\", num1, \"and\", num2, \"is\", find_lcm(num1, num2))"
   ]
  },
  {
   "cell_type": "markdown",
   "metadata": {},
   "source": [
    "## 6.1) Program to Compute LCM Using GCD\n",
    "\n",
    "- The above program is slower to run. \n",
    "- We can make it more efficient by using the fact that the product of two numbers is equal to the product of the least common multiple (LCM) and greatest common divisor (GCD = HCF) of those two numbers.\n",
    "\n",
    "- Number1 * Number2 = L.C.M. * G.C.D."
   ]
  },
  {
   "cell_type": "code",
   "execution_count": 25,
   "metadata": {},
   "outputs": [
    {
     "name": "stdout",
     "output_type": "stream",
     "text": [
      "The LCM of 14 and 12 is 84\n"
     ]
    }
   ],
   "source": [
    "# define find GCD = HCF using euclidean algorithm\n",
    "def find_hcf(x, y):\n",
    "    while y:\n",
    "        x, y = y, x % y\n",
    "    return x\n",
    "\n",
    "\n",
    "# define find LCM\n",
    "# LCM je najmensie cislo, ktore je delitelne 2 danymi cislami.\n",
    "# V tomto pripade ho ziskame ako nasobok 2 danych cisel delene ich najvacsim spolocnym delitelom GCD = HCF\n",
    "def find_lcm(x, y):\n",
    "    lcm = (x * y) // find_hcf(x, y)\n",
    "    return lcm\n",
    "\n",
    "\n",
    "num1 = 14\n",
    "num2 = 12\n",
    "\n",
    "print(\"The LCM of\", num1, \"and\", num2, \"is\", find_lcm(num1, num2))"
   ]
  },
  {
   "cell_type": "markdown",
   "metadata": {},
   "source": [
    "# 7) Program to Find the Factors of a Number\n",
    "\n",
    "- The factor of a number, in math, is a divisor of the given number that divides it completely, without leaving any remainder"
   ]
  },
  {
   "cell_type": "code",
   "execution_count": 41,
   "metadata": {},
   "outputs": [
    {
     "name": "stdout",
     "output_type": "stream",
     "text": [
      "1\n",
      "2\n",
      "4\n",
      "5\n",
      "8\n",
      "10\n",
      "16\n",
      "20\n",
      "32\n",
      "40\n",
      "64\n",
      "80\n",
      "160\n",
      "320\n",
      "[1, 2, 4, 5, 8, 10, 16, 20, 32, 40, 64, 80, 160, 320]\n",
      "(1, 2, 4, 5, 8, 10, 16, 20, 32, 40, 64, 80, 160, 320)\n"
     ]
    }
   ],
   "source": [
    "# function to find factors of the given number\n",
    "def find_factors(x):\n",
    "    for i in range(1, x + 1):\n",
    "        if x % i == 0:\n",
    "            print(i)\n",
    "\n",
    "\n",
    "num = 320\n",
    "find_factors(num)\n",
    "\n",
    "# moj pokus skrz lambda function and filter()\n",
    "function = lambda i: num % i == 0\n",
    "print(list(filter(function, range(1, num + 1))))\n",
    "\n",
    "# este kratsi zapis\n",
    "print(tuple(filter(lambda i: num % i == 0, range(1, num + 1))))"
   ]
  },
  {
   "cell_type": "markdown",
   "metadata": {},
   "source": [
    "# 8) Program to Make a Simple Calculator"
   ]
  },
  {
   "cell_type": "code",
   "execution_count": 42,
   "metadata": {},
   "outputs": [
    {
     "name": "stdout",
     "output_type": "stream",
     "text": [
      "Select operations\n",
      "1. add\n",
      "2. substract\n",
      "3. multiply\n",
      "4. divide\n",
      "1.0 + 1.0 = 2.0\n"
     ]
    }
   ],
   "source": [
    "# function to add 2 numbers\n",
    "def add(x, y):\n",
    "    return x + y\n",
    "\n",
    "\n",
    "# function to substract 2 numbers\n",
    "def substract(x, y):\n",
    "    return x - y\n",
    "\n",
    "\n",
    "# function to multiplies 2 numbers\n",
    "def multiply(x, y):\n",
    "    return x * y\n",
    "\n",
    "\n",
    "# function to divides 2 numbers\n",
    "def divide(x, y):\n",
    "    return x / y\n",
    "\n",
    "\n",
    "print(\"Select operations\")\n",
    "print(\"1. add\")\n",
    "print(\"2. substract\")\n",
    "print(\"3. multiply\")\n",
    "print(\"4. divide\")\n",
    "\n",
    "while True:\n",
    "    # take input from user\n",
    "    choice = input(\"Enter your choice 1/2/3/4:\")\n",
    "\n",
    "    # chcek if user choice is one of the options\n",
    "    if choice in (\"1\", \"2\", \"3\", \"4\"):\n",
    "        try:\n",
    "            num1 = float(input(\"Enter first number:\"))\n",
    "            num2 = float(input(\"Enter second number:\"))\n",
    "        except ValueError:\n",
    "            print(\"Invalid input. Please enter a number.\")\n",
    "            continue\n",
    "        # provide calc based on choice\n",
    "        if choice == \"1\":\n",
    "            print(num1, \"+\", num2, \"=\", add(num1, num2))\n",
    "        if choice == \"2\":\n",
    "            print(num1, \"-\", num2, \"=\", substract(num1, num2))\n",
    "        if choice == \"3\":\n",
    "            print(num1, \"*\", num2, \"=\", multiply(num1, num2))\n",
    "        if choice == \"4\":\n",
    "            print(num1, \"/\", num2, \"=\", divide(num1, num2))\n",
    "        # check if user wants another calculation\n",
    "        # break the while loop if answer is no\n",
    "\n",
    "        next_calculation = input(\"Let's do next calculation? (yes/no): \")\n",
    "        if next_calculation == \"no\":\n",
    "            break\n",
    "    else:\n",
    "        print(\"Invalid Input\")"
   ]
  },
  {
   "cell_type": "markdown",
   "metadata": {},
   "source": [
    "# 9) Program to Shuffle Deck of Cards\n",
    "\n",
    "- **itertools** kniznica a metoda **product**\n",
    "- **random** kniznica"
   ]
  },
  {
   "cell_type": "code",
   "execution_count": 65,
   "metadata": {},
   "outputs": [
    {
     "name": "stdout",
     "output_type": "stream",
     "text": [
      "original deck [(1, 'spade'), (1, 'heart'), (1, 'diamond'), (1, 'club'), (2, 'spade'), (2, 'heart'), (2, 'diamond'), (2, 'club'), (3, 'spade'), (3, 'heart'), (3, 'diamond'), (3, 'club'), (4, 'spade'), (4, 'heart'), (4, 'diamond'), (4, 'club'), (5, 'spade'), (5, 'heart'), (5, 'diamond'), (5, 'club'), (6, 'spade'), (6, 'heart'), (6, 'diamond'), (6, 'club'), (7, 'spade'), (7, 'heart'), (7, 'diamond'), (7, 'club'), (8, 'spade'), (8, 'heart'), (8, 'diamond'), (8, 'club'), (9, 'spade'), (9, 'heart'), (9, 'diamond'), (9, 'club'), (10, 'spade'), (10, 'heart'), (10, 'diamond'), (10, 'club'), (11, 'spade'), (11, 'heart'), (11, 'diamond'), (11, 'club'), (12, 'spade'), (12, 'heart'), (12, 'diamond'), (12, 'club'), (13, 'spade'), (13, 'heart'), (13, 'diamond'), (13, 'club')]\n",
      "random suffle [(4, 'club'), (5, 'heart'), (9, 'heart'), (12, 'diamond'), (3, 'heart'), (12, 'club'), (3, 'spade'), (2, 'club'), (13, 'diamond'), (12, 'spade'), (3, 'club'), (8, 'club'), (1, 'diamond'), (2, 'diamond'), (5, 'spade'), (1, 'club'), (4, 'spade'), (7, 'diamond'), (7, 'heart'), (1, 'spade'), (5, 'club'), (13, 'club'), (11, 'diamond'), (10, 'spade'), (9, 'club'), (6, 'heart'), (12, 'heart'), (10, 'heart'), (7, 'club'), (5, 'diamond'), (11, 'heart'), (4, 'heart'), (4, 'diamond'), (7, 'spade'), (6, 'spade'), (11, 'club'), (10, 'club'), (8, 'diamond'), (6, 'diamond'), (8, 'spade'), (2, 'spade'), (8, 'heart'), (6, 'club'), (2, 'heart'), (13, 'spade'), (11, 'spade'), (9, 'diamond'), (10, 'diamond'), (13, 'heart'), (1, 'heart'), (3, 'diamond'), (9, 'spade')]\n",
      "4 of club\n",
      "5 of heart\n",
      "9 of heart\n",
      "12 of diamond\n",
      "3 of heart\n"
     ]
    }
   ],
   "source": [
    "import itertools, random\n",
    "\n",
    "\n",
    "# help(itertools)\n",
    "\n",
    "\n",
    "# make a deck of cards\n",
    "\n",
    "\n",
    "deck = list(itertools.product(range(1, 14), [\"spade\", \"heart\", \"diamond\", \"club\"]))\n",
    "\n",
    "\n",
    "print(\"original deck\", deck)\n",
    "\n",
    "\n",
    "# suffle the cards\n",
    "\n",
    "\n",
    "random.shuffle(deck)\n",
    "print(\"random suffle\", deck)\n",
    "\n",
    "\n",
    "# display 5 cards\n",
    "\n",
    "\n",
    "for i in range(5):\n",
    "\n",
    "    print(deck[i][0], \"of\", deck[i][1])"
   ]
  },
  {
   "cell_type": "markdown",
   "metadata": {},
   "source": [
    "# 10) Program to Display Calendar\n",
    "\n",
    "- **calendar** kniznica"
   ]
  },
  {
   "cell_type": "code",
   "execution_count": 67,
   "metadata": {},
   "outputs": [
    {
     "name": "stdout",
     "output_type": "stream",
     "text": [
      "   November 2014\n",
      "Mo Tu We Th Fr Sa Su\n",
      "                1  2\n",
      " 3  4  5  6  7  8  9\n",
      "10 11 12 13 14 15 16\n",
      "17 18 19 20 21 22 23\n",
      "24 25 26 27 28 29 30\n",
      "\n"
     ]
    }
   ],
   "source": [
    "import calendar\n",
    "\n",
    "yy = 2014\n",
    "mm = 11\n",
    "\n",
    "# display calendar\n",
    "print(calendar.month(yy, mm))"
   ]
  },
  {
   "cell_type": "markdown",
   "metadata": {},
   "source": [
    "# 11) Program to Display Fibonacci Sequence Using Recursion"
   ]
  },
  {
   "cell_type": "code",
   "execution_count": 9,
   "metadata": {},
   "outputs": [
    {
     "name": "stdout",
     "output_type": "stream",
     "text": [
      "0\n",
      "1\n",
      "1\n",
      "2\n",
      "3\n"
     ]
    }
   ],
   "source": [
    "def fibonacci_sequence(n):\n",
    "    if n <= 1:\n",
    "        return n\n",
    "    else:\n",
    "        return fibonacci_sequence(n - 1) + fibonacci_sequence(n - 2)\n",
    "\n",
    "\n",
    "num = 5\n",
    "for i in range(num):\n",
    "    print(fibonacci_sequence(i))"
   ]
  },
  {
   "cell_type": "markdown",
   "metadata": {},
   "source": [
    "# 12) Program to Find Sum of Natural Numbers Using Recursion"
   ]
  },
  {
   "cell_type": "code",
   "execution_count": 39,
   "metadata": {},
   "outputs": [
    {
     "name": "stdout",
     "output_type": "stream",
     "text": [
      "136\n",
      "136\n"
     ]
    }
   ],
   "source": [
    "# Sum of natural numbers up to num\n",
    "num = 16\n",
    "result = 0\n",
    "\n",
    "while num > 0:\n",
    "    result += num\n",
    "    num -= 1\n",
    "\n",
    "print(result)\n",
    "\n",
    "# using recursion\n",
    "num = 16\n",
    "\n",
    "\n",
    "def sum_of_natural_numbers(x):\n",
    "    if x <= 1:\n",
    "        return x\n",
    "    else:\n",
    "        return x + sum_of_natural_numbers(x - 1)\n",
    "\n",
    "\n",
    "print(sum_of_natural_numbers(num))"
   ]
  },
  {
   "cell_type": "markdown",
   "metadata": {},
   "source": [
    "# 13) Program to Find Factorial of Number Using Recursion"
   ]
  },
  {
   "cell_type": "code",
   "execution_count": 42,
   "metadata": {},
   "outputs": [
    {
     "name": "stdout",
     "output_type": "stream",
     "text": [
      "5040\n"
     ]
    }
   ],
   "source": [
    "num = 7\n",
    "\n",
    "\n",
    "def factorial(x):\n",
    "    if x <= 1:\n",
    "        return x\n",
    "    else:\n",
    "        return x * factorial(x - 1)\n",
    "\n",
    "\n",
    "print(factorial(num))"
   ]
  },
  {
   "cell_type": "markdown",
   "metadata": {},
   "source": [
    "# 14) Program to Convert Decimal to Binary Using Recursion\n",
    "\n",
    "- Decimal number is converted into binary by dividing the number successively by 2 and printing the remainder in reverse order."
   ]
  },
  {
   "cell_type": "code",
   "execution_count": 43,
   "metadata": {},
   "outputs": [
    {
     "name": "stdout",
     "output_type": "stream",
     "text": [
      "100010"
     ]
    }
   ],
   "source": [
    "num = 34\n",
    "\n",
    "\n",
    "def dec_to_bin(x):\n",
    "\n",
    "    if x > 1:\n",
    "\n",
    "        dec_to_bin(x // 2)\n",
    "\n",
    "    print(x % 2, end=\"\")\n",
    "\n",
    "\n",
    "dec_to_bin(num)"
   ]
  },
  {
   "cell_type": "markdown",
   "metadata": {},
   "source": [
    "# 15) Program to Return Multiple Values From a Function\n",
    "\n",
    "## 15.1) Example 1: Return values using comma"
   ]
  },
  {
   "cell_type": "code",
   "execution_count": 45,
   "metadata": {},
   "outputs": [
    {
     "name": "stdout",
     "output_type": "stream",
     "text": [
      "('John', 'Armin')\n",
      "John Armin\n"
     ]
    }
   ],
   "source": [
    "def name():\n",
    "    return \"John\", \"Armin\"\n",
    "\n",
    "\n",
    "# print the tuple with the returned values\n",
    "print(name())\n",
    "\n",
    "# get the individual items\n",
    "name1, name2 = name()\n",
    "print(name1, name2)"
   ]
  },
  {
   "cell_type": "markdown",
   "metadata": {},
   "source": [
    "## 15.2) Example 2: Using a dictionary"
   ]
  },
  {
   "cell_type": "code",
   "execution_count": 59,
   "metadata": {},
   "outputs": [
    {
     "name": "stdout",
     "output_type": "stream",
     "text": [
      "John Armin "
     ]
    }
   ],
   "source": [
    "def name():\n",
    "    n1 = \"John\"\n",
    "    n2 = \"Armin\"\n",
    "\n",
    "    return {1: n1, 2: n2}\n",
    "\n",
    "\n",
    "# print the dictionary with the returned values\n",
    "# names = name()\n",
    "# print(names)\n",
    "\n",
    "for value in name().values():\n",
    "    print(value, end=\" \")"
   ]
  }
 ],
 "metadata": {
  "kernelspec": {
   "display_name": "base-venv",
   "language": "python",
   "name": "python3"
  },
  "language_info": {
   "codemirror_mode": {
    "name": "ipython",
    "version": 3
   },
   "file_extension": ".py",
   "mimetype": "text/x-python",
   "name": "python",
   "nbconvert_exporter": "python",
   "pygments_lexer": "ipython3",
   "version": "3.13.0"
  }
 },
 "nbformat": 4,
 "nbformat_minor": 2
}

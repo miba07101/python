{
 "cells": [
  {
   "cell_type": "markdown",
   "id": "72e54a3a",
   "metadata": {},
   "source": [
    "### Typy dat"
   ]
  },
  {
   "cell_type": "markdown",
   "id": "ad4e424a",
   "metadata": {},
   "source": [
    "#### 1) Kvalitativne (kategoricke)V"
   ]
  },
  {
   "cell_type": "markdown",
   "id": "305078d7",
   "metadata": {},
   "source": [
    "- **nominalne** - hodnoty nemaju poradie, len kategorie (napr. farba auta: cervena, biela ...)\n",
    "- **ordinalne** - kategorie nemaju poradie (napr. hodnotenie spokojnosti: nizke, stredne, vysoke)"
   ]
  },
  {
   "cell_type": "markdown",
   "id": "2455354e",
   "metadata": {},
   "source": [
    "#### 2) Kvantitativne (ciselne)"
   ]
  },
  {
   "cell_type": "markdown",
   "id": "e776599d",
   "metadata": {},
   "source": [
    "- **diskretne** - hodnoty su celymi cislami, casto pocet (napr. pocet aut na pracovisku)\n",
    "- **spojite** - mozu nadobudat lubovolne hodnoty v intervale (napr. vyska cloveka, teplota)"
   ]
  },
  {
   "cell_type": "markdown",
   "id": "7089414b",
   "metadata": {},
   "source": [
    "### Zakladne statisticke miery"
   ]
  },
  {
   "cell_type": "markdown",
   "id": "5cce3c89",
   "metadata": {},
   "source": [
    "#### 1) Stredne hodnoty"
   ]
  },
  {
   "cell_type": "markdown",
   "id": "8942c8be",
   "metadata": {},
   "source": [
    "**A) Priemer (aritmeticky)**\n",
    "> pre mnozinu dat $ X = {x_1,x_2,....,x_n}$ je aritmeticky priemer\n",
    "$$\n",
    "\\bar{x} = \\frac{1}{n} \\sum_{i=1}^n x_i\n",
    "$$\n",
    "Kde:\n",
    "> $n$ - pocet pozorovani (velkost vzorky)\n",
    "<br> $x_i$ - hodnota i-teho pozorovania (vzorky)"
   ]
  },
  {
   "cell_type": "markdown",
   "id": "b719744a",
   "metadata": {},
   "source": [
    "**B) Median**\n",
    "> hodnota, ktora deli zoradene data na 2 polovice (50% pod a 50% nad)\n",
    "\n",
    "Nech ${X_{(1)}}\\leq{X_{(2)}}\\leq...\\leq{X_{(n)}}$ su data usporiadane vzostupne\n",
    "- ak je $n$ __neparne__, median je stredna hodnota\n",
    "$$\n",
    "\\tilde{x} = X_{\\frac{n+1}{2}}\n",
    "$$\n",
    "- ak je $n$ __parne__, median je priemer dvoch strednych hodnot\n",
    "$$\n",
    "\\tilde{x} = \\frac{1}{2}(X_{(\\frac{n}{2})}+X_{(\\frac{n}{2}+1)})\n",
    "$$"
   ]
  },
  {
   "cell_type": "markdown",
   "id": "011e2ee3",
   "metadata": {},
   "source": [
    "**C) Modus**\n",
    "> hodnota, ktora sa v mnozine vyskytuje najcastejsie\n",
    "\n",
    "$$\n",
    "\\text{mode}(X) = \\arg\\max_{x} f(x)\n",
    "$$\n",
    "\n",
    "Kde:\n",
    "- $f(x)$ je frekvencia hodnoty $x$ (pocet vyskytov hodnoty $x$)\n",
    "- $arg max$ - hodnota $x$, pri ktorej je $f(x)$ najvacsia"
   ]
  },
  {
   "cell_type": "markdown",
   "id": "c19181cc",
   "metadata": {},
   "source": [
    "#### 2) Rozptyl a smerodajna odchylka (miery variability)"
   ]
  },
  {
   "cell_type": "markdown",
   "id": "ab84668a",
   "metadata": {},
   "source": [
    "**A) Vyberovy rozptyl (sample variance)**\n",
    "> meria, ako velmi sa hodnoty lisia od strednej hodnoty\n",
    "\n",
    "$$\n",
    "s^2 = \\frac{1}{n-1}\\sum_{i=1}^n {(x_i-\\bar{x})}^2\n",
    "$$\n",
    "\n",
    "- odcitame priemer $\\bar{x}$ od kazdej hodnoty, aby sme zmerali odchylku\n",
    "- umocnime, aby sme eliminovali zaporne hodnoty\n",
    "- delime $n-1$ (stupne volnosti), pretoze ide o odhad rozptylu populacie z vyberu - Besselova korekcia\n",
    "\n",
    "> ! cim je rozptyl mensi, tym su hodnoty blizsie k priemeru"
   ]
  },
  {
   "cell_type": "markdown",
   "id": "f0f80b82",
   "metadata": {},
   "source": [
    "**B) Vyberova smerodajna odchylka (sample standard deviation)**\n",
    "> smerodajna odchylka je odmocnimou z rozptylu\n",
    "\n",
    "$$\n",
    "s = \\sqrt{s^2}\n",
    "$$\n",
    "\n",
    "- hovori, ze vacsina hodnot lezi v priemere o $\\pm s$ od priemeru "
   ]
  },
  {
   "cell_type": "markdown",
   "id": "e65889f1",
   "metadata": {},
   "source": [
    "**C) Populacny rozptyl a smerodajna odchylka**\n",
    "> ak by sme mali vsetky mozne hodnoty populacie (nie len vzorku), pouzijeme iny vzorec\n",
    "\n",
    "$$\n",
    "\\sigma^2 = \\frac{1}{N}\\sum_{i=1}^N {(x_i-\\mu)}^2\n",
    "$$\n",
    "$$\n",
    "\\sigma = \\sqrt{\\sigma^2}\n",
    "$$\n",
    "\n",
    "Kde:\n",
    "- $N$ - velkost populacie\n",
    "- $\\mu$ - populacny priemer"
   ]
  },
  {
   "cell_type": "markdown",
   "id": "20a03f90",
   "metadata": {},
   "source": [
    "<div class=\"alert alert-block alert-info\">\n",
    "<b>Zaver/Dolezite</b>\n",
    "\n",
    "- Maly rozptyl/smerodajna odchylka → data su koncentrovane okolo priemeru (malo rozptylene)\n",
    "\n",
    "- Velky rozptyl/smerodajna odchylka → data su rozptylene, roznorode\n",
    "</div>"
   ]
  },
  {
   "cell_type": "markdown",
   "id": "cb2cbe03",
   "metadata": {},
   "source": [
    "#### 3) Percentily a kvartily"
   ]
  },
  {
   "cell_type": "markdown",
   "id": "22be606e",
   "metadata": {},
   "source": [
    "**A) Percentil**\n",
    "> percentil $P_p$ (kde $p \\in [0,100]$) je hodnota, pod ktorou lezi $p$% pozorovani\n",
    "\n",
    "$$\n",
    "P_p = \\inf \\{x \\in \\mathbb{R} : F(x) \\geq \\frac{p}{100} \\}\n",
    "$$\n",
    "\n",
    "Kde:\n",
    "- $F(x)$ - empiricka distribucna funkcia"
   ]
  },
  {
   "cell_type": "markdown",
   "id": "de75e650",
   "metadata": {},
   "source": [
    "**B) Kvartily**\n",
    "> Kvartily su specialne percentily:\n",
    "- 1. kvartil (Q1) = 25. percentil\n",
    "- 2. kvartil (Q2) = 50. percentil = median\n",
    "- 3. kvartil (Q3) = 75. percentil"
   ]
  },
  {
   "cell_type": "markdown",
   "id": "21c91d7f",
   "metadata": {},
   "source": [
    "#### 4) Interkvartilovy rozsah (IQR)"
   ]
  },
  {
   "cell_type": "markdown",
   "id": "7318ecf7",
   "metadata": {},
   "source": [
    "Rozdiel medzi 3. a 1. kvartilom, ktory meria rozptyl 50% dat:\n",
    "\n",
    "$$\n",
    "IQR=Q_3-Q_1\n",
    "$$\n",
    "\n",
    "Pouziva sa aj pri detekcii odlahlych hodnot podla pravidla:\n",
    "\n",
    "$outlier \\lt Q_1 - 1.5 \\times IQR$ alebo $outlier \\gt Q_3 + 1.5 \\times IQR$"
   ]
  },
  {
   "cell_type": "markdown",
   "id": "0781d029",
   "metadata": {},
   "source": [
    "#### 5) Z-skore (standardizacia dat)"
   ]
  },
  {
   "cell_type": "markdown",
   "id": "e6f23236",
   "metadata": {},
   "source": [
    "Pre hodnotu $x_i$ z datoveho suboru so strednou hodnotou $\\bar{x}$ a smerodajnou odchylkou $s$ definujeme z-skore:\n",
    "\n",
    "$$\n",
    "z_i = \\frac{x_i - \\bar{x}}{s}\n",
    "$$\n",
    "\n",
    "Z-skore hovori, kolko smerodajnych odchylok je hodnota $x_i$ od priemeru\n",
    "- $z_i = 0$ znamena, ze $x_i$ je rovne priemeru\n",
    "- $z_i = 1.5$ znamena, ze hodnota je 1.5 smerodajnych odchylok nad priemer"
   ]
  },
  {
   "cell_type": "markdown",
   "id": "d8af6dc3",
   "metadata": {},
   "source": [
    "### Priklad"
   ]
  },
  {
   "cell_type": "code",
   "execution_count": null,
   "id": "d37471de",
   "metadata": {},
   "outputs": [
    {
     "name": "stdout",
     "output_type": "stream",
     "text": [
      "Pocet dat: 11\n",
      "Priemerna vyska: 168.72727272727272 cm\n",
      "Median: 168.0 cm\n",
      "Mod-najcastejsie sa vyskytujuca sa vyska: 167 cm\n",
      "Rozptyl: 41.81818181818181\n",
      "Smerodajna odchylka: np f-cia = 6.4666979068286325, delenim z rozptylu = 6.4666979068286325\n",
      "Q1: 166.0\n",
      "Q3: 173.0\n",
      "IQR: 7.0\n"
     ]
    }
   ],
   "source": [
    "import numpy as np\n",
    "from statistics import mode\n",
    "import matplotlib.pyplot as plt\n",
    "import math\n",
    "\n",
    "\n",
    "# dataset vysok ludi\n",
    "data = [165, 170, 172, 160, 168, 175, 180, 158, 167, 167, 174]\n",
    "print(f\"Pocet dat: {len(data)}\")\n",
    "\n",
    "# priemer\n",
    "mean = np.mean(data)\n",
    "print(f\"Priemerna vyska: {mean} cm\")\n",
    "\n",
    "# median\n",
    "median = np.median(data)\n",
    "print(f\"Median: {median} cm\")\n",
    "\n",
    "# mod\n",
    "mod = mode(data)\n",
    "print(f\"Mod-najcastejsie sa vyskytujuca sa vyska: {mod} cm\")\n",
    "\n",
    "# rozptyl (variance)\n",
    "# np.var(data) predvolene používa populačný rozptyl, teda delí počtom N\n",
    "# np.var(data, ddof=1) delí n−1, teda počíta výberový rozptyl,\n",
    "# ktorý je vhodnejší pri práci so vzorkami (čo je bežné v dátovej analytike)\n",
    "# ddof = \\text{delta degrees of freedom} - Označuje koľko jednotiek odrátať od menovateľa\n",
    "# pre výberový rozptyl: ddof = 1\n",
    "# pre populačný rozptyl: ddof = 0 (predvolená hodnota)\n",
    "variance = np.var(data, ddof=1)\n",
    "print(f\"Rozptyl: {variance}\")\n",
    "\n",
    "# smerodajna odchylka\n",
    "# hodnoty dat sa nachadzaju plus/minus od priemeru, cim mensia tym mensi rozptyl dat\n",
    "std_dev = np.std(data, ddof=1)\n",
    "std_dev2 = math.sqrt(variance)\n",
    "print(f\"Smerodajna odchylka: np f-cia = {std_dev}, delenim z rozptylu = {std_dev2}\")\n",
    "\n",
    "# kvartily\n",
    "q1 = np.percentile(data, 25)\n",
    "q3 = np.percentile(data, 75)\n",
    "iqr = q3 - q1\n",
    "print(f\"Q1: {q1}\")\n",
    "print(f\"Q3: {q3}\")\n",
    "print(f\"IQR: {iqr}\")\n"
   ]
  },
  {
   "cell_type": "code",
   "execution_count": null,
   "id": "08da209e",
   "metadata": {},
   "outputs": [
    {
     "data": {
      "image/png": "[encoded data removed]",
      "text/plain": [
       "<Figure size 1000x600 with 1 Axes>"
      ]
     },
     "metadata": {},
     "output_type": "display_data"
    }
   ],
   "source": [
    "# vizualizacia\n",
    "plt.figure(figsize=(10, 6))\n",
    "# bins - urcuje na kolko intervalov sa rozdeli histogram\n",
    "# bins volim:\n",
    "# sturges\tMalé až stredné dáta\n",
    "# fd (Freedman–Diaconis)\tVäčšie a rozmanité dáta\n",
    "# sqrt\tRýchla vizualizácia, odhad\n",
    "# auto\tNevieš, čo použiť – nechaj Matplotlib\n",
    "plt.hist(data, bins=\"sqrt\", alpha=0.5, color=\"lightgreen\", edgecolor=\"black\")\n",
    "plt.axvline(mean, color=\"red\", linestyle=\"--\", label=f\"Priemer {mean:.2f}\")\n",
    "plt.axvline(median, color=\"blue\", linestyle=\"-.\", label=f\"Median: {median}\")\n",
    "plt.axvline(q1, color=\"purple\", linestyle=\":\", label=f\"Q1: {q1}\")\n",
    "plt.axvline(q3, color=\"purple\", linestyle=\":\", label=f\"Q3: {q3}\")\n",
    "\n",
    "plt.title(\"Rozdelenie výšok\")\n",
    "plt.xlabel(\"Výška (cm)\")\n",
    "plt.ylabel(\"Počet osôb\")\n",
    "plt.legend()\n",
    "plt.grid(alpha=0.3)\n",
    "plt.show()"
   ]
  },
  {
   "cell_type": "code",
   "execution_count": null,
   "id": "e4b2009f",
   "metadata": {},
   "outputs": [],
   "source": []
  }
 ],
 "metadata": {
  "kernelspec": {
   "display_name": "base-kernel",
   "language": "python",
   "name": "base-kernel"
  },
  "language_info": {
   "codemirror_mode": {
    "name": "ipython",
    "version": 3
   },
   "file_extension": ".py",
   "mimetype": "text/x-python",
   "name": "python",
   "nbconvert_exporter": "python",
   "pygments_lexer": "ipython3",
   "version": "3.13.5"
  }
 },
 "nbformat": 4,
 "nbformat_minor": 5
}

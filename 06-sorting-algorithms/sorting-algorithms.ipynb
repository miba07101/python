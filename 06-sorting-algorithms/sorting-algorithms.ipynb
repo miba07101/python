{
 "cells": [
  {
   "cell_type": "markdown",
   "metadata": {},
   "source": [
    "# 1) Bubble sort\n",
    "\n",
    "- porovnava 2 susediace prvky\n",
    "- v pripade, ze lavy prvok je vacsi ako pravy, prvky prehodi\n",
    "- takto pri kazdej iteracii sa najvacsi prvok dostane na koniec a tym padom ho v dalsej iteracii nemusime uvazovat (i-1) - preto sa vola \"bubble\" pretoze je to ako stupanie bublin vo vode v jednotlivych vlnach\n",
    "\n",
    "\n",
    "- **vlastnosti**:\n",
    "    - casova zlozitost (time complexity) - O(n2)\n",
    "    - stabilita (stability) - ano\n",
    "    - rychlost - velmi zla"
   ]
  },
  {
   "cell_type": "code",
   "execution_count": null,
   "metadata": {},
   "outputs": [
    {
     "name": "stdout",
     "output_type": "stream",
     "text": [
      "0 vlna [28, 3, 2, 18, 2, 17, 14, 8]\n",
      "0 vlna  0 prehodenie [28, 3, 2, 18, 2, 17, 14, 8]\n",
      "0 vlna  1 prehodenie [3, 28, 2, 18, 2, 17, 14, 8]\n",
      "0 vlna  2 prehodenie [3, 2, 28, 18, 2, 17, 14, 8]\n",
      "0 vlna  3 prehodenie [3, 2, 18, 28, 2, 17, 14, 8]\n",
      "0 vlna  4 prehodenie [3, 2, 18, 2, 28, 17, 14, 8]\n",
      "0 vlna  5 prehodenie [3, 2, 18, 2, 17, 28, 14, 8]\n",
      "0 vlna  6 prehodenie [3, 2, 18, 2, 17, 14, 28, 8]\n",
      "1 vlna [3, 2, 18, 2, 17, 14, 8, 28]\n",
      "1 vlna  0 prehodenie [3, 2, 18, 2, 17, 14, 8, 28]\n",
      "1 vlna  1 prehodenie [2, 3, 18, 2, 17, 14, 8, 28]\n",
      "1 vlna  2 prehodenie [2, 3, 18, 2, 17, 14, 8, 28]\n",
      "1 vlna  3 prehodenie [2, 3, 2, 18, 17, 14, 8, 28]\n",
      "1 vlna  4 prehodenie [2, 3, 2, 17, 18, 14, 8, 28]\n",
      "1 vlna  5 prehodenie [2, 3, 2, 17, 14, 18, 8, 28]\n",
      "2 vlna [2, 3, 2, 17, 14, 8, 18, 28]\n",
      "2 vlna  0 prehodenie [2, 3, 2, 17, 14, 8, 18, 28]\n",
      "2 vlna  1 prehodenie [2, 3, 2, 17, 14, 8, 18, 28]\n",
      "2 vlna  2 prehodenie [2, 2, 3, 17, 14, 8, 18, 28]\n",
      "2 vlna  3 prehodenie [2, 2, 3, 17, 14, 8, 18, 28]\n",
      "2 vlna  4 prehodenie [2, 2, 3, 14, 17, 8, 18, 28]\n",
      "3 vlna [2, 2, 3, 14, 8, 17, 18, 28]\n",
      "3 vlna  0 prehodenie [2, 2, 3, 14, 8, 17, 18, 28]\n",
      "3 vlna  1 prehodenie [2, 2, 3, 14, 8, 17, 18, 28]\n",
      "3 vlna  2 prehodenie [2, 2, 3, 14, 8, 17, 18, 28]\n",
      "3 vlna  3 prehodenie [2, 2, 3, 14, 8, 17, 18, 28]\n",
      "4 vlna [2, 2, 3, 8, 14, 17, 18, 28]\n",
      "4 vlna  0 prehodenie [2, 2, 3, 8, 14, 17, 18, 28]\n",
      "4 vlna  1 prehodenie [2, 2, 3, 8, 14, 17, 18, 28]\n",
      "4 vlna  2 prehodenie [2, 2, 3, 8, 14, 17, 18, 28]\n",
      "4 vlna  2 prehodenie [2, 2, 3, 8, 14, 17, 18, 28]\n"
     ]
    }
   ],
   "source": [
    "# vstupne data\n",
    "unsorted_data = [28, 3, 2, 18, 2, 17, 14, 8]\n",
    "\n",
    "# for cyklus pre jednotlive \"vlny\" v rozsahu pola prvkov\n",
    "for i in range(0, len(unsorted_data)):\n",
    "    print(i, \"vlna\", unsorted_data)\n",
    "    # definovanie premennej ci su uz prvky prehodene\n",
    "    swap = False\n",
    "    # druhy cyklus pre porovnanie 2 susednych prvkov\n",
    "    # -1 je preto aby som mohol dat j+1 prvok\n",
    "    # -i po kazdej vlne je uz jeden prvok na konci pola, takze pri dalsej vlne ho nemusim uvazovat\n",
    "    for j in range(0, len(unsorted_data) - 1 - i):\n",
    "        print(i, \"vlna \", j, \"prehodenie\", unsorted_data)\n",
    "        # podmienka na porovnanie 2 susednych prvkov\n",
    "        if unsorted_data[j] > unsorted_data[j + 1]:\n",
    "            unsorted_data[j], unsorted_data[j + 1] = (\n",
    "                unsorted_data[j + 1],\n",
    "                unsorted_data[j],\n",
    "            )\n",
    "            swap = True\n",
    "    if swap == False:  # if not swapped: - to iste len iny zapis\n",
    "        break\n",
    "\n",
    "print(i, \"vlna \", j, \"prehodenie\", unsorted_data)"
   ]
  },
  {
   "cell_type": "markdown",
   "metadata": {},
   "source": [
    "# 2) Selection sort\n",
    "\n",
    "- v kazdej iteracii vyberie najmensi prvok (minimum) a umiestni ho na zaciatok pola (alebo mozme najst maximum a umiestnit ho na koniec pola)\n",
    "\n",
    "- **vlastnosti**:\n",
    "    - casova zlozitost (time complexity) - O(n2)\n",
    "    - stabilita (stability) - nie\n",
    "    - rychlost - pomaly"
   ]
  },
  {
   "cell_type": "code",
   "execution_count": null,
   "metadata": {},
   "outputs": [
    {
     "name": "stdout",
     "output_type": "stream",
     "text": [
      "4 cyklus 4 selekcia [2, 10, 12, 15, 20]\n"
     ]
    }
   ],
   "source": [
    "# vstupne data\n",
    "# unsorted_data = [4, 20, 8, 14, 2, 17, 19, 2]\n",
    "unsorted_data = [20, 12, 10, 15, 2]\n",
    "\n",
    "# zvolim 1. prvok ako minimum\n",
    "# porovnam ho s druhym, ak je vacsie zvolim 2. prvok ako min a porovnam dalej\n",
    "for i in range(0, len(unsorted_data)):\n",
    "    # priradim min prvku index\n",
    "    min_idx = i\n",
    "    for j in range(i + 1, len(unsorted_data)):\n",
    "        if unsorted_data[min_idx] > unsorted_data[j]:\n",
    "            # ak je porovnavany prvok mensi ako min, tak priradim nove min\n",
    "            min_idx = j\n",
    "    # prehodim stare min s novym\n",
    "    if min_idx is not i:\n",
    "        unsorted_data[i], unsorted_data[min_idx] = (\n",
    "            unsorted_data[min_idx],\n",
    "            unsorted_data[i],\n",
    "        )\n",
    "\n",
    "print(i, \"cyklus\", j, \"selekcia\", unsorted_data)"
   ]
  },
  {
   "cell_type": "markdown",
   "metadata": {},
   "source": [
    "# 3) Insertion sort\n",
    "\n",
    "- umiestni netriedeny prvok na vhodnu poziciu pri kazdej iteracii, cize vidi pole rozdelene na 2 casti: \"hlavicku-zatriedenu cast\" a \"netriedenu cast\". Postupne berie prvky z netriedenej casti a vklada ich medzi prvky v zatriedenej casti.\n",
    "- podobne ako ukladanie kariet v ruke:\n",
    "    - predpokladame, ze 1. karta je zatriedena, takze vezmeme neztriedenu a ak je vacsia ako 1. karta v ruke, tak ju umiesnime napravo a ak nie tak nalavo.\n",
    "- najlepsi medzi jednoduchymi triediacimi algoritmami\n",
    "\n",
    "- **vlastnosti**:\n",
    "    - casova zlozitost (time complexity) - O(n2)\n",
    "    - stabilita (stability) - ano\n",
    "    - rychlost - vysoka na malych poliach\n",
    "\n"
   ]
  },
  {
   "cell_type": "code",
   "execution_count": null,
   "metadata": {},
   "outputs": [
    {
     "name": "stdout",
     "output_type": "stream",
     "text": [
      "key 5\n",
      "[9, 9, 1, 4, 3]\n",
      "[5, 9, 1, 4, 3]\n",
      "key 1\n",
      "[5, 9, 9, 4, 3]\n",
      "[5, 5, 9, 4, 3]\n",
      "[1, 5, 9, 4, 3]\n",
      "key 4\n",
      "[1, 5, 9, 9, 3]\n",
      "[1, 5, 5, 9, 3]\n",
      "[1, 4, 5, 9, 3]\n",
      "key 3\n",
      "[1, 4, 5, 9, 9]\n",
      "[1, 4, 5, 5, 9]\n",
      "[1, 4, 4, 5, 9]\n",
      "[1, 3, 4, 5, 9]\n",
      "[1, 3, 4, 5, 9]\n"
     ]
    }
   ],
   "source": [
    "# vstupne data\n",
    "unsorted_data = [9, 5, 1, 4, 3]\n",
    "\n",
    "for i in range(1, len(unsorted_data)):\n",
    "    # ulozim prvok do \"pamate\"\n",
    "    key = unsorted_data[i]\n",
    "    # nastavim pocitadlo prvkov v neroztriedenej casti pola, cize vzdy o 1 prvok menej\n",
    "    j = i - 1\n",
    "    print(\"key\", key)\n",
    "    # while cyklus pokial je pocitadlo viac, rovne nule a zaroven\n",
    "    # prvok ulozeny v pamati je menej ako vybrany prvok v nezatriedenej casti pola\n",
    "    while j >= 0 and key < unsorted_data[j]:\n",
    "        # nahradi dalsi prvok v poradi vybranym prvkom\n",
    "        unsorted_data[j + 1] = unsorted_data[j]\n",
    "        print(unsorted_data)\n",
    "        # zoberiem dalsi prvok v nezatriedenej casti pola (smerom nadol)\n",
    "        j -= 1\n",
    "    # vlozenie prvku z pamate pred porovnavany prvok z nezatriedenej casti pola\n",
    "    unsorted_data[j + 1] = key\n",
    "    print(unsorted_data)\n",
    "\n",
    "print(unsorted_data)"
   ]
  },
  {
   "cell_type": "markdown",
   "metadata": {},
   "source": [
    "# 4) Merge sort\n",
    "\n",
    "- zalozeny na principe \"rozdeluj a panuj\":\n",
    "    - najprv rosdelime pole na casti mensich poli, riesime teda problem zatriedenia na mensich castiach a potom to \"zlejeme\" dokopy\n",
    "- postup:\n",
    "    - 1) rozdelime pole A[p..r] na sub-polia A[p..q] a A[q+1..r]\n",
    "    - 2) snazime sa o zatriedenie prvkov oboch sub-poli, ak nedosiahneme vysledok, tak tieto sub-polia opat rozdelime na sub-sub-polia a opat sa snazime zatriedit prvky tychto sub-sub-poli\n",
    "    - 3) spojime zatriedene sub-polia do vysledneho zatriedenho pola    \n",
    "    \n",
    "- **vlastnosti**:\n",
    "    - casova zlozitost (time complexity) - O(nlogn)"
   ]
  }
 ],
 "metadata": {
  "kernelspec": {
   "display_name": ".venv",
   "language": "python",
   "name": "python3"
  },
  "language_info": {
   "codemirror_mode": {
    "name": "ipython",
    "version": 3
   },
   "file_extension": ".py",
   "mimetype": "text/x-python",
   "name": "python",
   "nbconvert_exporter": "python",
   "pygments_lexer": "ipython3",
   "version": "3.12.6"
  }
 },
 "nbformat": 4,
 "nbformat_minor": 2
}

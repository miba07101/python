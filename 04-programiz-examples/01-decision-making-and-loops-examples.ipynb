{
 "cells": [
  {
   "cell_type": "markdown",
   "metadata": {},
   "source": [
    "# 1) Python Program to Check if a Number is Positive, Negative or 0"
   ]
  },
  {
   "cell_type": "code",
   "execution_count": 3,
   "metadata": {},
   "outputs": [
    {
     "name": "stdout",
     "output_type": "stream",
     "text": [
      "5.3 number is Positive\n"
     ]
    }
   ],
   "source": [
    "# Enter number\n",
    "user_number = float(input(\"Enter numeber: \"))\n",
    "\n",
    "# chcek if number is positive, negative or 0\n",
    "if user_number < 0:\n",
    "    print(f\"{user_number} number is Negative\")\n",
    "elif user_number > 0:\n",
    "    print(f\"{user_number} number is Positive\")\n",
    "else:\n",
    "    print(f\"{user_number} number is 0\")\n"
   ]
  },
  {
   "cell_type": "markdown",
   "metadata": {},
   "source": [
    "# 2) Python Program to Check if a Number is Odd (neparne) or Even (parne)"
   ]
  },
  {
   "cell_type": "code",
   "execution_count": 4,
   "metadata": {},
   "outputs": [
    {
     "name": "stdout",
     "output_type": "stream",
     "text": [
      "6 number is Even (parne)\n"
     ]
    }
   ],
   "source": [
    "# User enter number\n",
    "user_number = int(input(\"Enter number: \"))\n",
    "\n",
    "# Check if number is Odd or Even\n",
    "if (user_number % 2) == 0:\n",
    "    print(f\"{user_number} number is Even (parne)\")\n",
    "else:\n",
    "    print(f\"{user_number} number is Odd (neparne)\")"
   ]
  },
  {
   "cell_type": "markdown",
   "metadata": {},
   "source": [
    "# 3) Python Program to Check Leap Year (priestupny rok)\n",
    "\n",
    "- kazdy rok delitelny 4 a 400 je priestupny\n",
    "- kazdy rok delitelny 100 nie je priestupny"
   ]
  },
  {
   "cell_type": "code",
   "execution_count": 11,
   "metadata": {},
   "outputs": [
    {
     "name": "stdout",
     "output_type": "stream",
     "text": [
      "2000 is leap year\n"
     ]
    }
   ],
   "source": [
    "# User enter year\n",
    "user_year = int(input(\"Enter year: \"))\n",
    "\n",
    "# check if year is leap year\n",
    "# divided by 100 means century year (ending with 00)\n",
    "# century year divided by 400 is leap year\n",
    "if (user_year % 400 == 0) and (user_year % 100 == 0):\n",
    "    print(f\"{user_year} is leap year\")\n",
    "\n",
    "# not divided by 100 means not a century year\n",
    "# year divided by 4 is a leap year\n",
    "elif (user_year % 4 == 0) and (user_year % 100 != 0):\n",
    "    print(f\"{user_year} is leap year\")\n",
    "\n",
    "else:\n",
    "    print(f\"{user_year} is not leap year\")"
   ]
  },
  {
   "cell_type": "markdown",
   "metadata": {},
   "source": [
    "# 4) Python Program to Find the Largest Among Three Numbers\n",
    "\n",
    "- najst najvacsie z 3 cisel"
   ]
  },
  {
   "cell_type": "code",
   "execution_count": 21,
   "metadata": {},
   "outputs": [
    {
     "name": "stdout",
     "output_type": "stream",
     "text": [
      "14\n",
      "14\n"
     ]
    }
   ],
   "source": [
    "# Numbers\n",
    "num1 = 14\n",
    "num2 = 14\n",
    "num3 = 12\n",
    "\n",
    "# Find the largest\n",
    "\n",
    "# moj zrychleny sposob\n",
    "num_list = [num1, num2, num3]\n",
    "print(max(num_list))\n",
    "\n",
    "# sposob cez if\n",
    "if num1 >= num2 and num1 >= num3:\n",
    "    print(num1)\n",
    "elif num2 >= num1 and num2 >= num3:\n",
    "    print(num2)\n",
    "else:\n",
    "    print(num3)\n",
    "\n"
   ]
  },
  {
   "cell_type": "markdown",
   "metadata": {},
   "source": [
    "# 5) Python Program to Check Prime Number\n",
    "\n",
    "- Prvočíslo je prirodzené číslo, ktoré je väčšie ako 1 a jediný deliteľ ktorého je číslo 1 a ono samo"
   ]
  },
  {
   "cell_type": "code",
   "execution_count": 88,
   "metadata": {},
   "outputs": [
    {
     "name": "stdout",
     "output_type": "stream",
     "text": [
      "999 is not prime number\n",
      "3 times 333 is 999\n",
      "999 is not prime number\n"
     ]
    }
   ],
   "source": [
    "# User number\n",
    "user_number = int(input(\"Enter number: \"))\n",
    "\n",
    "# Check if user number is prime number\n",
    "# using for...else statment\n",
    "if (user_number > 1):\n",
    "    for i in range(2,user_number):\n",
    "        if (user_number % i == 0):\n",
    "            print(user_number, \"is not prime number\")\n",
    "            print(i,\"times\",user_number//i,\"is\",user_number)\n",
    "            break\n",
    "    else:\n",
    "        print(user_number,\"is prime number\")\n",
    "else:\n",
    "    print(user_number,\"is not prime number\")\n",
    "\n",
    "# using \"flag\" variable\n",
    "flag = False\n",
    "if (user_number > 1):\n",
    "    for i in range(2,user_number):\n",
    "        if (user_number % i == 0):\n",
    "            flag = True\n",
    "            break\n",
    "\n",
    "# check if flag is True\n",
    "if flag:\n",
    "    print(user_number,\"is not prime number\")\n",
    "else:\n",
    "    print(user_number,\"is prime number\")\n"
   ]
  },
  {
   "cell_type": "markdown",
   "metadata": {},
   "source": [
    "# 6) Python Program to Print all Prime Numbers in an Interval"
   ]
  },
  {
   "cell_type": "code",
   "execution_count": 95,
   "metadata": {},
   "outputs": [
    {
     "name": "stdout",
     "output_type": "stream",
     "text": [
      "[907, 911, 919, 929, 937, 941, 947, 953, 967, 971, 977, 983, 991, 997]\n",
      "Number 998 is not prime\n"
     ]
    }
   ],
   "source": [
    "numbers_interval = range(900,1001)\n",
    "\n",
    "prime_numbers = []\n",
    "\n",
    "for number in range(lower, upper+1):\n",
    "    \n",
    "    for i in range(2,number):\n",
    "        if (number % i == 0):\n",
    "            break\n",
    "    else:\n",
    "        prime_numbers.append(number)\n",
    "\n",
    "print(prime_numbers)\n",
    "\n",
    "\n",
    "def is_prime_in_range(n, start, end):\n",
    "    if n in range(start,end+1):\n",
    "        for i in range(2,n):\n",
    "            if (n % i == 0):\n",
    "                print(f\"Number {n} is not prime\")\n",
    "                break\n",
    "        else:\n",
    "            print(f\"Number {n} is prime\")\n",
    "    else:\n",
    "        print(\"out of range\")\n",
    "\n",
    "is_prime_in_range(998,900,1000)\n",
    "\n",
    "    "
   ]
  },
  {
   "cell_type": "markdown",
   "metadata": {},
   "source": [
    "# 7) Python Program to Find the Factorial of a Number\n",
    "\n",
    "- faktoriál prirodzeného čísla n jesúčin všetkých prirodzených čísel od n po 1\n",
    "- zapis 5! = 5.4.3.2.1 = 120"
   ]
  },
  {
   "cell_type": "code",
   "execution_count": 108,
   "metadata": {},
   "outputs": [
    {
     "name": "stdout",
     "output_type": "stream",
     "text": [
      "5040\n"
     ]
    }
   ],
   "source": [
    "# enter number\n",
    "number = 7\n",
    "\n",
    "factorial = 1\n",
    "\n",
    "for i in range(1,number+1):\n",
    "    factorial = factorial * i\n",
    "    # factorial *= i\n",
    "\n",
    "print(factorial)"
   ]
  },
  {
   "cell_type": "markdown",
   "metadata": {},
   "source": [
    "## 7.1) Factorial of a Number using Recursion"
   ]
  },
  {
   "cell_type": "code",
   "execution_count": 114,
   "metadata": {},
   "outputs": [
    {
     "name": "stdout",
     "output_type": "stream",
     "text": [
      "5040\n"
     ]
    }
   ],
   "source": [
    "# Python program to find the factorial of a number\n",
    "# using recursion\n",
    "\n",
    "def factorial(x):\n",
    "    \"\"\"This is a recursive function \n",
    "    to find the factorial\"\"\"\n",
    "\n",
    "    if x == 0 or x == 1:\n",
    "        return 1\n",
    "    else:\n",
    "        # recursive call to the function\n",
    "        return x * factorial(x-1)\n",
    "    \n",
    "num = 7\n",
    "result = factorial(num)\n",
    "print(result)"
   ]
  },
  {
   "cell_type": "markdown",
   "metadata": {},
   "source": [
    "# 8) Python Program to Display the multiplication Table"
   ]
  },
  {
   "cell_type": "code",
   "execution_count": 116,
   "metadata": {},
   "outputs": [
    {
     "name": "stdout",
     "output_type": "stream",
     "text": [
      "12 x 1 = 12\n",
      "12 x 2 = 24\n",
      "12 x 3 = 36\n",
      "12 x 4 = 48\n",
      "12 x 5 = 60\n",
      "12 x 6 = 72\n",
      "12 x 7 = 84\n",
      "12 x 8 = 96\n",
      "12 x 9 = 108\n",
      "12 x 10 = 120\n"
     ]
    }
   ],
   "source": [
    "# Multiplication table (from 1 to 10) in Python\n",
    "\n",
    "num = 12\n",
    "\n",
    "# make 12x1=12 , 12x2=24, ... 12x10=120\n",
    "for i in range(1,11):\n",
    "    print(num,\"x\",i,\"=\",num*i)"
   ]
  },
  {
   "cell_type": "markdown",
   "metadata": {},
   "source": [
    "# 9) Program to Print the Fibonacci sequence\n",
    "\n",
    "- Fibonacciho postupnosť je postupnosť čísiel, v ktorej každý ďalší člen F je súčtom dvoch predchádzajúcich členov."
   ]
  },
  {
   "cell_type": "code",
   "execution_count": 138,
   "metadata": {},
   "outputs": [
    {
     "name": "stdout",
     "output_type": "stream",
     "text": [
      "0\n",
      "1\n",
      "1\n",
      "2\n",
      "3\n",
      "5\n",
      "Fibonacci: 0\n",
      "Fibonacci: 1\n",
      "Fibonacci: 1\n",
      "Fibonacci: 2\n",
      "Fibonacci: 3\n",
      "Fibonacci: 5\n"
     ]
    }
   ],
   "source": [
    "n = 6\n",
    "\n",
    "n1, n2 = 0, 1\n",
    "count = 0\n",
    "\n",
    "while count < n:\n",
    "    print(n1)\n",
    "    nth = n1 + n2\n",
    "    # update values\n",
    "    n1 = n2\n",
    "    n2 = nth\n",
    "    count += 1\n",
    "\n",
    "# Recursion - program to display the Fibonacci sequence\n",
    "\n",
    "def fibonacci(n):\n",
    "    if n <= 1:\n",
    "        return n\n",
    "    else:\n",
    "        return(fibonacci(n-1) + fibonacci(n-2))\n",
    "\n",
    "nterms = 6\n",
    "\n",
    "for i in range(nterms):   \n",
    "    print(f\"Fibonacci: {fibonacci(i)}\")\n"
   ]
  },
  {
   "cell_type": "markdown",
   "metadata": {},
   "source": [
    "## 9.1) Write a function to get the Fibonacci sequence less than a given number."
   ]
  },
  {
   "cell_type": "code",
   "execution_count": 141,
   "metadata": {},
   "outputs": [
    {
     "name": "stdout",
     "output_type": "stream",
     "text": [
      "[0, 1, 1, 2, 3, 5, 8, 13, 21]\n"
     ]
    }
   ],
   "source": [
    "def fibonacci_less_than(n):\n",
    "    if n <= 1:\n",
    "        return n\n",
    "    else:\n",
    "        return(fibonacci_less_than(n-2) + fibonacci_less_than(n-1))\n",
    "    \n",
    "    \n",
    "n = 22\n",
    "fibonacci_list = []\n",
    "\n",
    "for i in range(n):\n",
    "    if fibonacci_less_than(i) < n:\n",
    "        fibonacci_list.append(fibonacci_less_than(i))\n",
    "\n",
    "print(fibonacci_list)"
   ]
  },
  {
   "cell_type": "markdown",
   "metadata": {},
   "source": [
    "# 10) Program to Check Armstrong Number\n",
    "\n",
    "- prirodzene cislo sa nazyva Armstrongovo pokial je rovne suctu tretich mocnin svojich cifier, \n",
    "napr. 153 = 1^3 + 5^3 + 3^3\n",
    "\n",
    "- A positive integer is called an Armstrong number of order n if\n",
    "abcd... = a^n + b^n + c^n ...\n",
    "\n",
    "- In case of an Armstrong number of 3 digits, the sum of cubes of each digit is equal to the number itself. For example:\n",
    "153 = 1.1.1 + 5.5.5 + 3.3.3 // 153 is an Armstrong number"
   ]
  }
 ],
 "metadata": {
  "kernelspec": {
   "display_name": ".venv",
   "language": "python",
   "name": "python3"
  },
  "language_info": {
   "codemirror_mode": {
    "name": "ipython",
    "version": 3
   },
   "file_extension": ".py",
   "mimetype": "text/x-python",
   "name": "python",
   "nbconvert_exporter": "python",
   "pygments_lexer": "ipython3",
   "version": "3.12.6"
  }
 },
 "nbformat": 4,
 "nbformat_minor": 2
}

{
 "cells": [
  {
   "cell_type": "markdown",
   "metadata": {},
   "source": [
    "# 1) Program to Merge Mails\n",
    "\n",
    "- When we want to send the same invitations to many people, the body of the mail does not change.\n",
    "- Only the name (and maybe address) needs to be changed."
   ]
  },
  {
   "cell_type": "code",
   "execution_count": null,
   "metadata": {},
   "outputs": [],
   "source": [
    "# Names are in the file names.txt\n",
    "# Body of the mail is in body.txt\n",
    "\n",
    "# open names.txt for reading\n",
    "with open(\"names.txt\", \"r\", encoding=\"utf-8\") as names_file:\n",
    "\n",
    "    # open body.txt for reading\n",
    "    with open(\"body.txt\", \"r\", encoding=\"utf-8\") as body_file:\n",
    "\n",
    "        # read entire coontent of the body\n",
    "        body = body_file.read()\n",
    "\n",
    "        # iterate over names\n",
    "        for name in names_file:\n",
    "            # use strip() to clean up whitespaces \n",
    "            mail = \"Hello\" + name.strip() + \"\\n\" + body\n",
    "\n",
    "            # write the mails to individual files\n",
    "            with open(name.strip()+\".txt\", \"w\", encoding=\"utf-8\") as mail_file:\n",
    "                mail_file.write(mail)"
   ]
  },
  {
   "cell_type": "markdown",
   "metadata": {},
   "source": [
    "# 2) Program to Find the Size (Resolution) of an Image"
   ]
  },
  {
   "cell_type": "code",
   "execution_count": null,
   "metadata": {},
   "outputs": [],
   "source": [
    "def jpeg_res(filename):\n",
    "    \"\"\"This function prints the resolution of the jpeg image file passed into it\"\"\"\n",
    "\n",
    "    # open image for reading in binary mode\n",
    "    with open(filename, \"rb\") as img_file:\n",
    "\n",
    "        # height of image (in 2 bytes) is at 164th position\n",
    "        img_file.seek(163)\n",
    "\n",
    "        # read the 2 bytes\n",
    "        a = img_file.read(2)\n",
    "\n",
    "        # calculate height\n",
    "        height = (a[0] << 8) + a[1]\n",
    "\n",
    "        # next 2 bytes is width\n",
    "        a = img_file.read(2)\n",
    "\n",
    "        # calculate width\n",
    "        width = (a[0] << 8) + a[1]\n",
    "\n",
    "    print(\"The resolution of the image is\", width,\"x\",height)\n",
    "\n",
    "    # run function\n",
    "    jpeg_res(\"img.jpg\")"
   ]
  },
  {
   "cell_type": "markdown",
   "metadata": {},
   "source": [
    "# 3) Program to Find Hash of File\n",
    "\n",
    "- program to find the SHA-1 message digest of a file"
   ]
  },
  {
   "cell_type": "code",
   "execution_count": null,
   "metadata": {},
   "outputs": [],
   "source": [
    "# iporting the haslib module\n",
    "import hashlib\n",
    "\n",
    "def hash_file(filepath):\n",
    "    \"\"\"This function returns tha SHA-1 hash\n",
    "    of the file passed into it\"\"\"\n",
    "\n",
    "    # make hash object\n",
    "    h = hashlib.sha1()\n",
    "\n",
    "    # open file for reading in binary mode\n",
    "    with open(filepath, \"rb\") as file:\n",
    "\n",
    "        # loop till the end of the file\n",
    "        chunk = 0\n",
    "        while chunk != b'':\n",
    "            # read only 1024 bytes at a time\n",
    "            chunk = file.read(1024)\n",
    "            h.update(chunk)\n",
    "\n",
    "    # return the hex representation of digest\n",
    "    return h.hexdigest()\n",
    "\n",
    "# run function, use path of the file\n",
    "message = hash_file(\"track.mp3\")\n",
    "print(message)"
   ]
  },
  {
   "cell_type": "markdown",
   "metadata": {},
   "source": [
    "# 4) Program to Safely Create a Nested Directory"
   ]
  },
  {
   "cell_type": "code",
   "execution_count": null,
   "metadata": {},
   "outputs": [],
   "source": [
    "# Example 1: Using pathlib.Path.mkdir\n",
    "\n",
    "from pathlib import Path\n",
    "Path(\"/root/dirA/dirB\").mkdir(parents=True, exist_ok=True)\n",
    "\n",
    "# Example 2: Using os.makedirs\n",
    "import os\n",
    "\n",
    "os.makedirs(\"/root/dirA/dirB\")\n",
    "\n",
    "# Example 3: Using distutils.dir_util\n",
    "import distutils.dir_util\n",
    "\n",
    "distutils.dir_util.mkpath(\"/root/dirA/dirB\")\n",
    "\n",
    "# Example 4: Raising an exception if directory already exists\n",
    "import os\n",
    "\n",
    "try:\n",
    "    os.makedirs(\"/dirA/dirB\")\n",
    "except FileExistsError:\n",
    "    print(\"File already exists\")"
   ]
  },
  {
   "cell_type": "markdown",
   "metadata": {},
   "source": [
    "# 5) Program to Catch Multiple Exceptions in One Line\n",
    "\n",
    "- Multiple exceptions can be caught using a tuple"
   ]
  },
  {
   "cell_type": "code",
   "execution_count": 2,
   "metadata": {},
   "outputs": [
    {
     "name": "stdout",
     "output_type": "stream",
     "text": [
      "invalid literal for int() with base 10: 'b'\n"
     ]
    }
   ],
   "source": [
    "string = input(\"Enter some characters or string: \")\n",
    "\n",
    "try:\n",
    "    num = int(input(\"Enter some number: \"))\n",
    "    print(string+num)\n",
    "except (TypeError, ValueError) as e:\n",
    "    print(e)"
   ]
  },
  {
   "cell_type": "markdown",
   "metadata": {},
   "source": [
    "# 6) Program to Copy a File\n",
    "\n",
    "- **shutil** module"
   ]
  },
  {
   "cell_type": "code",
   "execution_count": null,
   "metadata": {},
   "outputs": [],
   "source": [
    "from shutil import copyfile\n",
    "copyfile(\"/root/a.txt\", \"/root/b.txt\")"
   ]
  },
  {
   "cell_type": "markdown",
   "metadata": {},
   "source": [
    "# 7) Program Read a File Line by Line Into a List\n",
    "\n",
    "## 7.1) Using readlines()"
   ]
  },
  {
   "cell_type": "code",
   "execution_count": null,
   "metadata": {},
   "outputs": [],
   "source": [
    "# data_file.txt content:\n",
    "# honda 1948\n",
    "# mercedes 1926\n",
    "# ford 1903\n",
    "\n",
    "with open(\"data_file.txt\") as f:\n",
    "    content_list = f.readlines()\n",
    "\n",
    "# print the list\n",
    "print(content_list)\n",
    "\n",
    "# remove new line characters\n",
    "content_list = [x.strip() for x in content_list]\n",
    "print(content_list)"
   ]
  },
  {
   "cell_type": "markdown",
   "metadata": {},
   "source": [
    "## 7.2) Using for loop and list comprehension"
   ]
  },
  {
   "cell_type": "code",
   "execution_count": null,
   "metadata": {},
   "outputs": [],
   "source": [
    "with open(\"file_dat.txt\") as f:\n",
    "    content_list = [line for line in f]\n",
    "\n",
    "print(content_list)\n",
    "\n",
    "# remove new line characters\n",
    "# da sa ako predtym ale iny sposob\n",
    "with open(\"data_file.txt\") as f:\n",
    "    content_list = [line.rstrip() for line in f]\n",
    "\n",
    "print(content_list)\n",
    " "
   ]
  },
  {
   "cell_type": "markdown",
   "metadata": {},
   "source": [
    "# 8) Program to Append to a File"
   ]
  },
  {
   "cell_type": "code",
   "execution_count": null,
   "metadata": {},
   "outputs": [],
   "source": [
    "# Open the file in append 'a' mode, and write to it using write() method. \n",
    "# Inside write() method, a string \"new text\" is passed. \n",
    "with open(\"my_file.txt\", \"a\") as f:\n",
    "   f.write(\"new text\")"
   ]
  },
  {
   "cell_type": "markdown",
   "metadata": {},
   "source": [
    "# 9) Program to Extract Extension From the File Name"
   ]
  },
  {
   "cell_type": "code",
   "execution_count": 9,
   "metadata": {},
   "outputs": [
    {
     "name": "stdout",
     "output_type": "stream",
     "text": [
      "-------- splitext() --------\n",
      "('/path/file', '.ext')\n",
      ".ext\n",
      "\n",
      "-------- pathlib module --------\n",
      ".ext\n"
     ]
    }
   ],
   "source": [
    "# Example 1: Using splitext() method from os module\n",
    "\n",
    "print(\"-------- splitext() --------\")\n",
    "import os\n",
    "# os.path.splitext() gives a tuple with one item as the name of the file\n",
    "# along with the path and the other is the extension of the file.\n",
    "file_details = os.path.splitext(\"/path/file.ext\")\n",
    "print(file_details)\n",
    "print(file_details[1])\n",
    "\n",
    "# Example 2: Using pathlib module\n",
    "print(\"\\n-------- pathlib module --------\")\n",
    "import pathlib\n",
    "print(pathlib.Path('/path/file.ext').suffix)"
   ]
  },
  {
   "cell_type": "markdown",
   "metadata": {},
   "source": [
    "# 10) Program to Get the File Name From the File Path"
   ]
  },
  {
   "cell_type": "code",
   "execution_count": 13,
   "metadata": {},
   "outputs": [
    {
     "name": "stdout",
     "output_type": "stream",
     "text": [
      "-------- os module --------\n",
      "file.ext\n",
      "file\n",
      "\n",
      "-------- path module --------\n",
      "file\n"
     ]
    }
   ],
   "source": [
    "# Example 1: Using os module\n",
    "# basename() gives the name of the last file/folder of the path, whereas \n",
    "# splitext() splits the file name into filename and extension.\n",
    "\n",
    "print(\"-------- os module --------\")\n",
    "import os\n",
    "\n",
    "# file name with extension\n",
    "file_name = os.path.basename(\"/path/file.ext\")\n",
    "print(file_name)\n",
    "\n",
    "# file name without extension\n",
    "print(os.path.splitext(file_name)[0])\n",
    "\n",
    "# Example 2: Using path module\n",
    "print(\"\\n-------- path module --------\")\n",
    "from pathlib import Path\n",
    "print(Path('/path/file.ext').stem)"
   ]
  },
  {
   "cell_type": "markdown",
   "metadata": {},
   "source": [
    "# 11) Program to Get Line Count of a File\n",
    "\n",
    "## 11.1) Using a for loop"
   ]
  },
  {
   "cell_type": "code",
   "execution_count": 22,
   "metadata": {},
   "outputs": [
    {
     "data": {
      "text/plain": [
       "3"
      ]
     },
     "execution_count": 22,
     "metadata": {},
     "output_type": "execute_result"
    }
   ],
   "source": [
    "def file_len(filename):\n",
    "    with open(filename) as f:\n",
    "        # enumerate je funkcia, ktora prida \"pocitadlo\" k iterovatelnemu, napr. listu\n",
    "        # a vrati ho ako objekt (iterator s indexom a hodnotou) \n",
    "        for i, line in enumerate(f):\n",
    "            # pass pretoze inac vypisuje chybu\n",
    "            pass\n",
    "    return i+1\n",
    "            \n",
    "file_len(\"04-my-file.txt\")"
   ]
  },
  {
   "cell_type": "markdown",
   "metadata": {},
   "source": [
    "## 11.2) Using list comprehension"
   ]
  },
  {
   "cell_type": "code",
   "execution_count": 30,
   "metadata": {},
   "outputs": [
    {
     "name": "stdout",
     "output_type": "stream",
     "text": [
      "3\n",
      "3\n"
     ]
    }
   ],
   "source": [
    "def file_len(filename):\n",
    "    num_lines = sum(1 for l in open(filename))\n",
    "    return num_lines\n",
    "\n",
    "print(file_len(\"04-my-file.txt\"))\n",
    "\n",
    "n_lines = sum(1 for l in open(\"04-my-file.txt\"))\n",
    "print(n_lines)"
   ]
  },
  {
   "cell_type": "markdown",
   "metadata": {},
   "source": [
    "# 12) Program to Find All File with .txt Extension Present Inside a Directory"
   ]
  },
  {
   "cell_type": "code",
   "execution_count": null,
   "metadata": {},
   "outputs": [],
   "source": [
    "# Example 1: Using glob\n",
    "# os.chdir(\"my_dir\") sets the current working directory to /my_dir.\n",
    "# Using a for loop, you can search for files with .txt extension using glob().\n",
    "# * denotes all files with a given extension.\n",
    "import glob, os\n",
    "\n",
    "os.chdir(\"my_dir\")\n",
    "\n",
    "for file in glob.glob(\"*.txt\"):\n",
    "    print(file)\n",
    "    \n",
    "# Example 2: Using os\n",
    "# In this example, we use endswith() method to check the .txt extension.\n",
    "# Using a for loop, iterate through each file of directory /my_dir.\n",
    "# Check if the file has extension .txt using endswith().\n",
    "import os\n",
    "\n",
    "for file in os.listdir(\"my_dir\"):\n",
    "    if file.endswith(\".txt\"):\n",
    "        print(file)"
   ]
  },
  {
   "cell_type": "markdown",
   "metadata": {},
   "source": [
    "# 13) Program to Get File Creation and Modification Date"
   ]
  },
  {
   "cell_type": "code",
   "execution_count": null,
   "metadata": {},
   "outputs": [],
   "source": [
    "# Example 1: Using os module\n",
    "# getmtime() gives the last modification time whereas\n",
    "# getctime() gives the last metadata change time in Linux/Unix and path creation time in Windows.\n",
    "import os.path, time\n",
    "\n",
    "file = pathlib.Path('abc.py')\n",
    "print(\"Last modification time: %s\" % time.ctime(os.path.getmtime(file)))\n",
    "print(\"Last metadata change time or path creation time: %s\" % time.ctime(os.path.getctime(file)))\n",
    "\n",
    "# Example 2: Using stat() method\n",
    "import datetime\n",
    "import pathlib\n",
    "\n",
    "fname = pathlib.Path('abc.py')\n",
    "print(\"Last modification time: %s\" % datetime.datetime.fromtimestamp(fname.stat().st_mtime))\n",
    "print(\"Last metadata change time or path creation time: %s\" % datetime.datetime.fromtimestamp(fname.stat().st_ctime))"
   ]
  },
  {
   "cell_type": "markdown",
   "metadata": {},
   "source": [
    "# 14) Program to Get the Full Path of the Current Working Directory"
   ]
  },
  {
   "cell_type": "code",
   "execution_count": 34,
   "metadata": {},
   "outputs": [
    {
     "name": "stdout",
     "output_type": "stream",
     "text": [
      "-------- pathlib module --------\n",
      "c:\\Users\\mech\\github\\python\\04-programiz-examples\n",
      "c:\\Users\\mech\\github\\python\\04-programiz-examples\n",
      "\n",
      "-------- os module --------\n",
      "c:\\Users\\mech\\github\\python\\04-programiz-examples\n",
      "c:\\Users\\mech\\github\\python\\04-programiz-examples\n"
     ]
    }
   ],
   "source": [
    "# Example 1: Using pathlib module\n",
    "\n",
    "import pathlib\n",
    "\n",
    "print(\"-------- pathlib module --------\")\n",
    "# path of the given file\n",
    "print(pathlib.Path(\"04-my-file.txt\").parent.absolute())\n",
    "\n",
    "# current working directory\n",
    "print(pathlib.Path().absolute())\n",
    "\n",
    "# Example 2: Using os module\n",
    "print(\"\\n-------- os module --------\")\n",
    "# path of the given file\n",
    "print(os.path.dirname(os.path.abspath(\"04-my-file.txt\")))\n",
    "\n",
    "# current working directory\n",
    "print(os.path.abspath(os.getcwd()))"
   ]
  },
  {
   "cell_type": "markdown",
   "metadata": {},
   "source": [
    "# 15) Program to Check the File Size"
   ]
  },
  {
   "cell_type": "code",
   "execution_count": 37,
   "metadata": {},
   "outputs": [
    {
     "name": "stdout",
     "output_type": "stream",
     "text": [
      "-------- pathlib module --------\n",
      "36\n",
      "\n",
      "-------- os module --------\n",
      "36\n"
     ]
    }
   ],
   "source": [
    "# Example 1: Using pathlib module\n",
    "import pathlib\n",
    "\n",
    "print(\"-------- pathlib module --------\")\n",
    "file = pathlib.Path(\"04-my-file.txt\")\n",
    "print(file.stat().st_size)\n",
    "\n",
    "# Example 2: Using os module\n",
    "import os\n",
    "\n",
    "print(\"\\n-------- os module --------\")\n",
    "file_stat = os.stat(\"04-my-file.txt\")\n",
    "print(file_stat.st_size)"
   ]
  }
 ],
 "metadata": {
  "kernelspec": {
   "display_name": ".venv",
   "language": "python",
   "name": "python3"
  },
  "language_info": {
   "codemirror_mode": {
    "name": "ipython",
    "version": 3
   },
   "file_extension": ".py",
   "mimetype": "text/x-python",
   "name": "python",
   "nbconvert_exporter": "python",
   "pygments_lexer": "ipython3",
   "version": "3.12.6"
  }
 },
 "nbformat": 4,
 "nbformat_minor": 2
}

{
 "cells": [
  {
   "cell_type": "markdown",
   "metadata": {},
   "source": [
    "# 1) Program to Add Two Matrices\n",
    "\n",
    "- In Python, we can implement a **matrix as a nested list** (list inside a list)"
   ]
  },
  {
   "cell_type": "markdown",
   "metadata": {},
   "source": [
    "## 1.1) Matrix Addition using Nested Loop"
   ]
  },
  {
   "cell_type": "code",
   "execution_count": 11,
   "metadata": {},
   "outputs": [
    {
     "name": "stdout",
     "output_type": "stream",
     "text": [
      "[17, 15, 4]\n",
      "[10, 12, 9]\n",
      "[11, 13, 18]\n"
     ]
    }
   ],
   "source": [
    "# Program to add two matrices using nested loop\n",
    "\n",
    "x = [[12,7,3],\n",
    "     [4,5,6],\n",
    "     [7,8,9]]\n",
    "\n",
    "y = [[5,8,1],\n",
    "     [6,7,3],\n",
    "     [4,5,9]]\n",
    "\n",
    "result = [[0,0,0],\n",
    "          [0,0,0],\n",
    "          [0,0,0]]\n",
    "\n",
    "for i in range(len(x)):\n",
    "    for j in range(len(x[i])):\n",
    "        result[i][j] = x[i][j] + y[i][j]\n",
    "\n",
    "for r in result:\n",
    "    print(r)"
   ]
  },
  {
   "cell_type": "markdown",
   "metadata": {},
   "source": [
    "## 1.2) Matrix Addition using Nested List Comprehension\n",
    "\n",
    "syntax: newlist = [expression for item in iterable if condition == True]"
   ]
  },
  {
   "cell_type": "code",
   "execution_count": 25,
   "metadata": {},
   "outputs": [
    {
     "name": "stdout",
     "output_type": "stream",
     "text": [
      "[17, 15, 4]\n",
      "[10, 12, 9]\n",
      "[11, 13, 18]\n"
     ]
    }
   ],
   "source": [
    "x = [[12,7,3],\n",
    "     [4,5,6],\n",
    "     [7,8,9]]\n",
    "\n",
    "y = [[5,8,1],\n",
    "     [6,7,3],\n",
    "     [4,5,9]]\n",
    "\n",
    "result = [[x[i][j] + y[i][j] for j in range(len(x[i]))] for i in range(len(x))]\n",
    "\n",
    "\n",
    "for r in result:\n",
    "    print(r)"
   ]
  },
  {
   "cell_type": "markdown",
   "metadata": {},
   "source": [
    "# 2) Program to Transpose a Matrix\n",
    "\n",
    "- Transpose of a matrix is the interchanging of rows and columns. It is denoted as X'. The element at ith row and jth column in X will be placed at jth row and ith column in X'. So if X is a 3x2 matrix, X' will be a 2x3 matrix."
   ]
  },
  {
   "cell_type": "markdown",
   "metadata": {},
   "source": [
    "## 2.1) Matrix Transpose using Nested Loop"
   ]
  },
  {
   "cell_type": "code",
   "execution_count": 39,
   "metadata": {},
   "outputs": [
    {
     "name": "stdout",
     "output_type": "stream",
     "text": [
      "[12, 4, 7]\n",
      "[7, 5, 8]\n",
      "[3, 6, 9]\n"
     ]
    }
   ],
   "source": [
    "x = [[12,7,3],\n",
    "     [4,5,6],\n",
    "     [7,8,9]]\n",
    "\n",
    "transpose_matrix = [[0,0,0,],\n",
    "                   [0,0,0],\n",
    "                   [0,0,0]]\n",
    "\n",
    "for i in range(len(x)):\n",
    "    for j in range(len(x[i])):\n",
    "        transpose_matrix[j][i] = x[i][j]\n",
    "\n",
    "for r in transpose_matrix:    \n",
    "    print(r)"
   ]
  },
  {
   "cell_type": "markdown",
   "metadata": {},
   "source": [
    "## 2.2) Matrix Transpose using Nested List Comprehension"
   ]
  },
  {
   "cell_type": "code",
   "execution_count": 40,
   "metadata": {},
   "outputs": [
    {
     "name": "stdout",
     "output_type": "stream",
     "text": [
      "[12, 7, 3]\n",
      "[4, 5, 6]\n",
      "[7, 8, 9]\n"
     ]
    }
   ],
   "source": [
    "x = [[12,7,3],\n",
    "     [4,5,6],\n",
    "     [7,8,9]]\n",
    "\n",
    "transpose_matrix = [[x[i][j] for j in range(len(x[i]))] for i in range(len(x))]\n",
    "\n",
    "for r in transpose_matrix:\n",
    "    print(r)"
   ]
  },
  {
   "cell_type": "markdown",
   "metadata": {},
   "source": [
    "# 3) Program to Multiply Two Matrices\n",
    "\n",
    "- Multiplication of two matrices X and Y is defined only if the number of columns in X is equal to the number of rows Y."
   ]
  },
  {
   "cell_type": "markdown",
   "metadata": {},
   "source": [
    "## 3.1) Matrix Multiplication using Nested Loop"
   ]
  },
  {
   "cell_type": "code",
   "execution_count": 61,
   "metadata": {},
   "outputs": [
    {
     "name": "stdout",
     "output_type": "stream",
     "text": [
      "[114, 160, 60, 27]\n",
      "[74, 97, 73, 14]\n",
      "[119, 157, 112, 23]\n"
     ]
    }
   ],
   "source": [
    "# 3x3 matrix\n",
    "x = [[12,7,3],\n",
    "     [4,5,6],\n",
    "     [7,8,9]]\n",
    "\n",
    "# 3x4 matrix\n",
    "y = [[5,8,1,2],\n",
    "     [6,7,3,0],\n",
    "     [4,5,9,1]]\n",
    "\n",
    "# result is 3x4 matrix\n",
    "result = [[0,0,0,0],\n",
    "          [0,0,0,0],\n",
    "          [0,0,0,0]]\n",
    "\n",
    "# iterate through rows of X\n",
    "for i in range(len(x)):\n",
    "    # iterate through columns of Y\n",
    "    for j in range(len(y[0])):\n",
    "        # iterate through rows of Y\n",
    "        for k in range(len(y)):\n",
    "            result[i][j] += x[i][k] * y[k][j]\n",
    "\n",
    "for r in result:\n",
    "    print(r)\n"
   ]
  },
  {
   "cell_type": "markdown",
   "metadata": {},
   "source": [
    "## 3.2) Matrix Multiplication Using Nested List Comprehension\n",
    "\n",
    "- using **zip()** function and **unpacking argument list**"
   ]
  },
  {
   "cell_type": "code",
   "execution_count": 63,
   "metadata": {},
   "outputs": [
    {
     "name": "stdout",
     "output_type": "stream",
     "text": [
      "[114, 160, 60, 27]\n",
      "[74, 97, 73, 14]\n",
      "[119, 157, 112, 23]\n"
     ]
    }
   ],
   "source": [
    "# 3x3 matrix\n",
    "x = [[12,7,3],\n",
    "     [4,5,6],\n",
    "     [7,8,9]]\n",
    "\n",
    "# 3x4 matrix\n",
    "y = [[5,8,1,2],\n",
    "     [6,7,3,0],\n",
    "     [4,5,9,1]]\n",
    "\n",
    "# PROGRAMIZ\n",
    "# using zip() function and unpacking argument list\n",
    "result = [[sum(a*b for a,b in zip(X_row,Y_col)) for Y_col in zip(*Y)] for X_row in X]\n",
    "\n",
    "for r in result:\n",
    "   print(r)"
   ]
  },
  {
   "cell_type": "markdown",
   "metadata": {},
   "source": [
    "# 4) Program to Check Whether a String is Palindrome or Not\n",
    "\n",
    "- A palindrome is a string that is the same read forward or backward.\n",
    "- example: dad, aibohphobia"
   ]
  },
  {
   "cell_type": "code",
   "execution_count": 75,
   "metadata": {},
   "outputs": [
    {
     "name": "stdout",
     "output_type": "stream",
     "text": [
      "aibohphobia ïs palindrome\n",
      "\n",
      "POGRAMIZ\n",
      "--------------------------------------\n",
      "aibohphobia  - the string is a palindrome.\n"
     ]
    }
   ],
   "source": [
    "my_str = 'aIbohPhoBiA'\n",
    "\n",
    "# make case lower\n",
    "my_str_lw = my_str.lower()\n",
    "\n",
    "# using if statment and string slicing\n",
    "if my_str_lw[:] == my_str_lw[::-1]:\n",
    "    print(my_str_lw, \"ïs palindrome\")\n",
    "else:\n",
    "    print(f\"{my_str_lw} is not palindrome\")\n",
    "\n",
    "# PROGRAMIZ\n",
    "print(\"\"\"\\nPOGRAMIZ\n",
    "--------------------------------------\"\"\")\n",
    "# make it suitable for caseless comparison\n",
    "my_str = my_str.casefold()\n",
    "\n",
    "# reverse the string\n",
    "rev_str = reversed(my_str)\n",
    "\n",
    "# check if the string is equal to its reverse\n",
    "if list(my_str) == list(rev_str):\n",
    "   print(my_str,\" - the string is a palindrome.\")\n",
    "else:\n",
    "   print(my_str,\"- the string is not a palindrome.\")\n",
    "\n"
   ]
  },
  {
   "cell_type": "markdown",
   "metadata": {},
   "source": [
    "# 5) Program to Remove Punctuations From a String"
   ]
  },
  {
   "cell_type": "code",
   "execution_count": 85,
   "metadata": {},
   "outputs": [
    {
     "name": "stdout",
     "output_type": "stream",
     "text": [
      "Hello he said and went\n"
     ]
    }
   ],
   "source": [
    "# define punctuation\n",
    "punctuations = '''!()-[]{};:'\",<>./?@#$%^&*_~'''\n",
    "\n",
    "my_str = \"Hello!!!, he said ---and went.\"\n",
    "\n",
    "# make empty string for add characters\n",
    "no_punc_sentence = \"\"\n",
    "\n",
    "# break sentence to characters\n",
    "for char in my_str:\n",
    "    # check if char not in punctuation string\n",
    "    if char not in punctuations:\n",
    "        # add each non punc char to string\n",
    "        no_punc_sentence += char\n",
    "\n",
    "print(no_punc_sentence)"
   ]
  },
  {
   "cell_type": "markdown",
   "metadata": {},
   "source": [
    "# 6) Program to Sort Words in Alphabetic Order"
   ]
  },
  {
   "cell_type": "code",
   "execution_count": 94,
   "metadata": {},
   "outputs": [
    {
     "name": "stdout",
     "output_type": "stream",
     "text": [
      "an cased example hello is letters this with "
     ]
    }
   ],
   "source": [
    "my_str = \"Hello this Is an Example With cased letters\"\n",
    "\n",
    "# break sentence into list of words - use split() method\n",
    "words = my_str.split()\n",
    "\n",
    "# make each word case non intensive\n",
    "words = [word.lower() for word in words]\n",
    "\n",
    "#!!! len taka vychytavka (nahradi predchadajuze riadky):\n",
    "# words = my_str.lower().split()\n",
    "\n",
    "# sort words\n",
    "words.sort()\n",
    "\n",
    "#display sorted words\n",
    "for word in words:\n",
    "    print(word,end=\" \")\n"
   ]
  },
  {
   "cell_type": "markdown",
   "metadata": {},
   "source": [
    "# 7) Program to Illustrate Different Set Operations\n",
    "\n",
    "- datatype called **set** whose elements must be unique.\n",
    "- it can be used to perform different set operations like: **union, intersection, difference and symmetric difference**"
   ]
  },
  {
   "cell_type": "code",
   "execution_count": 101,
   "metadata": {},
   "outputs": [
    {
     "name": "stdout",
     "output_type": "stream",
     "text": [
      "union A and B: {0, 1, 2, 3, 4, 5, 6, 8}\n",
      "intersection A and B is: {2, 4}\n",
      "difference A and B is: {0, 8, 6}\n",
      "symmetric difference A and B is: {0, 1, 3, 5, 6, 8}\n"
     ]
    }
   ],
   "source": [
    "# define three sets\n",
    "a = {0, 2, 4, 6, 8}\n",
    "b = {1, 2, 3, 4, 5}\n",
    "\n",
    "# set union\n",
    "print(\"union A and B:\", a | b)\n",
    "\n",
    "# set intersection\n",
    "print(\"intersection A and B is:\", a & b)\n",
    "\n",
    "# set difference\n",
    "print(\"difference A and B is:\", a - b)\n",
    "\n",
    "# set symmetric difference\n",
    "print(\"symmetric difference A and B is:\", a ^ b)"
   ]
  },
  {
   "cell_type": "markdown",
   "metadata": {},
   "source": [
    "# 8) Program to Count the Number of Each Vowel (samohlaska)"
   ]
  },
  {
   "cell_type": "code",
   "execution_count": 104,
   "metadata": {},
   "outputs": [
    {
     "name": "stdout",
     "output_type": "stream",
     "text": [
      "No. of vowels in string is: 18\n"
     ]
    }
   ],
   "source": [
    "# string of vowels\n",
    "vowels = 'aeiou'\n",
    "\n",
    "ip_str = 'Hello, have you tried our tutorial section yet?'\n",
    "\n",
    "# count of vowels\n",
    "count_vowels = 0\n",
    "\n",
    "for char in ip_str.lower():\n",
    "    if char in vowels:\n",
    "        count_vowels += 1\n",
    "\n",
    "print(\"No. of vowels in string is:\",count_vowels)\n"
   ]
  },
  {
   "cell_type": "markdown",
   "metadata": {},
   "source": [
    "## 8.1) Using Dictionary"
   ]
  },
  {
   "cell_type": "code",
   "execution_count": 108,
   "metadata": {},
   "outputs": [
    {
     "name": "stdout",
     "output_type": "stream",
     "text": [
      "{'a': 2, 'e': 5, 'i': 3, 'o': 5, 'u': 3}\n"
     ]
    }
   ],
   "source": [
    "# string of vowels\n",
    "vowels = 'aeiou'\n",
    "\n",
    "ip_str = 'Hello, have you tried our tutorial section yet?'\n",
    "\n",
    "# create dict from keys-vowels and values of 0\n",
    "dict = dict.fromkeys(vowels,0)\n",
    "\n",
    "for char in ip_str.lower():\n",
    "    if char in vowels:\n",
    "        dict[char] += 1\n",
    "\n",
    "print(dict)\n"
   ]
  },
  {
   "cell_type": "markdown",
   "metadata": {},
   "source": [
    "## 8.2) Using a list and a dictionary comprehension"
   ]
  },
  {
   "cell_type": "code",
   "execution_count": 111,
   "metadata": {},
   "outputs": [
    {
     "name": "stdout",
     "output_type": "stream",
     "text": [
      "{'a': 2, 'e': 5, 'i': 3, 'o': 5, 'u': 3}\n"
     ]
    }
   ],
   "source": [
    "# string of vowels\n",
    "vowels = 'aeiou'\n",
    "\n",
    "ip_str = 'Hello, have you tried our tutorial section yet?'\n",
    "\n",
    "# we have nested a list comprehension inside a dictionary comprehension\n",
    "# to count the vowels in a single line\n",
    "count = {x:sum([1 for char in ip_str.lower() if char == x]) for x in vowels}\n",
    "\n",
    "print(count)"
   ]
  },
  {
   "cell_type": "markdown",
   "metadata": {},
   "source": [
    "# 9) Program to Merge Two Dictionaries"
   ]
  },
  {
   "cell_type": "code",
   "execution_count": 119,
   "metadata": {},
   "outputs": [
    {
     "name": "stdout",
     "output_type": "stream",
     "text": [
      "{1: 'a', 2: 'c', 4: 'd'}\n",
      "{1: 'a', 2: 'c', 4: 'd'}\n",
      "{1: 'a', 2: 'c', 4: 'd'}\n"
     ]
    }
   ],
   "source": [
    "dict_1 = {1: 'a', 2: 'b'}\n",
    "dict_2 = {2: 'c', 4: 'd'}\n",
    "\n",
    "# Using the | Operator\n",
    "# Note: If there are two keys with the same name,\n",
    "# the merged dictionary contains the value of the latter key.\n",
    "print(dict_1 | dict_2)\n",
    "\n",
    "# Using the ** Operator\n",
    "# we have used ** to unpack dictionaries dict_1 and dict_2. \n",
    "# Then, the dictionaries are merged by placing them inside {}\n",
    "print({**dict_1, **dict_2})\n",
    "\n",
    "# Using copy() and update()\n",
    "dict_3 = dict_1.copy()\n",
    "dict_3.update(dict_2)\n",
    "\n",
    "print(dict_3)"
   ]
  },
  {
   "cell_type": "markdown",
   "metadata": {},
   "source": [
    "# 10) Program to Access Index of a List Using for Loop"
   ]
  },
  {
   "cell_type": "code",
   "execution_count": 138,
   "metadata": {},
   "outputs": [
    {
     "name": "stdout",
     "output_type": "stream",
     "text": [
      "---- enumerate ----\n",
      "0 21\n",
      "1 44\n",
      "2 35\n",
      "3 11\n",
      "---- enumerate non zero ----\n",
      "1 21\n",
      "2 44\n",
      "3 35\n",
      "4 11\n",
      "---- without using enumerate() ----\n",
      "0 21\n",
      "1 44\n",
      "2 35\n",
      "3 11\n"
     ]
    }
   ],
   "source": [
    "my_list = [21, 44, 35, 11]\n",
    "\n",
    "# Using enumerate\n",
    "# Using enumerate(), we can print both the index and the values\n",
    "print(\"---- enumerate ----\")\n",
    "for index, value in enumerate(my_list):\n",
    "    print(index, value)\n",
    "\n",
    "# Start the indexing with non zero value\n",
    "print(\"---- enumerate non zero ----\")\n",
    "for index, value in enumerate(my_list, start=1):\n",
    "    print(index,value)\n",
    "\n",
    "# Without using enumerate()\n",
    "print(\"---- without using enumerate() ----\")\n",
    "for index in range(len(my_list)):\n",
    "    value = my_list[index]\n",
    "    print(index,value)\n"
   ]
  },
  {
   "cell_type": "markdown",
   "metadata": {},
   "source": [
    "# 11) Program to Flatten a Nested List"
   ]
  },
  {
   "cell_type": "code",
   "execution_count": 167,
   "metadata": {},
   "outputs": [
    {
     "name": "stdout",
     "output_type": "stream",
     "text": [
      "---- using Nested for Loops ----\n",
      "[1, 2, 3, 4, 5, 6, 7]\n",
      "\n",
      "---- using List Comprehension ----\n",
      "[1, 2, 3, 4, 5, 6, 7]\n",
      "\n",
      "---- using sum() ----\n",
      "[1, 2, 3, 4, 5, 6, 7]\n"
     ]
    }
   ],
   "source": [
    "my_list = [[1], [2, 3], [4, 5, 6, 7]]\n",
    "\n",
    "# Using Nested for Loops (non pythonic way)\n",
    "print(\"---- using Nested for Loops ----\")\n",
    "\n",
    "flat_list = []\n",
    "for sublist in my_list:\n",
    "    for num in sublist:\n",
    "        flat_list.append(num)\n",
    "\n",
    "print(flat_list)\n",
    "\n",
    "# Using List Comprehension\n",
    "print(\"\\n---- using List Comprehension ----\")\n",
    "flat_list = [ num for sublist in my_list for num in sublist]\n",
    "print(flat_list)\n",
    "\n",
    "# Using sum()\n",
    "print(\"\\n---- using sum() ----\")\n",
    "flat_list = sum(my_list, [])\n",
    "print(flat_list)\n"
   ]
  }
 ],
 "metadata": {
  "kernelspec": {
   "display_name": ".venv",
   "language": "python",
   "name": "python3"
  },
  "language_info": {
   "codemirror_mode": {
    "name": "ipython",
    "version": 3
   },
   "file_extension": ".py",
   "mimetype": "text/x-python",
   "name": "python",
   "nbconvert_exporter": "python",
   "pygments_lexer": "ipython3",
   "version": "3.12.6"
  }
 },
 "nbformat": 4,
 "nbformat_minor": 2
}

{
 "cells": [
  {
   "cell_type": "markdown",
   "metadata": {},
   "source": [
    "# 1) Python Program to Print Hello world!"
   ]
  },
  {
   "cell_type": "code",
   "execution_count": 1,
   "metadata": {},
   "outputs": [
    {
     "name": "stdout",
     "output_type": "stream",
     "text": [
      "Hello World\n"
     ]
    }
   ],
   "source": [
    "# This program prints Hello, world!\n",
    "print(\"Hello World\")"
   ]
  },
  {
   "cell_type": "markdown",
   "metadata": {},
   "source": [
    "# 2) Python Program to Add Two Numbers"
   ]
  },
  {
   "cell_type": "code",
   "execution_count": 3,
   "metadata": {},
   "outputs": [
    {
     "name": "stdout",
     "output_type": "stream",
     "text": [
      "The sum of 1.5 and 6.3 is 7.8\n",
      "The sum of 1.5 and 6.3 is 7.8\n"
     ]
    }
   ],
   "source": [
    "# This program adds two numbers\n",
    "num1 = 1.5\n",
    "num2 = 6.3\n",
    "\n",
    "# add 2 numbers\n",
    "sum = num1 + num2\n",
    "\n",
    "# display the sum\n",
    "# format() method\n",
    "print(\"The sum of {0} and {1} is {2}\".format(num1, num2, sum))\n",
    "# f-string\n",
    "print(f\"The sum of {num1} and {num2} is {sum}\")"
   ]
  },
  {
   "cell_type": "markdown",
   "metadata": {},
   "source": [
    "# 3) Python Program to Find the Square Root"
   ]
  },
  {
   "cell_type": "code",
   "execution_count": 7,
   "metadata": {},
   "outputs": [
    {
     "name": "stdout",
     "output_type": "stream",
     "text": [
      "The square root of 8.000 is 2.828\n",
      "The square root of 8.000 is 2.828\n"
     ]
    }
   ],
   "source": [
    "# Python Program to calculate the square root\n",
    "\n",
    "# Note: change this value for a different result\n",
    "num = 8\n",
    "\n",
    "num_sqrt = num ** 0.5\n",
    "print('The square root of %0.3f is %0.3f'%(num ,num_sqrt))\n",
    "#f-string\n",
    "print(f\"The square root of {num:.3f} is {num_sqrt:.3f}\")"
   ]
  },
  {
   "cell_type": "markdown",
   "metadata": {},
   "source": [
    "# 4) Python Program to Calculate the Area of a Triangle"
   ]
  },
  {
   "cell_type": "code",
   "execution_count": 16,
   "metadata": {},
   "outputs": [
    {
     "name": "stdout",
     "output_type": "stream",
     "text": [
      "The area of triangle is 14.697 m2\n"
     ]
    }
   ],
   "source": [
    "from math import sqrt\n",
    "\n",
    "# inputs from user\n",
    "a = float(input(\"Please enter the value of side 'a' [m]: \"))\n",
    "b  = float(input(\"Please enter the value of side 'b' [m]: \"))\n",
    "c = float(input(\"Please enter the value of side 'c' [m]: \"))\n",
    "\n",
    "# semiperimeter of triangle (poloobvod)\n",
    "s = (a + b + c) / 2\n",
    "\n",
    "# area of triangle (Heron equation)\n",
    "area_triangle = sqrt(s*(s - a)*(s - b)*(s - c))\n",
    "\n",
    "# display\n",
    "print(f\"The area of triangle is {area_triangle:.3f} m2\")"
   ]
  },
  {
   "cell_type": "markdown",
   "metadata": {},
   "source": [
    "# 5) Python Program to Solve Quadratic Equation"
   ]
  },
  {
   "cell_type": "code",
   "execution_count": 18,
   "metadata": {},
   "outputs": [
    {
     "name": "stdout",
     "output_type": "stream",
     "text": [
      "The solutions are: (-2+0j) and (-3+0j)\n"
     ]
    }
   ],
   "source": [
    "# The standard form of a quadratic equation is:\n",
    "# ax2 + bx + c = 0, where\n",
    "# a, b and c are real numbers and\n",
    "# a ≠ 0\n",
    "\n",
    "# The solutions of this quadratic equation is given by:\n",
    "# (-b ± (b ** 2 - 4 * a * c) ** 0.5) / (2 * a)\n",
    "\n",
    "# import complex math module\n",
    "import cmath\n",
    "\n",
    "a = float(input(\"Enter 'a': \"))\n",
    "b = float(input(\"Enter 'b': \"))\n",
    "c = float(input(\"Enter 'c': \"))\n",
    "\n",
    "# calculate the discriminant\n",
    "d = (b**2) - (4*a*c)\n",
    "\n",
    "# find two solutions\n",
    "sol1 = (-b + cmath.sqrt(d)) / (2*a)\n",
    "sol2 = (-b - cmath.sqrt(d)) / (2*a)\n",
    "\n",
    "# display\n",
    "print(f\"The solutions are: {sol1} and {sol2}\")\n",
    "\n"
   ]
  },
  {
   "cell_type": "markdown",
   "metadata": {},
   "source": [
    "## 5.1) Write a function to solve a quadratic equation."
   ]
  },
  {
   "cell_type": "code",
   "execution_count": 25,
   "metadata": {},
   "outputs": [
    {
     "name": "stdout",
     "output_type": "stream",
     "text": [
      "The solutions are: (-2+0j) and (-3+0j)\n"
     ]
    }
   ],
   "source": [
    "# import complex math module\n",
    "import cmath\n",
    "\n",
    "a = float(input(\"Enter 'a': \"))\n",
    "b = float(input(\"Enter 'b': \"))\n",
    "c = float(input(\"Enter 'c': \"))\n",
    "\n",
    "def solve_quadratic(a,b,c):\n",
    "    d = (b**2) - (4*a*c)\n",
    "    sol1 = (-b + cmath.sqrt(d)) / (2*a)\n",
    "    sol2 = (-b - cmath.sqrt(d)) / (2*a)\n",
    "    return sol1, sol2\n",
    "\n",
    "print(f\"The solutions are: {solve_quadratic(a,b,c)[0]} and {solve_quadratic(a,b,c)[1]}\")"
   ]
  },
  {
   "cell_type": "markdown",
   "metadata": {},
   "source": [
    "# 6) Python Program to Swap Two Variables"
   ]
  },
  {
   "cell_type": "code",
   "execution_count": 20,
   "metadata": {},
   "outputs": [
    {
     "name": "stdout",
     "output_type": "stream",
     "text": [
      "The original x value = 5 and original y value = 10\n",
      "The x value = 10 and y value = 5\n"
     ]
    }
   ],
   "source": [
    "# inputs\n",
    "x = 5\n",
    "y = 10\n",
    "print(f\"The original x value = {x} and original y value = {y}\")\n",
    "\n",
    "# !create a temporary variable to swap values\n",
    "temp = x\n",
    "x = y\n",
    "y = temp\n",
    "\n",
    "# display\n",
    "print(f\"The x value = {x} and y value = {y}\")\n"
   ]
  },
  {
   "cell_type": "markdown",
   "metadata": {},
   "source": [
    "## 6.1) Without using temporary variable"
   ]
  },
  {
   "cell_type": "code",
   "execution_count": 21,
   "metadata": {},
   "outputs": [
    {
     "name": "stdout",
     "output_type": "stream",
     "text": [
      "x = 10\n",
      "y = 5\n"
     ]
    }
   ],
   "source": [
    "x = 5\n",
    "y = 10\n",
    "\n",
    "x, y = y, x\n",
    "print(\"x =\", x)\n",
    "print(\"y =\", y)"
   ]
  }
 ],
 "metadata": {
  "kernelspec": {
   "display_name": ".venv",
   "language": "python",
   "name": "python3"
  },
  "language_info": {
   "codemirror_mode": {
    "name": "ipython",
    "version": 3
   },
   "file_extension": ".py",
   "mimetype": "text/x-python",
   "name": "python",
   "nbconvert_exporter": "python",
   "pygments_lexer": "ipython3",
   "version": "3.12.6"
  }
 },
 "nbformat": 4,
 "nbformat_minor": 2
}

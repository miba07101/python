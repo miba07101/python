{
 "cells": [
  {
   "cell_type": "markdown",
   "metadata": {},
   "source": [
    "# 1) Linear search\n",
    "\n",
    "- hladame prvok od zaciatku pola az po jeho koniec pokial dany prvok nenajdeme"
   ]
  },
  {
   "cell_type": "code",
   "execution_count": null,
   "metadata": {},
   "outputs": [
    {
     "name": "stdout",
     "output_type": "stream",
     "text": [
      "Number not exist in array\n"
     ]
    }
   ],
   "source": [
    "# pomocou while\n",
    "array = [2, 4, 0, 1, 9]\n",
    "\n",
    "\n",
    "def linear_search(array, number):\n",
    "    i = 0\n",
    "    while i < len(array):\n",
    "        if array[i] == number:\n",
    "            return i\n",
    "        else:\n",
    "            i += 1\n",
    "    return -1\n",
    "\n",
    "\n",
    "i = linear_search(array, 8)\n",
    "if i != -1:\n",
    "    print(f\"Searching number {array[i]} is at i = {i} position\")\n",
    "else:\n",
    "    print(\"Number not exist in array\")"
   ]
  },
  {
   "cell_type": "code",
   "execution_count": null,
   "metadata": {},
   "outputs": [
    {
     "name": "stdout",
     "output_type": "stream",
     "text": [
      "Searching number 9 is at i = 4 position\n"
     ]
    }
   ],
   "source": [
    "# pomocou for\n",
    "array = [2, 4, 0, 1, 9]\n",
    "\n",
    "\n",
    "def linear_search(array, number):\n",
    "    for i in range(0, len(array)):\n",
    "        if array[i] == number:\n",
    "            return i\n",
    "    return -1\n",
    "\n",
    "\n",
    "i = linear_search(array, 9)\n",
    "if i != -1:\n",
    "    print(f\"Searching number {array[i]} is at i = {i} position\")\n",
    "else:\n",
    "    print(\"Number not exist in array\")"
   ]
  },
  {
   "cell_type": "markdown",
   "metadata": {},
   "source": [
    "# 2) Binary search\n",
    "\n",
    "- hladanie pozicie prvku v **zatriedenom** poli\n",
    "- !Important: ak pole nie je zatriedene musime ho najprv zatriedit\n",
    "- prvok hladame vzdy v strede casti pola\n",
    "- 2 sposoby implemntacie:\n",
    "    - iterativna metoda\n",
    "    - rekurzia"
   ]
  },
  {
   "cell_type": "code",
   "execution_count": null,
   "metadata": {},
   "outputs": [
    {
     "name": "stdout",
     "output_type": "stream",
     "text": [
      "4 is in array at index 1\n"
     ]
    }
   ],
   "source": [
    "# iterativna metoda\n",
    "array = [3, 4, 5, 6, 7, 8, 9]\n",
    "number = 4\n",
    "\n",
    "low = 0\n",
    "high = len(array) - 1\n",
    "\n",
    "while high >= low:\n",
    "    mid = low + (high - low) // 2\n",
    "    if array[mid] == number:\n",
    "        print(number, \"is in array at index\", mid)\n",
    "        break\n",
    "    elif number > array[mid]:\n",
    "        low = mid + 1\n",
    "    else:\n",
    "        high = mid - 1\n",
    "\n",
    "if number != array[mid]:\n",
    "    print(number, \"is not in array\")"
   ]
  },
  {
   "cell_type": "code",
   "execution_count": null,
   "metadata": {},
   "outputs": [
    {
     "name": "stdout",
     "output_type": "stream",
     "text": [
      "Number 7 found in array at position 4\n"
     ]
    }
   ],
   "source": [
    "# rekurzia\n",
    "array = [3, 4, 5, 6, 7, 8, 9]\n",
    "\n",
    "\n",
    "def binary_search(array, number, low, high):\n",
    "\n",
    "    if high >= low:\n",
    "\n",
    "        # urcim stred pola\n",
    "        # mid = low + (high - low) // 2\n",
    "        mid = low + (high - low) // 2\n",
    "\n",
    "        # porovnam hladane cislo s hodnotou stredu pola\n",
    "        if number == array[mid]:\n",
    "            return mid\n",
    "\n",
    "        # ak je hladane cislo vacsie ako stred pola hladam v pravej casti pola\n",
    "        elif number > array[mid]:\n",
    "            # rekurzia funkcie pre pravu cast pola\n",
    "            return binary_search(array, number, mid + 1, high)\n",
    "        else:\n",
    "            # rekurzia funkcie pre lavu cast pola\n",
    "            return binary_search(array, number, low, mid - 1)\n",
    "\n",
    "    else:\n",
    "        return -1\n",
    "\n",
    "\n",
    "size = len(array) - 1\n",
    "number = 7\n",
    "result = binary_search(array, number, 0, size)\n",
    "\n",
    "if result != -1:\n",
    "    print(f\"Number {number} found in array at position {result}\")\n",
    "else:\n",
    "    print(f\"Number {number} not in array\")"
   ]
  }
 ],
 "metadata": {
  "kernelspec": {
   "display_name": ".venv",
   "language": "python",
   "name": "python3"
  },
  "language_info": {
   "codemirror_mode": {
    "name": "ipython",
    "version": 3
   },
   "file_extension": ".py",
   "mimetype": "text/x-python",
   "name": "python",
   "nbconvert_exporter": "python",
   "pygments_lexer": "ipython3",
   "version": "3.13.0"
  }
 },
 "nbformat": 4,
 "nbformat_minor": 2
}

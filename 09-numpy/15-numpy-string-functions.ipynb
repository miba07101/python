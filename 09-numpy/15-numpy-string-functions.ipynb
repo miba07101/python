{
 "cells": [
  {
   "cell_type": "markdown",
   "metadata": {},
   "source": [
    "# 1) Numpy string functions\n",
    "\n",
    "|Functions\t    |Descriptions|\n",
    "|---            |---|\n",
    "|add()\t        |concatenates two strings|\n",
    "|multiply()\t    |repeats a string for a specified number of times|\n",
    "|capitalize()    |capitalizes the first letter of a string|\n",
    "|lower()\t        |converts all uppercase characters in a string to lowercase|\n",
    "|upper()\t        |converts all lowercase characters in a string to uppercase|\n",
    "|join()\t        |joins a sequence of strings|\n",
    "|equal()\t        |checks if two strings are equal or not|"
   ]
  },
  {
   "cell_type": "markdown",
   "metadata": {},
   "source": [
    "## 1.1) add() - np.char.add()"
   ]
  },
  {
   "cell_type": "code",
   "execution_count": null,
   "metadata": {},
   "outputs": [
    {
     "name": "stdout",
     "output_type": "stream",
     "text": [
      "['iPhone: 15' 'price: $900']\n"
     ]
    }
   ],
   "source": [
    "import numpy as np\n",
    "\n",
    "arr1 = np.array([\"iPhone: \", \"price: \"])\n",
    "arr2 = np.array([\"15\", \"$900\"])\n",
    "\n",
    "# perform element-wise array string concatenation\n",
    "print(np.char.add(arr1, arr2))"
   ]
  },
  {
   "cell_type": "markdown",
   "metadata": {},
   "source": [
    "## 1.2) Multiply() - np.cahr.multiply()"
   ]
  },
  {
   "cell_type": "code",
   "execution_count": null,
   "metadata": {},
   "outputs": [
    {
     "name": "stdout",
     "output_type": "stream",
     "text": [
      "['AA' 'BB' 'CC']\n"
     ]
    }
   ],
   "source": [
    "import numpy as np\n",
    "\n",
    "# define array with three string elements\n",
    "arr = np.array([\"A\", \"B\", \"C\"])\n",
    "\n",
    "#  repeat each element in array two times\n",
    "print(np.char.multiply(arr, 2))"
   ]
  },
  {
   "cell_type": "markdown",
   "metadata": {},
   "source": [
    "## 1.3) Capitalize() - np.char.capitalize()"
   ]
  },
  {
   "cell_type": "code",
   "execution_count": null,
   "metadata": {},
   "outputs": [
    {
     "name": "stdout",
     "output_type": "stream",
     "text": [
      "['Eric' 'Paul' 'Sean']\n"
     ]
    }
   ],
   "source": [
    "import numpy as np\n",
    "\n",
    "# define an array with three string elements\n",
    "arr = np.array([\"eric\", \"paul\", \"sean\"])\n",
    "\n",
    "# capitalize the first letter of each string in array1\n",
    "print(np.char.capitalize(arr))"
   ]
  },
  {
   "cell_type": "markdown",
   "metadata": {},
   "source": [
    "## 1.4) Upper() - np.char.upper(), Lower() - np.char.lower()"
   ]
  },
  {
   "cell_type": "code",
   "execution_count": null,
   "metadata": {},
   "outputs": [
    {
     "name": "stdout",
     "output_type": "stream",
     "text": [
      "To Uppercase:  ['NEPALI' 'AMERICAN' 'CANADIAN']\n",
      "To Lowercase:  ['nepali' 'american' 'canadian']\n"
     ]
    }
   ],
   "source": [
    "import numpy as np\n",
    "\n",
    "arr = np.array([\"nEpalI\", \"AmeriCAN\", \"CaNadIan\"])\n",
    "\n",
    "# convert all string elements to uppercase\n",
    "print(\"To Uppercase: \", np.char.upper(arr))\n",
    "\n",
    "# convert all string elements to lowercase\n",
    "print(\"To Lowercase: \", np.char.lower(arr))"
   ]
  },
  {
   "cell_type": "markdown",
   "metadata": {},
   "source": [
    "## 1.5) Join() - np.char.join(separator, array)"
   ]
  },
  {
   "cell_type": "code",
   "execution_count": null,
   "metadata": {},
   "outputs": [
    {
     "name": "stdout",
     "output_type": "stream",
     "text": [
      "['h-e-l-l-o' 'w-o-r-l-d']\n"
     ]
    }
   ],
   "source": [
    "import numpy as np\n",
    "\n",
    "arr = np.array([\"hello\", \"world\"])\n",
    "\n",
    "# join the strings in the array using a dash as the delimiter\n",
    "print(np.char.join(\"-\", arr))"
   ]
  },
  {
   "cell_type": "markdown",
   "metadata": {},
   "source": [
    "## 1.6) Equal() - np.char.equal()"
   ]
  },
  {
   "cell_type": "code",
   "execution_count": null,
   "metadata": {},
   "outputs": [
    {
     "name": "stdout",
     "output_type": "stream",
     "text": [
      "[False  True False]\n"
     ]
    }
   ],
   "source": [
    "import numpy as np\n",
    "\n",
    "# create two arrays of strings\n",
    "arr1 = np.array([\"C\", \"Python\", \"Swift\"])\n",
    "arr2 = np.array([\"C++\", \"Python\", \"Java\"])\n",
    "\n",
    "# check if each element of the arrays is equal\n",
    "print(np.char.equal(arr1, arr2))"
   ]
  }
 ],
 "metadata": {
  "kernelspec": {
   "display_name": ".venv",
   "language": "python",
   "name": "python3"
  },
  "language_info": {
   "codemirror_mode": {
    "name": "ipython",
    "version": 3
   },
   "file_extension": ".py",
   "mimetype": "text/x-python",
   "name": "python",
   "nbconvert_exporter": "python",
   "pygments_lexer": "ipython3",
   "version": "3.13.0"
  }
 },
 "nbformat": 4,
 "nbformat_minor": 2
}

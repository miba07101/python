{
 "cells": [
  {
   "cell_type": "markdown",
   "metadata": {},
   "source": [
    "# 1) Numpy statistical functions\n",
    "\n",
    "- pouzivaju sa na statisticke vyhodnocovanie udajov (statistic data analysis)\n",
    "\n",
    "|Functions\t    |Descriptions|\n",
    "|---            |---|\n",
    "|median()\t    |return the median of an array|\n",
    "|mean()\t        |return the mean of an array|\n",
    "|std()\t        |return the standard deviation of an array|\n",
    "|percentile()   |return the nth percentile of elements in an array|\n",
    "|min()\t        |return the minimum element of an array|\n",
    "|max()\t        |return the maximum element of an array|"
   ]
  },
  {
   "cell_type": "markdown",
   "metadata": {},
   "source": [
    "## 1.1) Median()\n",
    "\n",
    "- je stredna hodnota **zatriedeneho** pola (hodnota, ktora oddeluje vyssiu polovicu od nizsej polovice udajov)\n",
    "- ak je pole tvorene poctom prvkov:\n",
    "    - **neparnymi (odd)** - median je stredny prvok\n",
    "    - **parnymi (even)** - median je priemer z dvoch strednych prvkov"
   ]
  },
  {
   "cell_type": "code",
   "execution_count": null,
   "metadata": {},
   "outputs": [
    {
     "name": "stdout",
     "output_type": "stream",
     "text": [
      "Median of [1 2 3 4 5] is 3.0\n"
     ]
    }
   ],
   "source": [
    "# Compute Median for Odd Number of Elements\n",
    "import numpy as np\n",
    "\n",
    "# array of odd elements\n",
    "arr = np.array([1, 2, 3, 4, 5])\n",
    "\n",
    "median = np.median(arr)\n",
    "print(f\"Median of {arr} is {median}\")"
   ]
  },
  {
   "cell_type": "code",
   "execution_count": null,
   "metadata": {},
   "outputs": [
    {
     "name": "stdout",
     "output_type": "stream",
     "text": [
      "Median of [1 2 3 4 5 7] is 3.5\n"
     ]
    }
   ],
   "source": [
    "# Compute Median for Even Number of Elements\n",
    "import numpy as np\n",
    "\n",
    "# array of even (parny) elements\n",
    "arr = np.array([1, 2, 3, 4, 5, 7])\n",
    "\n",
    "median = np.median(arr)\n",
    "print(f\"Median of {arr} is {median}\")"
   ]
  },
  {
   "cell_type": "markdown",
   "metadata": {},
   "source": [
    "### 2D array median\n",
    "\n",
    "- mozem urcit pre riadok, stlpec alebo celu tabulku\n",
    "- pouzivame parametre:\n",
    "    - **axis = 0** - pre vypocet medianu v stlpci (vertikalna os)\n",
    "    - **axis = 1** - pre vypocet medianu v riadku (horizontalna os)\n",
    "- nepouzivame **axis**, ked urcujeme median pre celu tabulku"
   ]
  },
  {
   "cell_type": "code",
   "execution_count": null,
   "metadata": {},
   "outputs": [
    {
     "name": "stdout",
     "output_type": "stream",
     "text": [
      "Rows median: [ 4. 10. 16.]\n",
      "Column median: [ 8. 10. 12.]\n",
      "Array median: 10.0\n"
     ]
    }
   ],
   "source": [
    "import numpy as np\n",
    "\n",
    "# 2D array 3x3\n",
    "arr = np.array([[2, 4, 6], [8, 10, 12], [14, 16, 18]])\n",
    "\n",
    "# compute median along horizontal axis\n",
    "print(\"Rows median:\", np.median(arr, axis=1))\n",
    "\n",
    "# compute median along vertical axis\n",
    "print(\"Column median:\", np.median(arr, axis=0))\n",
    "\n",
    "# compute median of entire array\n",
    "print(\"Array median:\", np.median(arr))"
   ]
  },
  {
   "cell_type": "markdown",
   "metadata": {},
   "source": [
    "## 1.2) Mean()\n",
    "\n",
    "- priemerna hodnota zo vsetkych hodnot"
   ]
  },
  {
   "cell_type": "code",
   "execution_count": 7,
   "metadata": {},
   "outputs": [
    {
     "name": "stdout",
     "output_type": "stream",
     "text": [
      "Mean of marks: 77.2\n"
     ]
    }
   ],
   "source": [
    "import numpy as np\n",
    "\n",
    "# create a numpy array\n",
    "marks = np.array([76, 78, 81, 66, 85])\n",
    "\n",
    "# compute the mean of marks\n",
    "print(\"Mean of marks:\", np.mean(marks))"
   ]
  },
  {
   "cell_type": "code",
   "execution_count": null,
   "metadata": {},
   "outputs": [
    {
     "name": "stdout",
     "output_type": "stream",
     "text": [
      "Entire Array: 4.0\n",
      "Along Vertical Axis (columns): [3. 5.]\n",
      "Along Horizontal Axis (rows): [2. 6.]\n"
     ]
    }
   ],
   "source": [
    "# Mean of NumPy N-d Array\n",
    "\n",
    "import numpy as np\n",
    "\n",
    "# create a 2D array\n",
    "array1 = np.array([[1, 3], [5, 7]])\n",
    "\n",
    "# calculate the mean of the entire array\n",
    "result1 = np.mean(array1)\n",
    "print(\"Entire Array:\", result1)\n",
    "\n",
    "# calculate the mean along vertical axis (axis=0)\n",
    "result2 = np.mean(array1, axis=0)\n",
    "print(\"Along Vertical Axis (columns):\", result2)\n",
    "\n",
    "# calculate the mean along horizontal axis (rows)  (axis=1)\n",
    "result3 = np.mean(array1, axis=1)\n",
    "print(\"Along Horizontal Axis (rows):\", result3)"
   ]
  },
  {
   "cell_type": "markdown",
   "metadata": {},
   "source": [
    "## 1.3) Standard deviation std()\n",
    "\n",
    "- je to miera rozsirenia udajov v poli. udava mieru do akej sa udaje v poli odchyluju od priemeru.\n",
    "- mensia standardna odchylka znamena, ze udaje su blizsie k priemeru\n",
    "- vacsia znamena, ze udaje su viac rozptylene od priemeru\n"
   ]
  },
  {
   "cell_type": "code",
   "execution_count": null,
   "metadata": {},
   "outputs": [
    {
     "name": "stdout",
     "output_type": "stream",
     "text": [
      "Standard deviation: 6.368673331236263\n"
     ]
    }
   ],
   "source": [
    "import numpy as np\n",
    "\n",
    "# create a numpy array\n",
    "marks = np.array([76, 78, 81, 66, 85])\n",
    "\n",
    "# compute the standard deviation of marks\n",
    "print(\"Standard deviation:\", np.std(marks))"
   ]
  },
  {
   "cell_type": "code",
   "execution_count": null,
   "metadata": {},
   "outputs": [
    {
     "name": "stdout",
     "output_type": "stream",
     "text": [
      "Standard deviation along horizontal axis: [2.86744176 3.29983165 1.24721913]\n",
      "Standard deviation  along vertical axis: [0.81649658 1.24721913 1.63299316]\n",
      "Standard deviation of entire array: 2.7666443551086073\n"
     ]
    }
   ],
   "source": [
    "# Compute the Standard Deviation of a 2D array.\n",
    "import numpy as np\n",
    "\n",
    "# 2D array 3x3\n",
    "arr = np.array([[2, 5, 9], [3, 8, 11], [4, 6, 7]])\n",
    "\n",
    "# compute standard deviation along horizontal axis\n",
    "result1 = np.std(arr, axis=1)\n",
    "print(\"Standard deviation along horizontal axis:\", result1)\n",
    "\n",
    "# compute standard deviation along vertical axis\n",
    "result2 = np.std(arr, axis=0)\n",
    "print(\"Standard deviation  along vertical axis:\", result2)\n",
    "\n",
    "# compute standard deviation of entire array\n",
    "result3 = np.std(arr)\n",
    "print(\"Standard deviation of entire array:\", result3)"
   ]
  },
  {
   "cell_type": "markdown",
   "metadata": {},
   "source": [
    "## 1.4) Percentile()\n",
    "\n",
    "- ake percento udajov v poli je menej a lebo rovne vypocitanemu percentilu"
   ]
  },
  {
   "cell_type": "code",
   "execution_count": null,
   "metadata": {},
   "outputs": [
    {
     "name": "stdout",
     "output_type": "stream",
     "text": [
      "25th percentile: 5.5\n",
      "75th percentile: 14.5\n"
     ]
    }
   ],
   "source": [
    "import numpy as np\n",
    "\n",
    "arr = np.array([1, 3, 5, 7, 9, 11, 13, 15, 17, 19])\n",
    "\n",
    "# compute the 25th percentile of the array\n",
    "print(\"25th percentile:\", np.percentile(arr, 25))\n",
    "\n",
    "# compute the 75th percentile of the array\n",
    "print(\"75th percentile:\", np.percentile(arr, 75))"
   ]
  },
  {
   "cell_type": "markdown",
   "metadata": {},
   "source": [
    "## 1.5) Min(), max()\n",
    "\n",
    "- urci min, max hodnotu v poli"
   ]
  },
  {
   "cell_type": "code",
   "execution_count": null,
   "metadata": {},
   "outputs": [
    {
     "name": "stdout",
     "output_type": "stream",
     "text": [
      "Minimum value: 1\n",
      "Maximum value: 65\n"
     ]
    }
   ],
   "source": [
    "import numpy as np\n",
    "\n",
    "arr = np.array([2, 6, 9, 15, 17, 22, 65, 1, 62])\n",
    "\n",
    "# find the minimum value of the array\n",
    "print(\"Minimum value:\", np.min(arr))\n",
    "\n",
    "# find the maximum value of the array\n",
    "print(\"Maximum value:\", np.max(arr))"
   ]
  }
 ],
 "metadata": {
  "kernelspec": {
   "display_name": ".venv",
   "language": "python",
   "name": "python3"
  },
  "language_info": {
   "codemirror_mode": {
    "name": "ipython",
    "version": 3
   },
   "file_extension": ".py",
   "mimetype": "text/x-python",
   "name": "python",
   "nbconvert_exporter": "python",
   "pygments_lexer": "ipython3",
   "version": "3.13.0"
  }
 },
 "nbformat": 4,
 "nbformat_minor": 2
}

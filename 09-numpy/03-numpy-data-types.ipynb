{
 "cells": [
  {
   "cell_type": "markdown",
   "metadata": {},
   "source": [
    "# 1) Numpy data types\n",
    "\n",
    "1. **int8, int16, int32, int64** - signed integer types with different bit sizes\n",
    "2. **uint8, uint16, uint32, uint64** - unsigned integer types with different bit sizes\n",
    "3. **float32, float64** - floating-point types with different precision levels\n",
    "4. **complex64, complex128** - complex number types with different precision levels"
   ]
  },
  {
   "cell_type": "markdown",
   "metadata": {},
   "source": [
    "## 1.1) Check data type\n",
    "\n",
    "- **.dtype**"
   ]
  },
  {
   "cell_type": "code",
   "execution_count": null,
   "metadata": {},
   "outputs": [
    {
     "name": "stdout",
     "output_type": "stream",
     "text": [
      "int64\n",
      "<class 'numpy.ndarray'>\n"
     ]
    }
   ],
   "source": [
    "import numpy as np\n",
    "\n",
    "# pole z listu\n",
    "arr = np.array([1, 2, 3])\n",
    "\n",
    "print(arr.dtype)\n",
    "print(type(arr))"
   ]
  },
  {
   "cell_type": "code",
   "execution_count": null,
   "metadata": {},
   "outputs": [
    {
     "name": "stdout",
     "output_type": "stream",
     "text": [
      "Integer: int64\n",
      "Float: float64\n",
      "Complex: complex128\n"
     ]
    }
   ],
   "source": [
    "import numpy as np\n",
    "\n",
    "# pole z integers\n",
    "arr_int = np.array([-1, 3, 6, 5])\n",
    "\n",
    "# pole z float\n",
    "arr_float = np.array([0.1, 0.2, 0.3])\n",
    "\n",
    "# pole z komplexnych cisel\n",
    "arr_complex = np.array([1 + 2j, 2 + 3j, 3 + 4j])\n",
    "\n",
    "# zobrazenie typov\n",
    "print(\"Integer:\", arr_int.dtype)\n",
    "print(\"Float:\", arr_float.dtype)\n",
    "print(\"Complex:\", arr_complex.dtype)"
   ]
  },
  {
   "cell_type": "markdown",
   "metadata": {},
   "source": [
    "## 1.2) Creating array with defined data type"
   ]
  },
  {
   "cell_type": "code",
   "execution_count": null,
   "metadata": {},
   "outputs": [
    {
     "name": "stdout",
     "output_type": "stream",
     "text": [
      "[1 3 7] int32\n"
     ]
    }
   ],
   "source": [
    "import numpy as np\n",
    "\n",
    "# pole s 32-bit integer\n",
    "arr = np.array([1, 3, 7], dtype=\"int32\")\n",
    "\n",
    "print(arr, arr.dtype)"
   ]
  },
  {
   "cell_type": "code",
   "execution_count": null,
   "metadata": {},
   "outputs": [
    {
     "name": "stdout",
     "output_type": "stream",
     "text": [
      "Int 8-bit: [1 3 7] int8\n",
      "Int 16-bit: [1 3 7] uint16\n",
      "Float 32-bit: [0.1 1.3 2.4] float32\n",
      "Complex 64-bit: [1.+2.j 2.+3.j 3.+4.j] complex64\n"
     ]
    }
   ],
   "source": [
    "import numpy as np\n",
    "\n",
    "# pole 8-bit integers\n",
    "arr8bit = np.array([1, 3, 7], dtype=\"int8\")\n",
    "\n",
    "# pole s unsigned 16-bit integers\n",
    "arr16bit = np.array([1, 3, 7], dtype=\"uint16\")\n",
    "\n",
    "# pole 32-bit floating\n",
    "arr32float = np.array([0.1, 1.3, 2.4], dtype=\"float32\")\n",
    "\n",
    "# pole 64-bit komplexne cisla\n",
    "arr64complex = np.array([1 + 2j, 2 + 3j, 3 + 4j], dtype=\"complex64\")\n",
    "\n",
    "# zobrazenie\n",
    "print(\"Int 8-bit:\", arr8bit, arr8bit.dtype)\n",
    "print(\"Int 16-bit:\", arr16bit, arr16bit.dtype)\n",
    "print(\"Float 32-bit:\", arr32float, arr32float.dtype)\n",
    "print(\"Complex 64-bit:\", arr64complex, arr64complex.dtype)"
   ]
  },
  {
   "cell_type": "markdown",
   "metadata": {},
   "source": [
    "## 1.3) Type conversion\n",
    "\n",
    "- **astype()** - method"
   ]
  },
  {
   "cell_type": "code",
   "execution_count": null,
   "metadata": {},
   "outputs": [
    {
     "name": "stdout",
     "output_type": "stream",
     "text": [
      "[1 2 3 4] int64\n",
      "[1. 2. 3. 4.] float64\n"
     ]
    }
   ],
   "source": [
    "import numpy as np\n",
    "\n",
    "# pole integers\n",
    "arr = np.array([1, 2, 3, 4])\n",
    "\n",
    "# convert to float\n",
    "arr_float = arr.astype(\"float\")\n",
    "\n",
    "# zobrazenie\n",
    "print(arr, arr.dtype)\n",
    "print(arr_float, arr_float.dtype)"
   ]
  }
 ],
 "metadata": {
  "kernelspec": {
   "display_name": ".venv",
   "language": "python",
   "name": "python3"
  },
  "language_info": {
   "codemirror_mode": {
    "name": "ipython",
    "version": 3
   },
   "file_extension": ".py",
   "mimetype": "text/x-python",
   "name": "python",
   "nbconvert_exporter": "python",
   "pygments_lexer": "ipython3",
   "version": "3.13.0"
  }
 },
 "nbformat": 4,
 "nbformat_minor": 2
}

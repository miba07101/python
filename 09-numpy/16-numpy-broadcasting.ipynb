{
 "cells": [
  {
   "cell_type": "markdown",
   "metadata": {},
   "source": [
    "# 1) Numpy broadcasting\n",
    "\n",
    "- **broadcasting** - ak vykonavame matematicke operacie s poliami roznych tvarov, npar. 1D s 2D, tak pole 1D sa rozsiri na velkost 2D.\n",
    "- funguje iba na kompatibilnych poliach, numpy porovnava sadu poli zprava dolava.\n",
    "- sada dlzok poli je kompatibilna ak:\n",
    "    - jedno z poli ma dlzku **1**, alebo\n",
    "    - su totozne/rovnake\n",
    "    - pr. kompatibility: (6,7) a (6,7); (6,1) a (6,7); (6,7) a (7, ) - pretoze najviac vpravo rozmery su oba 7???\n",
    "    - pr. nekompatibility: (6,7) a (7,6); (6,7) a (7, )"
   ]
  },
  {
   "cell_type": "code",
   "execution_count": 1,
   "metadata": {},
   "outputs": [
    {
     "name": "stdout",
     "output_type": "stream",
     "text": [
      "[[2 3 4]\n",
      " [3 4 5]\n",
      " [4 5 6]]\n"
     ]
    }
   ],
   "source": [
    "import numpy as np\n",
    "\n",
    "# create 1-D array\n",
    "arr1D = np.array([1, 2, 3])\n",
    "\n",
    "# create 2-D array\n",
    "arr2D = np.array([[1], [2], [3]])\n",
    "\n",
    "# add arrays of different dimension\n",
    "# size of array1 expands to match with array2\n",
    "sum = arr1D + arr2D\n",
    "\n",
    "print(sum)"
   ]
  },
  {
   "cell_type": "markdown",
   "metadata": {},
   "source": [
    "## 1.1) Broadcasting with scalars (single value)"
   ]
  },
  {
   "cell_type": "code",
   "execution_count": 2,
   "metadata": {},
   "outputs": [
    {
     "name": "stdout",
     "output_type": "stream",
     "text": [
      "[6 7 8]\n"
     ]
    }
   ],
   "source": [
    "import numpy as np\n",
    "\n",
    "# 1-D array\n",
    "arr1D = np.array([1, 2, 3])\n",
    "\n",
    "# scalar\n",
    "number = 5\n",
    "\n",
    "# add scalar and 1-D array\n",
    "sum = np.add(arr1D, number)\n",
    "\n",
    "print(sum)"
   ]
  }
 ],
 "metadata": {
  "kernelspec": {
   "display_name": ".venv",
   "language": "python",
   "name": "python3"
  },
  "language_info": {
   "codemirror_mode": {
    "name": "ipython",
    "version": 3
   },
   "file_extension": ".py",
   "mimetype": "text/x-python",
   "name": "python",
   "nbconvert_exporter": "python",
   "pygments_lexer": "ipython3",
   "version": "3.13.0"
  }
 },
 "nbformat": 4,
 "nbformat_minor": 2
}

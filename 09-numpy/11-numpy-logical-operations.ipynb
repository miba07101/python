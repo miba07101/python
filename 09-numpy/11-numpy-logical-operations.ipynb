{
 "cells": [
  {
   "cell_type": "markdown",
   "metadata": {},
   "source": [
    "# 1) Numpy comparison/logical operations"
   ]
  },
  {
   "cell_type": "markdown",
   "metadata": {},
   "source": [
    "## 1.1) Comparison operators\n",
    "\n",
    "|Operators                      |Descriptions|\n",
    "|---|---|\n",
    "|< (less than)\t                |returns True if element of the first array is less than the second one|\n",
    "|<= (less than or equal to)\t    |returns True if element of the first array is less than or equal to the second one|\n",
    "|> (greater than)\t            |returns True if element of the first array is greater than the second one|\n",
    "|>= (greater than or equal to)  |returns True if element of the first array is greater than or equal to the second one|\n",
    "|== (equal to)\t                |returns True if the element of the first array is equal to the second one|\n",
    "|!= (not equal to)\t            |returns True if the element of the first array is not equal to the second one|"
   ]
  },
  {
   "cell_type": "code",
   "execution_count": null,
   "metadata": {},
   "outputs": [
    {
     "name": "stdout",
     "output_type": "stream",
     "text": [
      "arr1:\n",
      " [1 2 3] \n",
      "arr2:\n",
      " [3 2 1]\n",
      "arr1 < arr2: [ True False False]\n",
      "arr1 > arr2: [False False  True]\n",
      "arr1 == arr2: [False  True False]\n"
     ]
    }
   ],
   "source": [
    "import numpy as np\n",
    "\n",
    "arr1 = np.array([1, 2, 3])\n",
    "arr2 = np.array([3, 2, 1])\n",
    "\n",
    "print(\"arr1:\\n\", arr1, \"\\narr2:\\n\", arr2)\n",
    "\n",
    "# less than operator\n",
    "result1 = arr1 < arr2\n",
    "print(\"arr1 < arr2:\", result1)\n",
    "\n",
    "# greater than operator\n",
    "result2 = arr1 > arr2\n",
    "print(\"arr1 > arr2:\", result2)\n",
    "\n",
    "# equal to operator\n",
    "result3 = arr1 == arr2\n",
    "print(\"arr1 == arr2:\", result3)"
   ]
  },
  {
   "cell_type": "markdown",
   "metadata": {},
   "source": [
    "## 1.2) Comparison functions\n",
    "\n",
    "|Functions\t        |Descriptions|\n",
    "|---|---|\n",
    "|less()\t            |returns element-wise True if the first value is less than the second|\n",
    "|less_equal()       |returns element-wise True if the first value is less than or equal to second|\n",
    "|greater()          |returns element-wise True if the first value is greater then second|\n",
    "|greater_equal()    |returns element-wise True if the first value is greater than or equal to second|\n",
    "|equal()            |returns element-wise True if two values are equal|\n",
    "|not_equal()        |returns element-wise True if two values are not equal|"
   ]
  },
  {
   "cell_type": "code",
   "execution_count": null,
   "metadata": {},
   "outputs": [
    {
     "name": "stdout",
     "output_type": "stream",
     "text": [
      "arr1:\n",
      " [ 9 12 21] \n",
      "arr2:\n",
      " [21 12  9]\n",
      "Using less(): [ True False False]\n",
      "Using less_equal(): [ True  True False]\n",
      "Using greater(): [False False  True]\n",
      "Using greater_equal(): [False  True  True]\n",
      "Using equal(): [False  True False]\n",
      "Using not_equal(): [ True False  True]\n"
     ]
    }
   ],
   "source": [
    "import numpy as np\n",
    "\n",
    "arr1 = np.array([9, 12, 21])\n",
    "arr2 = np.array([21, 12, 9])\n",
    "\n",
    "print(\"arr1:\\n\", arr1, \"\\narr2:\\n\", arr2)\n",
    "\n",
    "# use of less()\n",
    "result = np.less(arr1, arr2)\n",
    "print(\"Using less():\", result)\n",
    "\n",
    "# use of less_equal()\n",
    "result = np.less_equal(arr1, arr2)\n",
    "print(\"Using less_equal():\", result)\n",
    "\n",
    "# use of greater()\n",
    "result = np.greater(arr1, arr2)\n",
    "print(\"Using greater():\", result)\n",
    "\n",
    "# use of greater_equal()\n",
    "result = np.greater_equal(arr1, arr2)\n",
    "print(\"Using greater_equal():\", result)\n",
    "\n",
    "# use of equal()\n",
    "result = np.equal(arr1, arr2)\n",
    "print(\"Using equal():\", result)\n",
    "\n",
    "# use of not_equal()\n",
    "result = np.not_equal(arr1, arr2)\n",
    "print(\"Using not_equal():\", result)"
   ]
  },
  {
   "cell_type": "markdown",
   "metadata": {},
   "source": [
    "## 1.3) Logical operations\n",
    "\n",
    "|Operators\t    |Descriptions|\n",
    "|---|---|\n",
    "|logical_and    |Computes the element-wise truth value of x1 AND x2|\n",
    "|logical_or\t    |Computes the element-wise truth value of x1 OR x2|\n",
    "|logical_not\t|Computes the element-wise truth value of NOT x|"
   ]
  },
  {
   "cell_type": "code",
   "execution_count": null,
   "metadata": {},
   "outputs": [
    {
     "name": "stdout",
     "output_type": "stream",
     "text": [
      "arr1:\n",
      " [ True False  True] \n",
      "arr2:\n",
      " [False False  True] \n",
      "\n",
      "Logical AND: [False False  True]\n",
      "Logical OR: [ True False  True]\n",
      "Logical NOT: [False  True False]\n"
     ]
    }
   ],
   "source": [
    "import numpy as np\n",
    "\n",
    "x1 = np.array([True, False, True])\n",
    "x2 = np.array([False, False, True])\n",
    "\n",
    "print(\"arr1:\\n\", x1, \"\\narr2:\\n\", x2, \"\\n\")\n",
    "\n",
    "# Logical AND\n",
    "print(\"Logical AND:\", np.logical_and(x1, x2))\n",
    "\n",
    "# Logical OR\n",
    "print(\"Logical OR:\", np.logical_or(x1, x2))\n",
    "\n",
    "# Logical NOT\n",
    "print(\"Logical NOT:\", np.logical_not(x1))"
   ]
  }
 ],
 "metadata": {
  "kernelspec": {
   "display_name": ".venv",
   "language": "python",
   "name": "python3"
  },
  "language_info": {
   "codemirror_mode": {
    "name": "ipython",
    "version": 3
   },
   "file_extension": ".py",
   "mimetype": "text/x-python",
   "name": "python",
   "nbconvert_exporter": "python",
   "pygments_lexer": "ipython3",
   "version": "3.13.0"
  }
 },
 "nbformat": 4,
 "nbformat_minor": 2
}

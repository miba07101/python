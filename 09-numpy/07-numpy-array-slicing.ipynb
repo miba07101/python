{
 "cells": [
  {
   "cell_type": "markdown",
   "metadata": {},
   "source": [
    "# 1) Numpy array slicing\n",
    "\n",
    "- **slicing (krajanie)** - proces extrakcie casti pola\n",
    "- syntax: `array[start:stop:step]`"
   ]
  },
  {
   "cell_type": "markdown",
   "metadata": {},
   "source": [
    "# 2) 1D array slicing"
   ]
  },
  {
   "cell_type": "code",
   "execution_count": null,
   "metadata": {},
   "outputs": [
    {
     "name": "stdout",
     "output_type": "stream",
     "text": [
      "Array [1 3 5 7 8 9 2 4 6]\n",
      "Slice from index 2-6: [5 7 8 9]\n",
      "Slice from 0-8, step 2: [1 5 8 2]\n",
      "Slice from 3-last: [7 8 9 2 4 6]\n",
      "Items from start-end: [1 3 5 7 8 9 2 4 6]\n"
     ]
    }
   ],
   "source": [
    "import numpy as np\n",
    "\n",
    "# 1D array\n",
    "arr = np.array([1, 3, 5, 7, 8, 9, 2, 4, 6])\n",
    "print(\"Array\", arr)\n",
    "\n",
    "# slice from index 2 to index 6 (exclusive)\n",
    "print(\"Slice from index 2-6:\", arr[2:6])\n",
    "\n",
    "# slice from index 0 to index 8 (exclusive) with a step size of 2\n",
    "print(\"Slice from 0-8, step 2:\", arr[0:8:2])\n",
    "\n",
    "# slice from index 3 up to the last element\n",
    "print(\"Slice from 3-last:\", arr[3:])\n",
    "\n",
    "# items from start to end\n",
    "print(\"Items from start-end:\", arr[:])"
   ]
  },
  {
   "cell_type": "markdown",
   "metadata": {},
   "source": [
    "# 3) Modify array elements using slicing\n",
    "\n",
    "- modify using:\n",
    "    - **start**\n",
    "    - **stop**\n",
    "    - **start** and **stop**\n",
    "    - **start**, **stop** and **step**"
   ]
  },
  {
   "cell_type": "code",
   "execution_count": null,
   "metadata": {},
   "outputs": [
    {
     "name": "stdout",
     "output_type": "stream",
     "text": [
      "Array [ 2  4  6  8 10 12]\n",
      "Modified from 3 index: [ 2  4  6 20 20 20]\n",
      "Modified first 3 elements: [ 1  1  1 20 20 20]\n",
      "Modified from 2-5 elements [ 1  1 40 40 40 20]\n",
      "Modified every second from 1-5 elements [  1 100  40 100  40  20]\n"
     ]
    }
   ],
   "source": [
    "import numpy as np\n",
    "\n",
    "# 1D array\n",
    "arr = np.array([2, 4, 6, 8, 10, 12])\n",
    "print(\"Array\", arr)\n",
    "\n",
    "# start parameter\n",
    "# modify elements from index 3 onwards\n",
    "arr[3:] = 20\n",
    "print(\"Modified from 3 index:\", arr)\n",
    "\n",
    "# stop parameter\n",
    "# modify the first 3 elements\n",
    "arr[:3] = 1\n",
    "print(\"Modified first 3 elements:\", arr)\n",
    "\n",
    "# start, stop parameters\n",
    "# modify elements from indices 2 to 5\n",
    "arr[2:5] = 40\n",
    "print(\"Modified from 2-5 elements\", arr)\n",
    "\n",
    "# start, stop, step parameters\n",
    "# modify every second element from indices 1 to 5\n",
    "arr[1:5:2] = 100\n",
    "print(\"Modified every second from 1-5 elements\", arr)"
   ]
  },
  {
   "cell_type": "markdown",
   "metadata": {},
   "source": [
    "# 4) Negative slicing\n",
    "\n",
    "- elemty pocitame od konca pola"
   ]
  },
  {
   "cell_type": "code",
   "execution_count": null,
   "metadata": {},
   "outputs": [
    {
     "name": "stdout",
     "output_type": "stream",
     "text": [
      "Slice last 3 elements: [ 8 10 12]\n",
      "Slice from 2nd-to-last to 4th-to-last element: [4 6 8]\n",
      "Slice every other element from the end: [12  8  4]\n"
     ]
    }
   ],
   "source": [
    "import numpy as np\n",
    "\n",
    "# 1D array\n",
    "arr = np.array([2, 4, 6, 8, 10, 12])\n",
    "\n",
    "# slice the last 3 elements of the array\n",
    "# using the start parameter\n",
    "print(\"Slice last 3 elements:\", arr[-3:])\n",
    "\n",
    "# slice elements from 2nd-to-last to 4th-to-last element\n",
    "# using the start and stop parameters\n",
    "print(\"Slice from 2nd-to-last to 4th-to-last element:\", arr[-5:-2])\n",
    "\n",
    "# slice every other element of the array from the end\n",
    "# using the start, stop, and step parameters\n",
    "print(\"Slice every other element from the end:\", arr[-1::-2])"
   ]
  },
  {
   "cell_type": "markdown",
   "metadata": {},
   "source": [
    "# 5) Reverse array using negative slicing"
   ]
  },
  {
   "cell_type": "code",
   "execution_count": null,
   "metadata": {},
   "outputs": [
    {
     "name": "stdout",
     "output_type": "stream",
     "text": [
      "Array [ 2  4  6  8 10 12]\n",
      "reverse using slicing [12 10  8  6  4  2]\n"
     ]
    }
   ],
   "source": [
    "import numpy as np\n",
    "\n",
    "# 1D pole\n",
    "arr = np.array([2, 4, 6, 8, 10, 12])\n",
    "print(\"Array\", arr)\n",
    "\n",
    "# reverse array using slicing\n",
    "print(\"reverse using slicing\", arr[::-1])"
   ]
  },
  {
   "cell_type": "markdown",
   "metadata": {},
   "source": [
    "# 6) 2D numpy array slicing\n",
    "\n",
    "- musime specifikovat pre kazdu dimenziu pola, cize pre riadky a stlpce\n",
    "- syntax: `array[row_start:row_stop:row_step, col_start:col_stop:col_step]`"
   ]
  },
  {
   "cell_type": "code",
   "execution_count": null,
   "metadata": {},
   "outputs": [
    {
     "name": "stdout",
     "output_type": "stream",
     "text": [
      "Array\n",
      " [[ 1  3  5  7]\n",
      " [ 9 11 13 15]\n",
      " [ 2  4  6  8]]\n",
      "Array first 2 rows and columns\n",
      " [[ 1  3]\n",
      " [ 9 11]]\n",
      "Array last 2 rows and columns\n",
      " [[13 15]\n",
      " [ 6  8]]\n"
     ]
    }
   ],
   "source": [
    "import numpy as np\n",
    "\n",
    "# 2D pole\n",
    "arr = np.array([[1, 3, 5, 7], [9, 11, 13, 15], [2, 4, 6, 8]])\n",
    "print(\"Array\\n\", arr)\n",
    "\n",
    "# slice the array to get the first two rows and columns\n",
    "print(\"Array first 2 rows and columns\\n\", arr[0:2, 0:2])\n",
    "\n",
    "# slice the array to get the last two rows and columns\n",
    "print(\"Array last 2 rows and columns\\n\", arr[-2:, -2:])"
   ]
  }
 ],
 "metadata": {
  "kernelspec": {
   "display_name": ".venv",
   "language": "python",
   "name": "python3"
  },
  "language_info": {
   "codemirror_mode": {
    "name": "ipython",
    "version": 3
   },
   "file_extension": ".py",
   "mimetype": "text/x-python",
   "name": "python",
   "nbconvert_exporter": "python",
   "pygments_lexer": "ipython3",
   "version": "3.13.0"
  }
 },
 "nbformat": 4,
 "nbformat_minor": 2
}

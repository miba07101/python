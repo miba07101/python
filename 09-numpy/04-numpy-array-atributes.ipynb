{
 "cells": [
  {
   "cell_type": "markdown",
   "metadata": {},
   "source": [
    "# 1) Numpy array attributes\n",
    "\n",
    "- su to vlastnosti Numpy pola, ktore davaju info o tvare, velkosti, data type, rozmeroch, atd.\n",
    "\n",
    "|Attributes |Description|\n",
    "|---        |---|\n",
    "|ndim       |returns number of dimension of the array|\n",
    "|size       |returns number of elements in the array|\n",
    "|dtype      |returns data type of elements in the array|\n",
    "|shape      |returns the size of the array in each dimension|\n",
    "|itemsize   |returns the size (in bytes) of each elements in the array|\n",
    "|data       |returns the buffer containing actual elements of the array in memory|"
   ]
  },
  {
   "cell_type": "code",
   "execution_count": 10,
   "metadata": {},
   "outputs": [
    {
     "name": "stdout",
     "output_type": "stream",
     "text": [
      "Array: [[1 2 3]\n",
      " [4 5 6]]\n",
      "Dimensions: 2\n",
      "Size: 6\n",
      "Shape: (2, 3)\n",
      "Type: int64\n",
      "Item size (64-bit int): 8\n",
      "Item size (32-bit int): 4\n",
      "Data: <memory at 0x00000229F5A8EB50>\n"
     ]
    }
   ],
   "source": [
    "import numpy as np\n",
    "\n",
    "# 2D pole 2x3\n",
    "arr = np.array([[1, 2, 3], [4, 5, 6]])\n",
    "\n",
    "print(\"Array:\", arr)\n",
    "\n",
    "# dimension/rozmery pola\n",
    "print(\"Dimensions:\", arr.ndim)\n",
    "\n",
    "# size/velkost pola\n",
    "print(\"Size:\", arr.size)\n",
    "\n",
    "# Shape/tvar pola - vrati velkost pola v kazdej dimenzii,\n",
    "# tzn. ze v tomto pripade 2D pola, su to 2 riadky a 3 stlpce\n",
    "print(\"Shape:\", arr.shape)\n",
    "\n",
    "# Type/datovy typ pola\n",
    "print(\"Type:\", arr.dtype)\n",
    "\n",
    "# Item size\n",
    "# ak je datovy typ 64-bit, ktory pouziva 8-bit pamate na prvok, tak \"itemsize\" vrati hodnotu 8\n",
    "# ak je datovy typ 32-bit, ktory pouziva 4-bit pamate na prvok, tak \"itemzise\" vrati hodnotu 4\n",
    "print(\"Item size (64-bit int):\", arr.itemsize)\n",
    "print(\"Item size (32-bit int):\", arr.astype(\"int32\").itemsize)\n",
    "\n",
    "# data - je to ako pointer miesta v pocitacovej pamati, kde su ulozene udaje pola\n",
    "print(\"Data:\", arr.data)"
   ]
  }
 ],
 "metadata": {
  "kernelspec": {
   "display_name": ".venv",
   "language": "python",
   "name": "python3"
  },
  "language_info": {
   "codemirror_mode": {
    "name": "ipython",
    "version": 3
   },
   "file_extension": ".py",
   "mimetype": "text/x-python",
   "name": "python",
   "nbconvert_exporter": "python",
   "pygments_lexer": "ipython3",
   "version": "3.13.0"
  }
 },
 "nbformat": 4,
 "nbformat_minor": 2
}

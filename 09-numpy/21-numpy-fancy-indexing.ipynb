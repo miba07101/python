{
 "cells": [
  {
   "cell_type": "markdown",
   "metadata": {},
   "source": [
    "# 1) Numpy fancy indexing\n",
    "\n",
    "- umoznuje pouzit pole indexov na pristup k viacerym prvkom pola naraz\n",
    "- umoznuje vykonat pokrocilejsie operacie s polom, napr:\n",
    "    - conditional filtering\n",
    "    - sorting a pod."
   ]
  },
  {
   "cell_type": "markdown",
   "metadata": {},
   "source": [
    "## 1.1) Select multiple elements using fancy indexing"
   ]
  },
  {
   "cell_type": "code",
   "execution_count": null,
   "metadata": {},
   "outputs": [
    {
     "name": "stdout",
     "output_type": "stream",
     "text": [
      "Array [1 2 3 4 5 6 7 8]\n",
      "Selected single element: 4\n",
      "Selected elements: [2 3 6 8]\n"
     ]
    }
   ],
   "source": [
    "import numpy as np\n",
    "\n",
    "# 1D array\n",
    "arr = np.array([1, 2, 3, 4, 5, 6, 7, 8])\n",
    "print(\"Array\", arr)\n",
    "\n",
    "# select single element\n",
    "select_single = arr[3]\n",
    "print(\"Selected single element:\", select_single)\n",
    "\n",
    "# select elements at index 1,2,5,7\n",
    "select_elements = arr[[1, 2, 5, 7]]\n",
    "print(\"Selected elements:\", select_elements)"
   ]
  },
  {
   "cell_type": "markdown",
   "metadata": {},
   "source": [
    "## 1.2) Fancy indexing for sorting array\n",
    "\n",
    "- syntax: `array[np.argsort(array)]`\n",
    "- for \"descending order\" pouzijem **-** pre argument f-cie argsort(), np.argsort(-array)"
   ]
  },
  {
   "cell_type": "code",
   "execution_count": null,
   "metadata": {},
   "outputs": [
    {
     "name": "stdout",
     "output_type": "stream",
     "text": [
      "Array [3 2 6 1 8 5 7 4]\n",
      "Sorted array: [1 2 3 4 5 6 7 8]\n"
     ]
    }
   ],
   "source": [
    "import numpy as np\n",
    "\n",
    "arr = np.array([3, 2, 6, 1, 8, 5, 7, 4])\n",
    "print(\"Array\", arr)\n",
    "\n",
    "# sort array using fancy indeexing\n",
    "sorted_arr = arr[np.argsort(arr)]\n",
    "print(\"Sorted array:\", sorted_arr)"
   ]
  },
  {
   "cell_type": "code",
   "execution_count": null,
   "metadata": {},
   "outputs": [
    {
     "name": "stdout",
     "output_type": "stream",
     "text": [
      "Array [3 2 6 1 8 5 7 4]\n",
      "Sorted array: [8 7 6 5 4 3 2 1]\n"
     ]
    }
   ],
   "source": [
    "# descending order sort\n",
    "import numpy as np\n",
    "\n",
    "arr = np.array([3, 2, 6, 1, 8, 5, 7, 4])\n",
    "print(\"Array\", arr)\n",
    "\n",
    "# sort array using fancy indeexing\n",
    "sorted_arr = arr[np.argsort(-arr)]\n",
    "print(\"Sorted array:\", sorted_arr)"
   ]
  },
  {
   "cell_type": "markdown",
   "metadata": {},
   "source": [
    "## 1.3) Fancy indexing to assing new value to specific elements"
   ]
  },
  {
   "cell_type": "code",
   "execution_count": null,
   "metadata": {},
   "outputs": [
    {
     "name": "stdout",
     "output_type": "stream",
     "text": [
      "Array [3 2 6 1 8 5 7 4]\n",
      "New values array [ 3 10  6 20  8  5 30  4]\n"
     ]
    }
   ],
   "source": [
    "import numpy as np\n",
    "\n",
    "# 1D array\n",
    "arr = np.array([3, 2, 6, 1, 8, 5, 7, 4])\n",
    "print(\"Array\", arr)\n",
    "\n",
    "# vytvorim list indexov prvkov pre ktore chcem menit hodnotu\n",
    "list_idx = [1, 3, 6]\n",
    "\n",
    "# vytvorim list novych hodnot\n",
    "new_values = [10, 20, 30]\n",
    "\n",
    "# fancy indexing na priradenie novych hodnot pre dane elemnty\n",
    "arr[list_idx] = new_values\n",
    "print(\"New values array\", arr)"
   ]
  },
  {
   "cell_type": "markdown",
   "metadata": {},
   "source": [
    "## 1.4) Fancy indexing on N-d arrays"
   ]
  },
  {
   "cell_type": "code",
   "execution_count": null,
   "metadata": {},
   "outputs": [
    {
     "name": "stdout",
     "output_type": "stream",
     "text": [
      "2D array\n",
      " [[ 1  3  5]\n",
      " [11  7  9]\n",
      " [13 18 29]]\n",
      "\n",
      "Selected rows\n",
      " [[ 1  3  5]\n",
      " [13 18 29]]\n"
     ]
    }
   ],
   "source": [
    "import numpy as np\n",
    "\n",
    "# 2D array 3x3\n",
    "arr = np.array([[1, 3, 5], [11, 7, 9], [13, 18, 29]])\n",
    "print(\"2D array\\n\", arr)\n",
    "\n",
    "# create an array of row indices\n",
    "row_indices = np.array([0, 2])\n",
    "\n",
    "# use fancy indexing to select specific rows\n",
    "selected_rows = arr[row_indices]\n",
    "\n",
    "print(\"\\nSelected rows\\n\", selected_rows)"
   ]
  }
 ],
 "metadata": {
  "kernelspec": {
   "display_name": ".venv",
   "language": "python",
   "name": "python3"
  },
  "language_info": {
   "codemirror_mode": {
    "name": "ipython",
    "version": 3
   },
   "file_extension": ".py",
   "mimetype": "text/x-python",
   "name": "python",
   "nbconvert_exporter": "python",
   "pygments_lexer": "ipython3",
   "version": "3.13.0"
  }
 },
 "nbformat": 4,
 "nbformat_minor": 2
}

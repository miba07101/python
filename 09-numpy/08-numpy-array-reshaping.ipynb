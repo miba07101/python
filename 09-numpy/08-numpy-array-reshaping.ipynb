{
 "cells": [
  {
   "cell_type": "markdown",
   "metadata": {},
   "source": [
    "# 1) Numpy array reshaping\n",
    "\n",
    "- zmena tvaru/shape pola bez zmeny udajov\n",
    "- zmena napr. 1D pola na N-d(2D) pole\n",
    "- syntax: `np.reshape(array, newshape, order = 'C')`\n",
    "    - array - vstupne pole\n",
    "    - newshape - pozadovany tvar pola\n",
    "    - order (optional) - urcuje poradie v ktorom prvky pola maju byt usporiadane. Defaultne je nastavene 'C'\n",
    "    - pozn.: order moze byt: 'C', 'F', 'A'"
   ]
  },
  {
   "cell_type": "markdown",
   "metadata": {},
   "source": [
    "# 2) Reshape 1D array to 2D array\n",
    "\n",
    "- definujem pocet riadkov a stlpcov"
   ]
  },
  {
   "cell_type": "code",
   "execution_count": null,
   "metadata": {},
   "outputs": [
    {
     "name": "stdout",
     "output_type": "stream",
     "text": [
      "1D array\n",
      " [1 3 5 7 2 4 6 8]\n",
      "Reshaped 2D array\n",
      " [[1 3 5 7]\n",
      " [2 4 6 8]]\n",
      "Reshaped 2D single row array\n",
      " [[1 3 5 7 2 4 6 8]]\n"
     ]
    }
   ],
   "source": [
    "import numpy as np\n",
    "\n",
    "# 1D pole\n",
    "arr = np.array([1, 3, 5, 7, 2, 4, 6, 8])\n",
    "print(\"1D array\\n\", arr)\n",
    "\n",
    "# reshape a 1D array into a 2D array\n",
    "# with 2 rows and 4 columns\n",
    "# newshape dafinujem pomocou tuple (2-riadky,4-stlpce)\n",
    "arr2D = np.reshape(arr, (2, 4))\n",
    "print(\"Reshaped 2D array\\n\", arr2D)\n",
    "\n",
    "# reshape a 1D array into a 2D array with a single row\n",
    "arr2D_single_row = np.reshape(arr, (1, 8))\n",
    "print(\"Reshaped 2D single row array\\n\", arr2D_single_row)"
   ]
  },
  {
   "cell_type": "markdown",
   "metadata": {},
   "source": [
    "# 3) reshape 1D array to 3D array\n",
    "\n",
    "- definujem pocet riadkov, stlpcov a vrstiev"
   ]
  },
  {
   "cell_type": "code",
   "execution_count": null,
   "metadata": {},
   "outputs": [
    {
     "name": "stdout",
     "output_type": "stream",
     "text": [
      "Array\n",
      " [1 3 5 7 2 4 6 8]\n",
      "Reshaped 3D array\n",
      " [[[1 3]\n",
      "  [5 7]]\n",
      "\n",
      " [[2 4]\n",
      "  [6 8]]]\n"
     ]
    }
   ],
   "source": [
    "import numpy as np\n",
    "\n",
    "# 1D pole\n",
    "arr = np.array([1, 3, 5, 7, 2, 4, 6, 8])\n",
    "print(\"Array\\n\", arr)\n",
    "\n",
    "# reshape 1D to 3D array\n",
    "arr3D = np.reshape(arr, (2, 2, 2))\n",
    "print(\"Reshaped 3D array\\n\", arr3D)"
   ]
  },
  {
   "cell_type": "markdown",
   "metadata": {},
   "source": [
    "# 4) Flatten (splostit) N-d array to 1D using reshape()\n",
    "\n",
    "- konvertujem multidimenzionalne pole do 1D pola\n",
    "- **-1** - ako \"newshape\" argument vo f-cie reshape() "
   ]
  },
  {
   "cell_type": "code",
   "execution_count": null,
   "metadata": {},
   "outputs": [
    {
     "name": "stdout",
     "output_type": "stream",
     "text": [
      "2D array\n",
      " [[ 1  3]\n",
      " [ 5  7]\n",
      " [ 9 11]]\n",
      "Flattened 1D array\n",
      " [ 1  3  5  7  9 11]\n",
      "\n",
      "3D array\n",
      " [[[1 3]\n",
      "  [5 7]]\n",
      "\n",
      " [[2 4]\n",
      "  [6 8]]]\n",
      "Flattened 1D array\n",
      " [1 3 5 7 2 4 6 8]\n"
     ]
    }
   ],
   "source": [
    "import numpy as np\n",
    "\n",
    "# flatten 2D array to 1D\n",
    "arr2D = np.array([[1, 3], [5, 7], [9, 11]])\n",
    "print(\"2D array\\n\", arr2D)\n",
    "\n",
    "arr1D = np.reshape(arr2D, -1)\n",
    "print(\"Flattened 1D array\\n\", arr1D)\n",
    "\n",
    "# flatten 3D array to 1D\n",
    "arr3D = np.array([[[1, 3], [5, 7]], [[2, 4], [6, 8]]])\n",
    "print(\"\\n3D array\\n\", arr3D)\n",
    "\n",
    "arr1D = np.reshape(arr3D, -1)\n",
    "print(\"Flattened 1D array\\n\", arr1D)"
   ]
  }
 ],
 "metadata": {
  "kernelspec": {
   "display_name": ".venv",
   "language": "python",
   "name": "python3"
  },
  "language_info": {
   "codemirror_mode": {
    "name": "ipython",
    "version": 3
   },
   "file_extension": ".py",
   "mimetype": "text/x-python",
   "name": "python",
   "nbconvert_exporter": "python",
   "pygments_lexer": "ipython3",
   "version": "3.13.0"
  }
 },
 "nbformat": 4,
 "nbformat_minor": 2
}

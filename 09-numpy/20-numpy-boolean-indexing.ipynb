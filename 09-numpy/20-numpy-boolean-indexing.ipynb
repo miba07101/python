{
 "cells": [
  {
   "cell_type": "markdown",
   "metadata": {},
   "source": [
    "# 1) Numpy boolean indexing\n",
    "\n",
    "- umoznuje filtrovat hodnoty na zaklade urcitej podmienky\n",
    "- pouzivame boolean mask"
   ]
  },
  {
   "cell_type": "markdown",
   "metadata": {},
   "source": [
    "## 1.1) Boolean mask\n",
    "\n",
    "- boolean mask - je numpy pole obsahujuce hodnoty True/False"
   ]
  },
  {
   "cell_type": "code",
   "execution_count": null,
   "metadata": {},
   "outputs": [
    {
     "name": "stdout",
     "output_type": "stream",
     "text": [
      "[False  True False  True  True  True False False]\n"
     ]
    }
   ],
   "source": [
    "import numpy as np\n",
    "\n",
    "arr = np.array([12, 24, 16, 21, 32, 29, 7, 15])\n",
    "\n",
    "# boolean mask, ktora vyhodnoti prvky vacsie ako 20, ako True\n",
    "boolean_mask = arr > 20\n",
    "\n",
    "print(boolean_mask)"
   ]
  },
  {
   "cell_type": "markdown",
   "metadata": {},
   "source": [
    "## 1.2) 1D boolean indexing\n",
    "\n",
    "- boolean mask umoznuje vytvorit filter, ktory pouzijeme ako index pre numpy pole\n",
    "- boolean mask oznaci iba tie prvky v poli, ktore maju True hodnotu"
   ]
  },
  {
   "cell_type": "code",
   "execution_count": null,
   "metadata": {},
   "outputs": [
    {
     "name": "stdout",
     "output_type": "stream",
     "text": [
      "Array: [ 1  2  3  4  5  6  7  8  9 10]\n",
      "Odd (neparne) cisla z arr: [1 3 5 7 9]\n"
     ]
    }
   ],
   "source": [
    "# Boolean indexing na selekciu neparnych cisel\n",
    "import numpy as np\n",
    "\n",
    "# 1D array\n",
    "arr = np.array([1, 2, 3, 4, 5, 6, 7, 8, 9, 10])\n",
    "print(\"Array:\", arr)\n",
    "\n",
    "# vytvorenie podmienky pre selekciu neparnych cisel\n",
    "boolean_mask = arr % 2 != 0\n",
    "\n",
    "# pouzitie boolean mask ako boolean indexing filtra\n",
    "odd_numbers = arr[boolean_mask]\n",
    "print(\"Odd (neparne) cisla z arr:\", odd_numbers)"
   ]
  },
  {
   "cell_type": "code",
   "execution_count": null,
   "metadata": {},
   "outputs": [
    {
     "name": "stdout",
     "output_type": "stream",
     "text": [
      "Array [ 1  2  4  9 11 16 18 22 26 31 33 47 51 52]\n",
      "Result: [ 1  2  4  9 47 51 52]\n"
     ]
    }
   ],
   "source": [
    "# create a boolean mask using combined logical operators\n",
    "import numpy as np\n",
    "\n",
    "arr = np.array([1, 2, 4, 9, 11, 16, 18, 22, 26, 31, 33, 47, 51, 52])\n",
    "print(\"Array\", arr)\n",
    "\n",
    "# vytvorenie boolean mask pre kombinaciu podmienok\n",
    "boolean_mask = (arr < 10) | (arr > 40)\n",
    "\n",
    "# aplikacia boolean mask ako filtra\n",
    "results = arr[boolean_mask]\n",
    "print(\"Result:\", results)"
   ]
  },
  {
   "cell_type": "markdown",
   "metadata": {},
   "source": [
    "## 1.3) Modify elements using boolean indexing"
   ]
  },
  {
   "cell_type": "code",
   "execution_count": null,
   "metadata": {},
   "outputs": [
    {
     "name": "stdout",
     "output_type": "stream",
     "text": [
      "Array [ 1  2  3  4  5  6  7  8  9 10]\n",
      "Even no. replaced by 0: [1 0 3 0 5 0 7 0 9 0]\n"
     ]
    }
   ],
   "source": [
    "# change all even numbers to 0 in the copy\n",
    "import numpy as np\n",
    "\n",
    "# 1D array\n",
    "arr = np.array([1, 2, 3, 4, 5, 6, 7, 8, 9, 10])\n",
    "print(\"Array\", arr)\n",
    "\n",
    "# copy array\n",
    "arr_copy = arr.copy()\n",
    "\n",
    "# boolen indexing condition\n",
    "boolean_mask = arr_copy % 2 == 0\n",
    "\n",
    "# replace all even numbers as 0\n",
    "arr_copy[boolean_mask] = 0\n",
    "print(\"Even no. replaced by 0:\", arr_copy)"
   ]
  },
  {
   "cell_type": "markdown",
   "metadata": {},
   "source": [
    "## 1.4) 2D boolean indexing"
   ]
  },
  {
   "cell_type": "code",
   "execution_count": null,
   "metadata": {},
   "outputs": [
    {
     "name": "stdout",
     "output_type": "stream",
     "text": [
      "2D array\n",
      " [[ 1  7  9]\n",
      " [14 19 21]\n",
      " [25 29 35]]\n",
      "Elements greater than 9: [14 19 21 25 29 35]\n"
     ]
    }
   ],
   "source": [
    "import numpy as np\n",
    "\n",
    "# 2D array 3x3\n",
    "arr = np.array([[1, 7, 9], [14, 19, 21], [25, 29, 35]])\n",
    "print(\"2D array\\n\", arr)\n",
    "\n",
    "# boolen mask condition elements > 9\n",
    "boolean_mask = arr > 9\n",
    "\n",
    "# aplikacia boolean mask ako filtra\n",
    "result = arr[boolean_mask]\n",
    "print(\"Elements greater than 9:\", result)"
   ]
  }
 ],
 "metadata": {
  "kernelspec": {
   "display_name": ".venv",
   "language": "python",
   "name": "python3"
  },
  "language_info": {
   "codemirror_mode": {
    "name": "ipython",
    "version": 3
   },
   "file_extension": ".py",
   "mimetype": "text/x-python",
   "name": "python",
   "nbconvert_exporter": "python",
   "pygments_lexer": "ipython3",
   "version": "3.13.0"
  }
 },
 "nbformat": 4,
 "nbformat_minor": 2
}

{
 "cells": [
  {
   "cell_type": "markdown",
   "metadata": {},
   "source": [
    "# 1) Numpy linear algebra\n",
    "\n",
    "- linear algebra functions:\n",
    "\n",
    "|Operators\t|Descriptions|\n",
    "|---        |---|\n",
    "|dot()\t    |calculates product (sucin) of two arrays|\n",
    "|inner()\t|calculates inner product of arrays|\n",
    "|outer()\t|calculates outer product of arrays|\n",
    "|linalg.det()\t    |calculates determinant of a matrix|\n",
    "|linalg.solve()\t|solves linear matrix equation|\n",
    "|linalg.inv()\t    |calculates the multiplicative inverse of the matrix|\n",
    "|trace()\t|calculates the sum of diagonal elements|"
   ]
  },
  {
   "cell_type": "markdown",
   "metadata": {},
   "source": [
    "## 1.1) dot() - multiplication"
   ]
  },
  {
   "cell_type": "code",
   "execution_count": null,
   "metadata": {},
   "outputs": [
    {
     "name": "stdout",
     "output_type": "stream",
     "text": [
      "44\n"
     ]
    }
   ],
   "source": [
    "import numpy as np\n",
    "\n",
    "arr1 = np.array([1, 3, 5])\n",
    "arr2 = np.array([2, 4, 6])\n",
    "\n",
    "# use of dot() to perform array multiplication\n",
    "result = np.dot(arr1, arr2)\n",
    "\n",
    "print(result)\n",
    "# output: 44\n",
    "# 1*2 + 3*4 + 5*6 = 44"
   ]
  },
  {
   "cell_type": "markdown",
   "metadata": {},
   "source": [
    "## 1.2) inner()\n",
    "\n",
    "- vypocet vnutornych sucinov 2 poli, ktory je suctom sucinov ich zodpovedajucich prvkov"
   ]
  },
  {
   "cell_type": "code",
   "execution_count": null,
   "metadata": {},
   "outputs": [
    {
     "name": "stdout",
     "output_type": "stream",
     "text": [
      "[[14 30]\n",
      " [38 86]]\n"
     ]
    }
   ],
   "source": [
    "import numpy as np\n",
    "\n",
    "arr1 = np.array([[1, 3], [5, 7]])\n",
    "arr2 = np.array([[2, 4], [6, 8]])\n",
    "\n",
    "# inner() for 2D arrays\n",
    "result = np.inner(arr1, arr2)\n",
    "\n",
    "print(result)\n",
    "\n",
    "# output calc\n",
    "# 1*2+3*4  1*6+3*8\n",
    "# 5*2+7*4  5*6+7*8"
   ]
  },
  {
   "cell_type": "markdown",
   "metadata": {},
   "source": [
    "## 1.3) outer()\n",
    "\n",
    "- vypocet vonkajsieho sucinu 2 poli, ktory je sucinom vsetkych moznych parov prvkov"
   ]
  },
  {
   "cell_type": "code",
   "execution_count": null,
   "metadata": {},
   "outputs": [
    {
     "name": "stdout",
     "output_type": "stream",
     "text": [
      "[[ 2  4  6]\n",
      " [ 6 12 18]\n",
      " [10 20 30]]\n"
     ]
    }
   ],
   "source": [
    "import numpy as np\n",
    "\n",
    "arr1 = np.array([1, 3, 5])\n",
    "arr2 = np.array([2, 4, 6])\n",
    "\n",
    "# outer() to perform outer multiplication\n",
    "result = np.outer(arr1, arr2)\n",
    "\n",
    "print(result)\n",
    "# output calc\n",
    "# 1*2   1*4    1*6\n",
    "# 3*2   3*4    3*6\n",
    "# 5*2   5*4    5*6"
   ]
  },
  {
   "cell_type": "markdown",
   "metadata": {},
   "source": [
    "# 1.4) linalg.det()\n",
    "\n",
    "- vypocet determinantu matice"
   ]
  },
  {
   "cell_type": "code",
   "execution_count": 7,
   "metadata": {},
   "outputs": [
    {
     "name": "stdout",
     "output_type": "stream",
     "text": [
      "-7.999999999999998\n"
     ]
    }
   ],
   "source": [
    "import numpy as np\n",
    "\n",
    "# define a square matrix\n",
    "arr = np.array([[1, 3], [5, 7]])\n",
    "\n",
    "# compute the determinant of array\n",
    "result = np.linalg.det(arr)\n",
    "print(result)"
   ]
  },
  {
   "cell_type": "markdown",
   "metadata": {},
   "source": [
    "## 1.5) linalg.solve()\n",
    "\n",
    "- na riesenie systemu linearnych rovnic\n",
    "- pr. matica `A` a vektor `b`, riesenim je vektor `x`, ktory splna `A.x = b`"
   ]
  },
  {
   "cell_type": "code",
   "execution_count": null,
   "metadata": {},
   "outputs": [
    {
     "name": "stdout",
     "output_type": "stream",
     "text": [
      "[-2.    2.25]\n"
     ]
    }
   ],
   "source": [
    "import numpy as np\n",
    "\n",
    "# define the coefficient matrix A\n",
    "A = np.array([[2, 4], [6, 8]])\n",
    "\n",
    "# define the constant vector b\n",
    "b = np.array([5, 6])\n",
    "\n",
    "# solve the system of linear equations Ax = b\n",
    "x = np.linalg.solve(A, b)\n",
    "\n",
    "print(x)\n",
    "#  x = solution to the system of linear equations\n",
    "#  2x + 4y = 5 and 6x + 8y = 6"
   ]
  },
  {
   "cell_type": "markdown",
   "metadata": {},
   "source": [
    "## 1.6) linalg.inv()\n",
    "\n",
    "- inverzia stvorcovej matice"
   ]
  },
  {
   "cell_type": "code",
   "execution_count": null,
   "metadata": {},
   "outputs": [
    {
     "name": "stdout",
     "output_type": "stream",
     "text": [
      "Array:\n",
      " [[2 4]\n",
      " [6 8]]\n",
      "Inverted matrix:\n",
      " [[-1.    0.5 ]\n",
      " [ 0.75 -0.25]]\n"
     ]
    }
   ],
   "source": [
    "import numpy as np\n",
    "\n",
    "# define a 2x2 matrix\n",
    "arr = np.array([[2, 4], [6, 8]])\n",
    "print(\"Array:\\n\", arr)\n",
    "\n",
    "# compute the inverse of the matrix\n",
    "result = np.linalg.inv(arr)\n",
    "\n",
    "print(\"Inverted matrix:\\n\", result)"
   ]
  },
  {
   "cell_type": "markdown",
   "metadata": {},
   "source": [
    "## 1.7) trace()\n",
    "\n",
    "- vypocet suctu diagonalnych prvkov matice"
   ]
  },
  {
   "cell_type": "code",
   "execution_count": null,
   "metadata": {},
   "outputs": [
    {
     "name": "stdout",
     "output_type": "stream",
     "text": [
      "Array:\n",
      " [[6 3 5]\n",
      " [9 2 1]\n",
      " [7 8 4]]\n",
      "Trace of matrix: 12\n"
     ]
    }
   ],
   "source": [
    "import numpy as np\n",
    "\n",
    "# define a 3x3 matrix\n",
    "arr = np.array([[6, 3, 5], [9, 2, 1], [7, 8, 4]])\n",
    "print(\"Array:\\n\", arr)\n",
    "\n",
    "# compute the trace of the matrix\n",
    "result = np.trace(arr)\n",
    "\n",
    "print(\"Trace of matrix:\", result)\n",
    "# output calc\n",
    "# 6+2+4 = 12"
   ]
  }
 ],
 "metadata": {
  "kernelspec": {
   "display_name": ".venv",
   "language": "python",
   "name": "python3"
  },
  "language_info": {
   "codemirror_mode": {
    "name": "ipython",
    "version": 3
   },
   "file_extension": ".py",
   "mimetype": "text/x-python",
   "name": "python",
   "nbconvert_exporter": "python",
   "pygments_lexer": "ipython3",
   "version": "3.13.0"
  }
 },
 "nbformat": 4,
 "nbformat_minor": 2
}

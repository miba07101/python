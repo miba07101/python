{
 "cells": [
  {
   "attachments": {
    "image.png": {
     "image/png": "[encoded data removed]"
    }
   },
   "cell_type": "markdown",
   "metadata": {},
   "source": [
    "# 1) Numpy matrix operations\n",
    "\n",
    "- matrix (matica) - 2-dimenzionalna datova struktura, kde udaje su usporiadane do riadkov a poli\n",
    "\n",
    "![image.png](attachment:image.png)\n",
    "\n",
    "- operations:\n",
    "\n",
    "|Functions\t    |Descriptions|\n",
    "|---            |---|\n",
    "|array()\t    |creates a matrix|\n",
    "|dot()\t        |performs matrix multiplication|\n",
    "|transpose()\t|transposes a matrix|\n",
    "|linalg.inv()   |calculates the inverse of a matrix|\n",
    "|linalg.det()\t|calculates the determinant of a matrix|\n",
    "|flatten()\t    |transforms a matrix into 1D array|"
   ]
  },
  {
   "cell_type": "markdown",
   "metadata": {},
   "source": [
    "## 1.1) Create matrix - array()"
   ]
  },
  {
   "cell_type": "code",
   "execution_count": null,
   "metadata": {},
   "outputs": [
    {
     "name": "stdout",
     "output_type": "stream",
     "text": [
      "2x2 matrix:\n",
      " [[1 3]\n",
      " [5 7]]\n",
      "\n",
      "3x3 matrix:\n",
      " [[ 2  3  5]\n",
      " [ 7 14 21]\n",
      " [ 1  3  5]]\n"
     ]
    }
   ],
   "source": [
    "import numpy as np\n",
    "\n",
    "# 2x2 matrix\n",
    "matrix1 = np.array([[1, 3], [5, 7]])\n",
    "print(\"2x2 matrix:\\n\", matrix1)\n",
    "\n",
    "# 3x3 matrix\n",
    "matrix2 = np.array([[2, 3, 5], [7, 14, 21], [1, 3, 5]])\n",
    "print(\"\\n3x3 matrix:\\n\", matrix2)"
   ]
  },
  {
   "cell_type": "markdown",
   "metadata": {},
   "source": [
    "## 1.2) Multiplication - dot()\n",
    "\n",
    "- nasobit mozme iba tie matice, ktore maju bezne rozmery (nie z matematickej definicie nasobenia matic)"
   ]
  },
  {
   "cell_type": "code",
   "execution_count": null,
   "metadata": {},
   "outputs": [
    {
     "name": "stdout",
     "output_type": "stream",
     "text": [
      "matrix1 x matrix2:\n",
      " [[14 30]\n",
      " [38 86]]\n"
     ]
    }
   ],
   "source": [
    "import numpy as np\n",
    "\n",
    "# create two matrices\n",
    "matrix1 = np.array([[1, 3], [5, 7]])\n",
    "\n",
    "matrix2 = np.array([[2, 6], [4, 8]])\n",
    "\n",
    "# calculate the dot product of the two matrices\n",
    "print(\"matrix1 x matrix2:\\n\", np.dot(matrix1, matrix2))"
   ]
  },
  {
   "cell_type": "markdown",
   "metadata": {},
   "source": [
    "## 1.3) Transpose - transpose()"
   ]
  },
  {
   "cell_type": "code",
   "execution_count": null,
   "metadata": {},
   "outputs": [
    {
     "name": "stdout",
     "output_type": "stream",
     "text": [
      "Matrix:\n",
      " [[1 3]\n",
      " [5 7]]\n",
      "Transposed matrix:\n",
      " [[1 5]\n",
      " [3 7]]\n"
     ]
    }
   ],
   "source": [
    "import numpy as np\n",
    "\n",
    "# create a matrix\n",
    "matrix1 = np.array([[1, 3], [5, 7]])\n",
    "print(\"Matrix:\\n\", matrix1)\n",
    "\n",
    "# get transpose of matrix1\n",
    "print(\"Transposed matrix:\\n\", np.transpose(matrix1))"
   ]
  },
  {
   "cell_type": "markdown",
   "metadata": {},
   "source": [
    "## 1.4) Inverse of a matrix - linalg.inv()\n",
    "\n",
    "- invertovat mozem asi len stvorcove matice\n",
    "- ak chcem invertovat ne-stvorcovu maticu, dostanem error"
   ]
  },
  {
   "cell_type": "code",
   "execution_count": null,
   "metadata": {},
   "outputs": [
    {
     "name": "stdout",
     "output_type": "stream",
     "text": [
      "Matrix:\n",
      " [[1 3 5]\n",
      " [7 9 2]\n",
      " [4 6 8]]\n",
      "Inverse matrix:\n",
      " [[-1.11111111 -0.11111111  0.72222222]\n",
      " [ 0.88888889  0.22222222 -0.61111111]\n",
      " [-0.11111111 -0.11111111  0.22222222]]\n"
     ]
    }
   ],
   "source": [
    "import numpy as np\n",
    "\n",
    "# create a 3x3 square matrix\n",
    "matrix1 = np.array([[1, 3, 5], [7, 9, 2], [4, 6, 8]])\n",
    "print(\"Matrix:\\n\", matrix1)\n",
    "\n",
    "# find inverse of matrix1\n",
    "print(\"Inverse matrix:\\n\", np.linalg.inv(matrix1))"
   ]
  },
  {
   "cell_type": "markdown",
   "metadata": {},
   "source": [
    "## 1.5) Determinant of a matrix - linalg.det()"
   ]
  },
  {
   "cell_type": "code",
   "execution_count": null,
   "metadata": {},
   "outputs": [
    {
     "name": "stdout",
     "output_type": "stream",
     "text": [
      "Matrix:\n",
      " [[1 2]\n",
      " [3 4]]\n",
      "Determinant matrix:\n",
      " -2.0000000000000004\n"
     ]
    }
   ],
   "source": [
    "import numpy as np\n",
    "\n",
    "# create a matrix\n",
    "matrix1 = np.array([[1, 2], [3, 4]])\n",
    "print(\"Matrix:\\n\", matrix1)\n",
    "\n",
    "# find determinant of matrix1\n",
    "print(\"Determinant matrix:\\n\", np.linalg.det(matrix1))"
   ]
  },
  {
   "cell_type": "markdown",
   "metadata": {},
   "source": [
    "## 1.6) Flatten (splostenie) matrix\n",
    "\n",
    "- konvertujeme maticu (cize 2D pole) na 1D pole - matrix.flatten()"
   ]
  },
  {
   "cell_type": "code",
   "execution_count": null,
   "metadata": {},
   "outputs": [
    {
     "name": "stdout",
     "output_type": "stream",
     "text": [
      "Matrix:\n",
      " [[1 2 3]\n",
      " [4 5 7]]\n",
      "Flattened 2x3 matrix: [1 2 3 4 5 7]\n"
     ]
    }
   ],
   "source": [
    "import numpy as np\n",
    "\n",
    "# create a 2x3 matrix\n",
    "matrix1 = np.array([[1, 2, 3], [4, 5, 7]])\n",
    "print(\"Matrix:\\n\", matrix1)\n",
    "\n",
    "print(\"Flattened 2x3 matrix:\", matrix1.flatten())"
   ]
  }
 ],
 "metadata": {
  "kernelspec": {
   "display_name": ".venv",
   "language": "python",
   "name": "python3"
  },
  "language_info": {
   "codemirror_mode": {
    "name": "ipython",
    "version": 3
   },
   "file_extension": ".py",
   "mimetype": "text/x-python",
   "name": "python",
   "nbconvert_exporter": "python",
   "pygments_lexer": "ipython3",
   "version": "3.13.0"
  }
 },
 "nbformat": 4,
 "nbformat_minor": 2
}

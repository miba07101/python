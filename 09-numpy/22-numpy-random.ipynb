{
 "cells": [
  {
   "cell_type": "markdown",
   "metadata": {},
   "source": [
    "# 1) Numpy random\n",
    "\n",
    "- **random** module - obsahuje f-cie, napr. **randit()** na generovanie nahodnych cisel"
   ]
  },
  {
   "cell_type": "markdown",
   "metadata": {},
   "source": [
    "## 1.1) Generate random integer\n",
    "\n",
    "- **random.randit()**"
   ]
  },
  {
   "cell_type": "code",
   "execution_count": 1,
   "metadata": {},
   "outputs": [
    {
     "name": "stdout",
     "output_type": "stream",
     "text": [
      "6\n"
     ]
    }
   ],
   "source": [
    "import numpy as np\n",
    "\n",
    "# generate random integer from 0 to 9\n",
    "random_number = np.random.randint(0, 10)\n",
    "\n",
    "print(random_number)"
   ]
  },
  {
   "cell_type": "markdown",
   "metadata": {},
   "source": [
    "## 1.2) Generate random float\n",
    "\n",
    "- **random.rand()**"
   ]
  },
  {
   "cell_type": "code",
   "execution_count": 2,
   "metadata": {},
   "outputs": [
    {
     "name": "stdout",
     "output_type": "stream",
     "text": [
      "0.2838709399971098\n"
     ]
    }
   ],
   "source": [
    "import numpy as np\n",
    "\n",
    "# generate random float-point number between 0 and 1\n",
    "random_number = np.random.rand()\n",
    "\n",
    "print(random_number)"
   ]
  },
  {
   "cell_type": "markdown",
   "metadata": {},
   "source": [
    "## 1.3) Generate random array"
   ]
  },
  {
   "cell_type": "code",
   "execution_count": null,
   "metadata": {},
   "outputs": [
    {
     "name": "stdout",
     "output_type": "stream",
     "text": [
      "Random integer array: [5 4 4 8 8]\n",
      "Random float array: [0.4353485  0.22415789 0.92648029 0.57665225 0.6612046 ]\n",
      "Random 2D array:\n",
      " [[5 6 7 8]\n",
      " [4 2 1 3]\n",
      " [4 0 1 0]]\n"
     ]
    }
   ],
   "source": [
    "import numpy as np\n",
    "\n",
    "# generate 1D array of 5 random integers between 0 and 9\n",
    "arr_int = np.random.randint(0, 10, 5)\n",
    "print(\"Random integer array:\", arr_int)\n",
    "\n",
    "# generate 1D array of 5 random numbers between 0 and 1\n",
    "arr_float = np.random.rand(5)\n",
    "print(\"Random float array:\", arr_float)\n",
    "\n",
    "# generate 2D array of shape (3, 4) with random integers\n",
    "arr2D = np.random.randint(0, 10, (3, 4))\n",
    "print(\"Random 2D array:\\n\", arr2D)"
   ]
  },
  {
   "cell_type": "markdown",
   "metadata": {},
   "source": [
    "## 1.4) Choose random number from array\n",
    "\n",
    "- **random.choice()**"
   ]
  },
  {
   "cell_type": "code",
   "execution_count": null,
   "metadata": {},
   "outputs": [
    {
     "name": "stdout",
     "output_type": "stream",
     "text": [
      "Array: [1 2 3 4 5]\n",
      "Random number from array: 2\n"
     ]
    }
   ],
   "source": [
    "import numpy as np\n",
    "\n",
    "# 1D array\n",
    "arr = np.array([1, 2, 3, 4, 5])\n",
    "print(\"Array:\", arr)\n",
    "\n",
    "# choose a random number from array\n",
    "random_number = np.random.choice(arr)\n",
    "print(\"Random number from array:\", random_number)"
   ]
  }
 ],
 "metadata": {
  "kernelspec": {
   "display_name": ".venv",
   "language": "python",
   "name": "python3"
  },
  "language_info": {
   "codemirror_mode": {
    "name": "ipython",
    "version": 3
   },
   "file_extension": ".py",
   "mimetype": "text/x-python",
   "name": "python",
   "nbconvert_exporter": "python",
   "pygments_lexer": "ipython3",
   "version": "3.13.0"
  }
 },
 "nbformat": 4,
 "nbformat_minor": 2
}

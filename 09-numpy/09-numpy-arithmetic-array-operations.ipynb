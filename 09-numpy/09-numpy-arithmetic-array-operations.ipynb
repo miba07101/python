{
 "cells": [
  {
   "cell_type": "markdown",
   "metadata": {},
   "source": [
    "# 1) Numpy arithmetic array operations\n",
    "\n",
    "- arithmetic operations:\n",
    "\n",
    "|Element-wise operation |Operator   |Function   |\n",
    "|---|---|---|\n",
    "|Addition               |`+`        |add()      |\n",
    "|Subtraction            |`-`        |subtract() |\n",
    "|Multiplication         |`*`        |multiply() |\n",
    "|Division               |`/`        |divide()   |\n",
    "|Exponentiation         |`**`       |power()    |\n",
    "|Modulus                |`%`        |mod()      |\n",
    "\n",
    "- mozem pouzit but operator, npr. `+` alebo f-ciu **add()**\n"
   ]
  }
 ],
 "metadata": {
  "language_info": {
   "name": "python"
  }
 },
 "nbformat": 4,
 "nbformat_minor": 2
}

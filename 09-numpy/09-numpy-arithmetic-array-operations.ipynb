{
 "cells": [
  {
   "cell_type": "markdown",
   "metadata": {},
   "source": [
    "# 1) Numpy arithmetic array operations\n",
    "\n",
    "- arithmetic operations:\n",
    "\n",
    "|Element-wise operation |Operator   |Function   |\n",
    "|---|---|---|\n",
    "|Addition               |`+`        |add()      |\n",
    "|Subtraction            |`-`        |subtract() |\n",
    "|Multiplication         |`*`        |multiply() |\n",
    "|Division               |`/`        |divide()   |\n",
    "|Exponentiation         |`**`       |power()    |\n",
    "|Modulus                |`%`        |mod()      |\n",
    "\n",
    "- mozem pouzit but operator, npr. `+` alebo f-ciu **add()**\n"
   ]
  },
  {
   "cell_type": "markdown",
   "metadata": {},
   "source": [
    "## 1.1) Addition"
   ]
  },
  {
   "cell_type": "code",
   "execution_count": null,
   "metadata": {},
   "outputs": [
    {
     "name": "stdout",
     "output_type": "stream",
     "text": [
      "Using +: [ 3  7 11 15]\n",
      "Using add(): [ 3  7 11 15]\n"
     ]
    }
   ],
   "source": [
    "import numpy as np\n",
    "\n",
    "arr1 = np.array([1, 3, 5, 7])\n",
    "arr2 = np.array([2, 4, 6, 8])\n",
    "\n",
    "# using '+' operator\n",
    "result = arr1 + arr2\n",
    "print(\"Using +:\", result)\n",
    "\n",
    "# using the add() function\n",
    "result = np.add(arr1, arr2)\n",
    "print(\"Using add():\", result)"
   ]
  },
  {
   "cell_type": "markdown",
   "metadata": {},
   "source": [
    "## 1.2) Subtraction"
   ]
  },
  {
   "cell_type": "code",
   "execution_count": null,
   "metadata": {},
   "outputs": [
    {
     "name": "stdout",
     "output_type": "stream",
     "text": [
      "Using +: [ 1  5 19 65]\n",
      "Using subtract(): [ 1  5 19 65]\n"
     ]
    }
   ],
   "source": [
    "import numpy as np\n",
    "\n",
    "arr1 = np.array([3, 9, 27, 81])\n",
    "arr2 = np.array([2, 4, 8, 16])\n",
    "\n",
    "# using '-' operator\n",
    "result = arr1 - arr2\n",
    "\n",
    "print(\"Using -:\", result)\n",
    "\n",
    "# using the subtract() function\n",
    "result = np.subtract(arr1, arr2)\n",
    "print(\"Using subtract():\", result)"
   ]
  },
  {
   "cell_type": "markdown",
   "metadata": {},
   "source": [
    "## 1.3) Multiplication"
   ]
  },
  {
   "cell_type": "code",
   "execution_count": 11,
   "metadata": {},
   "outputs": [
    {
     "name": "stdout",
     "output_type": "stream",
     "text": [
      "Using *: [ 2 12 30 56]\n",
      "Using multiply(): [ 2 12 30 56]\n"
     ]
    }
   ],
   "source": [
    "import numpy as np\n",
    "\n",
    "arr1 = np.array([1, 3, 5, 7])\n",
    "arr2 = np.array([2, 4, 6, 8])\n",
    "\n",
    "# using '*' operator\n",
    "result = arr1 * arr2\n",
    "print(\"Using *:\", result)\n",
    "\n",
    "# using the multiply() function\n",
    "result = np.multiply(arr1, arr2)\n",
    "print(\"Using multiply():\", result)"
   ]
  },
  {
   "cell_type": "markdown",
   "metadata": {},
   "source": [
    "## 1.4) Division"
   ]
  },
  {
   "cell_type": "code",
   "execution_count": null,
   "metadata": {},
   "outputs": [
    {
     "name": "stdout",
     "output_type": "stream",
     "text": [
      "Using /: [0.25 0.4  0.5 ]\n",
      "Using divide(): [0.25 0.4  0.5 ]\n"
     ]
    }
   ],
   "source": [
    "import numpy as np\n",
    "\n",
    "arr1 = np.array([1, 2, 3])\n",
    "arr2 = np.array([4, 5, 6])\n",
    "\n",
    "# using '/' operator\n",
    "result = arr1 / arr2\n",
    "print(\"Using /:\", result)\n",
    "\n",
    "# using the divide() function\n",
    "result = np.divide(arr1, arr2)\n",
    "print(\"Using divide():\", result)"
   ]
  },
  {
   "cell_type": "markdown",
   "metadata": {},
   "source": [
    "## 1.5) Exponentiation"
   ]
  },
  {
   "cell_type": "code",
   "execution_count": null,
   "metadata": {},
   "outputs": [
    {
     "name": "stdout",
     "output_type": "stream",
     "text": [
      "Using **: [1 4 9]\n",
      "Using power(): [1 4 9]\n"
     ]
    }
   ],
   "source": [
    "import numpy as np\n",
    "\n",
    "arr = np.array([1, 2, 3])\n",
    "\n",
    "# using '**' operator\n",
    "result = arr**2\n",
    "print(\"Using **:\", result)\n",
    "\n",
    "# using the power() function\n",
    "result = np.power(arr, 2)\n",
    "print(\"Using power():\", result)"
   ]
  },
  {
   "cell_type": "markdown",
   "metadata": {},
   "source": [
    "## 1.6) Modulus"
   ]
  },
  {
   "cell_type": "code",
   "execution_count": null,
   "metadata": {},
   "outputs": [
    {
     "name": "stdout",
     "output_type": "stream",
     "text": [
      "Using %: [1 0 6]\n",
      "Using mod(): [1 0 6]\n"
     ]
    }
   ],
   "source": [
    "import numpy as np\n",
    "\n",
    "arr1 = np.array([9, 10, 20])\n",
    "arr2 = np.array([2, 5, 7])\n",
    "\n",
    "# using '%' operator\n",
    "result = arr1 % arr2\n",
    "print(\"Using %:\", result)\n",
    "\n",
    "# using the mod() function\n",
    "result = np.mod(arr1, arr2)\n",
    "print(\"Using mod():\", result)"
   ]
  }
 ],
 "metadata": {
  "kernelspec": {
   "display_name": ".venv",
   "language": "python",
   "name": "python3"
  },
  "language_info": {
   "codemirror_mode": {
    "name": "ipython",
    "version": 3
   },
   "file_extension": ".py",
   "mimetype": "text/x-python",
   "name": "python",
   "nbconvert_exporter": "python",
   "pygments_lexer": "ipython3",
   "version": "3.13.0"
  }
 },
 "nbformat": 4,
 "nbformat_minor": 2
}

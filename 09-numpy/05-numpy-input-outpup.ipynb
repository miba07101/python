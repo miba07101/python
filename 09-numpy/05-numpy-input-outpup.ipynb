{
 "cells": [
  {
   "cell_type": "markdown",
   "metadata": {},
   "source": [
    "# 1) Numpy input output (I/O)\n",
    "\n",
    "- f-cie na nacitavanie a ukladanie udajov a zo suborov\n",
    "\n",
    "|Function   |Description|\n",
    "|---        |---        |\n",
    "|save()     |saves an array to a binary file in the NumPy .npy format|\n",
    "|load()     |loads data from a binary file in the NumPy .npy format|\n",
    "|savetxt()  |saves an array to a text file in a specific format|\n",
    "|loadtxt()\t|loads data from a text file|\n"
   ]
  },
  {
   "cell_type": "code",
   "execution_count": null,
   "metadata": {},
   "outputs": [],
   "source": [
    "import numpy as np\n",
    "\n",
    "# pole 2x3\n",
    "arr = np.array([[1, 2, 3], [4, 5, 6]])\n",
    "\n",
    "# save()\n",
    "# np.save('file_name.npy', arr)\n",
    "\n",
    "# load()\n",
    "# loaded_arr = np.load('file_name.npy')\n",
    "\n",
    "# savetxt()\n",
    "# np.savetxt('file_name.txt',arr)\n",
    "\n",
    "# loadtxt()\n",
    "# loaded_arr = np.loadtxt(\"file_name.txt\")\n",
    "\n",
    "# Note: The values in the loaded array have dots . because\n",
    "# loadtxt() reads the values as floating point numbers by default."
   ]
  }
 ],
 "metadata": {
  "kernelspec": {
   "display_name": ".venv",
   "language": "python",
   "name": "python3"
  },
  "language_info": {
   "name": "python",
   "version": "3.13.0"
  }
 },
 "nbformat": 4,
 "nbformat_minor": 2
}

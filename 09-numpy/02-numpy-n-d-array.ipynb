{
 "cells": [
  {
   "cell_type": "markdown",
   "metadata": {},
   "source": [
    "# 1) N-D array\n",
    "\n",
    "- N-dimezionalne pole, s n-poctom dimenzii, v ktorych je usporiadane pole\n",
    "- pr. 2D pole predstavuje tabulku s riadkami (rows) a stlpcami (columns)\n",
    "- pr. 3D pole predstavuje kocku s vyskou, sit=rkou a hlbkou \n"
   ]
  },
  {
   "cell_type": "markdown",
   "metadata": {},
   "source": [
    "## 1.1) N-D array creation\n",
    "\n",
    "- **np.array()** - pole vytvorene z listu\n",
    "- **np.zeros()** - pole vyplnene len nulami 0\n",
    "- **np.ones()** - pole vyplnene len jednotkami 1\n",
    "- **np.arange()** - vrati pole s hodnotami v definovanom intervale\n",
    "- **np.full()** - pole so specifickou hodnotou\n",
    "- **np.random.rand()** - pole s nahodnymi hodnotami\n",
    "- **np.empty()** - prazdne pole"
   ]
  },
  {
   "cell_type": "markdown",
   "metadata": {},
   "source": [
    "### 1.1.1) N-D creation from list of lists"
   ]
  },
  {
   "cell_type": "code",
   "execution_count": null,
   "metadata": {},
   "outputs": [
    {
     "name": "stdout",
     "output_type": "stream",
     "text": [
      "2D\n",
      " [[1 2 3 4]\n",
      " [5 6 4 8]] \n",
      "\n",
      "3D\n",
      " [[[ 1  2  3  4]\n",
      "  [ 5  6  7  8]\n",
      "  [ 9 10 11 12]]\n",
      "\n",
      " [[13 14 15 16]\n",
      "  [17 18 19 20]\n",
      "  [21 22 23 24]]] \n",
      "\n"
     ]
    }
   ],
   "source": [
    "import numpy as np\n",
    "\n",
    "# 2D pole s 2 riadkami a 4 stlpcami\n",
    "arr2D = np.array([[1, 2, 3, 4], [5, 6, 4, 8]])\n",
    "\n",
    "print(\"2D\\n\", arr2D, \"\\n\")\n",
    "\n",
    "# 3D pole s 2 \"platkami (slices)\", kazdy slice ma 3 riadky a 4 stlpcami\n",
    "arr3D = np.array(\n",
    "    [\n",
    "        [[1, 2, 3, 4], [5, 6, 7, 8], [9, 10, 11, 12]],\n",
    "        [[13, 14, 15, 16], [17, 18, 19, 20], [21, 22, 23, 24]],\n",
    "    ]\n",
    ")\n",
    "\n",
    "print(\"3D\\n\", arr3D, \"\\n\")"
   ]
  },
  {
   "cell_type": "markdown",
   "metadata": {},
   "source": [
    "### 1.1.2) N-D creation using np.zeros()"
   ]
  },
  {
   "cell_type": "code",
   "execution_count": null,
   "metadata": {},
   "outputs": [
    {
     "name": "stdout",
     "output_type": "stream",
     "text": [
      "2D\n",
      " [[0. 0. 0.]\n",
      " [0. 0. 0.]] \n",
      "\n",
      "3D\n",
      " [[[0. 0. 0. 0.]\n",
      "  [0. 0. 0. 0.]\n",
      "  [0. 0. 0. 0.]]\n",
      "\n",
      " [[0. 0. 0. 0.]\n",
      "  [0. 0. 0. 0.]\n",
      "  [0. 0. 0. 0.]]] \n",
      "\n"
     ]
    }
   ],
   "source": [
    "import numpy as np\n",
    "\n",
    "# 2D pole s 2 riadkami a 3 stlpcami vyplnene 0\n",
    "arr2D = np.zeros((2, 3))\n",
    "print(\"2D\\n\", arr2D, \"\\n\")\n",
    "\n",
    "# 3D pole rozmerov 2x3x4 vyplnene 0\n",
    "arr3D = np.zeros((2, 3, 4))\n",
    "print(\"3D\\n\", arr3D, \"\\n\")"
   ]
  },
  {
   "cell_type": "markdown",
   "metadata": {},
   "source": [
    "### 1.1.3) N-D creation using np.full()"
   ]
  },
  {
   "cell_type": "code",
   "execution_count": null,
   "metadata": {},
   "outputs": [
    {
     "name": "stdout",
     "output_type": "stream",
     "text": [
      "2D\n",
      " [[5 5]\n",
      " [5 5]]\n"
     ]
    }
   ],
   "source": [
    "import numpy as np\n",
    "\n",
    "# 2D pole rozmer 2x2 vyplnene 5\n",
    "arr2D = np.full((2, 2), 5)\n",
    "print(\"2D\\n\", arr2D)"
   ]
  },
  {
   "cell_type": "markdown",
   "metadata": {},
   "source": [
    "### 1.1.3) N-D creation using np.random.rand()"
   ]
  },
  {
   "cell_type": "code",
   "execution_count": null,
   "metadata": {},
   "outputs": [
    {
     "name": "stdout",
     "output_type": "stream",
     "text": [
      "2D\n",
      " [[0.97072004 0.19545232]\n",
      " [0.22599203 0.89164101]]\n",
      "3D\n",
      " [[[0.27895543 0.69472073]\n",
      "  [0.59456776 0.9892985 ]]\n",
      "\n",
      " [[0.05008949 0.99509182]\n",
      "  [0.5129192  0.84571791]]\n",
      "\n",
      " [[0.1828345  0.62003761]\n",
      "  [0.61414128 0.65299364]]]\n"
     ]
    }
   ],
   "source": [
    "import numpy as np\n",
    "\n",
    "# 2D pole 2x2 s nahodnymi cislami\n",
    "arr2D = np.random.rand(2, 2)\n",
    "print(\"2D\\n\", arr2D)\n",
    "\n",
    "# 3D pole 2x2x2 s nahodnymi cislami\n",
    "arr3D = np.random.rand(3, 2, 2)\n",
    "print(\"3D\\n\", arr3D)"
   ]
  },
  {
   "cell_type": "markdown",
   "metadata": {},
   "source": [
    "### 1.1.4) N-D empty"
   ]
  },
  {
   "cell_type": "code",
   "execution_count": null,
   "metadata": {},
   "outputs": [
    {
     "name": "stdout",
     "output_type": "stream",
     "text": [
      "2D\n",
      " [[0.97072004 0.19545232]\n",
      " [0.22599203 0.89164101]]\n",
      "\n",
      "3D\n",
      " [[[0.27895543 0.69472073]\n",
      "  [0.59456776 0.9892985 ]]\n",
      "\n",
      " [[0.05008949 0.99509182]\n",
      "  [0.5129192  0.84571791]]\n",
      "\n",
      " [[0.1828345  0.62003761]\n",
      "  [0.61414128 0.65299364]]]\n",
      "\n"
     ]
    }
   ],
   "source": [
    "import numpy as np\n",
    "\n",
    "# 2D prazdne pole 2x2\n",
    "arr2D = np.empty((2, 2))\n",
    "print(f\"2D\\n {arr2D}\\n\")\n",
    "\n",
    "# 3D prazdne pole 3x2x2\n",
    "arr3D = np.empty((3, 2, 2))\n",
    "print(f\"3D\\n {arr3D}\\n\")"
   ]
  }
 ],
 "metadata": {
  "kernelspec": {
   "display_name": ".venv",
   "language": "python",
   "name": "python3"
  },
  "language_info": {
   "codemirror_mode": {
    "name": "ipython",
    "version": 3
   },
   "file_extension": ".py",
   "mimetype": "text/x-python",
   "name": "python",
   "nbconvert_exporter": "python",
   "pygments_lexer": "ipython3",
   "version": "3.13.0"
  }
 },
 "nbformat": 4,
 "nbformat_minor": 2
}

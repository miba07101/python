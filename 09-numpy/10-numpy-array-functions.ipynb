{
 "cells": [
  {
   "cell_type": "markdown",
   "metadata": {},
   "source": [
    "# 1) Numpy array functions\n",
    "\n",
    "- array functions:\n",
    "\n",
    "|Array Operations                   |Functions|\n",
    "|---                                |---|    \n",
    "|Array Creation Functions           |np.array(), np.zeros(), np.ones(), np.empty(), etc.|\n",
    "|Array Manipulation Functions       |np.reshape(), np.transpose(), etc.|\n",
    "|Array Mathematical Functions       |np.add(), np.subtract(), np.sqrt(), np.power(), etc.|\n",
    "|Array Statistical Functions        |np.median(), np.mean(), np.std(), and np.var().|\n",
    "|Array Input and Output Functions   |np.save(), np.load(), np.loadtxt(), etc.|"
   ]
  },
  {
   "cell_type": "markdown",
   "metadata": {},
   "source": [
    "## 1.1) Creation functions"
   ]
  },
  {
   "cell_type": "code",
   "execution_count": null,
   "metadata": {},
   "outputs": [
    {
     "name": "stdout",
     "output_type": "stream",
     "text": [
      "[1 3 5]\n",
      "[[0. 0.]\n",
      " [0. 0.]]\n",
      "[[1. 1. 1. 1.]\n",
      " [1. 1. 1. 1.]]\n"
     ]
    }
   ],
   "source": [
    "import numpy as np\n",
    "\n",
    "# create an array using np.array()\n",
    "arr = np.array([1, 3, 5])\n",
    "print(arr)\n",
    "\n",
    "# create an array filled with zeros using np.zeros()\n",
    "arr_zero = np.zeros((2, 2))\n",
    "print(arr_zero)\n",
    "\n",
    "# create an array filled with ones using np.ones()\n",
    "arr_one = np.ones((2, 4))\n",
    "print(arr_one)"
   ]
  },
  {
   "cell_type": "markdown",
   "metadata": {},
   "source": [
    "## 1.2) Manipulation functions"
   ]
  },
  {
   "cell_type": "code",
   "execution_count": null,
   "metadata": {},
   "outputs": [
    {
     "name": "stdout",
     "output_type": "stream",
     "text": [
      "Arr1D:\n",
      " [ 1  3  5  7  9 11]\n",
      "\n",
      "Arr2D:\n",
      " [[ 1  3  5]\n",
      " [ 7  9 11]]\n",
      "\n",
      "Arr transposed:\n",
      " [[ 1  7]\n",
      " [ 3  9]\n",
      " [ 5 11]]\n"
     ]
    }
   ],
   "source": [
    "import numpy as np\n",
    "\n",
    "# 1D array\n",
    "arr = np.array([1, 3, 5, 7, 9, 11])\n",
    "print(\"Arr1D:\\n\", arr)\n",
    "\n",
    "# reshape the 1D array into a 2D array\n",
    "arr2D = np.reshape(arr, (2, 3))\n",
    "print(\"\\nArr2D:\\n\", arr2D)\n",
    "\n",
    "# transpose the 2D array\n",
    "arr_transpose = np.transpose(arr2D)\n",
    "print(\"\\nArr transposed:\\n\", arr_transpose)"
   ]
  },
  {
   "cell_type": "markdown",
   "metadata": {},
   "source": [
    "## 1.3) Mathematical functions"
   ]
  },
  {
   "cell_type": "code",
   "execution_count": null,
   "metadata": {},
   "outputs": [
    {
     "name": "stdout",
     "output_type": "stream",
     "text": [
      "\n",
      "Sum of arrays:\n",
      " [ 5 11 19 29 41]\n",
      "\n",
      "Difference of arrays:\n",
      " [ -3  -7 -13 -21 -31]\n",
      "\n",
      "Square root of second array:\n",
      " [2. 3. 4. 5. 6.]\n"
     ]
    }
   ],
   "source": [
    "import numpy as np\n",
    "\n",
    "# create two arrays\n",
    "arr1 = np.array([1, 2, 3, 4, 5])\n",
    "arr2 = np.array([4, 9, 16, 25, 36])\n",
    "\n",
    "# add the two arrays element-wise\n",
    "arr_sum = np.add(arr1, arr2)\n",
    "\n",
    "# subtract the array2 from array1 element-wise\n",
    "arr_diff = np.subtract(arr1, arr2)\n",
    "\n",
    "# compute square root of array2 element-wise\n",
    "# arr_sqrt=np.power(arr2,0.5)\n",
    "arr_sqrt = np.sqrt(arr2)\n",
    "\n",
    "\n",
    "print(\"\\nSum of arrays:\\n\", arr_sum)\n",
    "print(\"\\nDifference of arrays:\\n\", arr_diff)\n",
    "print(\"\\nSquare root of second array:\\n\", arr_sqrt)"
   ]
  },
  {
   "cell_type": "markdown",
   "metadata": {},
   "source": [
    "## 1.4) Statistical functions"
   ]
  },
  {
   "cell_type": "code",
   "execution_count": null,
   "metadata": {},
   "outputs": [
    {
     "name": "stdout",
     "output_type": "stream",
     "text": [
      "Mean: 77.2\n",
      "Median: 78.0\n",
      "Minimum marks: 66\n",
      "Maximum marks: 85\n"
     ]
    }
   ],
   "source": [
    "import numpy as np\n",
    "\n",
    "# create a numpy array\n",
    "marks = np.array([76, 78, 81, 66, 85])\n",
    "\n",
    "# compute the mean of marks\n",
    "mean_marks = np.mean(marks)\n",
    "print(\"Mean:\", mean_marks)\n",
    "\n",
    "# compute the median of marks\n",
    "median_marks = np.median(marks)\n",
    "print(\"Median:\", median_marks)\n",
    "\n",
    "# find the minimum and maximum marks\n",
    "min_marks = np.min(marks)\n",
    "print(\"Minimum marks:\", min_marks)\n",
    "\n",
    "max_marks = np.max(marks)\n",
    "print(\"Maximum marks:\", max_marks)"
   ]
  },
  {
   "cell_type": "markdown",
   "metadata": {},
   "source": [
    "## 1.5) Input/Outpu (I/O) functions"
   ]
  },
  {
   "cell_type": "code",
   "execution_count": null,
   "metadata": {},
   "outputs": [],
   "source": [
    "import numpy as np\n",
    "\n",
    "# create an array\n",
    "arr = np.array([[1, 3, 5], [2, 4, 6]])\n",
    "\n",
    "# save the array to a text file\n",
    "# np.savetxt('data.txt', arr)\n",
    "\n",
    "# load the data from the text file\n",
    "# loaded_data = np.loadtxt('arr.txt')\n",
    "\n",
    "# print the loaded data\n",
    "# print(loaded_data)"
   ]
  }
 ],
 "metadata": {
  "kernelspec": {
   "display_name": ".venv",
   "language": "python",
   "name": "python3"
  },
  "language_info": {
   "codemirror_mode": {
    "name": "ipython",
    "version": 3
   },
   "file_extension": ".py",
   "mimetype": "text/x-python",
   "name": "python",
   "nbconvert_exporter": "python",
   "pygments_lexer": "ipython3",
   "version": "3.13.0"
  }
 },
 "nbformat": 4,
 "nbformat_minor": 2
}

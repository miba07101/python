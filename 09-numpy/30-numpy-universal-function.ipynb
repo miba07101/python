{
 "cells": [
  {
   "cell_type": "markdown",
   "metadata": {},
   "source": [
    "# 1) Numpy universal function\n",
    "\n",
    "- su to matematicke f-cie, ktore umoznuju **vektorizaciu**\n",
    "- vektorizacia sa tyka vykonavania matematickych operac prvkoch/elementoch polii\n",
    "- universal functions:\n",
    "    - trigonometric: sin(), cas(), tan()\n",
    "    - arithmetic: add(), subtract(), multiply()\n",
    "    - rounding: floor(), ceil(), around()\n",
    "    - aggregation: mean(), min(), max()"
   ]
  },
  {
   "cell_type": "markdown",
   "metadata": {},
   "source": [
    "## 1.1) Trigonometric functions"
   ]
  },
  {
   "cell_type": "code",
   "execution_count": 1,
   "metadata": {},
   "outputs": [
    {
     "name": "stdout",
     "output_type": "stream",
     "text": [
      "Angles: [0 1 2]\n",
      "Sine values: [0.         0.84147098 0.90929743]\n",
      "Inverse Sine values: [0.         1.57079633        nan]\n"
     ]
    },
    {
     "name": "stderr",
     "output_type": "stream",
     "text": [
      "C:\\Users\\mech\\AppData\\Local\\Temp\\ipykernel_14864\\467627208.py:12: RuntimeWarning: invalid value encountered in arcsin\n",
      "  inverse_sine = np.arcsin(angles)\n"
     ]
    }
   ],
   "source": [
    "import numpy as np\n",
    "\n",
    "# array of angles in radians\n",
    "angles = np.array([0, 1, 2])\n",
    "print(\"Angles:\", angles)\n",
    "\n",
    "# compute the sine of the angles\n",
    "sine_values = np.sin(angles)\n",
    "print(\"Sine values:\", sine_values)\n",
    "\n",
    "# compute the inverse sine of the angles\n",
    "inverse_sine = np.arcsin(angles)\n",
    "print(\"Inverse Sine values:\", inverse_sine)"
   ]
  },
  {
   "cell_type": "markdown",
   "metadata": {},
   "source": [
    "## 1.2) Arithmetic functions"
   ]
  },
  {
   "cell_type": "code",
   "execution_count": null,
   "metadata": {},
   "outputs": [
    {
     "name": "stdout",
     "output_type": "stream",
     "text": [
      "Using the add() function: [ 3  7 11 15]\n"
     ]
    }
   ],
   "source": [
    "import numpy as np\n",
    "\n",
    "first_array = np.array([1, 3, 5, 7])\n",
    "second_array = np.array([2, 4, 6, 8])\n",
    "\n",
    "# using the add() function\n",
    "result2 = np.add(first_array, second_array)\n",
    "print(\"Using the add() function:\", result2)"
   ]
  },
  {
   "cell_type": "markdown",
   "metadata": {},
   "source": [
    "## 1.3) Rounding functions"
   ]
  },
  {
   "cell_type": "code",
   "execution_count": 3,
   "metadata": {},
   "outputs": [
    {
     "name": "stdout",
     "output_type": "stream",
     "text": [
      "Array after round(): [1.23 2.35 3.46 4.57]\n"
     ]
    }
   ],
   "source": [
    "import numpy as np\n",
    "\n",
    "numbers = np.array([1.23456, 2.34567, 3.45678, 4.56789])\n",
    "\n",
    "# round the array to two decimal places\n",
    "rounded_array = np.round(numbers, 2)\n",
    "\n",
    "print(\"Array after round():\", rounded_array)"
   ]
  },
  {
   "cell_type": "markdown",
   "metadata": {},
   "source": [
    "## 1.4) Statistical functions"
   ]
  },
  {
   "cell_type": "code",
   "execution_count": null,
   "metadata": {},
   "outputs": [
    {
     "name": "stdout",
     "output_type": "stream",
     "text": [
      "Median is: 3.0\n",
      "Largest element is 5\n"
     ]
    }
   ],
   "source": [
    "import numpy as np\n",
    "\n",
    "array1 = np.array([1, 2, 3, 4, 5])\n",
    "\n",
    "# calculate the median\n",
    "median = np.median(array1)\n",
    "print(\"Median is:\", median)\n",
    "\n",
    "# find the largest element\n",
    "max = np.max(array1)\n",
    "print(\"Largest element is\", max)"
   ]
  }
 ],
 "metadata": {
  "kernelspec": {
   "display_name": "Python 3",
   "language": "python",
   "name": "python3"
  },
  "language_info": {
   "codemirror_mode": {
    "name": "ipython",
    "version": 3
   },
   "file_extension": ".py",
   "mimetype": "text/x-python",
   "name": "python",
   "nbconvert_exporter": "python",
   "pygments_lexer": "ipython3",
   "version": "3.13.0"
  }
 },
 "nbformat": 4,
 "nbformat_minor": 2
}

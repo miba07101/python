{
 "cells": [
  {
   "cell_type": "markdown",
   "metadata": {},
   "source": [
    "# 1) Numpy histogram\n",
    "\n",
    "- histogram je graficke zobrazenie distribucie numerickych udajov\n",
    "- na vytvorenie histogramu pouzivame f-cie:\n",
    "    - **histogram()** - vstavana f-cia numpy\n",
    "    - **plt()**"
   ]
  },
  {
   "cell_type": "markdown",
   "metadata": {},
   "source": [
    "## 1.1) histogram()\n",
    "\n",
    "- vypocet frekvencie rozdelenia udajov\n",
    "- parametre **data** a **bin**"
   ]
  },
  {
   "cell_type": "code",
   "execution_count": null,
   "metadata": {},
   "outputs": [
    {
     "name": "stdout",
     "output_type": "stream",
     "text": [
      "(array([1, 3, 1]), array([ 0, 10, 20, 30]))\n"
     ]
    }
   ],
   "source": [
    "import numpy as np\n",
    "\n",
    "# create an array of data\n",
    "data = np.array([5, 10, 15, 18, 20])\n",
    "\n",
    "# create bin to set the interval\n",
    "bin = [0, 10, 20, 30]\n",
    "\n",
    "# create histogram\n",
    "graph = np.histogram(data, bin)\n",
    "\n",
    "print(graph)"
   ]
  },
  {
   "cell_type": "markdown",
   "metadata": {},
   "source": [
    "- histogram() vracia a \"tuple\" obsahujuci 2 polia:\n",
    "    - prve pole obsahuje frekvenciu poctu udajov pre kazdy **bin**\n",
    "    - druhe pole obsahuje **bin** okraje/limity\n",
    "- vysvetlenie vysledku:\n",
    "    - iba jedna hodnota (cislo 5) z pola **data** sa nachadza medzi **bin** okrajmi 0 - 10\n",
    "    - 3 hodnoty (10.15.18) lezia medzi 10-20\n",
    "    - 1 hodnota (20) lezi medzi 20-30"
   ]
  },
  {
   "cell_type": "markdown",
   "metadata": {},
   "source": [
    "## 1.2) plot()\n",
    "\n",
    "- plot() - f-cia z **Matplotlib** kniznice\n",
    "- na vykreslenie histogramu"
   ]
  },
  {
   "cell_type": "code",
   "execution_count": null,
   "metadata": {},
   "outputs": [
    {
     "name": "stdout",
     "output_type": "stream",
     "text": [
      "(array([1, 3, 1]), array([ 0, 10, 20, 30]))\n"
     ]
    },
    {
     "data": {
      "image/png": "[encoded data removed]",
      "text/plain": [
       "<Figure size 640x480 with 1 Axes>"
      ]
     },
     "metadata": {},
     "output_type": "display_data"
    }
   ],
   "source": [
    "import numpy as np\n",
    "from matplotlib import pyplot as plt\n",
    "\n",
    "# create an array of data\n",
    "data = np.array([5, 10, 15, 18, 20])\n",
    "\n",
    "# create bin to set the interval\n",
    "bin = [0, 10, 20, 30]\n",
    "\n",
    "# create histogram\n",
    "graph = np.histogram(data, bin)\n",
    "print(graph)\n",
    "\n",
    "# plot histogram\n",
    "plt.hist(data, bin)\n",
    "\n",
    "plt.show()"
   ]
  }
 ],
 "metadata": {
  "kernelspec": {
   "display_name": ".venv",
   "language": "python",
   "name": "python3"
  },
  "language_info": {
   "codemirror_mode": {
    "name": "ipython",
    "version": 3
   },
   "file_extension": ".py",
   "mimetype": "text/x-python",
   "name": "python",
   "nbconvert_exporter": "python",
   "pygments_lexer": "ipython3",
   "version": "3.13.0"
  }
 },
 "nbformat": 4,
 "nbformat_minor": 2
}

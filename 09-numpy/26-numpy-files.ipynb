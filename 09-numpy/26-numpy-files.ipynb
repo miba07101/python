{
 "cells": [
  {
   "cell_type": "markdown",
   "metadata": {},
   "source": [
    "# 1) Numpy files"
   ]
  },
  {
   "cell_type": "markdown",
   "metadata": {},
   "source": [
    "## 1.1) Save single numpy array file\n",
    "\n",
    "- **save()** - ulozi numpy pole do binary suboru **.npy**\n",
    "- syntax: `np.save(file,array)`\n",
    "    - **file** - cesta/nazov suboru kde chcem ulozit numpy pole\n",
    "    - **array** - pole, ktore chcem ulozit"
   ]
  },
  {
   "cell_type": "markdown",
   "metadata": {},
   "source": [
    "## 1.2) Load single numpy array file\n",
    "\n",
    "- **load()** - nacitam numpy pole zo suboru\n",
    "- syntax:`arr = np.load(file)`"
   ]
  },
  {
   "cell_type": "markdown",
   "metadata": {},
   "source": [
    "## 1.3) Save multiple numpy array file\n",
    "\n",
    "- **savez()** - na ulozenie viacerych poli do jedneho suboru **.npz**\n",
    "- syntax: `np.savez(file, *args, **kwds)`\n",
    "    - **file** - cesta/nazov suboru kde chcem ulozit numpy polia\n",
    "    - **args** - list poli, ktore chcem ulozit\n",
    "    - **kwds** - keyword argument na zadanie vlastnych nazvov suborov, ktore sa maju ulozit\n",
    "- **savez_compressed()** - ulozenie viacerych poli do komprimovaneho suboru "
   ]
  },
  {
   "cell_type": "markdown",
   "metadata": {},
   "source": [
    "## 1.4) Load multiple numpy array file\n",
    "\n",
    "- **load()** - nacitam numpy polia zo suboru\n",
    "- syntax: `arr = np.load(file)`"
   ]
  }
 ],
 "metadata": {
  "kernelspec": {
   "display_name": ".venv",
   "language": "python",
   "name": "python3"
  },
  "language_info": {
   "name": "python",
   "version": "3.13.0"
  }
 },
 "nbformat": 4,
 "nbformat_minor": 2
}

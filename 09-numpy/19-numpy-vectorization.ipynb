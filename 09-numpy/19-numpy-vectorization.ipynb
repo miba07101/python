{
 "cells": [
  {
   "cell_type": "markdown",
   "metadata": {},
   "source": [
    "# 1) Numpy vectorization\n",
    "\n",
    "- umoznuje matematicke operacie v celom poli bez nutnosti 'loop' prechadzania jednotlivych prvkov\n",
    "- numpy vektorizacia je zalozena na C jazyku, pretoze je ovela efektivnejsi ako python jazyk\n",
    "- **v podstate for loop pre numpy**"
   ]
  },
  {
   "cell_type": "code",
   "execution_count": null,
   "metadata": {},
   "outputs": [
    {
     "name": "stdout",
     "output_type": "stream",
     "text": [
      "Array 1:\n",
      " [[1 2 3]\n",
      " [4 5 6]]\n",
      "Array 2:\n",
      " [[0 1 2]\n",
      " [0 1 2]]\n",
      "Sum between two arrays:\n",
      " [[1 3 5]\n",
      " [4 6 8]]\n"
     ]
    }
   ],
   "source": [
    "# Numpy Vectorization to Add Two Arrays Together\n",
    "import numpy as np\n",
    "\n",
    "# define two 2D arrays\n",
    "arr1 = np.array([[1, 2, 3], [4, 5, 6]])\n",
    "arr2 = np.array([[0, 1, 2], [0, 1, 2]])\n",
    "\n",
    "print(\"Array 1:\\n\", arr1)\n",
    "print(\"Array 2:\\n\", arr2)\n",
    "\n",
    "# add two arrays (vectorization)\n",
    "print(\"Sum between two arrays:\\n\", np.add(arr1, arr2))"
   ]
  },
  {
   "cell_type": "markdown",
   "metadata": {},
   "source": [
    "## 1.!) Numpy vectorization vs python for loop"
   ]
  },
  {
   "cell_type": "code",
   "execution_count": 2,
   "metadata": {},
   "outputs": [
    {
     "name": "stdout",
     "output_type": "stream",
     "text": [
      "For loop time: 0.0001857280731201172\n"
     ]
    }
   ],
   "source": [
    "# Python for loop\n",
    "import time\n",
    "\n",
    "start = time.time()\n",
    "\n",
    "array1 = [1, 2, 3, 4, 5]\n",
    "\n",
    "for i in range(len(array1)):\n",
    "    array1[i] += 10\n",
    "\n",
    "end = time.time()\n",
    "\n",
    "print(\"For loop time:\", end - start)"
   ]
  },
  {
   "cell_type": "code",
   "execution_count": null,
   "metadata": {},
   "outputs": [
    {
     "name": "stdout",
     "output_type": "stream",
     "text": [
      "Vectorization time: 0.0002002716064453125\n"
     ]
    }
   ],
   "source": [
    "# NumPy Vectorization\n",
    "import numpy as np\n",
    "import time\n",
    "\n",
    "start = time.time()\n",
    "\n",
    "array1 = np.array([1, 2, 3, 4, 5])\n",
    "\n",
    "result = array1 + 10\n",
    "\n",
    "end = time.time()\n",
    "\n",
    "print(\"Vectorization time:\", end - start)"
   ]
  },
  {
   "cell_type": "markdown",
   "metadata": {},
   "source": [
    "## 1.2) Vectorize()\n",
    "\n",
    "- v numpy je kazda matematicka operacia vektorizovana"
   ]
  },
  {
   "cell_type": "code",
   "execution_count": null,
   "metadata": {},
   "outputs": [
    {
     "name": "stdout",
     "output_type": "stream",
     "text": [
      "[ 0  0  4  9 16]\n"
     ]
    }
   ],
   "source": [
    "import numpy as np\n",
    "\n",
    "# array\n",
    "arr = np.array([-1, 0, 2, 3, 4])\n",
    "\n",
    "\n",
    "# function that returns the square of positive numbers\n",
    "def find_square(x):\n",
    "    if x < 0:\n",
    "        return 0\n",
    "    else:\n",
    "        return x**2\n",
    "\n",
    "\n",
    "# vectorize() to vectorize the function find_square\n",
    "vectorized_function = np.vectorize(find_square)\n",
    "\n",
    "# passing an array to a vectorized function\n",
    "result = vectorized_function(arr)\n",
    "\n",
    "print(result)"
   ]
  }
 ],
 "metadata": {
  "kernelspec": {
   "display_name": ".venv",
   "language": "python",
   "name": "python3"
  },
  "language_info": {
   "codemirror_mode": {
    "name": "ipython",
    "version": 3
   },
   "file_extension": ".py",
   "mimetype": "text/x-python",
   "name": "python",
   "nbconvert_exporter": "python",
   "pygments_lexer": "ipython3",
   "version": "3.13.0"
  }
 },
 "nbformat": 4,
 "nbformat_minor": 2
}

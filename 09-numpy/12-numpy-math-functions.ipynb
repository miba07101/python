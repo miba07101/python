{
 "cells": [
  {
   "cell_type": "markdown",
   "metadata": {},
   "source": [
    "# 1) Math functions"
   ]
  },
  {
   "cell_type": "markdown",
   "metadata": {},
   "source": [
    "## 1.1) trigonometric functions\n",
    "\n",
    "|Trigonometric Function |Computes (in radians)|\n",
    "|---|---|\n",
    "|sin()      |the sine of an angle|\n",
    "|cos()\t    |cosine of an angle|\n",
    "|tan()\t    |tangent of an angle|\n",
    "|arcsin()\t|the inverse sine|\n",
    "|arccos()\t|the inverse cosine|\n",
    "|arctan()\t|the inverse tangent|\n",
    "|degrees()\t|converts an angle in radians to degrees|\n",
    "|radians()\t|converts an angle in degrees to radians|"
   ]
  },
  {
   "cell_type": "code",
   "execution_count": 3,
   "metadata": {},
   "outputs": [
    {
     "name": "stdout",
     "output_type": "stream",
     "text": [
      "Angles: [0 1 2]\n",
      "Sine values: [0.         0.84147098 0.90929743]\n",
      "Inverse Sine values: [0.         1.57079633        nan]\n"
     ]
    },
    {
     "name": "stderr",
     "output_type": "stream",
     "text": [
      "C:\\Users\\mech\\AppData\\Local\\Temp\\ipykernel_7964\\467627208.py:12: RuntimeWarning: invalid value encountered in arcsin\n",
      "  inverse_sine = np.arcsin(angles)\n"
     ]
    }
   ],
   "source": [
    "import numpy as np\n",
    "\n",
    "# array of angles in radians\n",
    "angles = np.array([0, 1, 2])\n",
    "print(\"Angles:\", angles)\n",
    "\n",
    "# compute the sine of the angles\n",
    "sine_values = np.sin(angles)\n",
    "print(\"Sine values:\", sine_values)\n",
    "\n",
    "# compute the inverse sine of the angles\n",
    "inverse_sine = np.arcsin(angles)\n",
    "print(\"Inverse Sine values:\", inverse_sine)"
   ]
  },
  {
   "cell_type": "markdown",
   "metadata": {},
   "source": [
    "## 1.2) Arithmetic functions\n",
    "\n",
    "|Operation\t    |Arithmetic Function    |Operator|\n",
    "|---|---|---|\n",
    "|Addition       |add()                  |+|\n",
    "|Subtraction\t|subtract()             |-|\n",
    "|Multiplication\t|multiply()             |*|\n",
    "|Division\t    |divide()               |/|\n",
    "|Exponentiation\t|power()                |**|\n",
    "|Modulus\t    |mod()                  |%|"
   ]
  },
  {
   "cell_type": "code",
   "execution_count": null,
   "metadata": {},
   "outputs": [
    {
     "name": "stdout",
     "output_type": "stream",
     "text": [
      "Using the add() function: [ 3  7 11 15]\n"
     ]
    }
   ],
   "source": [
    "import numpy as np\n",
    "\n",
    "first_array = np.array([1, 3, 5, 7])\n",
    "second_array = np.array([2, 4, 6, 8])\n",
    "\n",
    "# using the add() function\n",
    "result2 = np.add(first_array, second_array)\n",
    "print(\"Using the add() function:\", result2)"
   ]
  },
  {
   "cell_type": "markdown",
   "metadata": {},
   "source": [
    "## 1.3) Rounding functions\n",
    "\n",
    "|Rounding Functions |Functions|\n",
    "|---|---|\n",
    "|round()            |returns the value rounded to the desired precision|\n",
    "|floor()            |returns the values of array down to the nearest integer that is less than each element|\n",
    "|ceil()\t            |returns the values of array up to the nearest integer that is greater than each element|"
   ]
  },
  {
   "cell_type": "code",
   "execution_count": null,
   "metadata": {},
   "outputs": [
    {
     "name": "stdout",
     "output_type": "stream",
     "text": [
      "Numbers [1.23456 2.34567 3.45678 4.56789]\n",
      "Round to 2 decimal round(): [1.23 2.35 3.46 4.57]\n",
      "Round floor(): [1. 2. 3. 4.]\n",
      "Round ceil(): [2. 3. 4. 5.]\n"
     ]
    }
   ],
   "source": [
    "import numpy as np\n",
    "\n",
    "numbers = np.array([1.23456, 2.34567, 3.45678, 4.56789])\n",
    "print(\"Numbers\", numbers)\n",
    "\n",
    "# rounding functions\n",
    "print(\"Round to 2 decimal round():\", np.round(numbers, 2))\n",
    "print(\"Round floor():\", np.floor(numbers))\n",
    "print(\"Round ceil():\", np.ceil(numbers))"
   ]
  }
 ],
 "metadata": {
  "kernelspec": {
   "display_name": ".venv",
   "language": "python",
   "name": "python3"
  },
  "language_info": {
   "codemirror_mode": {
    "name": "ipython",
    "version": 3
   },
   "file_extension": ".py",
   "mimetype": "text/x-python",
   "name": "python",
   "nbconvert_exporter": "python",
   "pygments_lexer": "ipython3",
   "version": "3.13.0"
  }
 },
 "nbformat": 4,
 "nbformat_minor": 2
}

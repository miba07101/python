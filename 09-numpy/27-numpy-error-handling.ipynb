{
 "cells": [
  {
   "cell_type": "markdown",
   "metadata": {},
   "source": [
    "# 1) Numpy error handling\n",
    "\n",
    "- error or exception su neocakavane udalosti, ktore nastanu pocas vykonavaniea programu"
   ]
  },
  {
   "cell_type": "markdown",
   "metadata": {},
   "source": [
    "## 1.1) Handle floating-point errors in numpy\n",
    "\n",
    "- **seterr()** - f-cia, ktora nastavuje sposob spracovania chyb s pohyblivou-radovou ciarkou\n",
    "- setter() parametre:\n",
    "    - **divide** - urcuje spravanie pri deleni nulou alebo nekonecnom\n",
    "    - **over** - spravanie pri 'floating-point overflow' (pretecenie pohyblivej-radovej ciarky)\n",
    "    - **under** - spravanie pri 'floating-point underflow` (podtecenie pohyblivej-radovej ciarky) \n",
    "    - **invalid** - spravanie pre neplatne operacie s pohyblivou-radovou ciarkou, napr. 0/0, inf-inf, sqrt(-1)\n",
    "- **Note:** Possible values of all these parameters are \"ignore\", \"warn\", \"raise\", or \"call\". The default behavior for all types of errors is \"warn\"."
   ]
  },
  {
   "cell_type": "code",
   "execution_count": null,
   "metadata": {},
   "outputs": [
    {
     "ename": "FloatingPointError",
     "evalue": "divide by zero encountered in divide",
     "output_type": "error",
     "traceback": [
      "\u001b[1;31m---------------------------------------------------------------------------\u001b[0m",
      "\u001b[1;31mFloatingPointError\u001b[0m                        Traceback (most recent call last)",
      "Cell \u001b[1;32mIn[5], line 9\u001b[0m\n\u001b[0;32m      7\u001b[0m array1 \u001b[38;5;241m=\u001b[39m np\u001b[38;5;241m.\u001b[39marray([\u001b[38;5;241m1\u001b[39m, \u001b[38;5;241m2\u001b[39m, \u001b[38;5;241m3\u001b[39m])\n\u001b[0;32m      8\u001b[0m array2 \u001b[38;5;241m=\u001b[39m np\u001b[38;5;241m.\u001b[39marray([\u001b[38;5;241m0\u001b[39m, \u001b[38;5;241m2\u001b[39m, \u001b[38;5;241m0\u001b[39m])\n\u001b[1;32m----> 9\u001b[0m result \u001b[38;5;241m=\u001b[39m \u001b[43mnp\u001b[49m\u001b[38;5;241;43m.\u001b[39;49m\u001b[43mdivide\u001b[49m\u001b[43m(\u001b[49m\u001b[43marray1\u001b[49m\u001b[43m,\u001b[49m\u001b[43m \u001b[49m\u001b[43marray2\u001b[49m\u001b[43m)\u001b[49m\n\u001b[0;32m     11\u001b[0m \u001b[38;5;28mprint\u001b[39m(result)\n",
      "\u001b[1;31mFloatingPointError\u001b[0m: divide by zero encountered in divide"
     ]
    }
   ],
   "source": [
    "import numpy as np\n",
    "\n",
    "# set behavior for division by zero to 'raise'\n",
    "np.seterr(divide=\"raise\")\n",
    "\n",
    "# divide array1 by array2\n",
    "array1 = np.array([1, 2, 3])\n",
    "array2 = np.array([0, 2, 0])\n",
    "result = np.divide(array1, array2)\n",
    "\n",
    "print(result)"
   ]
  },
  {
   "cell_type": "markdown",
   "metadata": {},
   "source": [
    "## 1.2) Numpy try-catch block\n",
    "\n",
    "- syntax:\n",
    "```\n",
    "try:\n",
    "    # code that may case exception\n",
    "except:\n",
    "    # code to run when exception occurs\n",
    "```\n"
   ]
  },
  {
   "cell_type": "code",
   "execution_count": null,
   "metadata": {},
   "outputs": [
    {
     "ename": "FloatingPointError",
     "evalue": "divide by zero encountered in divide",
     "output_type": "error",
     "traceback": [
      "\u001b[1;31m---------------------------------------------------------------------------\u001b[0m",
      "\u001b[1;31mFloatingPointError\u001b[0m                        Traceback (most recent call last)",
      "Cell \u001b[1;32mIn[6], line 8\u001b[0m\n\u001b[0;32m      6\u001b[0m \u001b[38;5;66;03m# try to divide the arrays\u001b[39;00m\n\u001b[0;32m      7\u001b[0m \u001b[38;5;28;01mtry\u001b[39;00m:\n\u001b[1;32m----> 8\u001b[0m     result \u001b[38;5;241m=\u001b[39m \u001b[43marr1\u001b[49m\u001b[38;5;241;43m/\u001b[39;49m\u001b[43marr2\u001b[49m\n\u001b[0;32m     10\u001b[0m \u001b[38;5;28;01mexcept\u001b[39;00m \u001b[38;5;167;01mZeroDivisionError\u001b[39;00m \u001b[38;5;28;01mas\u001b[39;00m e:\n\u001b[0;32m     11\u001b[0m     \u001b[38;5;28mprint\u001b[39m(\u001b[38;5;124m\"\u001b[39m\u001b[38;5;124mError: Cannot divide by zero\u001b[39m\u001b[38;5;124m\"\u001b[39m)\n",
      "\u001b[1;31mFloatingPointError\u001b[0m: divide by zero encountered in divide"
     ]
    }
   ],
   "source": [
    "import numpy as np\n",
    "\n",
    "arr1 = np.array([1, 4, 3])\n",
    "arr2 = np.array([0, 2, 0])\n",
    "\n",
    "# try to divide the arrays\n",
    "try:\n",
    "    result = arr1 / arr2\n",
    "\n",
    "except ZeroDivisionError as e:\n",
    "    print(\"Error: Cannot divide by zero\")"
   ]
  }
 ],
 "metadata": {
  "kernelspec": {
   "display_name": ".venv",
   "language": "python",
   "name": "python3"
  },
  "language_info": {
   "codemirror_mode": {
    "name": "ipython",
    "version": 3
   },
   "file_extension": ".py",
   "mimetype": "text/x-python",
   "name": "python",
   "nbconvert_exporter": "python",
   "pygments_lexer": "ipython3",
   "version": "3.13.0"
  }
 },
 "nbformat": 4,
 "nbformat_minor": 2
}

{
 "cells": [
  {
   "cell_type": "markdown",
   "metadata": {},
   "source": [
    "# 1) Numpy date and time\n",
    "\n",
    "- **datetime64()** - f-cia uklada datum a cas ako 64-bit integer \"datetime64\" objekt"
   ]
  },
  {
   "cell_type": "code",
   "execution_count": null,
   "metadata": {},
   "outputs": [
    {
     "name": "stdout",
     "output_type": "stream",
     "text": [
      "Current date and time is: 2024-12-03T08:45:35\n"
     ]
    }
   ],
   "source": [
    "# Example 1: Get Current Date and Time in NumPy\n",
    "\n",
    "import numpy as np\n",
    "\n",
    "current_date_time = np.datetime64(\"now\")\n",
    "print(\"Current date and time is:\", current_date_time)"
   ]
  },
  {
   "cell_type": "code",
   "execution_count": null,
   "metadata": {},
   "outputs": [
    {
     "name": "stdout",
     "output_type": "stream",
     "text": [
      "Today`s date: 2024-12-03\n"
     ]
    }
   ],
   "source": [
    "# Get Current Date in NumPy\n",
    "import numpy as np\n",
    "\n",
    "date_today = np.datetime64(\"today\", \"D\")\n",
    "print(\"Today`s date:\", date_today)"
   ]
  },
  {
   "cell_type": "code",
   "execution_count": null,
   "metadata": {},
   "outputs": [
    {
     "name": "stdout",
     "output_type": "stream",
     "text": [
      "Year:  2024\n",
      "Month:  2024-04\n",
      "Day:  2024-04-29\n",
      "Hour:  2024-04-29T10\n",
      "Minute:  2024-04-29T10:30\n",
      "Second:  2024-04-29T10:30:15\n"
     ]
    }
   ],
   "source": [
    "# Use datetime64() For Different Time Units\n",
    "import numpy as np\n",
    "\n",
    "# use datetime64() for different time units\n",
    "year = np.datetime64(\"2024\", \"Y\")\n",
    "month = np.datetime64(\"2024-04\", \"M\")\n",
    "day = np.datetime64(\"2024-04-29\", \"D\")\n",
    "hour = np.datetime64(\"2024-04-29T10\", \"h\")\n",
    "minute = np.datetime64(\"2024-04-29T10:30\", \"m\")\n",
    "second = np.datetime64(\"2024-04-29T10:30:15\", \"s\")\n",
    "\n",
    "print(\"Year: \", year)\n",
    "print(\"Month: \", month)\n",
    "print(\"Day: \", day)\n",
    "print(\"Hour: \", hour)\n",
    "print(\"Minute: \", minute)\n",
    "print(\"Second: \", second)"
   ]
  },
  {
   "cell_type": "markdown",
   "metadata": {},
   "source": [
    "## 1.2) Convert datetime64 objects\n"
   ]
  },
  {
   "cell_type": "markdown",
   "metadata": {},
   "source": [
    "### Convert datetime64 to python datetime object\n",
    "\n",
    "- mozme konvertovat \"datetime64\" objekt na **python datetime** objekt"
   ]
  },
  {
   "cell_type": "code",
   "execution_count": null,
   "metadata": {},
   "outputs": [
    {
     "name": "stdout",
     "output_type": "stream",
     "text": [
      "2023-04-29 12:34:56\n"
     ]
    }
   ],
   "source": [
    "import numpy as np\n",
    "from datetime import datetime\n",
    "\n",
    "# create a datetime64 object\n",
    "dt64 = np.datetime64(\"2023-04-29T12:34:56\")\n",
    "\n",
    "# convert datetime64 to datetime object\n",
    "dt = dt64.astype(datetime)\n",
    "\n",
    "# print the datetime object\n",
    "print(dt)"
   ]
  },
  {
   "cell_type": "markdown",
   "metadata": {},
   "source": [
    "### Convert python datetime object to datetime64"
   ]
  },
  {
   "cell_type": "code",
   "execution_count": 6,
   "metadata": {},
   "outputs": [
    {
     "name": "stdout",
     "output_type": "stream",
     "text": [
      "2023-04-29T12:34:56.000000\n"
     ]
    }
   ],
   "source": [
    "import numpy as np\n",
    "from datetime import datetime\n",
    "\n",
    "# create a datetime object\n",
    "dt = datetime(2023, 4, 29, 12, 34, 56)\n",
    "\n",
    "# convert datetime to datetime64 object\n",
    "dt64 = np.datetime64(dt)\n",
    "\n",
    "# print the datetime64 object\n",
    "print(dt64)"
   ]
  },
  {
   "cell_type": "markdown",
   "metadata": {},
   "source": [
    "## 1.3) Create a range of dates\n",
    "\n",
    "- **arange()** - f-cia na vytvorenie rozsahu datumov "
   ]
  },
  {
   "cell_type": "code",
   "execution_count": null,
   "metadata": {},
   "outputs": [
    {
     "name": "stdout",
     "output_type": "stream",
     "text": [
      "['2023-04-01' '2023-04-02' '2023-04-03' '2023-04-04' '2023-04-05'\n",
      " '2023-04-06' '2023-04-07' '2023-04-08' '2023-04-09' '2023-04-10']\n"
     ]
    }
   ],
   "source": [
    "import numpy as np\n",
    "\n",
    "# create a range of dates from 2023-04-01 to 2023-04-10\n",
    "dates = np.arange(\"2023-04-01\", \"2023-04-11\", dtype=\"datetime64[D]\")\n",
    "\n",
    "# print the dates\n",
    "print(dates)"
   ]
  },
  {
   "cell_type": "markdown",
   "metadata": {},
   "source": [
    "## 1.4) Arithmetic operations on numpy datetime64 objects\n",
    "\n",
    "- addition, substraction"
   ]
  },
  {
   "cell_type": "code",
   "execution_count": null,
   "metadata": {},
   "outputs": [
    {
     "name": "stdout",
     "output_type": "stream",
     "text": [
      "Today's date: 2024-12-03\n",
      "Tomorrow's date: 2024-12-04\n",
      "Number of days between 2023-05-01 and 2023-04-01 is 30 days\n"
     ]
    }
   ],
   "source": [
    "import numpy as np\n",
    "\n",
    "# create a datetime64 object for today\n",
    "today = np.datetime64(\"today\")\n",
    "\n",
    "# add one day to today's date\n",
    "tomorrow = today + np.timedelta64(1, \"D\")\n",
    "\n",
    "# create datetime64 objects for two dates\n",
    "date1 = np.datetime64(\"2023-05-01\")\n",
    "date2 = np.datetime64(\"2023-04-01\")\n",
    "\n",
    "# calculate the number of days between the two dates\n",
    "num_days = date1 - date2\n",
    "\n",
    "# display the results\n",
    "print(\"Today's date:\", today)\n",
    "print(\"Tomorrow's date:\", tomorrow)\n",
    "print(\"Number of days between\", date1, \"and\", date2, \"is\", num_days)"
   ]
  },
  {
   "cell_type": "markdown",
   "metadata": {},
   "source": [
    "## 1.5) Numpy busday() function\n",
    "\n",
    "- **busday()** - f-cia na urcenie poctu pracovnych dni (bez sviatkov) medzi 2 datumami"
   ]
  },
  {
   "cell_type": "code",
   "execution_count": null,
   "metadata": {},
   "outputs": [
    {
     "name": "stdout",
     "output_type": "stream",
     "text": [
      "Number of business days between 2024-12-13 and 2024-12-31 is 12\n"
     ]
    }
   ],
   "source": [
    "import numpy as np\n",
    "\n",
    "# create datetime64 objects for two dates\n",
    "date1 = np.datetime64(\"2024-12-13\")\n",
    "date2 = np.datetime64(\"2024-12-31\")\n",
    "\n",
    "# calculate the number of business days between the two dates\n",
    "num_business_days = np.busday_count(date1, date2)\n",
    "\n",
    "# display the number of business days between the two dates\n",
    "print(\"Number of business days between\", date1, \"and\", date2, \"is\", num_business_days)"
   ]
  }
 ],
 "metadata": {
  "kernelspec": {
   "display_name": ".venv",
   "language": "python",
   "name": "python3"
  },
  "language_info": {
   "codemirror_mode": {
    "name": "ipython",
    "version": 3
   },
   "file_extension": ".py",
   "mimetype": "text/x-python",
   "name": "python",
   "nbconvert_exporter": "python",
   "pygments_lexer": "ipython3",
   "version": "3.13.0"
  }
 },
 "nbformat": 4,
 "nbformat_minor": 2
}
